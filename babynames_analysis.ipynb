{
 "cells": [
  {
   "cell_type": "code",
   "execution_count": 41,
   "id": "6f54ce02-4622-4710-a418-e3941b35db8a",
   "metadata": {
    "executionCancelledAt": null,
    "executionTime": 2655,
    "lastExecutedAt": 1754921605900,
    "lastExecutedByKernel": "35ec5e07-7562-4a59-8301-2db1b0adb100",
    "lastScheduledRunId": null,
    "lastSuccessfullyExecutedCode": "# Importing pandas and matplotlib and necessary modules\nimport pandas as pd\nimport seaborn as sb\nimport matplotlib.pyplot as plt\nimport plotly.express as px\nimport plotly.graph_objects as go\nfrom plotly.subplots import make_subplots\nfrom matplotlib.ticker import EngFormatter\n# Read in the baby names CSV as a DataFram\nnames = pd.read_csv(\"baby_names.csv\")"
   },
   "outputs": [],
   "source": [
    "# Importing pandas and matplotlib and necessary modules\n",
    "import pandas as pd\n",
    "import seaborn as sb\n",
    "import matplotlib.pyplot as plt\n",
    "import plotly.express as px\n",
    "import plotly.graph_objects as go\n",
    "from plotly.subplots import make_subplots\n",
    "from matplotlib.ticker import EngFormatter\n",
    "# Read in the baby names CSV as a DataFram\n",
    "names = pd.read_csv(\"baby_names.csv\")"
   ]
  },
  {
   "cell_type": "code",
   "execution_count": 42,
   "id": "e8087657-b8b6-4a3a-a2f0-bfa18dbfb968",
   "metadata": {
    "collapsed": true,
    "executionCancelledAt": null,
    "executionTime": 47,
    "jupyter": {
     "outputs_hidden": true,
     "source_hidden": false
    },
    "lastExecutedAt": 1754921605949,
    "lastExecutedByKernel": "35ec5e07-7562-4a59-8301-2db1b0adb100",
    "lastScheduledRunId": null,
    "lastSuccessfullyExecutedCode": "# Check the data types and missing values\nprint(names.info())\n\n# Check for unique values in categorical columns\nprint(names['first_name'].nunique())\nprint(names['sex'].unique())"
   },
   "outputs": [
    {
     "name": "stdout",
     "output_type": "stream",
     "text": [
      "<class 'pandas.core.frame.DataFrame'>\n",
      "RangeIndex: 12649 entries, 0 to 12648\n",
      "Data columns (total 4 columns):\n",
      " #   Column      Non-Null Count  Dtype \n",
      "---  ------      --------------  ----- \n",
      " 0   year        12649 non-null  int64 \n",
      " 1   first_name  12649 non-null  object\n",
      " 2   sex         12649 non-null  object\n",
      " 3   num         12649 non-null  int64 \n",
      "dtypes: int64(2), object(2)\n",
      "memory usage: 395.4+ KB\n",
      "None\n",
      "547\n",
      "['F' 'M']\n"
     ]
    }
   ],
   "source": [
    "# Check the data types and missing values\n",
    "print(names.info())\n",
    "\n",
    "# Check for unique values in categorical columns\n",
    "print(names['first_name'].nunique())\n",
    "print(names['sex'].unique())"
   ]
  },
  {
   "cell_type": "markdown",
   "id": "6ae302fd-34d4-44b8-a673-7fd3f302a3b6",
   "metadata": {
    "collapsed": false,
    "executionCancelledAt": null,
    "executionTime": 362,
    "jupyter": {
     "outputs_hidden": false,
     "source_hidden": true
    },
    "lastExecutedAt": 1721818806668,
    "lastExecutedByKernel": "b6253c26-9924-46d3-8a2c-efbe5af1f7fb",
    "lastScheduledRunId": null,
    "lastSuccessfullyExecutedCode": "# To understand how baby name tastes have changed, you can plot the number of babies given a particular name over time, differentiated by sex.\n# Group by year and sex, then sum the number of babies\nyearly_trends_sex = names.groupby(['year', 'sex'])['num'].sum().unstack().reset_index()\n\n# Plot the trend\nplt.figure(figsize=(10, 6))\n# Plot for baby girls\nplt.plot(yearly_trends_sex['year'], yearly_trends_sex['F'], label='Female', color='purple')\n# Plot for baby boys\nplt.plot(yearly_trends_sex['year'], yearly_trends_sex['M'], label='Male', color='green')\nplt.xlabel('Year')\nplt.ylabel('Number of Babies')\nplt.title('Total Number of Babies Named Each Year by Sex')\n# Use EngFormatter to format the y-axis\nformatter = EngFormatter()\nplt.gca().yaxis.set_major_formatter(formatter) #  uses SI prefixes like k (thousands), M (millions)\nplt.legend()\nplt.show()",
    "outputsMetadata": {
     "0": {
      "height": 17,
      "type": "plotly"
     }
    }
   },
   "source": [
    "# To understand how baby name tastes have changed, you can plot the number of babies given a particular name over time, differentiated by sex.\n",
    "# Group by year and sex, then sum the number of babies\n",
    "yearly_trends_sex = names.groupby(['year', 'sex'])['num'].sum().unstack().reset_index()\n",
    "\n",
    "# Plot the trend\n",
    "plt.figure(figsize=(10, 6))\n",
    "# Plot for baby girls\n",
    "plt.plot(yearly_trends_sex['year'], yearly_trends_sex['F'], label='Female', color='purple')\n",
    "# Plot for baby boys\n",
    "plt.plot(yearly_trends_sex['year'], yearly_trends_sex['M'], label='Male', color='green')\n",
    "plt.xlabel('Year')\n",
    "plt.ylabel('Number of Babies')\n",
    "plt.title('Total Number of Babies Named Each Year by Sex')\n",
    "# Use EngFormatter to format the y-axis\n",
    "formatter = EngFormatter()\n",
    "plt.gca().yaxis.set_major_formatter(formatter) #  uses SI prefixes like k (thousands), M (millions)\n",
    "plt.legend()\n",
    "plt.show()"
   ]
  },
  {
   "cell_type": "code",
   "execution_count": 43,
   "id": "2558b4d6-4fcd-4832-ad43-f5ecc1c5f9ae",
   "metadata": {
    "executionCancelledAt": null,
    "executionTime": 77,
    "lastExecutedAt": 1754921606027,
    "lastExecutedByKernel": "35ec5e07-7562-4a59-8301-2db1b0adb100",
    "lastScheduledRunId": null,
    "lastSuccessfullyExecutedCode": "# Group by year and sex, then sum the number of babies\nyearly_trends_sex = names.groupby(['year', 'sex'])['num'].sum().unstack().reset_index()\n\n# Create an interactive plot\nfig = go.Figure()\n\n# Add trace for baby girls\nfig.add_trace(go.Scatter(\n    x=yearly_trends_sex['year'], \n    y=yearly_trends_sex['F'],\n    mode='lines', \n    name='Female', \n    line=dict(color='purple'),\n    hovertemplate='Year: %{x}<br>Number of Babies: %{y:,}<extra></extra>'\n))\n\n# Add trace for baby boys\nfig.add_trace(go.Scatter(\n    x=yearly_trends_sex['year'], \n    y=yearly_trends_sex['M'],\n    mode='lines', \n    name='Male', \n    line=dict(color='green'),\n    hovertemplate='Year: %{x}<br>Number of Babies: %{y:,}<extra></extra>'\n))\n\n# Update layout\nfig.update_layout(\n    title='Total Number of Babies Named Each Year by Gender',\n    xaxis_title='Year',\n    yaxis_title='Number of Babies',\n    yaxis_tickformat=',',  # Use comma as a thousands separator\n    legend_title='Gender',\n    template='plotly_white'\n)\n\n# Show the plot\nfig.show()",
    "outputsMetadata": {
     "0": {
      "height": 17,
      "type": "plotly"
     }
    }
   },
   "outputs": [
    {
     "data": {
      "application/vnd.plotly.v1+json": {
       "config": {
        "plotlyServerURL": "https://plot.ly"
       },
       "data": [
        {
         "hovertemplate": "Year: %{x}<br>Number of Babies: %{y:,}<extra></extra>",
         "line": {
          "color": "purple"
         },
         "mode": "lines",
         "name": "Female",
         "type": "scatter",
         "x": {
          "bdata": "gAeBB4IHgweEB4UHhgeHB4gHiQeKB4sHjAeNB44HjweQB5EHkgeTB5QHlQeWB5cHmAeZB5oHmwecB50HngefB6AHoQeiB6MHpAelB6YHpweoB6kHqgerB6wHrQeuB68HsAexB7IHswe0B7UHtge3B7gHuQe6B7sHvAe9B74HvwfAB8EHwgfDB8QHxQfGB8cHyAfJB8oHywfMB80HzgfPB9AH0QfSB9MH1AfVB9YH1wfYB9kH2gfbB9wH3QfeB98H4AfhB+IH4wfkBw==",
          "dtype": "i2"
         },
         "y": {
          "bdata": "mSgJAJ+8CQD4GgkA2E8JAKTcCQCaHwkAjOUIAFpoCQB/xAgAbXUIAElyCADFwgcAq68HAMoTBwALKAcARTkHAEFWBwCwZwcAmLoHACHxBwCi2QgA/I0JAH0wCwA5sgsA6ucKAP6+CgB4/Q0AS+QQAB/vDwA2ChAAdDwQAG1yEQBW5xEAIj0SAAyKEgC+oRIALYATAFPFEwCSBhMApyMTAFLAEgBOWRIAV64RAE0AEQDfHRAAtV0OAPyCDQCx5wwAabsMANwMDQAdKA0AEQcMAOZRCgCzagkAwq4JANNtCQDgvAkA/SAKAIe3CQCPTQoATQQLADc7CwDX3wsAku0LAKAjDAA5YgwAvSMMAPJnDABNswwA6dsMACAqDQBSoQwAeSMMAJykCwAEFgsAEKAKAKJDCgCV2wkAfoYJACdYCQALjwkAlcsIAA5TCADodAgAURAIANbDBwC5BggAF50HAM0uBwA4jAYAn2wGABAfBgDS3AUALL8FAEbfBQAs9QUAUrUFAAqeBQAmQgUA0eUEAK2FBAA=",
          "dtype": "i4"
         }
        },
        {
         "hovertemplate": "Year: %{x}<br>Number of Babies: %{y:,}<extra></extra>",
         "line": {
          "color": "green"
         },
         "mode": "lines",
         "name": "Male",
         "type": "scatter",
         "x": {
          "bdata": "gAeBB4IHgweEB4UHhgeHB4gHiQeKB4sHjAeNB44HjweQB5EHkgeTB5QHlQeWB5cHmAeZB5oHmwecB50HngefB6AHoQeiB6MHpAelB6YHpweoB6kHqgerB6wHrQeuB68HsAexB7IHswe0B7UHtge3B7gHuQe6B7sHvAe9B74HvwfAB8EHwgfDB8QHxQfGB8cHyAfJB8oHywfMB80HzgfPB9AH0QfSB9MH1AfVB9YH1wfYB9kH2gfbB9wH3QfeB98H4AfhB+IH4wfkBw==",
          "dtype": "i2"
         },
         "y": {
          "bdata": "sioJADSNCQC6VgkAW40JAE7lCQBPoQkACLoJABLjCQDlvQkAz1QJAASaCQC8AQkAF/MIAOMuCAA4rAgAdd4IAKfsCADUVwkAHvUJAJL/CQBxmAoAZrgLAIyMDQClKg4AG44NAI9dDQCRAxEAdQwUAGrrEgDdHRMA9P4SAE/9FACJbBUAr80VAL6VFgBp2BYAEX0XAELkFwCoYBcAIj4XACD7FgCo1xYAVyYWAF+oFQDb4RQAM7USAENVEQDv6RAAqeAQAFU8EQBM5xEASt4QAKIqDwChfw4As48OAL1NDgBidA4AMUAPAIZLDwAx7Q8Azd0QAEPgEADqHREAXBwRAK5VEQByoxEAUYwRAJCKEQC46REAmiQSAIL9EgDHURIAn4sRAAzbEABslhAA66UPAPRdDwA6Cg8AqkkPABFuDwBAVQ8AHNAOAEizDgBwFg8A9/UOABVuDgAY1Q4AqhMPAB11DgBiVw0AbJUMAN1SDADrJgwAy9cLAObHCwD60wsAC+MKAPBICgC3pgkAahcJAPYUCAA=",
          "dtype": "i4"
         }
        }
       ],
       "layout": {
        "legend": {
         "title": {
          "text": "Gender"
         }
        },
        "template": {
         "data": {
          "bar": [
           {
            "error_x": {
             "color": "#2a3f5f"
            },
            "error_y": {
             "color": "#2a3f5f"
            },
            "marker": {
             "line": {
              "color": "white",
              "width": 0.5
             },
             "pattern": {
              "fillmode": "overlay",
              "size": 10,
              "solidity": 0.2
             }
            },
            "type": "bar"
           }
          ],
          "barpolar": [
           {
            "marker": {
             "line": {
              "color": "white",
              "width": 0.5
             },
             "pattern": {
              "fillmode": "overlay",
              "size": 10,
              "solidity": 0.2
             }
            },
            "type": "barpolar"
           }
          ],
          "carpet": [
           {
            "aaxis": {
             "endlinecolor": "#2a3f5f",
             "gridcolor": "#C8D4E3",
             "linecolor": "#C8D4E3",
             "minorgridcolor": "#C8D4E3",
             "startlinecolor": "#2a3f5f"
            },
            "baxis": {
             "endlinecolor": "#2a3f5f",
             "gridcolor": "#C8D4E3",
             "linecolor": "#C8D4E3",
             "minorgridcolor": "#C8D4E3",
             "startlinecolor": "#2a3f5f"
            },
            "type": "carpet"
           }
          ],
          "choropleth": [
           {
            "colorbar": {
             "outlinewidth": 0,
             "ticks": ""
            },
            "type": "choropleth"
           }
          ],
          "contour": [
           {
            "colorbar": {
             "outlinewidth": 0,
             "ticks": ""
            },
            "colorscale": [
             [
              0,
              "#0d0887"
             ],
             [
              0.1111111111111111,
              "#46039f"
             ],
             [
              0.2222222222222222,
              "#7201a8"
             ],
             [
              0.3333333333333333,
              "#9c179e"
             ],
             [
              0.4444444444444444,
              "#bd3786"
             ],
             [
              0.5555555555555556,
              "#d8576b"
             ],
             [
              0.6666666666666666,
              "#ed7953"
             ],
             [
              0.7777777777777778,
              "#fb9f3a"
             ],
             [
              0.8888888888888888,
              "#fdca26"
             ],
             [
              1,
              "#f0f921"
             ]
            ],
            "type": "contour"
           }
          ],
          "contourcarpet": [
           {
            "colorbar": {
             "outlinewidth": 0,
             "ticks": ""
            },
            "type": "contourcarpet"
           }
          ],
          "heatmap": [
           {
            "colorbar": {
             "outlinewidth": 0,
             "ticks": ""
            },
            "colorscale": [
             [
              0,
              "#0d0887"
             ],
             [
              0.1111111111111111,
              "#46039f"
             ],
             [
              0.2222222222222222,
              "#7201a8"
             ],
             [
              0.3333333333333333,
              "#9c179e"
             ],
             [
              0.4444444444444444,
              "#bd3786"
             ],
             [
              0.5555555555555556,
              "#d8576b"
             ],
             [
              0.6666666666666666,
              "#ed7953"
             ],
             [
              0.7777777777777778,
              "#fb9f3a"
             ],
             [
              0.8888888888888888,
              "#fdca26"
             ],
             [
              1,
              "#f0f921"
             ]
            ],
            "type": "heatmap"
           }
          ],
          "histogram": [
           {
            "marker": {
             "pattern": {
              "fillmode": "overlay",
              "size": 10,
              "solidity": 0.2
             }
            },
            "type": "histogram"
           }
          ],
          "histogram2d": [
           {
            "colorbar": {
             "outlinewidth": 0,
             "ticks": ""
            },
            "colorscale": [
             [
              0,
              "#0d0887"
             ],
             [
              0.1111111111111111,
              "#46039f"
             ],
             [
              0.2222222222222222,
              "#7201a8"
             ],
             [
              0.3333333333333333,
              "#9c179e"
             ],
             [
              0.4444444444444444,
              "#bd3786"
             ],
             [
              0.5555555555555556,
              "#d8576b"
             ],
             [
              0.6666666666666666,
              "#ed7953"
             ],
             [
              0.7777777777777778,
              "#fb9f3a"
             ],
             [
              0.8888888888888888,
              "#fdca26"
             ],
             [
              1,
              "#f0f921"
             ]
            ],
            "type": "histogram2d"
           }
          ],
          "histogram2dcontour": [
           {
            "colorbar": {
             "outlinewidth": 0,
             "ticks": ""
            },
            "colorscale": [
             [
              0,
              "#0d0887"
             ],
             [
              0.1111111111111111,
              "#46039f"
             ],
             [
              0.2222222222222222,
              "#7201a8"
             ],
             [
              0.3333333333333333,
              "#9c179e"
             ],
             [
              0.4444444444444444,
              "#bd3786"
             ],
             [
              0.5555555555555556,
              "#d8576b"
             ],
             [
              0.6666666666666666,
              "#ed7953"
             ],
             [
              0.7777777777777778,
              "#fb9f3a"
             ],
             [
              0.8888888888888888,
              "#fdca26"
             ],
             [
              1,
              "#f0f921"
             ]
            ],
            "type": "histogram2dcontour"
           }
          ],
          "mesh3d": [
           {
            "colorbar": {
             "outlinewidth": 0,
             "ticks": ""
            },
            "type": "mesh3d"
           }
          ],
          "parcoords": [
           {
            "line": {
             "colorbar": {
              "outlinewidth": 0,
              "ticks": ""
             }
            },
            "type": "parcoords"
           }
          ],
          "pie": [
           {
            "automargin": true,
            "type": "pie"
           }
          ],
          "scatter": [
           {
            "fillpattern": {
             "fillmode": "overlay",
             "size": 10,
             "solidity": 0.2
            },
            "type": "scatter"
           }
          ],
          "scatter3d": [
           {
            "line": {
             "colorbar": {
              "outlinewidth": 0,
              "ticks": ""
             }
            },
            "marker": {
             "colorbar": {
              "outlinewidth": 0,
              "ticks": ""
             }
            },
            "type": "scatter3d"
           }
          ],
          "scattercarpet": [
           {
            "marker": {
             "colorbar": {
              "outlinewidth": 0,
              "ticks": ""
             }
            },
            "type": "scattercarpet"
           }
          ],
          "scattergeo": [
           {
            "marker": {
             "colorbar": {
              "outlinewidth": 0,
              "ticks": ""
             }
            },
            "type": "scattergeo"
           }
          ],
          "scattergl": [
           {
            "marker": {
             "colorbar": {
              "outlinewidth": 0,
              "ticks": ""
             }
            },
            "type": "scattergl"
           }
          ],
          "scattermap": [
           {
            "marker": {
             "colorbar": {
              "outlinewidth": 0,
              "ticks": ""
             }
            },
            "type": "scattermap"
           }
          ],
          "scattermapbox": [
           {
            "marker": {
             "colorbar": {
              "outlinewidth": 0,
              "ticks": ""
             }
            },
            "type": "scattermapbox"
           }
          ],
          "scatterpolar": [
           {
            "marker": {
             "colorbar": {
              "outlinewidth": 0,
              "ticks": ""
             }
            },
            "type": "scatterpolar"
           }
          ],
          "scatterpolargl": [
           {
            "marker": {
             "colorbar": {
              "outlinewidth": 0,
              "ticks": ""
             }
            },
            "type": "scatterpolargl"
           }
          ],
          "scatterternary": [
           {
            "marker": {
             "colorbar": {
              "outlinewidth": 0,
              "ticks": ""
             }
            },
            "type": "scatterternary"
           }
          ],
          "surface": [
           {
            "colorbar": {
             "outlinewidth": 0,
             "ticks": ""
            },
            "colorscale": [
             [
              0,
              "#0d0887"
             ],
             [
              0.1111111111111111,
              "#46039f"
             ],
             [
              0.2222222222222222,
              "#7201a8"
             ],
             [
              0.3333333333333333,
              "#9c179e"
             ],
             [
              0.4444444444444444,
              "#bd3786"
             ],
             [
              0.5555555555555556,
              "#d8576b"
             ],
             [
              0.6666666666666666,
              "#ed7953"
             ],
             [
              0.7777777777777778,
              "#fb9f3a"
             ],
             [
              0.8888888888888888,
              "#fdca26"
             ],
             [
              1,
              "#f0f921"
             ]
            ],
            "type": "surface"
           }
          ],
          "table": [
           {
            "cells": {
             "fill": {
              "color": "#EBF0F8"
             },
             "line": {
              "color": "white"
             }
            },
            "header": {
             "fill": {
              "color": "#C8D4E3"
             },
             "line": {
              "color": "white"
             }
            },
            "type": "table"
           }
          ]
         },
         "layout": {
          "annotationdefaults": {
           "arrowcolor": "#2a3f5f",
           "arrowhead": 0,
           "arrowwidth": 1
          },
          "autotypenumbers": "strict",
          "coloraxis": {
           "colorbar": {
            "outlinewidth": 0,
            "ticks": ""
           }
          },
          "colorscale": {
           "diverging": [
            [
             0,
             "#8e0152"
            ],
            [
             0.1,
             "#c51b7d"
            ],
            [
             0.2,
             "#de77ae"
            ],
            [
             0.3,
             "#f1b6da"
            ],
            [
             0.4,
             "#fde0ef"
            ],
            [
             0.5,
             "#f7f7f7"
            ],
            [
             0.6,
             "#e6f5d0"
            ],
            [
             0.7,
             "#b8e186"
            ],
            [
             0.8,
             "#7fbc41"
            ],
            [
             0.9,
             "#4d9221"
            ],
            [
             1,
             "#276419"
            ]
           ],
           "sequential": [
            [
             0,
             "#0d0887"
            ],
            [
             0.1111111111111111,
             "#46039f"
            ],
            [
             0.2222222222222222,
             "#7201a8"
            ],
            [
             0.3333333333333333,
             "#9c179e"
            ],
            [
             0.4444444444444444,
             "#bd3786"
            ],
            [
             0.5555555555555556,
             "#d8576b"
            ],
            [
             0.6666666666666666,
             "#ed7953"
            ],
            [
             0.7777777777777778,
             "#fb9f3a"
            ],
            [
             0.8888888888888888,
             "#fdca26"
            ],
            [
             1,
             "#f0f921"
            ]
           ],
           "sequentialminus": [
            [
             0,
             "#0d0887"
            ],
            [
             0.1111111111111111,
             "#46039f"
            ],
            [
             0.2222222222222222,
             "#7201a8"
            ],
            [
             0.3333333333333333,
             "#9c179e"
            ],
            [
             0.4444444444444444,
             "#bd3786"
            ],
            [
             0.5555555555555556,
             "#d8576b"
            ],
            [
             0.6666666666666666,
             "#ed7953"
            ],
            [
             0.7777777777777778,
             "#fb9f3a"
            ],
            [
             0.8888888888888888,
             "#fdca26"
            ],
            [
             1,
             "#f0f921"
            ]
           ]
          },
          "colorway": [
           "#636efa",
           "#EF553B",
           "#00cc96",
           "#ab63fa",
           "#FFA15A",
           "#19d3f3",
           "#FF6692",
           "#B6E880",
           "#FF97FF",
           "#FECB52"
          ],
          "font": {
           "color": "#2a3f5f"
          },
          "geo": {
           "bgcolor": "white",
           "lakecolor": "white",
           "landcolor": "white",
           "showlakes": true,
           "showland": true,
           "subunitcolor": "#C8D4E3"
          },
          "hoverlabel": {
           "align": "left"
          },
          "hovermode": "closest",
          "mapbox": {
           "style": "light"
          },
          "paper_bgcolor": "white",
          "plot_bgcolor": "white",
          "polar": {
           "angularaxis": {
            "gridcolor": "#EBF0F8",
            "linecolor": "#EBF0F8",
            "ticks": ""
           },
           "bgcolor": "white",
           "radialaxis": {
            "gridcolor": "#EBF0F8",
            "linecolor": "#EBF0F8",
            "ticks": ""
           }
          },
          "scene": {
           "xaxis": {
            "backgroundcolor": "white",
            "gridcolor": "#DFE8F3",
            "gridwidth": 2,
            "linecolor": "#EBF0F8",
            "showbackground": true,
            "ticks": "",
            "zerolinecolor": "#EBF0F8"
           },
           "yaxis": {
            "backgroundcolor": "white",
            "gridcolor": "#DFE8F3",
            "gridwidth": 2,
            "linecolor": "#EBF0F8",
            "showbackground": true,
            "ticks": "",
            "zerolinecolor": "#EBF0F8"
           },
           "zaxis": {
            "backgroundcolor": "white",
            "gridcolor": "#DFE8F3",
            "gridwidth": 2,
            "linecolor": "#EBF0F8",
            "showbackground": true,
            "ticks": "",
            "zerolinecolor": "#EBF0F8"
           }
          },
          "shapedefaults": {
           "line": {
            "color": "#2a3f5f"
           }
          },
          "ternary": {
           "aaxis": {
            "gridcolor": "#DFE8F3",
            "linecolor": "#A2B1C6",
            "ticks": ""
           },
           "baxis": {
            "gridcolor": "#DFE8F3",
            "linecolor": "#A2B1C6",
            "ticks": ""
           },
           "bgcolor": "white",
           "caxis": {
            "gridcolor": "#DFE8F3",
            "linecolor": "#A2B1C6",
            "ticks": ""
           }
          },
          "title": {
           "x": 0.05
          },
          "xaxis": {
           "automargin": true,
           "gridcolor": "#EBF0F8",
           "linecolor": "#EBF0F8",
           "ticks": "",
           "title": {
            "standoff": 15
           },
           "zerolinecolor": "#EBF0F8",
           "zerolinewidth": 2
          },
          "yaxis": {
           "automargin": true,
           "gridcolor": "#EBF0F8",
           "linecolor": "#EBF0F8",
           "ticks": "",
           "title": {
            "standoff": 15
           },
           "zerolinecolor": "#EBF0F8",
           "zerolinewidth": 2
          }
         }
        },
        "title": {
         "text": "Total Number of Babies Named Each Year by Gender"
        },
        "xaxis": {
         "title": {
          "text": "Year"
         }
        },
        "yaxis": {
         "tickformat": ",",
         "title": {
          "text": "Number of Babies"
         }
        }
       }
      }
     },
     "metadata": {},
     "output_type": "display_data"
    }
   ],
   "source": [
    "# Group by year and sex, then sum the number of babies\n",
    "yearly_trends_sex = names.groupby(['year', 'sex'])['num'].sum().unstack().reset_index()\n",
    "\n",
    "# Create an interactive plot\n",
    "fig = go.Figure()\n",
    "\n",
    "# Add trace for baby girls\n",
    "fig.add_trace(go.Scatter(\n",
    "    x=yearly_trends_sex['year'], \n",
    "    y=yearly_trends_sex['F'],\n",
    "    mode='lines', \n",
    "    name='Female', \n",
    "    line=dict(color='purple'),\n",
    "    hovertemplate='Year: %{x}<br>Number of Babies: %{y:,}<extra></extra>'\n",
    "))\n",
    "\n",
    "# Add trace for baby boys\n",
    "fig.add_trace(go.Scatter(\n",
    "    x=yearly_trends_sex['year'], \n",
    "    y=yearly_trends_sex['M'],\n",
    "    mode='lines', \n",
    "    name='Male', \n",
    "    line=dict(color='green'),\n",
    "    hovertemplate='Year: %{x}<br>Number of Babies: %{y:,}<extra></extra>'\n",
    "))\n",
    "\n",
    "# Update layout\n",
    "fig.update_layout(\n",
    "    title='Total Number of Babies Named Each Year by Gender',\n",
    "    xaxis_title='Year',\n",
    "    yaxis_title='Number of Babies',\n",
    "    yaxis_tickformat=',',  # Use comma as a thousands separator\n",
    "    legend_title='Gender',\n",
    "    template='plotly_white'\n",
    ")\n",
    "\n",
    "# Show the plot\n",
    "fig.show()"
   ]
  },
  {
   "cell_type": "code",
   "execution_count": 44,
   "id": "e2ca95cd-ff27-435c-8516-1e551199dd49",
   "metadata": {
    "executionCancelledAt": null,
    "executionTime": 46,
    "lastExecutedAt": 1754921606073,
    "lastExecutedByKernel": "35ec5e07-7562-4a59-8301-2db1b0adb100",
    "lastScheduledRunId": null,
    "lastSuccessfullyExecutedCode": "# Group by 'first_name' and sum the 'num' column\ngrouped_names = names.groupby('first_name')['num'].sum().reset_index() # this will be use in next cell\ngrouped_names.rename(columns={'num': 'number'}, inplace=True)\n# Order by 'num' in descending order\ntop_names = grouped_names.sort_values(by='number', ascending=False)\n# Display the result\ntop_names",
    "outputsMetadata": {
     "0": {
      "height": 550,
      "tableState": {
       "customFilter": {
        "const": {
         "type": "boolean",
         "valid": true,
         "value": true
        },
        "id": "8a9eeca6-17d6-449b-ab13-c53b30b399b5",
        "nodeType": "const"
       },
       "quickFilterText": ""
      },
      "type": "dataFrame"
     }
    }
   },
   "outputs": [
    {
     "data": {
      "text/html": [
       "<div>\n",
       "<style scoped>\n",
       "    .dataframe tbody tr th:only-of-type {\n",
       "        vertical-align: middle;\n",
       "    }\n",
       "\n",
       "    .dataframe tbody tr th {\n",
       "        vertical-align: top;\n",
       "    }\n",
       "\n",
       "    .dataframe thead th {\n",
       "        text-align: right;\n",
       "    }\n",
       "</style>\n",
       "<table border=\"1\" class=\"dataframe\">\n",
       "  <thead>\n",
       "    <tr style=\"text-align: right;\">\n",
       "      <th></th>\n",
       "      <th>first_name</th>\n",
       "      <th>number</th>\n",
       "    </tr>\n",
       "  </thead>\n",
       "  <tbody>\n",
       "    <tr>\n",
       "      <th>250</th>\n",
       "      <td>James</td>\n",
       "      <td>4748138</td>\n",
       "    </tr>\n",
       "    <tr>\n",
       "      <th>282</th>\n",
       "      <td>John</td>\n",
       "      <td>4510721</td>\n",
       "    </tr>\n",
       "    <tr>\n",
       "      <th>447</th>\n",
       "      <td>Robert</td>\n",
       "      <td>4495199</td>\n",
       "    </tr>\n",
       "    <tr>\n",
       "      <th>389</th>\n",
       "      <td>Michael</td>\n",
       "      <td>4278824</td>\n",
       "    </tr>\n",
       "    <tr>\n",
       "      <th>540</th>\n",
       "      <td>William</td>\n",
       "      <td>3614424</td>\n",
       "    </tr>\n",
       "    <tr>\n",
       "      <th>...</th>\n",
       "      <td>...</td>\n",
       "      <td>...</td>\n",
       "    </tr>\n",
       "    <tr>\n",
       "      <th>14</th>\n",
       "      <td>Alexandria</td>\n",
       "      <td>5026</td>\n",
       "    </tr>\n",
       "    <tr>\n",
       "      <th>96</th>\n",
       "      <td>Caroline</td>\n",
       "      <td>5021</td>\n",
       "    </tr>\n",
       "    <tr>\n",
       "      <th>363</th>\n",
       "      <td>Marc</td>\n",
       "      <td>5013</td>\n",
       "    </tr>\n",
       "    <tr>\n",
       "      <th>193</th>\n",
       "      <td>Ezekiel</td>\n",
       "      <td>5013</td>\n",
       "    </tr>\n",
       "    <tr>\n",
       "      <th>77</th>\n",
       "      <td>Briana</td>\n",
       "      <td>5001</td>\n",
       "    </tr>\n",
       "  </tbody>\n",
       "</table>\n",
       "<p>547 rows × 2 columns</p>\n",
       "</div>"
      ],
      "text/plain": [
       "     first_name   number\n",
       "250       James  4748138\n",
       "282        John  4510721\n",
       "447      Robert  4495199\n",
       "389     Michael  4278824\n",
       "540     William  3614424\n",
       "..          ...      ...\n",
       "14   Alexandria     5026\n",
       "96     Caroline     5021\n",
       "363        Marc     5013\n",
       "193     Ezekiel     5013\n",
       "77       Briana     5001\n",
       "\n",
       "[547 rows x 2 columns]"
      ]
     },
     "execution_count": 44,
     "metadata": {},
     "output_type": "execute_result"
    }
   ],
   "source": [
    "# Group by 'first_name' and sum the 'num' column\n",
    "grouped_names = names.groupby('first_name')['num'].sum().reset_index() # this will be use in next cell\n",
    "grouped_names.rename(columns={'num': 'number'}, inplace=True)\n",
    "# Order by 'num' in descending order\n",
    "top_names = grouped_names.sort_values(by='number', ascending=False)\n",
    "# Display the result\n",
    "top_names"
   ]
  },
  {
   "cell_type": "markdown",
   "id": "e36b0b26-dc90-41f3-84a0-dfe7552518f8",
   "metadata": {},
   "source": [
    "Classify each name's popularity according to the number of years that the name appears in the dataset."
   ]
  },
  {
   "cell_type": "code",
   "execution_count": 45,
   "id": "d02e2f59-9604-4a57-89c0-e656154f6347",
   "metadata": {
    "chartConfig": {
     "bar": {
      "hasRoundedCorners": true,
      "stacked": false
     },
     "groupBy": {
      "field": "popularity_type",
      "type": "string"
     },
     "type": "line",
     "version": "v1",
     "x": {
      "field": "first_name",
      "type": "string"
     },
     "y": {
      "field": "number",
      "type": "integer"
     }
    },
    "executionCancelledAt": null,
    "executionTime": 52,
    "lastExecutedAt": 1754921606125,
    "lastExecutedByKernel": "35ec5e07-7562-4a59-8301-2db1b0adb100",
    "lastScheduledRunId": null,
    "lastSuccessfullyExecutedCode": "# Group by 'first_name' and sum the 'num' values\npopular_names_sum = names.groupby('first_name')['num'].sum().reset_index()\npopular_names_sum.rename(columns={'num': 'number'}, inplace=True)\n# Group by 'first_name' and count the number of unique years each name appears in\npopular_names_years = names.groupby('first_name')['year'].nunique().reset_index()\n# Rename the 'year' column to 'year_count' for clarity\npopular_names_years.rename(columns={'year': 'year_count'}, inplace=True)\n# Merge the two DataFrames on 'first_name'\npopular_names = pd.merge(popular_names_sum, popular_names_years, on='first_name')\n\n# This function can be used to classify names based on their frequency in the dataset.\ndef classify_popularity(year_count):\n    if year_count > 80:\n        return 'Classic'\n    elif year_count > 50:\n        return 'Semi-classic'\n    elif year_count > 20:\n        return 'Semi-trendy'\n    else:\n        return 'Trendy'\n# Add a new column 'popularity_type' for the classification\npopular_names['popularity_type'] = popular_names['year_count'].apply(classify_popularity)\n# Drop the 'year_count' column as it's no longer needed\npopular_names.drop(columns=['year_count'], inplace=True)\n# Order the results alphabetically by 'first_name'\nresult = popular_names.sort_values(by='first_name')\n\n# Display the result\nresult.head(20)",
    "outputsMetadata": {
     "0": {
      "height": 550,
      "tableState": {
       "customFilter": {
        "const": {
         "type": "boolean",
         "valid": true,
         "value": true
        },
        "id": "8a9eeca6-17d6-449b-ab13-c53b30b399b5",
        "nodeType": "const"
       },
       "quickFilterText": ""
      },
      "type": "dataFrame"
     }
    },
    "visualizeDataframe": false
   },
   "outputs": [
    {
     "data": {
      "text/html": [
       "<div>\n",
       "<style scoped>\n",
       "    .dataframe tbody tr th:only-of-type {\n",
       "        vertical-align: middle;\n",
       "    }\n",
       "\n",
       "    .dataframe tbody tr th {\n",
       "        vertical-align: top;\n",
       "    }\n",
       "\n",
       "    .dataframe thead th {\n",
       "        text-align: right;\n",
       "    }\n",
       "</style>\n",
       "<table border=\"1\" class=\"dataframe\">\n",
       "  <thead>\n",
       "    <tr style=\"text-align: right;\">\n",
       "      <th></th>\n",
       "      <th>first_name</th>\n",
       "      <th>number</th>\n",
       "      <th>popularity_type</th>\n",
       "    </tr>\n",
       "  </thead>\n",
       "  <tbody>\n",
       "    <tr>\n",
       "      <th>0</th>\n",
       "      <td>Aaliyah</td>\n",
       "      <td>15870</td>\n",
       "      <td>Trendy</td>\n",
       "    </tr>\n",
       "    <tr>\n",
       "      <th>1</th>\n",
       "      <td>Aaron</td>\n",
       "      <td>530592</td>\n",
       "      <td>Semi-classic</td>\n",
       "    </tr>\n",
       "    <tr>\n",
       "      <th>2</th>\n",
       "      <td>Abigail</td>\n",
       "      <td>338485</td>\n",
       "      <td>Semi-trendy</td>\n",
       "    </tr>\n",
       "    <tr>\n",
       "      <th>3</th>\n",
       "      <td>Adam</td>\n",
       "      <td>497293</td>\n",
       "      <td>Semi-trendy</td>\n",
       "    </tr>\n",
       "    <tr>\n",
       "      <th>4</th>\n",
       "      <td>Addison</td>\n",
       "      <td>107433</td>\n",
       "      <td>Trendy</td>\n",
       "    </tr>\n",
       "    <tr>\n",
       "      <th>5</th>\n",
       "      <td>Adrian</td>\n",
       "      <td>147741</td>\n",
       "      <td>Semi-trendy</td>\n",
       "    </tr>\n",
       "    <tr>\n",
       "      <th>6</th>\n",
       "      <td>Aidan</td>\n",
       "      <td>68566</td>\n",
       "      <td>Trendy</td>\n",
       "    </tr>\n",
       "    <tr>\n",
       "      <th>7</th>\n",
       "      <td>Aiden</td>\n",
       "      <td>216194</td>\n",
       "      <td>Trendy</td>\n",
       "    </tr>\n",
       "    <tr>\n",
       "      <th>8</th>\n",
       "      <td>Alan</td>\n",
       "      <td>162041</td>\n",
       "      <td>Semi-trendy</td>\n",
       "    </tr>\n",
       "    <tr>\n",
       "      <th>9</th>\n",
       "      <td>Albert</td>\n",
       "      <td>260945</td>\n",
       "      <td>Semi-trendy</td>\n",
       "    </tr>\n",
       "    <tr>\n",
       "      <th>10</th>\n",
       "      <td>Alex</td>\n",
       "      <td>158677</td>\n",
       "      <td>Semi-trendy</td>\n",
       "    </tr>\n",
       "    <tr>\n",
       "      <th>11</th>\n",
       "      <td>Alexa</td>\n",
       "      <td>33522</td>\n",
       "      <td>Trendy</td>\n",
       "    </tr>\n",
       "    <tr>\n",
       "      <th>12</th>\n",
       "      <td>Alexander</td>\n",
       "      <td>579854</td>\n",
       "      <td>Semi-trendy</td>\n",
       "    </tr>\n",
       "    <tr>\n",
       "      <th>13</th>\n",
       "      <td>Alexandra</td>\n",
       "      <td>167122</td>\n",
       "      <td>Semi-trendy</td>\n",
       "    </tr>\n",
       "    <tr>\n",
       "      <th>14</th>\n",
       "      <td>Alexandria</td>\n",
       "      <td>5026</td>\n",
       "      <td>Trendy</td>\n",
       "    </tr>\n",
       "    <tr>\n",
       "      <th>15</th>\n",
       "      <td>Alexis</td>\n",
       "      <td>282149</td>\n",
       "      <td>Semi-trendy</td>\n",
       "    </tr>\n",
       "    <tr>\n",
       "      <th>16</th>\n",
       "      <td>Alfred</td>\n",
       "      <td>16260</td>\n",
       "      <td>Trendy</td>\n",
       "    </tr>\n",
       "    <tr>\n",
       "      <th>17</th>\n",
       "      <td>Alice</td>\n",
       "      <td>296559</td>\n",
       "      <td>Semi-trendy</td>\n",
       "    </tr>\n",
       "    <tr>\n",
       "      <th>18</th>\n",
       "      <td>Alicia</td>\n",
       "      <td>84579</td>\n",
       "      <td>Trendy</td>\n",
       "    </tr>\n",
       "    <tr>\n",
       "      <th>19</th>\n",
       "      <td>Allen</td>\n",
       "      <td>10256</td>\n",
       "      <td>Trendy</td>\n",
       "    </tr>\n",
       "  </tbody>\n",
       "</table>\n",
       "</div>"
      ],
      "text/plain": [
       "    first_name  number popularity_type\n",
       "0      Aaliyah   15870          Trendy\n",
       "1        Aaron  530592    Semi-classic\n",
       "2      Abigail  338485     Semi-trendy\n",
       "3         Adam  497293     Semi-trendy\n",
       "4      Addison  107433          Trendy\n",
       "5       Adrian  147741     Semi-trendy\n",
       "6        Aidan   68566          Trendy\n",
       "7        Aiden  216194          Trendy\n",
       "8         Alan  162041     Semi-trendy\n",
       "9       Albert  260945     Semi-trendy\n",
       "10        Alex  158677     Semi-trendy\n",
       "11       Alexa   33522          Trendy\n",
       "12   Alexander  579854     Semi-trendy\n",
       "13   Alexandra  167122     Semi-trendy\n",
       "14  Alexandria    5026          Trendy\n",
       "15      Alexis  282149     Semi-trendy\n",
       "16      Alfred   16260          Trendy\n",
       "17       Alice  296559     Semi-trendy\n",
       "18      Alicia   84579          Trendy\n",
       "19       Allen   10256          Trendy"
      ]
     },
     "execution_count": 45,
     "metadata": {},
     "output_type": "execute_result"
    }
   ],
   "source": [
    "# Group by 'first_name' and sum the 'num' values\n",
    "popular_names_sum = names.groupby('first_name')['num'].sum().reset_index()\n",
    "popular_names_sum.rename(columns={'num': 'number'}, inplace=True)\n",
    "# Group by 'first_name' and count the number of unique years each name appears in\n",
    "popular_names_years = names.groupby('first_name')['year'].nunique().reset_index()\n",
    "# Rename the 'year' column to 'year_count' for clarity\n",
    "popular_names_years.rename(columns={'year': 'year_count'}, inplace=True)\n",
    "# Merge the two DataFrames on 'first_name'\n",
    "popular_names = pd.merge(popular_names_sum, popular_names_years, on='first_name')\n",
    "\n",
    "# This function can be used to classify names based on their frequency in the dataset.\n",
    "def classify_popularity(year_count):\n",
    "    if year_count > 80:\n",
    "        return 'Classic'\n",
    "    elif year_count > 50:\n",
    "        return 'Semi-classic'\n",
    "    elif year_count > 20:\n",
    "        return 'Semi-trendy'\n",
    "    else:\n",
    "        return 'Trendy'\n",
    "# Add a new column 'popularity_type' for the classification\n",
    "popular_names['popularity_type'] = popular_names['year_count'].apply(classify_popularity)\n",
    "# Drop the 'year_count' column as it's no longer needed\n",
    "popular_names.drop(columns=['year_count'], inplace=True)\n",
    "# Order the results alphabetically by 'first_name'\n",
    "result = popular_names.sort_values(by='first_name')\n",
    "\n",
    "# Display the result\n",
    "result.head(20)"
   ]
  },
  {
   "cell_type": "code",
   "execution_count": 46,
   "id": "2a6803bc-0bac-49c3-be47-fcc810122a33",
   "metadata": {
    "executionCancelledAt": null,
    "executionTime": 145,
    "lastExecutedAt": 1754921606270,
    "lastExecutedByKernel": "35ec5e07-7562-4a59-8301-2db1b0adb100",
    "lastScheduledRunId": null,
    "lastSuccessfullyExecutedCode": "# Create a bar chart to visualize the number of names in each popularity type\ndf = result['popularity_type'].value_counts().reset_index()\ndf.columns = ['popularity_type', 'count']\n\nfig = px.bar(df, \n             x='popularity_type', \n             y='count', \n             title='Number of Names by Popularity Type',\n             labels={'popularity_type': 'Popularity Type', 'count': 'Number of Names'},\n             color='popularity_type')  # Add color based on popularity type\n\n# Customize the hover template to show the real number\nfig.update_traces(hovertemplate='<b>%{x}</b><br>Number: %{y:,}')\n\n# Show the plot\nfig.show()\n",
    "outputsMetadata": {
     "0": {
      "height": 17,
      "type": "plotly"
     }
    }
   },
   "outputs": [
    {
     "data": {
      "application/vnd.plotly.v1+json": {
       "config": {
        "plotlyServerURL": "https://plot.ly"
       },
       "data": [
        {
         "hovertemplate": "<b>%{x}</b><br>Number: %{y:,}",
         "legendgroup": "Trendy",
         "marker": {
          "color": "#636efa",
          "pattern": {
           "shape": ""
          }
         },
         "name": "Trendy",
         "orientation": "v",
         "showlegend": true,
         "textposition": "auto",
         "type": "bar",
         "x": [
          "Trendy"
         ],
         "xaxis": "x",
         "y": {
          "bdata": "LQE=",
          "dtype": "i2"
         },
         "yaxis": "y"
        },
        {
         "hovertemplate": "<b>%{x}</b><br>Number: %{y:,}",
         "legendgroup": "Semi-trendy",
         "marker": {
          "color": "#EF553B",
          "pattern": {
           "shape": ""
          }
         },
         "name": "Semi-trendy",
         "orientation": "v",
         "showlegend": true,
         "textposition": "auto",
         "type": "bar",
         "x": [
          "Semi-trendy"
         ],
         "xaxis": "x",
         "y": {
          "bdata": "yQA=",
          "dtype": "i2"
         },
         "yaxis": "y"
        },
        {
         "hovertemplate": "<b>%{x}</b><br>Number: %{y:,}",
         "legendgroup": "Semi-classic",
         "marker": {
          "color": "#00cc96",
          "pattern": {
           "shape": ""
          }
         },
         "name": "Semi-classic",
         "orientation": "v",
         "showlegend": true,
         "textposition": "auto",
         "type": "bar",
         "x": [
          "Semi-classic"
         ],
         "xaxis": "x",
         "y": {
          "bdata": "Hw==",
          "dtype": "i1"
         },
         "yaxis": "y"
        },
        {
         "hovertemplate": "<b>%{x}</b><br>Number: %{y:,}",
         "legendgroup": "Classic",
         "marker": {
          "color": "#ab63fa",
          "pattern": {
           "shape": ""
          }
         },
         "name": "Classic",
         "orientation": "v",
         "showlegend": true,
         "textposition": "auto",
         "type": "bar",
         "x": [
          "Classic"
         ],
         "xaxis": "x",
         "y": {
          "bdata": "Dg==",
          "dtype": "i1"
         },
         "yaxis": "y"
        }
       ],
       "layout": {
        "barmode": "relative",
        "legend": {
         "title": {
          "text": "Popularity Type"
         },
         "tracegroupgap": 0
        },
        "template": {
         "data": {
          "bar": [
           {
            "error_x": {
             "color": "#2a3f5f"
            },
            "error_y": {
             "color": "#2a3f5f"
            },
            "marker": {
             "line": {
              "color": "#E5ECF6",
              "width": 0.5
             },
             "pattern": {
              "fillmode": "overlay",
              "size": 10,
              "solidity": 0.2
             }
            },
            "type": "bar"
           }
          ],
          "barpolar": [
           {
            "marker": {
             "line": {
              "color": "#E5ECF6",
              "width": 0.5
             },
             "pattern": {
              "fillmode": "overlay",
              "size": 10,
              "solidity": 0.2
             }
            },
            "type": "barpolar"
           }
          ],
          "carpet": [
           {
            "aaxis": {
             "endlinecolor": "#2a3f5f",
             "gridcolor": "white",
             "linecolor": "white",
             "minorgridcolor": "white",
             "startlinecolor": "#2a3f5f"
            },
            "baxis": {
             "endlinecolor": "#2a3f5f",
             "gridcolor": "white",
             "linecolor": "white",
             "minorgridcolor": "white",
             "startlinecolor": "#2a3f5f"
            },
            "type": "carpet"
           }
          ],
          "choropleth": [
           {
            "colorbar": {
             "outlinewidth": 0,
             "ticks": ""
            },
            "type": "choropleth"
           }
          ],
          "contour": [
           {
            "colorbar": {
             "outlinewidth": 0,
             "ticks": ""
            },
            "colorscale": [
             [
              0,
              "#0d0887"
             ],
             [
              0.1111111111111111,
              "#46039f"
             ],
             [
              0.2222222222222222,
              "#7201a8"
             ],
             [
              0.3333333333333333,
              "#9c179e"
             ],
             [
              0.4444444444444444,
              "#bd3786"
             ],
             [
              0.5555555555555556,
              "#d8576b"
             ],
             [
              0.6666666666666666,
              "#ed7953"
             ],
             [
              0.7777777777777778,
              "#fb9f3a"
             ],
             [
              0.8888888888888888,
              "#fdca26"
             ],
             [
              1,
              "#f0f921"
             ]
            ],
            "type": "contour"
           }
          ],
          "contourcarpet": [
           {
            "colorbar": {
             "outlinewidth": 0,
             "ticks": ""
            },
            "type": "contourcarpet"
           }
          ],
          "heatmap": [
           {
            "colorbar": {
             "outlinewidth": 0,
             "ticks": ""
            },
            "colorscale": [
             [
              0,
              "#0d0887"
             ],
             [
              0.1111111111111111,
              "#46039f"
             ],
             [
              0.2222222222222222,
              "#7201a8"
             ],
             [
              0.3333333333333333,
              "#9c179e"
             ],
             [
              0.4444444444444444,
              "#bd3786"
             ],
             [
              0.5555555555555556,
              "#d8576b"
             ],
             [
              0.6666666666666666,
              "#ed7953"
             ],
             [
              0.7777777777777778,
              "#fb9f3a"
             ],
             [
              0.8888888888888888,
              "#fdca26"
             ],
             [
              1,
              "#f0f921"
             ]
            ],
            "type": "heatmap"
           }
          ],
          "histogram": [
           {
            "marker": {
             "pattern": {
              "fillmode": "overlay",
              "size": 10,
              "solidity": 0.2
             }
            },
            "type": "histogram"
           }
          ],
          "histogram2d": [
           {
            "colorbar": {
             "outlinewidth": 0,
             "ticks": ""
            },
            "colorscale": [
             [
              0,
              "#0d0887"
             ],
             [
              0.1111111111111111,
              "#46039f"
             ],
             [
              0.2222222222222222,
              "#7201a8"
             ],
             [
              0.3333333333333333,
              "#9c179e"
             ],
             [
              0.4444444444444444,
              "#bd3786"
             ],
             [
              0.5555555555555556,
              "#d8576b"
             ],
             [
              0.6666666666666666,
              "#ed7953"
             ],
             [
              0.7777777777777778,
              "#fb9f3a"
             ],
             [
              0.8888888888888888,
              "#fdca26"
             ],
             [
              1,
              "#f0f921"
             ]
            ],
            "type": "histogram2d"
           }
          ],
          "histogram2dcontour": [
           {
            "colorbar": {
             "outlinewidth": 0,
             "ticks": ""
            },
            "colorscale": [
             [
              0,
              "#0d0887"
             ],
             [
              0.1111111111111111,
              "#46039f"
             ],
             [
              0.2222222222222222,
              "#7201a8"
             ],
             [
              0.3333333333333333,
              "#9c179e"
             ],
             [
              0.4444444444444444,
              "#bd3786"
             ],
             [
              0.5555555555555556,
              "#d8576b"
             ],
             [
              0.6666666666666666,
              "#ed7953"
             ],
             [
              0.7777777777777778,
              "#fb9f3a"
             ],
             [
              0.8888888888888888,
              "#fdca26"
             ],
             [
              1,
              "#f0f921"
             ]
            ],
            "type": "histogram2dcontour"
           }
          ],
          "mesh3d": [
           {
            "colorbar": {
             "outlinewidth": 0,
             "ticks": ""
            },
            "type": "mesh3d"
           }
          ],
          "parcoords": [
           {
            "line": {
             "colorbar": {
              "outlinewidth": 0,
              "ticks": ""
             }
            },
            "type": "parcoords"
           }
          ],
          "pie": [
           {
            "automargin": true,
            "type": "pie"
           }
          ],
          "scatter": [
           {
            "fillpattern": {
             "fillmode": "overlay",
             "size": 10,
             "solidity": 0.2
            },
            "type": "scatter"
           }
          ],
          "scatter3d": [
           {
            "line": {
             "colorbar": {
              "outlinewidth": 0,
              "ticks": ""
             }
            },
            "marker": {
             "colorbar": {
              "outlinewidth": 0,
              "ticks": ""
             }
            },
            "type": "scatter3d"
           }
          ],
          "scattercarpet": [
           {
            "marker": {
             "colorbar": {
              "outlinewidth": 0,
              "ticks": ""
             }
            },
            "type": "scattercarpet"
           }
          ],
          "scattergeo": [
           {
            "marker": {
             "colorbar": {
              "outlinewidth": 0,
              "ticks": ""
             }
            },
            "type": "scattergeo"
           }
          ],
          "scattergl": [
           {
            "marker": {
             "colorbar": {
              "outlinewidth": 0,
              "ticks": ""
             }
            },
            "type": "scattergl"
           }
          ],
          "scattermap": [
           {
            "marker": {
             "colorbar": {
              "outlinewidth": 0,
              "ticks": ""
             }
            },
            "type": "scattermap"
           }
          ],
          "scattermapbox": [
           {
            "marker": {
             "colorbar": {
              "outlinewidth": 0,
              "ticks": ""
             }
            },
            "type": "scattermapbox"
           }
          ],
          "scatterpolar": [
           {
            "marker": {
             "colorbar": {
              "outlinewidth": 0,
              "ticks": ""
             }
            },
            "type": "scatterpolar"
           }
          ],
          "scatterpolargl": [
           {
            "marker": {
             "colorbar": {
              "outlinewidth": 0,
              "ticks": ""
             }
            },
            "type": "scatterpolargl"
           }
          ],
          "scatterternary": [
           {
            "marker": {
             "colorbar": {
              "outlinewidth": 0,
              "ticks": ""
             }
            },
            "type": "scatterternary"
           }
          ],
          "surface": [
           {
            "colorbar": {
             "outlinewidth": 0,
             "ticks": ""
            },
            "colorscale": [
             [
              0,
              "#0d0887"
             ],
             [
              0.1111111111111111,
              "#46039f"
             ],
             [
              0.2222222222222222,
              "#7201a8"
             ],
             [
              0.3333333333333333,
              "#9c179e"
             ],
             [
              0.4444444444444444,
              "#bd3786"
             ],
             [
              0.5555555555555556,
              "#d8576b"
             ],
             [
              0.6666666666666666,
              "#ed7953"
             ],
             [
              0.7777777777777778,
              "#fb9f3a"
             ],
             [
              0.8888888888888888,
              "#fdca26"
             ],
             [
              1,
              "#f0f921"
             ]
            ],
            "type": "surface"
           }
          ],
          "table": [
           {
            "cells": {
             "fill": {
              "color": "#EBF0F8"
             },
             "line": {
              "color": "white"
             }
            },
            "header": {
             "fill": {
              "color": "#C8D4E3"
             },
             "line": {
              "color": "white"
             }
            },
            "type": "table"
           }
          ]
         },
         "layout": {
          "annotationdefaults": {
           "arrowcolor": "#2a3f5f",
           "arrowhead": 0,
           "arrowwidth": 1
          },
          "autotypenumbers": "strict",
          "coloraxis": {
           "colorbar": {
            "outlinewidth": 0,
            "ticks": ""
           }
          },
          "colorscale": {
           "diverging": [
            [
             0,
             "#8e0152"
            ],
            [
             0.1,
             "#c51b7d"
            ],
            [
             0.2,
             "#de77ae"
            ],
            [
             0.3,
             "#f1b6da"
            ],
            [
             0.4,
             "#fde0ef"
            ],
            [
             0.5,
             "#f7f7f7"
            ],
            [
             0.6,
             "#e6f5d0"
            ],
            [
             0.7,
             "#b8e186"
            ],
            [
             0.8,
             "#7fbc41"
            ],
            [
             0.9,
             "#4d9221"
            ],
            [
             1,
             "#276419"
            ]
           ],
           "sequential": [
            [
             0,
             "#0d0887"
            ],
            [
             0.1111111111111111,
             "#46039f"
            ],
            [
             0.2222222222222222,
             "#7201a8"
            ],
            [
             0.3333333333333333,
             "#9c179e"
            ],
            [
             0.4444444444444444,
             "#bd3786"
            ],
            [
             0.5555555555555556,
             "#d8576b"
            ],
            [
             0.6666666666666666,
             "#ed7953"
            ],
            [
             0.7777777777777778,
             "#fb9f3a"
            ],
            [
             0.8888888888888888,
             "#fdca26"
            ],
            [
             1,
             "#f0f921"
            ]
           ],
           "sequentialminus": [
            [
             0,
             "#0d0887"
            ],
            [
             0.1111111111111111,
             "#46039f"
            ],
            [
             0.2222222222222222,
             "#7201a8"
            ],
            [
             0.3333333333333333,
             "#9c179e"
            ],
            [
             0.4444444444444444,
             "#bd3786"
            ],
            [
             0.5555555555555556,
             "#d8576b"
            ],
            [
             0.6666666666666666,
             "#ed7953"
            ],
            [
             0.7777777777777778,
             "#fb9f3a"
            ],
            [
             0.8888888888888888,
             "#fdca26"
            ],
            [
             1,
             "#f0f921"
            ]
           ]
          },
          "colorway": [
           "#636efa",
           "#EF553B",
           "#00cc96",
           "#ab63fa",
           "#FFA15A",
           "#19d3f3",
           "#FF6692",
           "#B6E880",
           "#FF97FF",
           "#FECB52"
          ],
          "font": {
           "color": "#2a3f5f"
          },
          "geo": {
           "bgcolor": "white",
           "lakecolor": "white",
           "landcolor": "#E5ECF6",
           "showlakes": true,
           "showland": true,
           "subunitcolor": "white"
          },
          "hoverlabel": {
           "align": "left"
          },
          "hovermode": "closest",
          "mapbox": {
           "style": "light"
          },
          "paper_bgcolor": "white",
          "plot_bgcolor": "#E5ECF6",
          "polar": {
           "angularaxis": {
            "gridcolor": "white",
            "linecolor": "white",
            "ticks": ""
           },
           "bgcolor": "#E5ECF6",
           "radialaxis": {
            "gridcolor": "white",
            "linecolor": "white",
            "ticks": ""
           }
          },
          "scene": {
           "xaxis": {
            "backgroundcolor": "#E5ECF6",
            "gridcolor": "white",
            "gridwidth": 2,
            "linecolor": "white",
            "showbackground": true,
            "ticks": "",
            "zerolinecolor": "white"
           },
           "yaxis": {
            "backgroundcolor": "#E5ECF6",
            "gridcolor": "white",
            "gridwidth": 2,
            "linecolor": "white",
            "showbackground": true,
            "ticks": "",
            "zerolinecolor": "white"
           },
           "zaxis": {
            "backgroundcolor": "#E5ECF6",
            "gridcolor": "white",
            "gridwidth": 2,
            "linecolor": "white",
            "showbackground": true,
            "ticks": "",
            "zerolinecolor": "white"
           }
          },
          "shapedefaults": {
           "line": {
            "color": "#2a3f5f"
           }
          },
          "ternary": {
           "aaxis": {
            "gridcolor": "white",
            "linecolor": "white",
            "ticks": ""
           },
           "baxis": {
            "gridcolor": "white",
            "linecolor": "white",
            "ticks": ""
           },
           "bgcolor": "#E5ECF6",
           "caxis": {
            "gridcolor": "white",
            "linecolor": "white",
            "ticks": ""
           }
          },
          "title": {
           "x": 0.05
          },
          "xaxis": {
           "automargin": true,
           "gridcolor": "white",
           "linecolor": "white",
           "ticks": "",
           "title": {
            "standoff": 15
           },
           "zerolinecolor": "white",
           "zerolinewidth": 2
          },
          "yaxis": {
           "automargin": true,
           "gridcolor": "white",
           "linecolor": "white",
           "ticks": "",
           "title": {
            "standoff": 15
           },
           "zerolinecolor": "white",
           "zerolinewidth": 2
          }
         }
        },
        "title": {
         "text": "Number of Names by Popularity Type"
        },
        "xaxis": {
         "anchor": "y",
         "categoryarray": [
          "Trendy",
          "Semi-trendy",
          "Semi-classic",
          "Classic"
         ],
         "categoryorder": "array",
         "domain": [
          0,
          1
         ],
         "title": {
          "text": "Popularity Type"
         }
        },
        "yaxis": {
         "anchor": "x",
         "domain": [
          0,
          1
         ],
         "title": {
          "text": "Number of Names"
         }
        }
       }
      }
     },
     "metadata": {},
     "output_type": "display_data"
    }
   ],
   "source": [
    "# Create a bar chart to visualize the number of names in each popularity type\n",
    "df = result['popularity_type'].value_counts().reset_index()\n",
    "df.columns = ['popularity_type', 'count']\n",
    "\n",
    "fig = px.bar(df, \n",
    "             x='popularity_type', \n",
    "             y='count', \n",
    "             title='Number of Names by Popularity Type',\n",
    "             labels={'popularity_type': 'Popularity Type', 'count': 'Number of Names'},\n",
    "             color='popularity_type')  # Add color based on popularity type\n",
    "\n",
    "# Customize the hover template to show the real number\n",
    "fig.update_traces(hovertemplate='<b>%{x}</b><br>Number: %{y:,}')\n",
    "\n",
    "# Show the plot\n",
    "fig.show()\n"
   ]
  },
  {
   "cell_type": "code",
   "execution_count": 47,
   "id": "267e546f-4397-4fa8-87ce-3cb04af7d3b3",
   "metadata": {
    "executionCancelledAt": null,
    "executionTime": 92,
    "lastExecutedAt": 1754921606362,
    "lastExecutedByKernel": "35ec5e07-7562-4a59-8301-2db1b0adb100",
    "lastScheduledRunId": null,
    "lastSuccessfullyExecutedCode": "# Sort the DataFrame by 'number' in descending order and select the top 20 names\ntop_20 = result.sort_values(by='number', ascending=False).head(20)\n\n# Create an interactive bar chart using Plotly\nfig = px.bar(top_20, \n             x='first_name', \n             y='number', \n             color='popularity_type', \n             title='Top 20 Popular Names',\n             labels={'first_name': 'First Name', 'number': 'Number of Occurrences'},\n             hover_data={'popularity_type': True})\n\n# Customize the hover template to show the real number and popularity type\nfig.update_traces(hovertemplate='<b>%{x}</b><br>Number: %{y:,}<br>Popularity: %{customdata[0]}')\n\n# Show the plot\nfig.show()",
    "outputsMetadata": {
     "0": {
      "height": 17,
      "type": "plotly"
     }
    }
   },
   "outputs": [
    {
     "data": {
      "application/vnd.plotly.v1+json": {
       "config": {
        "plotlyServerURL": "https://plot.ly"
       },
       "data": [
        {
         "customdata": [
          [
           "Classic"
          ],
          [
           "Classic"
          ],
          [
           "Classic"
          ],
          [
           "Classic"
          ],
          [
           "Classic"
          ],
          [
           "Classic"
          ],
          [
           "Classic"
          ],
          [
           "Classic"
          ],
          [
           "Classic"
          ],
          [
           "Classic"
          ],
          [
           "Classic"
          ],
          [
           "Classic"
          ],
          [
           "Classic"
          ],
          [
           "Classic"
          ]
         ],
         "hovertemplate": "<b>%{x}</b><br>Number: %{y:,}<br>Popularity: %{customdata[0]}",
         "legendgroup": "Classic",
         "marker": {
          "color": "#636efa",
          "pattern": {
           "shape": ""
          }
         },
         "name": "Classic",
         "orientation": "v",
         "showlegend": true,
         "textposition": "auto",
         "type": "bar",
         "x": [
          "James",
          "John",
          "Robert",
          "Michael",
          "William",
          "David",
          "Mary",
          "Richard",
          "Joseph",
          "Thomas",
          "Charles",
          "Daniel",
          "Elizabeth",
          "Anthony"
         ],
         "xaxis": "x",
         "y": {
          "bdata": "anNIAAHURABfl0QAKEpBANgmNwAqfzYA6hExAPbYJAAmCCQAEhAhAGA7IAAS1hsAfuoVAGCDFAA=",
          "dtype": "i4"
         },
         "yaxis": "y"
        },
        {
         "customdata": [
          [
           "Semi-classic"
          ],
          [
           "Semi-classic"
          ],
          [
           "Semi-classic"
          ],
          [
           "Semi-classic"
          ]
         ],
         "hovertemplate": "<b>%{x}</b><br>Number: %{y:,}<br>Popularity: %{customdata[0]}",
         "legendgroup": "Semi-classic",
         "marker": {
          "color": "#EF553B",
          "pattern": {
           "shape": ""
          }
         },
         "name": "Semi-classic",
         "orientation": "v",
         "showlegend": true,
         "textposition": "auto",
         "type": "bar",
         "x": [
          "Christopher",
          "Matthew",
          "Patricia",
          "Barbara"
         ],
         "xaxis": "x",
         "y": {
          "bdata": "eLYeAOTpFwB6lBYAnYEUAA==",
          "dtype": "i4"
         },
         "yaxis": "y"
        },
        {
         "customdata": [
          [
           "Semi-trendy"
          ],
          [
           "Semi-trendy"
          ]
         ],
         "hovertemplate": "<b>%{x}</b><br>Number: %{y:,}<br>Popularity: %{customdata[0]}",
         "legendgroup": "Semi-trendy",
         "marker": {
          "color": "#00cc96",
          "pattern": {
           "shape": ""
          }
         },
         "name": "Semi-trendy",
         "orientation": "v",
         "showlegend": true,
         "textposition": "auto",
         "type": "bar",
         "x": [
          "Jennifer",
          "Linda"
         ],
         "xaxis": "x",
         "y": {
          "bdata": "R28VAH3EFAA=",
          "dtype": "i4"
         },
         "yaxis": "y"
        }
       ],
       "layout": {
        "barmode": "relative",
        "legend": {
         "title": {
          "text": "popularity_type"
         },
         "tracegroupgap": 0
        },
        "template": {
         "data": {
          "bar": [
           {
            "error_x": {
             "color": "#2a3f5f"
            },
            "error_y": {
             "color": "#2a3f5f"
            },
            "marker": {
             "line": {
              "color": "#E5ECF6",
              "width": 0.5
             },
             "pattern": {
              "fillmode": "overlay",
              "size": 10,
              "solidity": 0.2
             }
            },
            "type": "bar"
           }
          ],
          "barpolar": [
           {
            "marker": {
             "line": {
              "color": "#E5ECF6",
              "width": 0.5
             },
             "pattern": {
              "fillmode": "overlay",
              "size": 10,
              "solidity": 0.2
             }
            },
            "type": "barpolar"
           }
          ],
          "carpet": [
           {
            "aaxis": {
             "endlinecolor": "#2a3f5f",
             "gridcolor": "white",
             "linecolor": "white",
             "minorgridcolor": "white",
             "startlinecolor": "#2a3f5f"
            },
            "baxis": {
             "endlinecolor": "#2a3f5f",
             "gridcolor": "white",
             "linecolor": "white",
             "minorgridcolor": "white",
             "startlinecolor": "#2a3f5f"
            },
            "type": "carpet"
           }
          ],
          "choropleth": [
           {
            "colorbar": {
             "outlinewidth": 0,
             "ticks": ""
            },
            "type": "choropleth"
           }
          ],
          "contour": [
           {
            "colorbar": {
             "outlinewidth": 0,
             "ticks": ""
            },
            "colorscale": [
             [
              0,
              "#0d0887"
             ],
             [
              0.1111111111111111,
              "#46039f"
             ],
             [
              0.2222222222222222,
              "#7201a8"
             ],
             [
              0.3333333333333333,
              "#9c179e"
             ],
             [
              0.4444444444444444,
              "#bd3786"
             ],
             [
              0.5555555555555556,
              "#d8576b"
             ],
             [
              0.6666666666666666,
              "#ed7953"
             ],
             [
              0.7777777777777778,
              "#fb9f3a"
             ],
             [
              0.8888888888888888,
              "#fdca26"
             ],
             [
              1,
              "#f0f921"
             ]
            ],
            "type": "contour"
           }
          ],
          "contourcarpet": [
           {
            "colorbar": {
             "outlinewidth": 0,
             "ticks": ""
            },
            "type": "contourcarpet"
           }
          ],
          "heatmap": [
           {
            "colorbar": {
             "outlinewidth": 0,
             "ticks": ""
            },
            "colorscale": [
             [
              0,
              "#0d0887"
             ],
             [
              0.1111111111111111,
              "#46039f"
             ],
             [
              0.2222222222222222,
              "#7201a8"
             ],
             [
              0.3333333333333333,
              "#9c179e"
             ],
             [
              0.4444444444444444,
              "#bd3786"
             ],
             [
              0.5555555555555556,
              "#d8576b"
             ],
             [
              0.6666666666666666,
              "#ed7953"
             ],
             [
              0.7777777777777778,
              "#fb9f3a"
             ],
             [
              0.8888888888888888,
              "#fdca26"
             ],
             [
              1,
              "#f0f921"
             ]
            ],
            "type": "heatmap"
           }
          ],
          "histogram": [
           {
            "marker": {
             "pattern": {
              "fillmode": "overlay",
              "size": 10,
              "solidity": 0.2
             }
            },
            "type": "histogram"
           }
          ],
          "histogram2d": [
           {
            "colorbar": {
             "outlinewidth": 0,
             "ticks": ""
            },
            "colorscale": [
             [
              0,
              "#0d0887"
             ],
             [
              0.1111111111111111,
              "#46039f"
             ],
             [
              0.2222222222222222,
              "#7201a8"
             ],
             [
              0.3333333333333333,
              "#9c179e"
             ],
             [
              0.4444444444444444,
              "#bd3786"
             ],
             [
              0.5555555555555556,
              "#d8576b"
             ],
             [
              0.6666666666666666,
              "#ed7953"
             ],
             [
              0.7777777777777778,
              "#fb9f3a"
             ],
             [
              0.8888888888888888,
              "#fdca26"
             ],
             [
              1,
              "#f0f921"
             ]
            ],
            "type": "histogram2d"
           }
          ],
          "histogram2dcontour": [
           {
            "colorbar": {
             "outlinewidth": 0,
             "ticks": ""
            },
            "colorscale": [
             [
              0,
              "#0d0887"
             ],
             [
              0.1111111111111111,
              "#46039f"
             ],
             [
              0.2222222222222222,
              "#7201a8"
             ],
             [
              0.3333333333333333,
              "#9c179e"
             ],
             [
              0.4444444444444444,
              "#bd3786"
             ],
             [
              0.5555555555555556,
              "#d8576b"
             ],
             [
              0.6666666666666666,
              "#ed7953"
             ],
             [
              0.7777777777777778,
              "#fb9f3a"
             ],
             [
              0.8888888888888888,
              "#fdca26"
             ],
             [
              1,
              "#f0f921"
             ]
            ],
            "type": "histogram2dcontour"
           }
          ],
          "mesh3d": [
           {
            "colorbar": {
             "outlinewidth": 0,
             "ticks": ""
            },
            "type": "mesh3d"
           }
          ],
          "parcoords": [
           {
            "line": {
             "colorbar": {
              "outlinewidth": 0,
              "ticks": ""
             }
            },
            "type": "parcoords"
           }
          ],
          "pie": [
           {
            "automargin": true,
            "type": "pie"
           }
          ],
          "scatter": [
           {
            "fillpattern": {
             "fillmode": "overlay",
             "size": 10,
             "solidity": 0.2
            },
            "type": "scatter"
           }
          ],
          "scatter3d": [
           {
            "line": {
             "colorbar": {
              "outlinewidth": 0,
              "ticks": ""
             }
            },
            "marker": {
             "colorbar": {
              "outlinewidth": 0,
              "ticks": ""
             }
            },
            "type": "scatter3d"
           }
          ],
          "scattercarpet": [
           {
            "marker": {
             "colorbar": {
              "outlinewidth": 0,
              "ticks": ""
             }
            },
            "type": "scattercarpet"
           }
          ],
          "scattergeo": [
           {
            "marker": {
             "colorbar": {
              "outlinewidth": 0,
              "ticks": ""
             }
            },
            "type": "scattergeo"
           }
          ],
          "scattergl": [
           {
            "marker": {
             "colorbar": {
              "outlinewidth": 0,
              "ticks": ""
             }
            },
            "type": "scattergl"
           }
          ],
          "scattermap": [
           {
            "marker": {
             "colorbar": {
              "outlinewidth": 0,
              "ticks": ""
             }
            },
            "type": "scattermap"
           }
          ],
          "scattermapbox": [
           {
            "marker": {
             "colorbar": {
              "outlinewidth": 0,
              "ticks": ""
             }
            },
            "type": "scattermapbox"
           }
          ],
          "scatterpolar": [
           {
            "marker": {
             "colorbar": {
              "outlinewidth": 0,
              "ticks": ""
             }
            },
            "type": "scatterpolar"
           }
          ],
          "scatterpolargl": [
           {
            "marker": {
             "colorbar": {
              "outlinewidth": 0,
              "ticks": ""
             }
            },
            "type": "scatterpolargl"
           }
          ],
          "scatterternary": [
           {
            "marker": {
             "colorbar": {
              "outlinewidth": 0,
              "ticks": ""
             }
            },
            "type": "scatterternary"
           }
          ],
          "surface": [
           {
            "colorbar": {
             "outlinewidth": 0,
             "ticks": ""
            },
            "colorscale": [
             [
              0,
              "#0d0887"
             ],
             [
              0.1111111111111111,
              "#46039f"
             ],
             [
              0.2222222222222222,
              "#7201a8"
             ],
             [
              0.3333333333333333,
              "#9c179e"
             ],
             [
              0.4444444444444444,
              "#bd3786"
             ],
             [
              0.5555555555555556,
              "#d8576b"
             ],
             [
              0.6666666666666666,
              "#ed7953"
             ],
             [
              0.7777777777777778,
              "#fb9f3a"
             ],
             [
              0.8888888888888888,
              "#fdca26"
             ],
             [
              1,
              "#f0f921"
             ]
            ],
            "type": "surface"
           }
          ],
          "table": [
           {
            "cells": {
             "fill": {
              "color": "#EBF0F8"
             },
             "line": {
              "color": "white"
             }
            },
            "header": {
             "fill": {
              "color": "#C8D4E3"
             },
             "line": {
              "color": "white"
             }
            },
            "type": "table"
           }
          ]
         },
         "layout": {
          "annotationdefaults": {
           "arrowcolor": "#2a3f5f",
           "arrowhead": 0,
           "arrowwidth": 1
          },
          "autotypenumbers": "strict",
          "coloraxis": {
           "colorbar": {
            "outlinewidth": 0,
            "ticks": ""
           }
          },
          "colorscale": {
           "diverging": [
            [
             0,
             "#8e0152"
            ],
            [
             0.1,
             "#c51b7d"
            ],
            [
             0.2,
             "#de77ae"
            ],
            [
             0.3,
             "#f1b6da"
            ],
            [
             0.4,
             "#fde0ef"
            ],
            [
             0.5,
             "#f7f7f7"
            ],
            [
             0.6,
             "#e6f5d0"
            ],
            [
             0.7,
             "#b8e186"
            ],
            [
             0.8,
             "#7fbc41"
            ],
            [
             0.9,
             "#4d9221"
            ],
            [
             1,
             "#276419"
            ]
           ],
           "sequential": [
            [
             0,
             "#0d0887"
            ],
            [
             0.1111111111111111,
             "#46039f"
            ],
            [
             0.2222222222222222,
             "#7201a8"
            ],
            [
             0.3333333333333333,
             "#9c179e"
            ],
            [
             0.4444444444444444,
             "#bd3786"
            ],
            [
             0.5555555555555556,
             "#d8576b"
            ],
            [
             0.6666666666666666,
             "#ed7953"
            ],
            [
             0.7777777777777778,
             "#fb9f3a"
            ],
            [
             0.8888888888888888,
             "#fdca26"
            ],
            [
             1,
             "#f0f921"
            ]
           ],
           "sequentialminus": [
            [
             0,
             "#0d0887"
            ],
            [
             0.1111111111111111,
             "#46039f"
            ],
            [
             0.2222222222222222,
             "#7201a8"
            ],
            [
             0.3333333333333333,
             "#9c179e"
            ],
            [
             0.4444444444444444,
             "#bd3786"
            ],
            [
             0.5555555555555556,
             "#d8576b"
            ],
            [
             0.6666666666666666,
             "#ed7953"
            ],
            [
             0.7777777777777778,
             "#fb9f3a"
            ],
            [
             0.8888888888888888,
             "#fdca26"
            ],
            [
             1,
             "#f0f921"
            ]
           ]
          },
          "colorway": [
           "#636efa",
           "#EF553B",
           "#00cc96",
           "#ab63fa",
           "#FFA15A",
           "#19d3f3",
           "#FF6692",
           "#B6E880",
           "#FF97FF",
           "#FECB52"
          ],
          "font": {
           "color": "#2a3f5f"
          },
          "geo": {
           "bgcolor": "white",
           "lakecolor": "white",
           "landcolor": "#E5ECF6",
           "showlakes": true,
           "showland": true,
           "subunitcolor": "white"
          },
          "hoverlabel": {
           "align": "left"
          },
          "hovermode": "closest",
          "mapbox": {
           "style": "light"
          },
          "paper_bgcolor": "white",
          "plot_bgcolor": "#E5ECF6",
          "polar": {
           "angularaxis": {
            "gridcolor": "white",
            "linecolor": "white",
            "ticks": ""
           },
           "bgcolor": "#E5ECF6",
           "radialaxis": {
            "gridcolor": "white",
            "linecolor": "white",
            "ticks": ""
           }
          },
          "scene": {
           "xaxis": {
            "backgroundcolor": "#E5ECF6",
            "gridcolor": "white",
            "gridwidth": 2,
            "linecolor": "white",
            "showbackground": true,
            "ticks": "",
            "zerolinecolor": "white"
           },
           "yaxis": {
            "backgroundcolor": "#E5ECF6",
            "gridcolor": "white",
            "gridwidth": 2,
            "linecolor": "white",
            "showbackground": true,
            "ticks": "",
            "zerolinecolor": "white"
           },
           "zaxis": {
            "backgroundcolor": "#E5ECF6",
            "gridcolor": "white",
            "gridwidth": 2,
            "linecolor": "white",
            "showbackground": true,
            "ticks": "",
            "zerolinecolor": "white"
           }
          },
          "shapedefaults": {
           "line": {
            "color": "#2a3f5f"
           }
          },
          "ternary": {
           "aaxis": {
            "gridcolor": "white",
            "linecolor": "white",
            "ticks": ""
           },
           "baxis": {
            "gridcolor": "white",
            "linecolor": "white",
            "ticks": ""
           },
           "bgcolor": "#E5ECF6",
           "caxis": {
            "gridcolor": "white",
            "linecolor": "white",
            "ticks": ""
           }
          },
          "title": {
           "x": 0.05
          },
          "xaxis": {
           "automargin": true,
           "gridcolor": "white",
           "linecolor": "white",
           "ticks": "",
           "title": {
            "standoff": 15
           },
           "zerolinecolor": "white",
           "zerolinewidth": 2
          },
          "yaxis": {
           "automargin": true,
           "gridcolor": "white",
           "linecolor": "white",
           "ticks": "",
           "title": {
            "standoff": 15
           },
           "zerolinecolor": "white",
           "zerolinewidth": 2
          }
         }
        },
        "title": {
         "text": "Top 20 Popular Names"
        },
        "xaxis": {
         "anchor": "y",
         "domain": [
          0,
          1
         ],
         "title": {
          "text": "First Name"
         }
        },
        "yaxis": {
         "anchor": "x",
         "domain": [
          0,
          1
         ],
         "title": {
          "text": "Number of Occurrences"
         }
        }
       }
      }
     },
     "metadata": {},
     "output_type": "display_data"
    }
   ],
   "source": [
    "# Sort the DataFrame by 'number' in descending order and select the top 20 names\n",
    "top_20 = result.sort_values(by='number', ascending=False).head(20)\n",
    "\n",
    "# Create an interactive bar chart using Plotly\n",
    "fig = px.bar(top_20, \n",
    "             x='first_name', \n",
    "             y='number', \n",
    "             color='popularity_type', \n",
    "             title='Top 20 Popular Names',\n",
    "             labels={'first_name': 'First Name', 'number': 'Number of Occurrences'},\n",
    "             hover_data={'popularity_type': True})\n",
    "\n",
    "# Customize the hover template to show the real number and popularity type\n",
    "fig.update_traces(hovertemplate='<b>%{x}</b><br>Number: %{y:,}<br>Popularity: %{customdata[0]}')\n",
    "\n",
    "# Show the plot\n",
    "fig.show()"
   ]
  },
  {
   "cell_type": "code",
   "execution_count": 48,
   "id": "e9cec9ec-d1f0-4ae1-a7e8-3de8b621af04",
   "metadata": {
    "executionCancelledAt": null,
    "executionTime": 101,
    "lastExecutedAt": 1754921606463,
    "lastExecutedByKernel": "35ec5e07-7562-4a59-8301-2db1b0adb100",
    "lastScheduledRunId": null,
    "lastSuccessfullyExecutedCode": "# Merge the classification back to the original DataFrame\nnames_with_popularity = names.merge(popular_names[['first_name', 'popularity_type']], on='first_name')\n# Group by 'year' and 'popularity_type', then count the number of occurrences\npopularity_over_years = names_with_popularity.groupby(['year', 'popularity_type']).size().reset_index(name='count')\n# Plot the data using Plotly\nfig = px.line(popularity_over_years, x='year', y='count', color='popularity_type', \n              title='Popularity Types Over Years', labels={'year': 'Year', 'count': 'total of names'})\n# Customize the legend title\nfig.update_layout(legend_title_text='Popularity Type')\n\n# Show the plot\nfig.show()",
    "outputsMetadata": {
     "0": {
      "height": 17,
      "type": "plotly"
     }
    }
   },
   "outputs": [
    {
     "data": {
      "application/vnd.plotly.v1+json": {
       "config": {
        "plotlyServerURL": "https://plot.ly"
       },
       "data": [
        {
         "hovertemplate": "popularity_type=Classic<br>Year=%{x}<br>total of names=%{y}<extra></extra>",
         "legendgroup": "Classic",
         "line": {
          "color": "#636efa",
          "dash": "solid"
         },
         "marker": {
          "symbol": "circle"
         },
         "mode": "lines",
         "name": "Classic",
         "orientation": "v",
         "showlegend": true,
         "type": "scatter",
         "x": {
          "bdata": "gAeBB4IHgweEB4UHhgeHB4gHiQeKB4sHjAeNB44HjweQB5EHkgeTB5QHlQeWB5cHmAeZB5oHmwecB50HngefB6AHoQeiB6MHpAelB6YHpweoB6kHqgerB6wHrQeuB68HsAexB7IHswe0B7UHtge3B7gHuQe6B7sHvAe9B74HvwfAB8EHwgfDB8QHxQfGB8cHyAfJB8oHywfMB80HzgfPB9AH0QfSB9MH1AfVB9YH1wfYB9kH2gfbB9wH3QfeB98H4AfhB+IH4wfkBw==",
          "dtype": "i2"
         },
         "xaxis": "x",
         "y": {
          "bdata": "CwwMDAwMDAsLCwsLCwsLCwwNDQ0NDg4ODg4ODg4ODg4ODg4ODg4ODg4ODg4ODg4ODg4ODg4ODg4ODg4ODg4ODg4ODg4ODg4ODg4ODg4ODg4ODg4ODAwMDAwMDAwMDAwMDAwMCws=",
          "dtype": "i1"
         },
         "yaxis": "y"
        },
        {
         "hovertemplate": "popularity_type=Semi-classic<br>Year=%{x}<br>total of names=%{y}<extra></extra>",
         "legendgroup": "Semi-classic",
         "line": {
          "color": "#EF553B",
          "dash": "solid"
         },
         "marker": {
          "symbol": "circle"
         },
         "mode": "lines",
         "name": "Semi-classic",
         "orientation": "v",
         "showlegend": true,
         "type": "scatter",
         "x": {
          "bdata": "gAeBB4IHgweEB4UHhgeHB4gHiQeKB4sHjAeNB44HjweQB5EHkgeTB5QHlQeWB5cHmAeZB5oHmwecB50HngefB6AHoQeiB6MHpAelB6YHpweoB6kHqgerB6wHrQeuB68HsAexB7IHswe0B7UHtge3B7gHuQe6B7sHvAe9B74HvwfAB8EHwgfDB8QHxQfGB8cHyAfJB8oHywfMB80HzgfPB9AH0QfSB9MH1AfVB9YH1wfYB9kH2gfbB9wH3QfeB98H4AfhB+IH4wfkBw==",
          "dtype": "i2"
         },
         "xaxis": "x",
         "y": {
          "bdata": "DAwLCwwMDAwMDA0NDQ0NDQ0NDQwNDg4ODw8SFBUWFhoaGhoaGxwcGxkZGRkZGBgYGRobGxoXFxcZGRkZGhoZFxcWFhYWFhYVFRQUFBISExISEREPDw8NDg0KCgoKCgoKCAgICAc=",
          "dtype": "i1"
         },
         "yaxis": "y"
        },
        {
         "hovertemplate": "popularity_type=Semi-trendy<br>Year=%{x}<br>total of names=%{y}<extra></extra>",
         "legendgroup": "Semi-trendy",
         "line": {
          "color": "#00cc96",
          "dash": "solid"
         },
         "marker": {
          "symbol": "circle"
         },
         "mode": "lines",
         "name": "Semi-trendy",
         "orientation": "v",
         "showlegend": true,
         "type": "scatter",
         "x": {
          "bdata": "gAeBB4IHgweEB4UHhgeHB4gHiQeKB4sHjAeNB44HjweQB5EHkgeTB5QHlQeWB5cHmAeZB5oHmwecB50HngefB6AHoQeiB6MHpAelB6YHpweoB6kHqgerB6wHrQeuB68HsAexB7IHswe0B7UHtge3B7gHuQe6B7sHvAe9B74HvwfAB8EHwgfDB8QHxQfGB8cHyAfJB8oHywfMB80HzgfPB9AH0QfSB9MH1AfVB9YH1wfYB9kH2gfbB9wH3QfeB98H4AfhB+IH4wfkBw==",
          "dtype": "i2"
         },
         "xaxis": "x",
         "y": {
          "bdata": "JCckJiglKCwrLS4tMC0wMDIzODo/QURHR0lQWllXWF5bXF1cYWJdXFpWUU9JQ0FAP0NAQTo7Ojk5Ojo6PTs/P0JDRUVJSlRSU1NUUVNRUlRVUExLSkdIRkI/PTo3MzMyLSolJCA=",
          "dtype": "i1"
         },
         "yaxis": "y"
        },
        {
         "hovertemplate": "popularity_type=Trendy<br>Year=%{x}<br>total of names=%{y}<extra></extra>",
         "legendgroup": "Trendy",
         "line": {
          "color": "#ab63fa",
          "dash": "solid"
         },
         "marker": {
          "symbol": "circle"
         },
         "mode": "lines",
         "name": "Trendy",
         "orientation": "v",
         "showlegend": true,
         "type": "scatter",
         "x": {
          "bdata": "gAeBB4IHgweEB4UHhgeHB4gHiQeKB4sHjAeNB44HjweQB5EHkweUB5UHlgeXB5gHmQeaB5sHnAedB54HnwegB6EHogejB6QHpQemB6cHqAepB6oHqwesB60HrgevB7AHsQeyB7MHtAe1B7YHtwe4B7kHuge7B7wHvQe+B78HwAfBB8IHwwfEB8UHxgfHB8gHyQfKB8sHzAfNB84HzwfQB9EH0gfTB9QH1QfWB9cH2AfZB9oH2wfcB90H3gffB+AH4QfiB+MH5Ac=",
          "dtype": "i2"
         },
         "xaxis": "x",
         "y": {
          "bdata": "ISEgISEcHB8bFhMPCgcDAwMCAQECBgYCAQwXEhIRFxgdHCElKC0xMjI1My4hFxYYFxsXFBIVFBQUDw8RERITFBUUFhcVGRwaGhwZGhsZHB0cHiotKTEzNzIyMjI0NTs4Ojk1NA==",
          "dtype": "i1"
         },
         "yaxis": "y"
        }
       ],
       "layout": {
        "legend": {
         "title": {
          "text": "Popularity Type"
         },
         "tracegroupgap": 0
        },
        "template": {
         "data": {
          "bar": [
           {
            "error_x": {
             "color": "#2a3f5f"
            },
            "error_y": {
             "color": "#2a3f5f"
            },
            "marker": {
             "line": {
              "color": "#E5ECF6",
              "width": 0.5
             },
             "pattern": {
              "fillmode": "overlay",
              "size": 10,
              "solidity": 0.2
             }
            },
            "type": "bar"
           }
          ],
          "barpolar": [
           {
            "marker": {
             "line": {
              "color": "#E5ECF6",
              "width": 0.5
             },
             "pattern": {
              "fillmode": "overlay",
              "size": 10,
              "solidity": 0.2
             }
            },
            "type": "barpolar"
           }
          ],
          "carpet": [
           {
            "aaxis": {
             "endlinecolor": "#2a3f5f",
             "gridcolor": "white",
             "linecolor": "white",
             "minorgridcolor": "white",
             "startlinecolor": "#2a3f5f"
            },
            "baxis": {
             "endlinecolor": "#2a3f5f",
             "gridcolor": "white",
             "linecolor": "white",
             "minorgridcolor": "white",
             "startlinecolor": "#2a3f5f"
            },
            "type": "carpet"
           }
          ],
          "choropleth": [
           {
            "colorbar": {
             "outlinewidth": 0,
             "ticks": ""
            },
            "type": "choropleth"
           }
          ],
          "contour": [
           {
            "colorbar": {
             "outlinewidth": 0,
             "ticks": ""
            },
            "colorscale": [
             [
              0,
              "#0d0887"
             ],
             [
              0.1111111111111111,
              "#46039f"
             ],
             [
              0.2222222222222222,
              "#7201a8"
             ],
             [
              0.3333333333333333,
              "#9c179e"
             ],
             [
              0.4444444444444444,
              "#bd3786"
             ],
             [
              0.5555555555555556,
              "#d8576b"
             ],
             [
              0.6666666666666666,
              "#ed7953"
             ],
             [
              0.7777777777777778,
              "#fb9f3a"
             ],
             [
              0.8888888888888888,
              "#fdca26"
             ],
             [
              1,
              "#f0f921"
             ]
            ],
            "type": "contour"
           }
          ],
          "contourcarpet": [
           {
            "colorbar": {
             "outlinewidth": 0,
             "ticks": ""
            },
            "type": "contourcarpet"
           }
          ],
          "heatmap": [
           {
            "colorbar": {
             "outlinewidth": 0,
             "ticks": ""
            },
            "colorscale": [
             [
              0,
              "#0d0887"
             ],
             [
              0.1111111111111111,
              "#46039f"
             ],
             [
              0.2222222222222222,
              "#7201a8"
             ],
             [
              0.3333333333333333,
              "#9c179e"
             ],
             [
              0.4444444444444444,
              "#bd3786"
             ],
             [
              0.5555555555555556,
              "#d8576b"
             ],
             [
              0.6666666666666666,
              "#ed7953"
             ],
             [
              0.7777777777777778,
              "#fb9f3a"
             ],
             [
              0.8888888888888888,
              "#fdca26"
             ],
             [
              1,
              "#f0f921"
             ]
            ],
            "type": "heatmap"
           }
          ],
          "histogram": [
           {
            "marker": {
             "pattern": {
              "fillmode": "overlay",
              "size": 10,
              "solidity": 0.2
             }
            },
            "type": "histogram"
           }
          ],
          "histogram2d": [
           {
            "colorbar": {
             "outlinewidth": 0,
             "ticks": ""
            },
            "colorscale": [
             [
              0,
              "#0d0887"
             ],
             [
              0.1111111111111111,
              "#46039f"
             ],
             [
              0.2222222222222222,
              "#7201a8"
             ],
             [
              0.3333333333333333,
              "#9c179e"
             ],
             [
              0.4444444444444444,
              "#bd3786"
             ],
             [
              0.5555555555555556,
              "#d8576b"
             ],
             [
              0.6666666666666666,
              "#ed7953"
             ],
             [
              0.7777777777777778,
              "#fb9f3a"
             ],
             [
              0.8888888888888888,
              "#fdca26"
             ],
             [
              1,
              "#f0f921"
             ]
            ],
            "type": "histogram2d"
           }
          ],
          "histogram2dcontour": [
           {
            "colorbar": {
             "outlinewidth": 0,
             "ticks": ""
            },
            "colorscale": [
             [
              0,
              "#0d0887"
             ],
             [
              0.1111111111111111,
              "#46039f"
             ],
             [
              0.2222222222222222,
              "#7201a8"
             ],
             [
              0.3333333333333333,
              "#9c179e"
             ],
             [
              0.4444444444444444,
              "#bd3786"
             ],
             [
              0.5555555555555556,
              "#d8576b"
             ],
             [
              0.6666666666666666,
              "#ed7953"
             ],
             [
              0.7777777777777778,
              "#fb9f3a"
             ],
             [
              0.8888888888888888,
              "#fdca26"
             ],
             [
              1,
              "#f0f921"
             ]
            ],
            "type": "histogram2dcontour"
           }
          ],
          "mesh3d": [
           {
            "colorbar": {
             "outlinewidth": 0,
             "ticks": ""
            },
            "type": "mesh3d"
           }
          ],
          "parcoords": [
           {
            "line": {
             "colorbar": {
              "outlinewidth": 0,
              "ticks": ""
             }
            },
            "type": "parcoords"
           }
          ],
          "pie": [
           {
            "automargin": true,
            "type": "pie"
           }
          ],
          "scatter": [
           {
            "fillpattern": {
             "fillmode": "overlay",
             "size": 10,
             "solidity": 0.2
            },
            "type": "scatter"
           }
          ],
          "scatter3d": [
           {
            "line": {
             "colorbar": {
              "outlinewidth": 0,
              "ticks": ""
             }
            },
            "marker": {
             "colorbar": {
              "outlinewidth": 0,
              "ticks": ""
             }
            },
            "type": "scatter3d"
           }
          ],
          "scattercarpet": [
           {
            "marker": {
             "colorbar": {
              "outlinewidth": 0,
              "ticks": ""
             }
            },
            "type": "scattercarpet"
           }
          ],
          "scattergeo": [
           {
            "marker": {
             "colorbar": {
              "outlinewidth": 0,
              "ticks": ""
             }
            },
            "type": "scattergeo"
           }
          ],
          "scattergl": [
           {
            "marker": {
             "colorbar": {
              "outlinewidth": 0,
              "ticks": ""
             }
            },
            "type": "scattergl"
           }
          ],
          "scattermap": [
           {
            "marker": {
             "colorbar": {
              "outlinewidth": 0,
              "ticks": ""
             }
            },
            "type": "scattermap"
           }
          ],
          "scattermapbox": [
           {
            "marker": {
             "colorbar": {
              "outlinewidth": 0,
              "ticks": ""
             }
            },
            "type": "scattermapbox"
           }
          ],
          "scatterpolar": [
           {
            "marker": {
             "colorbar": {
              "outlinewidth": 0,
              "ticks": ""
             }
            },
            "type": "scatterpolar"
           }
          ],
          "scatterpolargl": [
           {
            "marker": {
             "colorbar": {
              "outlinewidth": 0,
              "ticks": ""
             }
            },
            "type": "scatterpolargl"
           }
          ],
          "scatterternary": [
           {
            "marker": {
             "colorbar": {
              "outlinewidth": 0,
              "ticks": ""
             }
            },
            "type": "scatterternary"
           }
          ],
          "surface": [
           {
            "colorbar": {
             "outlinewidth": 0,
             "ticks": ""
            },
            "colorscale": [
             [
              0,
              "#0d0887"
             ],
             [
              0.1111111111111111,
              "#46039f"
             ],
             [
              0.2222222222222222,
              "#7201a8"
             ],
             [
              0.3333333333333333,
              "#9c179e"
             ],
             [
              0.4444444444444444,
              "#bd3786"
             ],
             [
              0.5555555555555556,
              "#d8576b"
             ],
             [
              0.6666666666666666,
              "#ed7953"
             ],
             [
              0.7777777777777778,
              "#fb9f3a"
             ],
             [
              0.8888888888888888,
              "#fdca26"
             ],
             [
              1,
              "#f0f921"
             ]
            ],
            "type": "surface"
           }
          ],
          "table": [
           {
            "cells": {
             "fill": {
              "color": "#EBF0F8"
             },
             "line": {
              "color": "white"
             }
            },
            "header": {
             "fill": {
              "color": "#C8D4E3"
             },
             "line": {
              "color": "white"
             }
            },
            "type": "table"
           }
          ]
         },
         "layout": {
          "annotationdefaults": {
           "arrowcolor": "#2a3f5f",
           "arrowhead": 0,
           "arrowwidth": 1
          },
          "autotypenumbers": "strict",
          "coloraxis": {
           "colorbar": {
            "outlinewidth": 0,
            "ticks": ""
           }
          },
          "colorscale": {
           "diverging": [
            [
             0,
             "#8e0152"
            ],
            [
             0.1,
             "#c51b7d"
            ],
            [
             0.2,
             "#de77ae"
            ],
            [
             0.3,
             "#f1b6da"
            ],
            [
             0.4,
             "#fde0ef"
            ],
            [
             0.5,
             "#f7f7f7"
            ],
            [
             0.6,
             "#e6f5d0"
            ],
            [
             0.7,
             "#b8e186"
            ],
            [
             0.8,
             "#7fbc41"
            ],
            [
             0.9,
             "#4d9221"
            ],
            [
             1,
             "#276419"
            ]
           ],
           "sequential": [
            [
             0,
             "#0d0887"
            ],
            [
             0.1111111111111111,
             "#46039f"
            ],
            [
             0.2222222222222222,
             "#7201a8"
            ],
            [
             0.3333333333333333,
             "#9c179e"
            ],
            [
             0.4444444444444444,
             "#bd3786"
            ],
            [
             0.5555555555555556,
             "#d8576b"
            ],
            [
             0.6666666666666666,
             "#ed7953"
            ],
            [
             0.7777777777777778,
             "#fb9f3a"
            ],
            [
             0.8888888888888888,
             "#fdca26"
            ],
            [
             1,
             "#f0f921"
            ]
           ],
           "sequentialminus": [
            [
             0,
             "#0d0887"
            ],
            [
             0.1111111111111111,
             "#46039f"
            ],
            [
             0.2222222222222222,
             "#7201a8"
            ],
            [
             0.3333333333333333,
             "#9c179e"
            ],
            [
             0.4444444444444444,
             "#bd3786"
            ],
            [
             0.5555555555555556,
             "#d8576b"
            ],
            [
             0.6666666666666666,
             "#ed7953"
            ],
            [
             0.7777777777777778,
             "#fb9f3a"
            ],
            [
             0.8888888888888888,
             "#fdca26"
            ],
            [
             1,
             "#f0f921"
            ]
           ]
          },
          "colorway": [
           "#636efa",
           "#EF553B",
           "#00cc96",
           "#ab63fa",
           "#FFA15A",
           "#19d3f3",
           "#FF6692",
           "#B6E880",
           "#FF97FF",
           "#FECB52"
          ],
          "font": {
           "color": "#2a3f5f"
          },
          "geo": {
           "bgcolor": "white",
           "lakecolor": "white",
           "landcolor": "#E5ECF6",
           "showlakes": true,
           "showland": true,
           "subunitcolor": "white"
          },
          "hoverlabel": {
           "align": "left"
          },
          "hovermode": "closest",
          "mapbox": {
           "style": "light"
          },
          "paper_bgcolor": "white",
          "plot_bgcolor": "#E5ECF6",
          "polar": {
           "angularaxis": {
            "gridcolor": "white",
            "linecolor": "white",
            "ticks": ""
           },
           "bgcolor": "#E5ECF6",
           "radialaxis": {
            "gridcolor": "white",
            "linecolor": "white",
            "ticks": ""
           }
          },
          "scene": {
           "xaxis": {
            "backgroundcolor": "#E5ECF6",
            "gridcolor": "white",
            "gridwidth": 2,
            "linecolor": "white",
            "showbackground": true,
            "ticks": "",
            "zerolinecolor": "white"
           },
           "yaxis": {
            "backgroundcolor": "#E5ECF6",
            "gridcolor": "white",
            "gridwidth": 2,
            "linecolor": "white",
            "showbackground": true,
            "ticks": "",
            "zerolinecolor": "white"
           },
           "zaxis": {
            "backgroundcolor": "#E5ECF6",
            "gridcolor": "white",
            "gridwidth": 2,
            "linecolor": "white",
            "showbackground": true,
            "ticks": "",
            "zerolinecolor": "white"
           }
          },
          "shapedefaults": {
           "line": {
            "color": "#2a3f5f"
           }
          },
          "ternary": {
           "aaxis": {
            "gridcolor": "white",
            "linecolor": "white",
            "ticks": ""
           },
           "baxis": {
            "gridcolor": "white",
            "linecolor": "white",
            "ticks": ""
           },
           "bgcolor": "#E5ECF6",
           "caxis": {
            "gridcolor": "white",
            "linecolor": "white",
            "ticks": ""
           }
          },
          "title": {
           "x": 0.05
          },
          "xaxis": {
           "automargin": true,
           "gridcolor": "white",
           "linecolor": "white",
           "ticks": "",
           "title": {
            "standoff": 15
           },
           "zerolinecolor": "white",
           "zerolinewidth": 2
          },
          "yaxis": {
           "automargin": true,
           "gridcolor": "white",
           "linecolor": "white",
           "ticks": "",
           "title": {
            "standoff": 15
           },
           "zerolinecolor": "white",
           "zerolinewidth": 2
          }
         }
        },
        "title": {
         "text": "Popularity Types Over Years"
        },
        "xaxis": {
         "anchor": "y",
         "domain": [
          0,
          1
         ],
         "title": {
          "text": "Year"
         }
        },
        "yaxis": {
         "anchor": "x",
         "domain": [
          0,
          1
         ],
         "title": {
          "text": "total of names"
         }
        }
       }
      }
     },
     "metadata": {},
     "output_type": "display_data"
    }
   ],
   "source": [
    "# Merge the classification back to the original DataFrame\n",
    "names_with_popularity = names.merge(popular_names[['first_name', 'popularity_type']], on='first_name')\n",
    "# Group by 'year' and 'popularity_type', then count the number of occurrences\n",
    "popularity_over_years = names_with_popularity.groupby(['year', 'popularity_type']).size().reset_index(name='count')\n",
    "# Plot the data using Plotly\n",
    "fig = px.line(popularity_over_years, x='year', y='count', color='popularity_type', \n",
    "              title='Popularity Types Over Years', labels={'year': 'Year', 'count': 'total of names'})\n",
    "# Customize the legend title\n",
    "fig.update_layout(legend_title_text='Popularity Type')\n",
    "\n",
    "# Show the plot\n",
    "fig.show()"
   ]
  },
  {
   "cell_type": "code",
   "execution_count": 49,
   "id": "7caacf45-9958-4cc3-bf23-a10d319ff44b",
   "metadata": {
    "executionCancelledAt": null,
    "executionTime": 303,
    "lastExecutedAt": 1754921958457,
    "lastExecutedByKernel": "35ec5e07-7562-4a59-8301-2db1b0adb100",
    "lastScheduledRunId": null,
    "lastSuccessfullyExecutedCode": "# Define a consistent color map for popularity types\ncolor_map = {\n    'Classic': '#facc5f' ,  # Yellow\n    'Semi-classic': '#43d7a4',  # Green\n    'Semi-trendy': '#4095db',  # Blue\n    'Trendy': '#6568a0'   # purple\n}\n# First chart: Number of Names by Popularity Type\ndf = result['popularity_type'].value_counts().reset_index()\ndf.columns = ['popularity_type', 'count']\nfig1 = px.bar(df,\n              x='popularity_type',\n              y='count',\n              title='Number of Names by Popularity Type',\n              labels={'popularity_type': 'Popularity Type', 'count': 'Number of Names'},\n              color='popularity_type',\n              color_discrete_map=color_map)\nfig1.update_traces(hovertemplate='<b>%{x}</b><br>Number: %{y:,}')\n\n# Second chart: Top 20 Popular Names\ntop_20 = result.sort_values(by='number', ascending=False).head(20)\nfig2 = px.bar(top_20,\n              x='first_name',\n              y='number',\n              color='popularity_type',\n              title='Top 20 Popular Names',\n              labels={'first_name': 'First Name', 'number': 'Number of Occurrences'},\n              hover_data={'popularity_type': True},\n              color_discrete_map=color_map)\nfig2.update_traces(hovertemplate='<b>%{x}</b><br>Number: %{y:,}<br>Popularity: %{customdata[0]}')\n# Third chart: Popularity Types Over Years\nnames_with_popularity = names.merge(popular_names[['first_name', 'popularity_type']], on='first_name')\npopularity_over_years = names_with_popularity.groupby(['year', 'popularity_type']).size().reset_index(name='count')\nfig3 = px.line(popularity_over_years,\n               x='year',\n               y='count',\n               color='popularity_type',\n               title='Popularity Types Over Years',\n               labels={'year': 'Year', 'count': 'Total of Names'},\n               color_discrete_map=color_map)\nfig3.update_layout(legend_title_text='Popularity Type')\n\n# Create subplots\nfig = make_subplots(rows=2, cols=2, subplot_titles=(\"Number of Names by Popularity Type\", \"Top 20 Popular Names\", \"Popularity Types Over Years\"))\n\n# Add the first chart to the first subplot\nfor trace in fig1['data']:\n    fig.add_trace(trace, row=1, col=1)\n\n# Add the second chart to the second subplot\nfor trace in fig2['data']:\n    fig.add_trace(trace, row=1, col=2)\n\n# Add the third chart to the third subplot\nfor trace in fig3['data']:\n    fig.add_trace(trace, row=2, col=1)\n\n# Update layout\nfig.update_layout(title_text=\"Comparison of Popularity Types and Top 20 Names\", showlegend=True, height=800)\n\n# Show the plot\nfig.show()",
    "outputsMetadata": {
     "0": {
      "height": 17,
      "type": "plotly"
     }
    }
   },
   "outputs": [
    {
     "data": {
      "application/vnd.plotly.v1+json": {
       "config": {
        "plotlyServerURL": "https://plot.ly"
       },
       "data": [
        {
         "hovertemplate": "<b>%{x}</b><br>Number: %{y:,}",
         "legendgroup": "Trendy",
         "marker": {
          "color": "#6568a0",
          "pattern": {
           "shape": ""
          }
         },
         "name": "Trendy",
         "orientation": "v",
         "showlegend": true,
         "textposition": "auto",
         "type": "bar",
         "x": [
          "Trendy"
         ],
         "xaxis": "x",
         "y": {
          "bdata": "LQE=",
          "dtype": "i2"
         },
         "yaxis": "y"
        },
        {
         "hovertemplate": "<b>%{x}</b><br>Number: %{y:,}",
         "legendgroup": "Semi-trendy",
         "marker": {
          "color": "#4095db",
          "pattern": {
           "shape": ""
          }
         },
         "name": "Semi-trendy",
         "orientation": "v",
         "showlegend": true,
         "textposition": "auto",
         "type": "bar",
         "x": [
          "Semi-trendy"
         ],
         "xaxis": "x",
         "y": {
          "bdata": "yQA=",
          "dtype": "i2"
         },
         "yaxis": "y"
        },
        {
         "hovertemplate": "<b>%{x}</b><br>Number: %{y:,}",
         "legendgroup": "Semi-classic",
         "marker": {
          "color": "#43d7a4",
          "pattern": {
           "shape": ""
          }
         },
         "name": "Semi-classic",
         "orientation": "v",
         "showlegend": true,
         "textposition": "auto",
         "type": "bar",
         "x": [
          "Semi-classic"
         ],
         "xaxis": "x",
         "y": {
          "bdata": "Hw==",
          "dtype": "i1"
         },
         "yaxis": "y"
        },
        {
         "hovertemplate": "<b>%{x}</b><br>Number: %{y:,}",
         "legendgroup": "Classic",
         "marker": {
          "color": "#facc5f",
          "pattern": {
           "shape": ""
          }
         },
         "name": "Classic",
         "orientation": "v",
         "showlegend": true,
         "textposition": "auto",
         "type": "bar",
         "x": [
          "Classic"
         ],
         "xaxis": "x",
         "y": {
          "bdata": "Dg==",
          "dtype": "i1"
         },
         "yaxis": "y"
        },
        {
         "customdata": [
          [
           "Classic"
          ],
          [
           "Classic"
          ],
          [
           "Classic"
          ],
          [
           "Classic"
          ],
          [
           "Classic"
          ],
          [
           "Classic"
          ],
          [
           "Classic"
          ],
          [
           "Classic"
          ],
          [
           "Classic"
          ],
          [
           "Classic"
          ],
          [
           "Classic"
          ],
          [
           "Classic"
          ],
          [
           "Classic"
          ],
          [
           "Classic"
          ]
         ],
         "hovertemplate": "<b>%{x}</b><br>Number: %{y:,}<br>Popularity: %{customdata[0]}",
         "legendgroup": "Classic",
         "marker": {
          "color": "#facc5f",
          "pattern": {
           "shape": ""
          }
         },
         "name": "Classic",
         "orientation": "v",
         "showlegend": true,
         "textposition": "auto",
         "type": "bar",
         "x": [
          "James",
          "John",
          "Robert",
          "Michael",
          "William",
          "David",
          "Mary",
          "Richard",
          "Joseph",
          "Thomas",
          "Charles",
          "Daniel",
          "Elizabeth",
          "Anthony"
         ],
         "xaxis": "x2",
         "y": {
          "bdata": "anNIAAHURABfl0QAKEpBANgmNwAqfzYA6hExAPbYJAAmCCQAEhAhAGA7IAAS1hsAfuoVAGCDFAA=",
          "dtype": "i4"
         },
         "yaxis": "y2"
        },
        {
         "customdata": [
          [
           "Semi-classic"
          ],
          [
           "Semi-classic"
          ],
          [
           "Semi-classic"
          ],
          [
           "Semi-classic"
          ]
         ],
         "hovertemplate": "<b>%{x}</b><br>Number: %{y:,}<br>Popularity: %{customdata[0]}",
         "legendgroup": "Semi-classic",
         "marker": {
          "color": "#43d7a4",
          "pattern": {
           "shape": ""
          }
         },
         "name": "Semi-classic",
         "orientation": "v",
         "showlegend": true,
         "textposition": "auto",
         "type": "bar",
         "x": [
          "Christopher",
          "Matthew",
          "Patricia",
          "Barbara"
         ],
         "xaxis": "x2",
         "y": {
          "bdata": "eLYeAOTpFwB6lBYAnYEUAA==",
          "dtype": "i4"
         },
         "yaxis": "y2"
        },
        {
         "customdata": [
          [
           "Semi-trendy"
          ],
          [
           "Semi-trendy"
          ]
         ],
         "hovertemplate": "<b>%{x}</b><br>Number: %{y:,}<br>Popularity: %{customdata[0]}",
         "legendgroup": "Semi-trendy",
         "marker": {
          "color": "#4095db",
          "pattern": {
           "shape": ""
          }
         },
         "name": "Semi-trendy",
         "orientation": "v",
         "showlegend": true,
         "textposition": "auto",
         "type": "bar",
         "x": [
          "Jennifer",
          "Linda"
         ],
         "xaxis": "x2",
         "y": {
          "bdata": "R28VAH3EFAA=",
          "dtype": "i4"
         },
         "yaxis": "y2"
        },
        {
         "hovertemplate": "popularity_type=Classic<br>Year=%{x}<br>Total of Names=%{y}<extra></extra>",
         "legendgroup": "Classic",
         "line": {
          "color": "#facc5f",
          "dash": "solid"
         },
         "marker": {
          "symbol": "circle"
         },
         "mode": "lines",
         "name": "Classic",
         "orientation": "v",
         "showlegend": true,
         "type": "scatter",
         "x": {
          "bdata": "gAeBB4IHgweEB4UHhgeHB4gHiQeKB4sHjAeNB44HjweQB5EHkgeTB5QHlQeWB5cHmAeZB5oHmwecB50HngefB6AHoQeiB6MHpAelB6YHpweoB6kHqgerB6wHrQeuB68HsAexB7IHswe0B7UHtge3B7gHuQe6B7sHvAe9B74HvwfAB8EHwgfDB8QHxQfGB8cHyAfJB8oHywfMB80HzgfPB9AH0QfSB9MH1AfVB9YH1wfYB9kH2gfbB9wH3QfeB98H4AfhB+IH4wfkBw==",
          "dtype": "i2"
         },
         "xaxis": "x3",
         "y": {
          "bdata": "CwwMDAwMDAsLCwsLCwsLCwwNDQ0NDg4ODg4ODg4ODg4ODg4ODg4ODg4ODg4ODg4ODg4ODg4ODg4ODg4ODg4ODg4ODg4ODg4ODg4ODg4ODg4ODg4ODAwMDAwMDAwMDAwMDAwMCws=",
          "dtype": "i1"
         },
         "yaxis": "y3"
        },
        {
         "hovertemplate": "popularity_type=Semi-classic<br>Year=%{x}<br>Total of Names=%{y}<extra></extra>",
         "legendgroup": "Semi-classic",
         "line": {
          "color": "#43d7a4",
          "dash": "solid"
         },
         "marker": {
          "symbol": "circle"
         },
         "mode": "lines",
         "name": "Semi-classic",
         "orientation": "v",
         "showlegend": true,
         "type": "scatter",
         "x": {
          "bdata": "gAeBB4IHgweEB4UHhgeHB4gHiQeKB4sHjAeNB44HjweQB5EHkgeTB5QHlQeWB5cHmAeZB5oHmwecB50HngefB6AHoQeiB6MHpAelB6YHpweoB6kHqgerB6wHrQeuB68HsAexB7IHswe0B7UHtge3B7gHuQe6B7sHvAe9B74HvwfAB8EHwgfDB8QHxQfGB8cHyAfJB8oHywfMB80HzgfPB9AH0QfSB9MH1AfVB9YH1wfYB9kH2gfbB9wH3QfeB98H4AfhB+IH4wfkBw==",
          "dtype": "i2"
         },
         "xaxis": "x3",
         "y": {
          "bdata": "DAwLCwwMDAwMDA0NDQ0NDQ0NDQwNDg4ODw8SFBUWFhoaGhoaGxwcGxkZGRkZGBgYGRobGxoXFxcZGRkZGhoZFxcWFhYWFhYVFRQUFBISExISEREPDw8NDg0KCgoKCgoKCAgICAc=",
          "dtype": "i1"
         },
         "yaxis": "y3"
        },
        {
         "hovertemplate": "popularity_type=Semi-trendy<br>Year=%{x}<br>Total of Names=%{y}<extra></extra>",
         "legendgroup": "Semi-trendy",
         "line": {
          "color": "#4095db",
          "dash": "solid"
         },
         "marker": {
          "symbol": "circle"
         },
         "mode": "lines",
         "name": "Semi-trendy",
         "orientation": "v",
         "showlegend": true,
         "type": "scatter",
         "x": {
          "bdata": "gAeBB4IHgweEB4UHhgeHB4gHiQeKB4sHjAeNB44HjweQB5EHkgeTB5QHlQeWB5cHmAeZB5oHmwecB50HngefB6AHoQeiB6MHpAelB6YHpweoB6kHqgerB6wHrQeuB68HsAexB7IHswe0B7UHtge3B7gHuQe6B7sHvAe9B74HvwfAB8EHwgfDB8QHxQfGB8cHyAfJB8oHywfMB80HzgfPB9AH0QfSB9MH1AfVB9YH1wfYB9kH2gfbB9wH3QfeB98H4AfhB+IH4wfkBw==",
          "dtype": "i2"
         },
         "xaxis": "x3",
         "y": {
          "bdata": "JCckJiglKCwrLS4tMC0wMDIzODo/QURHR0lQWllXWF5bXF1cYWJdXFpWUU9JQ0FAP0NAQTo7Ojk5Ojo6PTs/P0JDRUVJSlRSU1NUUVNRUlRVUExLSkdIRkI/PTo3MzMyLSolJCA=",
          "dtype": "i1"
         },
         "yaxis": "y3"
        },
        {
         "hovertemplate": "popularity_type=Trendy<br>Year=%{x}<br>Total of Names=%{y}<extra></extra>",
         "legendgroup": "Trendy",
         "line": {
          "color": "#6568a0",
          "dash": "solid"
         },
         "marker": {
          "symbol": "circle"
         },
         "mode": "lines",
         "name": "Trendy",
         "orientation": "v",
         "showlegend": true,
         "type": "scatter",
         "x": {
          "bdata": "gAeBB4IHgweEB4UHhgeHB4gHiQeKB4sHjAeNB44HjweQB5EHkweUB5UHlgeXB5gHmQeaB5sHnAedB54HnwegB6EHogejB6QHpQemB6cHqAepB6oHqwesB60HrgevB7AHsQeyB7MHtAe1B7YHtwe4B7kHuge7B7wHvQe+B78HwAfBB8IHwwfEB8UHxgfHB8gHyQfKB8sHzAfNB84HzwfQB9EH0gfTB9QH1QfWB9cH2AfZB9oH2wfcB90H3gffB+AH4QfiB+MH5Ac=",
          "dtype": "i2"
         },
         "xaxis": "x3",
         "y": {
          "bdata": "ISEgISEcHB8bFhMPCgcDAwMCAQECBgYCAQwXEhIRFxgdHCElKC0xMjI1My4hFxYYFxsXFBIVFBQUDw8RERITFBUUFhcVGRwaGhwZGhsZHB0cHiotKTEzNzIyMjI0NTs4Ojk1NA==",
          "dtype": "i1"
         },
         "yaxis": "y3"
        }
       ],
       "layout": {
        "annotations": [
         {
          "font": {
           "size": 16
          },
          "showarrow": false,
          "text": "Number of Names by Popularity Type",
          "x": 0.225,
          "xanchor": "center",
          "xref": "paper",
          "y": 1,
          "yanchor": "bottom",
          "yref": "paper"
         },
         {
          "font": {
           "size": 16
          },
          "showarrow": false,
          "text": "Top 20 Popular Names",
          "x": 0.775,
          "xanchor": "center",
          "xref": "paper",
          "y": 1,
          "yanchor": "bottom",
          "yref": "paper"
         },
         {
          "font": {
           "size": 16
          },
          "showarrow": false,
          "text": "Popularity Types Over Years",
          "x": 0.225,
          "xanchor": "center",
          "xref": "paper",
          "y": 0.375,
          "yanchor": "bottom",
          "yref": "paper"
         }
        ],
        "height": 800,
        "showlegend": true,
        "template": {
         "data": {
          "bar": [
           {
            "error_x": {
             "color": "#2a3f5f"
            },
            "error_y": {
             "color": "#2a3f5f"
            },
            "marker": {
             "line": {
              "color": "#E5ECF6",
              "width": 0.5
             },
             "pattern": {
              "fillmode": "overlay",
              "size": 10,
              "solidity": 0.2
             }
            },
            "type": "bar"
           }
          ],
          "barpolar": [
           {
            "marker": {
             "line": {
              "color": "#E5ECF6",
              "width": 0.5
             },
             "pattern": {
              "fillmode": "overlay",
              "size": 10,
              "solidity": 0.2
             }
            },
            "type": "barpolar"
           }
          ],
          "carpet": [
           {
            "aaxis": {
             "endlinecolor": "#2a3f5f",
             "gridcolor": "white",
             "linecolor": "white",
             "minorgridcolor": "white",
             "startlinecolor": "#2a3f5f"
            },
            "baxis": {
             "endlinecolor": "#2a3f5f",
             "gridcolor": "white",
             "linecolor": "white",
             "minorgridcolor": "white",
             "startlinecolor": "#2a3f5f"
            },
            "type": "carpet"
           }
          ],
          "choropleth": [
           {
            "colorbar": {
             "outlinewidth": 0,
             "ticks": ""
            },
            "type": "choropleth"
           }
          ],
          "contour": [
           {
            "colorbar": {
             "outlinewidth": 0,
             "ticks": ""
            },
            "colorscale": [
             [
              0,
              "#0d0887"
             ],
             [
              0.1111111111111111,
              "#46039f"
             ],
             [
              0.2222222222222222,
              "#7201a8"
             ],
             [
              0.3333333333333333,
              "#9c179e"
             ],
             [
              0.4444444444444444,
              "#bd3786"
             ],
             [
              0.5555555555555556,
              "#d8576b"
             ],
             [
              0.6666666666666666,
              "#ed7953"
             ],
             [
              0.7777777777777778,
              "#fb9f3a"
             ],
             [
              0.8888888888888888,
              "#fdca26"
             ],
             [
              1,
              "#f0f921"
             ]
            ],
            "type": "contour"
           }
          ],
          "contourcarpet": [
           {
            "colorbar": {
             "outlinewidth": 0,
             "ticks": ""
            },
            "type": "contourcarpet"
           }
          ],
          "heatmap": [
           {
            "colorbar": {
             "outlinewidth": 0,
             "ticks": ""
            },
            "colorscale": [
             [
              0,
              "#0d0887"
             ],
             [
              0.1111111111111111,
              "#46039f"
             ],
             [
              0.2222222222222222,
              "#7201a8"
             ],
             [
              0.3333333333333333,
              "#9c179e"
             ],
             [
              0.4444444444444444,
              "#bd3786"
             ],
             [
              0.5555555555555556,
              "#d8576b"
             ],
             [
              0.6666666666666666,
              "#ed7953"
             ],
             [
              0.7777777777777778,
              "#fb9f3a"
             ],
             [
              0.8888888888888888,
              "#fdca26"
             ],
             [
              1,
              "#f0f921"
             ]
            ],
            "type": "heatmap"
           }
          ],
          "histogram": [
           {
            "marker": {
             "pattern": {
              "fillmode": "overlay",
              "size": 10,
              "solidity": 0.2
             }
            },
            "type": "histogram"
           }
          ],
          "histogram2d": [
           {
            "colorbar": {
             "outlinewidth": 0,
             "ticks": ""
            },
            "colorscale": [
             [
              0,
              "#0d0887"
             ],
             [
              0.1111111111111111,
              "#46039f"
             ],
             [
              0.2222222222222222,
              "#7201a8"
             ],
             [
              0.3333333333333333,
              "#9c179e"
             ],
             [
              0.4444444444444444,
              "#bd3786"
             ],
             [
              0.5555555555555556,
              "#d8576b"
             ],
             [
              0.6666666666666666,
              "#ed7953"
             ],
             [
              0.7777777777777778,
              "#fb9f3a"
             ],
             [
              0.8888888888888888,
              "#fdca26"
             ],
             [
              1,
              "#f0f921"
             ]
            ],
            "type": "histogram2d"
           }
          ],
          "histogram2dcontour": [
           {
            "colorbar": {
             "outlinewidth": 0,
             "ticks": ""
            },
            "colorscale": [
             [
              0,
              "#0d0887"
             ],
             [
              0.1111111111111111,
              "#46039f"
             ],
             [
              0.2222222222222222,
              "#7201a8"
             ],
             [
              0.3333333333333333,
              "#9c179e"
             ],
             [
              0.4444444444444444,
              "#bd3786"
             ],
             [
              0.5555555555555556,
              "#d8576b"
             ],
             [
              0.6666666666666666,
              "#ed7953"
             ],
             [
              0.7777777777777778,
              "#fb9f3a"
             ],
             [
              0.8888888888888888,
              "#fdca26"
             ],
             [
              1,
              "#f0f921"
             ]
            ],
            "type": "histogram2dcontour"
           }
          ],
          "mesh3d": [
           {
            "colorbar": {
             "outlinewidth": 0,
             "ticks": ""
            },
            "type": "mesh3d"
           }
          ],
          "parcoords": [
           {
            "line": {
             "colorbar": {
              "outlinewidth": 0,
              "ticks": ""
             }
            },
            "type": "parcoords"
           }
          ],
          "pie": [
           {
            "automargin": true,
            "type": "pie"
           }
          ],
          "scatter": [
           {
            "fillpattern": {
             "fillmode": "overlay",
             "size": 10,
             "solidity": 0.2
            },
            "type": "scatter"
           }
          ],
          "scatter3d": [
           {
            "line": {
             "colorbar": {
              "outlinewidth": 0,
              "ticks": ""
             }
            },
            "marker": {
             "colorbar": {
              "outlinewidth": 0,
              "ticks": ""
             }
            },
            "type": "scatter3d"
           }
          ],
          "scattercarpet": [
           {
            "marker": {
             "colorbar": {
              "outlinewidth": 0,
              "ticks": ""
             }
            },
            "type": "scattercarpet"
           }
          ],
          "scattergeo": [
           {
            "marker": {
             "colorbar": {
              "outlinewidth": 0,
              "ticks": ""
             }
            },
            "type": "scattergeo"
           }
          ],
          "scattergl": [
           {
            "marker": {
             "colorbar": {
              "outlinewidth": 0,
              "ticks": ""
             }
            },
            "type": "scattergl"
           }
          ],
          "scattermap": [
           {
            "marker": {
             "colorbar": {
              "outlinewidth": 0,
              "ticks": ""
             }
            },
            "type": "scattermap"
           }
          ],
          "scattermapbox": [
           {
            "marker": {
             "colorbar": {
              "outlinewidth": 0,
              "ticks": ""
             }
            },
            "type": "scattermapbox"
           }
          ],
          "scatterpolar": [
           {
            "marker": {
             "colorbar": {
              "outlinewidth": 0,
              "ticks": ""
             }
            },
            "type": "scatterpolar"
           }
          ],
          "scatterpolargl": [
           {
            "marker": {
             "colorbar": {
              "outlinewidth": 0,
              "ticks": ""
             }
            },
            "type": "scatterpolargl"
           }
          ],
          "scatterternary": [
           {
            "marker": {
             "colorbar": {
              "outlinewidth": 0,
              "ticks": ""
             }
            },
            "type": "scatterternary"
           }
          ],
          "surface": [
           {
            "colorbar": {
             "outlinewidth": 0,
             "ticks": ""
            },
            "colorscale": [
             [
              0,
              "#0d0887"
             ],
             [
              0.1111111111111111,
              "#46039f"
             ],
             [
              0.2222222222222222,
              "#7201a8"
             ],
             [
              0.3333333333333333,
              "#9c179e"
             ],
             [
              0.4444444444444444,
              "#bd3786"
             ],
             [
              0.5555555555555556,
              "#d8576b"
             ],
             [
              0.6666666666666666,
              "#ed7953"
             ],
             [
              0.7777777777777778,
              "#fb9f3a"
             ],
             [
              0.8888888888888888,
              "#fdca26"
             ],
             [
              1,
              "#f0f921"
             ]
            ],
            "type": "surface"
           }
          ],
          "table": [
           {
            "cells": {
             "fill": {
              "color": "#EBF0F8"
             },
             "line": {
              "color": "white"
             }
            },
            "header": {
             "fill": {
              "color": "#C8D4E3"
             },
             "line": {
              "color": "white"
             }
            },
            "type": "table"
           }
          ]
         },
         "layout": {
          "annotationdefaults": {
           "arrowcolor": "#2a3f5f",
           "arrowhead": 0,
           "arrowwidth": 1
          },
          "autotypenumbers": "strict",
          "coloraxis": {
           "colorbar": {
            "outlinewidth": 0,
            "ticks": ""
           }
          },
          "colorscale": {
           "diverging": [
            [
             0,
             "#8e0152"
            ],
            [
             0.1,
             "#c51b7d"
            ],
            [
             0.2,
             "#de77ae"
            ],
            [
             0.3,
             "#f1b6da"
            ],
            [
             0.4,
             "#fde0ef"
            ],
            [
             0.5,
             "#f7f7f7"
            ],
            [
             0.6,
             "#e6f5d0"
            ],
            [
             0.7,
             "#b8e186"
            ],
            [
             0.8,
             "#7fbc41"
            ],
            [
             0.9,
             "#4d9221"
            ],
            [
             1,
             "#276419"
            ]
           ],
           "sequential": [
            [
             0,
             "#0d0887"
            ],
            [
             0.1111111111111111,
             "#46039f"
            ],
            [
             0.2222222222222222,
             "#7201a8"
            ],
            [
             0.3333333333333333,
             "#9c179e"
            ],
            [
             0.4444444444444444,
             "#bd3786"
            ],
            [
             0.5555555555555556,
             "#d8576b"
            ],
            [
             0.6666666666666666,
             "#ed7953"
            ],
            [
             0.7777777777777778,
             "#fb9f3a"
            ],
            [
             0.8888888888888888,
             "#fdca26"
            ],
            [
             1,
             "#f0f921"
            ]
           ],
           "sequentialminus": [
            [
             0,
             "#0d0887"
            ],
            [
             0.1111111111111111,
             "#46039f"
            ],
            [
             0.2222222222222222,
             "#7201a8"
            ],
            [
             0.3333333333333333,
             "#9c179e"
            ],
            [
             0.4444444444444444,
             "#bd3786"
            ],
            [
             0.5555555555555556,
             "#d8576b"
            ],
            [
             0.6666666666666666,
             "#ed7953"
            ],
            [
             0.7777777777777778,
             "#fb9f3a"
            ],
            [
             0.8888888888888888,
             "#fdca26"
            ],
            [
             1,
             "#f0f921"
            ]
           ]
          },
          "colorway": [
           "#636efa",
           "#EF553B",
           "#00cc96",
           "#ab63fa",
           "#FFA15A",
           "#19d3f3",
           "#FF6692",
           "#B6E880",
           "#FF97FF",
           "#FECB52"
          ],
          "font": {
           "color": "#2a3f5f"
          },
          "geo": {
           "bgcolor": "white",
           "lakecolor": "white",
           "landcolor": "#E5ECF6",
           "showlakes": true,
           "showland": true,
           "subunitcolor": "white"
          },
          "hoverlabel": {
           "align": "left"
          },
          "hovermode": "closest",
          "mapbox": {
           "style": "light"
          },
          "paper_bgcolor": "white",
          "plot_bgcolor": "#E5ECF6",
          "polar": {
           "angularaxis": {
            "gridcolor": "white",
            "linecolor": "white",
            "ticks": ""
           },
           "bgcolor": "#E5ECF6",
           "radialaxis": {
            "gridcolor": "white",
            "linecolor": "white",
            "ticks": ""
           }
          },
          "scene": {
           "xaxis": {
            "backgroundcolor": "#E5ECF6",
            "gridcolor": "white",
            "gridwidth": 2,
            "linecolor": "white",
            "showbackground": true,
            "ticks": "",
            "zerolinecolor": "white"
           },
           "yaxis": {
            "backgroundcolor": "#E5ECF6",
            "gridcolor": "white",
            "gridwidth": 2,
            "linecolor": "white",
            "showbackground": true,
            "ticks": "",
            "zerolinecolor": "white"
           },
           "zaxis": {
            "backgroundcolor": "#E5ECF6",
            "gridcolor": "white",
            "gridwidth": 2,
            "linecolor": "white",
            "showbackground": true,
            "ticks": "",
            "zerolinecolor": "white"
           }
          },
          "shapedefaults": {
           "line": {
            "color": "#2a3f5f"
           }
          },
          "ternary": {
           "aaxis": {
            "gridcolor": "white",
            "linecolor": "white",
            "ticks": ""
           },
           "baxis": {
            "gridcolor": "white",
            "linecolor": "white",
            "ticks": ""
           },
           "bgcolor": "#E5ECF6",
           "caxis": {
            "gridcolor": "white",
            "linecolor": "white",
            "ticks": ""
           }
          },
          "title": {
           "x": 0.05
          },
          "xaxis": {
           "automargin": true,
           "gridcolor": "white",
           "linecolor": "white",
           "ticks": "",
           "title": {
            "standoff": 15
           },
           "zerolinecolor": "white",
           "zerolinewidth": 2
          },
          "yaxis": {
           "automargin": true,
           "gridcolor": "white",
           "linecolor": "white",
           "ticks": "",
           "title": {
            "standoff": 15
           },
           "zerolinecolor": "white",
           "zerolinewidth": 2
          }
         }
        },
        "title": {
         "text": "Comparison of Popularity Types and Top 20 Names"
        },
        "xaxis": {
         "anchor": "y",
         "domain": [
          0,
          0.45
         ]
        },
        "xaxis2": {
         "anchor": "y2",
         "domain": [
          0.55,
          1
         ]
        },
        "xaxis3": {
         "anchor": "y3",
         "domain": [
          0,
          0.45
         ]
        },
        "xaxis4": {
         "anchor": "y4",
         "domain": [
          0.55,
          1
         ]
        },
        "yaxis": {
         "anchor": "x",
         "domain": [
          0.625,
          1
         ]
        },
        "yaxis2": {
         "anchor": "x2",
         "domain": [
          0.625,
          1
         ]
        },
        "yaxis3": {
         "anchor": "x3",
         "domain": [
          0,
          0.375
         ]
        },
        "yaxis4": {
         "anchor": "x4",
         "domain": [
          0,
          0.375
         ]
        }
       }
      }
     },
     "metadata": {},
     "output_type": "display_data"
    }
   ],
   "source": [
    "# Define a consistent color map for popularity types\n",
    "color_map = {\n",
    "    'Classic': '#facc5f' ,  # Yellow\n",
    "    'Semi-classic': '#43d7a4',  # Green\n",
    "    'Semi-trendy': '#4095db',  # Blue\n",
    "    'Trendy': '#6568a0'   # purple\n",
    "}\n",
    "# First chart: Number of Names by Popularity Type\n",
    "df = result['popularity_type'].value_counts().reset_index()\n",
    "df.columns = ['popularity_type', 'count']\n",
    "fig1 = px.bar(df,\n",
    "              x='popularity_type',\n",
    "              y='count',\n",
    "              title='Number of Names by Popularity Type',\n",
    "              labels={'popularity_type': 'Popularity Type', 'count': 'Number of Names'},\n",
    "              color='popularity_type',\n",
    "              color_discrete_map=color_map)\n",
    "fig1.update_traces(hovertemplate='<b>%{x}</b><br>Number: %{y:,}')\n",
    "\n",
    "# Second chart: Top 20 Popular Names\n",
    "top_20 = result.sort_values(by='number', ascending=False).head(20)\n",
    "fig2 = px.bar(top_20,\n",
    "              x='first_name',\n",
    "              y='number',\n",
    "              color='popularity_type',\n",
    "              title='Top 20 Popular Names',\n",
    "              labels={'first_name': 'First Name', 'number': 'Number of Occurrences'},\n",
    "              hover_data={'popularity_type': True},\n",
    "              color_discrete_map=color_map)\n",
    "fig2.update_traces(hovertemplate='<b>%{x}</b><br>Number: %{y:,}<br>Popularity: %{customdata[0]}')\n",
    "# Third chart: Popularity Types Over Years\n",
    "names_with_popularity = names.merge(popular_names[['first_name', 'popularity_type']], on='first_name')\n",
    "popularity_over_years = names_with_popularity.groupby(['year', 'popularity_type']).size().reset_index(name='count')\n",
    "fig3 = px.line(popularity_over_years,\n",
    "               x='year',\n",
    "               y='count',\n",
    "               color='popularity_type',\n",
    "               title='Popularity Types Over Years',\n",
    "               labels={'year': 'Year', 'count': 'Total of Names'},\n",
    "               color_discrete_map=color_map)\n",
    "fig3.update_layout(legend_title_text='Popularity Type')\n",
    "\n",
    "# Create subplots\n",
    "fig = make_subplots(rows=2, cols=2, subplot_titles=(\"Number of Names by Popularity Type\", \"Top 20 Popular Names\", \"Popularity Types Over Years\"))\n",
    "\n",
    "# Add the first chart to the first subplot\n",
    "for trace in fig1['data']:\n",
    "    fig.add_trace(trace, row=1, col=1)\n",
    "\n",
    "# Add the second chart to the second subplot\n",
    "for trace in fig2['data']:\n",
    "    fig.add_trace(trace, row=1, col=2)\n",
    "\n",
    "# Add the third chart to the third subplot\n",
    "for trace in fig3['data']:\n",
    "    fig.add_trace(trace, row=2, col=1)\n",
    "\n",
    "# Update layout\n",
    "fig.update_layout(title_text=\"Comparison of Popularity Types and Top 20 Names\", showlegend=True, height=800)\n",
    "\n",
    "# Show the plot\n",
    "fig.show()"
   ]
  },
  {
   "cell_type": "code",
   "execution_count": 50,
   "id": "fd80d634-8235-494e-ae6a-68495a9e463e",
   "metadata": {
    "executionCancelledAt": null,
    "executionTime": 1088,
    "lastExecutedAt": 1754921607932,
    "lastExecutedByKernel": "35ec5e07-7562-4a59-8301-2db1b0adb100",
    "lastScheduledRunId": null,
    "lastSuccessfullyExecutedCode": "# Assuming 'all_years' is a set of all possible years in the dataset\nall_years = set(names['year'].unique())\n\n# Function to find missing years for each name\ndef find_missing_years(name):\n    name_years = set(names[names['first_name'] == name]['year'].unique())\n    missing_years = all_years - name_years\n    return sorted(missing_years)\n\n# Function to find the first year each name appears\ndef find_first_year(name):\n    name_years = names[names['first_name'] == name]['year']\n    if not name_years.empty:\n        return name_years.min()\n    return None\n\n# Create a DataFrame to store the missing years and first year for each name by popularity type\nresults = []\nfor popularity_type in popular_names['popularity_type'].unique():\n    type_names = popular_names[popular_names['popularity_type'] == popularity_type]\n    missing_years_df = pd.DataFrame({\n        'first_name': type_names['first_name'],\n        'popularity_type': popularity_type,\n        'missing_years': type_names['first_name'].apply(find_missing_years),\n        'first_year': type_names['first_name'].apply(find_first_year)\n    })\n    missing_years_df['missing_count'] = missing_years_df['missing_years'].apply(len)\n    results.append(missing_years_df)\n\n# Concatenate all results into a single DataFrame\nall_missing_years_df = pd.concat(results)\n\n# Display the full results for all popularity types\nall_missing_years_df[['first_name', 'popularity_type', 'first_year', 'missing_count']].sort_values(by=['popularity_type', 'missing_count'], ascending=[True, False])",
    "outputsMetadata": {
     "0": {
      "height": 550,
      "tableState": {
       "customFilter": {
        "const": {
         "type": "boolean",
         "valid": true,
         "value": true
        },
        "id": "8a9eeca6-17d6-449b-ab13-c53b30b399b5",
        "nodeType": "const"
       },
       "quickFilterText": ""
      },
      "type": "dataFrame"
     }
    }
   },
   "outputs": [
    {
     "data": {
      "text/html": [
       "<div>\n",
       "<style scoped>\n",
       "    .dataframe tbody tr th:only-of-type {\n",
       "        vertical-align: middle;\n",
       "    }\n",
       "\n",
       "    .dataframe tbody tr th {\n",
       "        vertical-align: top;\n",
       "    }\n",
       "\n",
       "    .dataframe thead th {\n",
       "        text-align: right;\n",
       "    }\n",
       "</style>\n",
       "<table border=\"1\" class=\"dataframe\">\n",
       "  <thead>\n",
       "    <tr style=\"text-align: right;\">\n",
       "      <th></th>\n",
       "      <th>first_name</th>\n",
       "      <th>popularity_type</th>\n",
       "      <th>first_year</th>\n",
       "      <th>missing_count</th>\n",
       "    </tr>\n",
       "  </thead>\n",
       "  <tbody>\n",
       "    <tr>\n",
       "      <th>138</th>\n",
       "      <td>Daniel</td>\n",
       "      <td>Classic</td>\n",
       "      <td>1937</td>\n",
       "      <td>17</td>\n",
       "    </tr>\n",
       "    <tr>\n",
       "      <th>379</th>\n",
       "      <td>Mary</td>\n",
       "      <td>Classic</td>\n",
       "      <td>1920</td>\n",
       "      <td>17</td>\n",
       "    </tr>\n",
       "    <tr>\n",
       "      <th>442</th>\n",
       "      <td>Richard</td>\n",
       "      <td>Classic</td>\n",
       "      <td>1920</td>\n",
       "      <td>17</td>\n",
       "    </tr>\n",
       "    <tr>\n",
       "      <th>389</th>\n",
       "      <td>Michael</td>\n",
       "      <td>Classic</td>\n",
       "      <td>1936</td>\n",
       "      <td>16</td>\n",
       "    </tr>\n",
       "    <tr>\n",
       "      <th>37</th>\n",
       "      <td>Anthony</td>\n",
       "      <td>Classic</td>\n",
       "      <td>1921</td>\n",
       "      <td>15</td>\n",
       "    </tr>\n",
       "    <tr>\n",
       "      <th>...</th>\n",
       "      <td>...</td>\n",
       "      <td>...</td>\n",
       "      <td>...</td>\n",
       "      <td>...</td>\n",
       "    </tr>\n",
       "    <tr>\n",
       "      <th>140</th>\n",
       "      <td>Danny</td>\n",
       "      <td>Trendy</td>\n",
       "      <td>1946</td>\n",
       "      <td>81</td>\n",
       "    </tr>\n",
       "    <tr>\n",
       "      <th>436</th>\n",
       "      <td>Randy</td>\n",
       "      <td>Trendy</td>\n",
       "      <td>1951</td>\n",
       "      <td>81</td>\n",
       "    </tr>\n",
       "    <tr>\n",
       "      <th>448</th>\n",
       "      <td>Robin</td>\n",
       "      <td>Trendy</td>\n",
       "      <td>1953</td>\n",
       "      <td>81</td>\n",
       "    </tr>\n",
       "    <tr>\n",
       "      <th>499</th>\n",
       "      <td>Tammy</td>\n",
       "      <td>Trendy</td>\n",
       "      <td>1958</td>\n",
       "      <td>81</td>\n",
       "    </tr>\n",
       "    <tr>\n",
       "      <th>519</th>\n",
       "      <td>Tracy</td>\n",
       "      <td>Trendy</td>\n",
       "      <td>1960</td>\n",
       "      <td>81</td>\n",
       "    </tr>\n",
       "  </tbody>\n",
       "</table>\n",
       "<p>547 rows × 4 columns</p>\n",
       "</div>"
      ],
      "text/plain": [
       "    first_name popularity_type  first_year  missing_count\n",
       "138     Daniel         Classic        1937             17\n",
       "379       Mary         Classic        1920             17\n",
       "442    Richard         Classic        1920             17\n",
       "389    Michael         Classic        1936             16\n",
       "37     Anthony         Classic        1921             15\n",
       "..         ...             ...         ...            ...\n",
       "140      Danny          Trendy        1946             81\n",
       "436      Randy          Trendy        1951             81\n",
       "448      Robin          Trendy        1953             81\n",
       "499      Tammy          Trendy        1958             81\n",
       "519      Tracy          Trendy        1960             81\n",
       "\n",
       "[547 rows x 4 columns]"
      ]
     },
     "execution_count": 50,
     "metadata": {},
     "output_type": "execute_result"
    }
   ],
   "source": [
    "# Assuming 'all_years' is a set of all possible years in the dataset\n",
    "all_years = set(names['year'].unique())\n",
    "\n",
    "# Function to find missing years for each name\n",
    "def find_missing_years(name):\n",
    "    name_years = set(names[names['first_name'] == name]['year'].unique())\n",
    "    missing_years = all_years - name_years\n",
    "    return sorted(missing_years)\n",
    "\n",
    "# Function to find the first year each name appears\n",
    "def find_first_year(name):\n",
    "    name_years = names[names['first_name'] == name]['year']\n",
    "    if not name_years.empty:\n",
    "        return name_years.min()\n",
    "    return None\n",
    "\n",
    "# Create a DataFrame to store the missing years and first year for each name by popularity type\n",
    "results = []\n",
    "for popularity_type in popular_names['popularity_type'].unique():\n",
    "    type_names = popular_names[popular_names['popularity_type'] == popularity_type]\n",
    "    missing_years_df = pd.DataFrame({\n",
    "        'first_name': type_names['first_name'],\n",
    "        'popularity_type': popularity_type,\n",
    "        'missing_years': type_names['first_name'].apply(find_missing_years),\n",
    "        'first_year': type_names['first_name'].apply(find_first_year)\n",
    "    })\n",
    "    missing_years_df['missing_count'] = missing_years_df['missing_years'].apply(len)\n",
    "    results.append(missing_years_df)\n",
    "\n",
    "# Concatenate all results into a single DataFrame\n",
    "all_missing_years_df = pd.concat(results)\n",
    "\n",
    "# Display the full results for all popularity types\n",
    "all_missing_years_df[['first_name', 'popularity_type', 'first_year', 'missing_count']].sort_values(by=['popularity_type', 'missing_count'], ascending=[True, False])"
   ]
  },
  {
   "cell_type": "markdown",
   "id": "c3efedbf-2458-41b8-a1aa-3c41d55ef74f",
   "metadata": {},
   "source": [
    "The analysis of names across different popularity types revealed that:\n",
    "- \"Classic\" names like Daniel, Mary, and Richard have minimal missing years, indicating their consistent popularity over time. \n",
    "- \"Classic\" names like Charles, David , Elisabeth, James have been present during all 100 years ( 1920 - 2020) \n",
    "- \"Trendy\" names such as Dillon, Ariana, and Ariel have significant gaps, with many missing for 100 out of the 101 years, reflecting their sporadic popularity. \n",
    "This suggests that \"Classic\" names tend to have a more stable presence, while \"Trendy\" names experience fluctuating popularity.\n"
   ]
  },
  {
   "cell_type": "code",
   "execution_count": 51,
   "id": "128a4313-6306-46a1-9364-e4b3a262f122",
   "metadata": {
    "executionCancelledAt": null,
    "executionTime": 48,
    "lastExecutedAt": 1754921958505,
    "lastExecutedByKernel": "35ec5e07-7562-4a59-8301-2db1b0adb100",
    "lastScheduledRunId": null,
    "lastSuccessfullyExecutedCode": "# Filter the names dataframe to include only female names\nfemale_names = names[names['sex'] == 'F']\n\n# Group by first_name and sum the occurrences\nfemale_name_counts = female_names.groupby('first_name')['num'].sum().reset_index()\n\n# Sort the names by the number of occurrences in descending order\ntop_female_names = female_name_counts.sort_values(by='num', ascending=False)\n\n# Display the top-ranked female names\ntop_female_names.head(10)",
    "outputsMetadata": {
     "0": {
      "height": 50,
      "tableState": {
       "customFilter": {
        "const": {
         "type": "boolean",
         "valid": true,
         "value": true
        },
        "id": "8a9eeca6-17d6-449b-ab13-c53b30b399b5",
        "nodeType": "const"
       },
       "quickFilterText": ""
      },
      "type": "dataFrame"
     }
    }
   },
   "outputs": [
    {
     "data": {
      "text/html": [
       "<div>\n",
       "<style scoped>\n",
       "    .dataframe tbody tr th:only-of-type {\n",
       "        vertical-align: middle;\n",
       "    }\n",
       "\n",
       "    .dataframe tbody tr th {\n",
       "        vertical-align: top;\n",
       "    }\n",
       "\n",
       "    .dataframe thead th {\n",
       "        text-align: right;\n",
       "    }\n",
       "</style>\n",
       "<table border=\"1\" class=\"dataframe\">\n",
       "  <thead>\n",
       "    <tr style=\"text-align: right;\">\n",
       "      <th></th>\n",
       "      <th>first_name</th>\n",
       "      <th>num</th>\n",
       "    </tr>\n",
       "  </thead>\n",
       "  <tbody>\n",
       "    <tr>\n",
       "      <th>213</th>\n",
       "      <td>Mary</td>\n",
       "      <td>3215850</td>\n",
       "    </tr>\n",
       "    <tr>\n",
       "      <th>237</th>\n",
       "      <td>Patricia</td>\n",
       "      <td>1479802</td>\n",
       "    </tr>\n",
       "    <tr>\n",
       "      <th>97</th>\n",
       "      <td>Elizabeth</td>\n",
       "      <td>1436286</td>\n",
       "    </tr>\n",
       "    <tr>\n",
       "      <th>140</th>\n",
       "      <td>Jennifer</td>\n",
       "      <td>1404743</td>\n",
       "    </tr>\n",
       "    <tr>\n",
       "      <th>186</th>\n",
       "      <td>Linda</td>\n",
       "      <td>1361021</td>\n",
       "    </tr>\n",
       "    <tr>\n",
       "      <th>36</th>\n",
       "      <td>Barbara</td>\n",
       "      <td>1343901</td>\n",
       "    </tr>\n",
       "    <tr>\n",
       "      <th>280</th>\n",
       "      <td>Susan</td>\n",
       "      <td>1025728</td>\n",
       "    </tr>\n",
       "    <tr>\n",
       "      <th>141</th>\n",
       "      <td>Jessica</td>\n",
       "      <td>994210</td>\n",
       "    </tr>\n",
       "    <tr>\n",
       "      <th>189</th>\n",
       "      <td>Lisa</td>\n",
       "      <td>920119</td>\n",
       "    </tr>\n",
       "    <tr>\n",
       "      <th>41</th>\n",
       "      <td>Betty</td>\n",
       "      <td>893396</td>\n",
       "    </tr>\n",
       "  </tbody>\n",
       "</table>\n",
       "</div>"
      ],
      "text/plain": [
       "    first_name      num\n",
       "213       Mary  3215850\n",
       "237   Patricia  1479802\n",
       "97   Elizabeth  1436286\n",
       "140   Jennifer  1404743\n",
       "186      Linda  1361021\n",
       "36     Barbara  1343901\n",
       "280      Susan  1025728\n",
       "141    Jessica   994210\n",
       "189       Lisa   920119\n",
       "41       Betty   893396"
      ]
     },
     "execution_count": 51,
     "metadata": {},
     "output_type": "execute_result"
    }
   ],
   "source": [
    "# Filter the names dataframe to include only female names\n",
    "female_names = names[names['sex'] == 'F']\n",
    "\n",
    "# Group by first_name and sum the occurrences\n",
    "female_name_counts = female_names.groupby('first_name')['num'].sum().reset_index()\n",
    "\n",
    "# Sort the names by the number of occurrences in descending order\n",
    "top_female_names = female_name_counts.sort_values(by='num', ascending=False)\n",
    "\n",
    "# Display the top-ranked female names\n",
    "top_female_names.head(10)"
   ]
  },
  {
   "cell_type": "markdown",
   "id": "1bd83a6a-bef0-47a6-9b2d-a27a6758e8a4",
   "metadata": {},
   "source": [
    "For the periode of 1920 - 2020 :\n",
    "The 5 higher number of female names are : 'Mary', 'Patricia', 'Elizabeth', 'Jennifer', 'Linda'"
   ]
  },
  {
   "cell_type": "code",
   "execution_count": 52,
   "id": "d886e3cc-d162-404a-9170-5d46018c9d89",
   "metadata": {
    "executionCancelledAt": null,
    "executionTime": 49,
    "lastExecutedAt": 1754921608030,
    "lastExecutedByKernel": "35ec5e07-7562-4a59-8301-2db1b0adb100",
    "lastScheduledRunId": null,
    "lastSuccessfullyExecutedCode": "# Get the top 5 female names\ntop5_female_names = top_female_names.head(5)['first_name'].tolist()\n\n# Display the list of top 5 female names\nprint(top5_female_names)",
    "outputsMetadata": {
     "0": {
      "height": 38,
      "type": "stream"
     }
    }
   },
   "outputs": [
    {
     "name": "stdout",
     "output_type": "stream",
     "text": [
      "['Mary', 'Patricia', 'Elizabeth', 'Jennifer', 'Linda']\n"
     ]
    }
   ],
   "source": [
    "# Get the top 5 female names\n",
    "top5_female_names = top_female_names.head(5)['first_name'].tolist()\n",
    "\n",
    "# Display the list of top 5 female names\n",
    "print(top5_female_names)"
   ]
  },
  {
   "cell_type": "code",
   "execution_count": 53,
   "id": "631ae691-458f-4006-8ea3-d55c1d1f9ba5",
   "metadata": {
    "executionCancelledAt": null,
    "executionTime": 45,
    "lastExecutedAt": 1754921958550,
    "lastExecutedByKernel": "35ec5e07-7562-4a59-8301-2db1b0adb100",
    "lastScheduledRunId": null,
    "lastSuccessfullyExecutedCode": "# Filter the names dataframe to include only male names\nmale_names = names[names['sex'] == 'M']\n\n# Group by first_name and sum the occurrences\nmale_name_counts = male_names.groupby('first_name')['num'].sum().reset_index()\n\n# Sort the names by the number of occurrences in descending order\ntop_male_names = male_name_counts.sort_values(by='num', ascending=False)\n\n# Display the top-ranked male names\ntop_male_names.head(10)",
    "outputsMetadata": {
     "0": {
      "height": 550,
      "tableState": {
       "customFilter": {
        "const": {
         "type": "boolean",
         "valid": true,
         "value": true
        },
        "id": "97d3ef7b-7cd8-41b2-9445-06c693ff72ce",
        "nodeType": "const"
       }
      },
      "type": "dataFrame"
     }
    }
   },
   "outputs": [
    {
     "data": {
      "text/html": [
       "<div>\n",
       "<style scoped>\n",
       "    .dataframe tbody tr th:only-of-type {\n",
       "        vertical-align: middle;\n",
       "    }\n",
       "\n",
       "    .dataframe tbody tr th {\n",
       "        vertical-align: top;\n",
       "    }\n",
       "\n",
       "    .dataframe thead th {\n",
       "        text-align: right;\n",
       "    }\n",
       "</style>\n",
       "<table border=\"1\" class=\"dataframe\">\n",
       "  <thead>\n",
       "    <tr style=\"text-align: right;\">\n",
       "      <th></th>\n",
       "      <th>first_name</th>\n",
       "      <th>num</th>\n",
       "    </tr>\n",
       "  </thead>\n",
       "  <tbody>\n",
       "    <tr>\n",
       "      <th>117</th>\n",
       "      <td>James</td>\n",
       "      <td>4748138</td>\n",
       "    </tr>\n",
       "    <tr>\n",
       "      <th>135</th>\n",
       "      <td>John</td>\n",
       "      <td>4510721</td>\n",
       "    </tr>\n",
       "    <tr>\n",
       "      <th>196</th>\n",
       "      <td>Robert</td>\n",
       "      <td>4495199</td>\n",
       "    </tr>\n",
       "    <tr>\n",
       "      <th>171</th>\n",
       "      <td>Michael</td>\n",
       "      <td>4278824</td>\n",
       "    </tr>\n",
       "    <tr>\n",
       "      <th>235</th>\n",
       "      <td>William</td>\n",
       "      <td>3614424</td>\n",
       "    </tr>\n",
       "    <tr>\n",
       "      <th>63</th>\n",
       "      <td>David</td>\n",
       "      <td>3571498</td>\n",
       "    </tr>\n",
       "    <tr>\n",
       "      <th>193</th>\n",
       "      <td>Richard</td>\n",
       "      <td>2414838</td>\n",
       "    </tr>\n",
       "    <tr>\n",
       "      <th>140</th>\n",
       "      <td>Joseph</td>\n",
       "      <td>2361382</td>\n",
       "    </tr>\n",
       "    <tr>\n",
       "      <th>220</th>\n",
       "      <td>Thomas</td>\n",
       "      <td>2166802</td>\n",
       "    </tr>\n",
       "    <tr>\n",
       "      <th>41</th>\n",
       "      <td>Charles</td>\n",
       "      <td>2112352</td>\n",
       "    </tr>\n",
       "  </tbody>\n",
       "</table>\n",
       "</div>"
      ],
      "text/plain": [
       "    first_name      num\n",
       "117      James  4748138\n",
       "135       John  4510721\n",
       "196     Robert  4495199\n",
       "171    Michael  4278824\n",
       "235    William  3614424\n",
       "63       David  3571498\n",
       "193    Richard  2414838\n",
       "140     Joseph  2361382\n",
       "220     Thomas  2166802\n",
       "41     Charles  2112352"
      ]
     },
     "execution_count": 53,
     "metadata": {},
     "output_type": "execute_result"
    }
   ],
   "source": [
    "# Filter the names dataframe to include only male names\n",
    "male_names = names[names['sex'] == 'M']\n",
    "\n",
    "# Group by first_name and sum the occurrences\n",
    "male_name_counts = male_names.groupby('first_name')['num'].sum().reset_index()\n",
    "\n",
    "# Sort the names by the number of occurrences in descending order\n",
    "top_male_names = male_name_counts.sort_values(by='num', ascending=False)\n",
    "\n",
    "# Display the top-ranked male names\n",
    "top_male_names.head(10)"
   ]
  },
  {
   "cell_type": "code",
   "execution_count": 54,
   "id": "8d51698f-51b2-4c2b-b473-27a70bfc7fe9",
   "metadata": {
    "executionCancelledAt": null,
    "executionTime": 47,
    "lastExecutedAt": 1754921608129,
    "lastExecutedByKernel": "35ec5e07-7562-4a59-8301-2db1b0adb100",
    "lastScheduledRunId": null,
    "lastSuccessfullyExecutedCode": "# Get the top 5 male names\ntop5_male_names = top_male_names.head(5)['first_name'].tolist()\n\n# Display the list of top 5 male names\nprint(top5_male_names)",
    "outputsMetadata": {
     "0": {
      "height": 38,
      "type": "stream"
     }
    }
   },
   "outputs": [
    {
     "name": "stdout",
     "output_type": "stream",
     "text": [
      "['James', 'John', 'Robert', 'Michael', 'William']\n"
     ]
    }
   ],
   "source": [
    "# Get the top 5 male names\n",
    "top5_male_names = top_male_names.head(5)['first_name'].tolist()\n",
    "\n",
    "# Display the list of top 5 male names\n",
    "print(top5_male_names)"
   ]
  },
  {
   "cell_type": "markdown",
   "id": "5b0ceb67-3c6d-4ed5-aee5-2aaeab8f0f12",
   "metadata": {},
   "source": [
    "For the periode of 1920 - 2020 :\n",
    "The 5 higher number of men names are : James , John , Robert , Michael, William"
   ]
  },
  {
   "cell_type": "code",
   "execution_count": 55,
   "id": "76c9f2c2-4db5-422d-9f6b-d653db09624e",
   "metadata": {
    "executionCancelledAt": null,
    "executionTime": 49,
    "lastExecutedAt": 1754921608178,
    "lastExecutedByKernel": "35ec5e07-7562-4a59-8301-2db1b0adb100",
    "lastScheduledRunId": null,
    "lastSuccessfullyExecutedCode": "#For each year show the maximum of time a name was given\n# Filter the data to include only male names\nmale_names = names[names['sex'] == 'M']\n\n# Group by year and first_name, then find the maximum number of babies given any one male name in that year\nmax_num_per_year = male_names.groupby(['year', 'first_name'])['num'].max().reset_index()\n\n# Find the maximum number of babies given any one male name in each year\nmax_num_per_year = max_num_per_year.groupby('year')['num'].max().reset_index()\n\n# Rename the columns for clarity\nmax_male_per_year = max_num_per_year.rename(columns={'num': 'max_num'})\n\nmax_male_per_year",
    "outputsMetadata": {
     "0": {
      "height": 550,
      "tableState": {
       "customFilter": {
        "const": {
         "type": "boolean",
         "valid": true,
         "value": true
        },
        "id": "97d3ef7b-7cd8-41b2-9445-06c693ff72ce",
        "nodeType": "const"
       }
      },
      "type": "dataFrame"
     }
    }
   },
   "outputs": [
    {
     "data": {
      "text/html": [
       "<div>\n",
       "<style scoped>\n",
       "    .dataframe tbody tr th:only-of-type {\n",
       "        vertical-align: middle;\n",
       "    }\n",
       "\n",
       "    .dataframe tbody tr th {\n",
       "        vertical-align: top;\n",
       "    }\n",
       "\n",
       "    .dataframe thead th {\n",
       "        text-align: right;\n",
       "    }\n",
       "</style>\n",
       "<table border=\"1\" class=\"dataframe\">\n",
       "  <thead>\n",
       "    <tr style=\"text-align: right;\">\n",
       "      <th></th>\n",
       "      <th>year</th>\n",
       "      <th>max_num</th>\n",
       "    </tr>\n",
       "  </thead>\n",
       "  <tbody>\n",
       "    <tr>\n",
       "      <th>0</th>\n",
       "      <td>1920</td>\n",
       "      <td>56914</td>\n",
       "    </tr>\n",
       "    <tr>\n",
       "      <th>1</th>\n",
       "      <td>1921</td>\n",
       "      <td>58215</td>\n",
       "    </tr>\n",
       "    <tr>\n",
       "      <th>2</th>\n",
       "      <td>1922</td>\n",
       "      <td>57280</td>\n",
       "    </tr>\n",
       "    <tr>\n",
       "      <th>3</th>\n",
       "      <td>1923</td>\n",
       "      <td>57469</td>\n",
       "    </tr>\n",
       "    <tr>\n",
       "      <th>4</th>\n",
       "      <td>1924</td>\n",
       "      <td>60801</td>\n",
       "    </tr>\n",
       "    <tr>\n",
       "      <th>...</th>\n",
       "      <td>...</td>\n",
       "      <td>...</td>\n",
       "    </tr>\n",
       "    <tr>\n",
       "      <th>96</th>\n",
       "      <td>2016</td>\n",
       "      <td>19154</td>\n",
       "    </tr>\n",
       "    <tr>\n",
       "      <th>97</th>\n",
       "      <td>2017</td>\n",
       "      <td>18824</td>\n",
       "    </tr>\n",
       "    <tr>\n",
       "      <th>98</th>\n",
       "      <td>2018</td>\n",
       "      <td>19924</td>\n",
       "    </tr>\n",
       "    <tr>\n",
       "      <th>99</th>\n",
       "      <td>2019</td>\n",
       "      <td>20555</td>\n",
       "    </tr>\n",
       "    <tr>\n",
       "      <th>100</th>\n",
       "      <td>2020</td>\n",
       "      <td>19659</td>\n",
       "    </tr>\n",
       "  </tbody>\n",
       "</table>\n",
       "<p>101 rows × 2 columns</p>\n",
       "</div>"
      ],
      "text/plain": [
       "     year  max_num\n",
       "0    1920    56914\n",
       "1    1921    58215\n",
       "2    1922    57280\n",
       "3    1923    57469\n",
       "4    1924    60801\n",
       "..    ...      ...\n",
       "96   2016    19154\n",
       "97   2017    18824\n",
       "98   2018    19924\n",
       "99   2019    20555\n",
       "100  2020    19659\n",
       "\n",
       "[101 rows x 2 columns]"
      ]
     },
     "execution_count": 55,
     "metadata": {},
     "output_type": "execute_result"
    }
   ],
   "source": [
    "#For each year show the maximum of time a name was given\n",
    "# Filter the data to include only male names\n",
    "male_names = names[names['sex'] == 'M']\n",
    "\n",
    "# Group by year and first_name, then find the maximum number of babies given any one male name in that year\n",
    "max_num_per_year = male_names.groupby(['year', 'first_name'])['num'].max().reset_index()\n",
    "\n",
    "# Find the maximum number of babies given any one male name in each year\n",
    "max_num_per_year = max_num_per_year.groupby('year')['num'].max().reset_index()\n",
    "\n",
    "# Rename the columns for clarity\n",
    "max_male_per_year = max_num_per_year.rename(columns={'num': 'max_num'})\n",
    "\n",
    "max_male_per_year"
   ]
  },
  {
   "cell_type": "markdown",
   "id": "df0d0dbe-3bd4-4334-8a5e-c034e3e4fae3",
   "metadata": {},
   "source": [
    "The previous cell show the maximum number of time a name was given. \n",
    "In the next cells will find what was those names based on gender"
   ]
  },
  {
   "cell_type": "code",
   "execution_count": 56,
   "id": "1aa8de71-b38a-411f-8e58-9b5c4f1255fc",
   "metadata": {
    "executionCancelledAt": null,
    "executionTime": 48,
    "lastExecutedAt": 1754921608226,
    "lastExecutedByKernel": "35ec5e07-7562-4a59-8301-2db1b0adb100",
    "lastScheduledRunId": null,
    "lastSuccessfullyExecutedCode": "#show the name that correspond to the maximum of time\n# Filter the data to include only male names\nmale_names = names[names['sex'] == 'M']\n\n# Group by year and first_name, then find the maximum number of babies given any one male name in that year\nmax_num_per_year = male_names.groupby(['year', 'first_name'])['num'].max().reset_index()\n\n# Find the top male name for each year by merging with the max_num_per_year dataframe\ntop_male_names_per_year = max_num_per_year.merge(\n    max_num_per_year.groupby('year')['num'].max().reset_index(),\n    on=['year', 'num']\n)\n\n# Rename the columns for clarity\ntop_male_names_per_year = top_male_names_per_year.rename(columns={'num': 'max_num'})\n#print\ntop_male_names_per_year",
    "outputsMetadata": {
     "0": {
      "height": 550,
      "tableState": {
       "customFilter": {
        "const": {
         "type": "boolean",
         "valid": true,
         "value": true
        },
        "id": "97d3ef7b-7cd8-41b2-9445-06c693ff72ce",
        "nodeType": "const"
       }
      },
      "type": "dataFrame"
     }
    }
   },
   "outputs": [
    {
     "data": {
      "text/html": [
       "<div>\n",
       "<style scoped>\n",
       "    .dataframe tbody tr th:only-of-type {\n",
       "        vertical-align: middle;\n",
       "    }\n",
       "\n",
       "    .dataframe tbody tr th {\n",
       "        vertical-align: top;\n",
       "    }\n",
       "\n",
       "    .dataframe thead th {\n",
       "        text-align: right;\n",
       "    }\n",
       "</style>\n",
       "<table border=\"1\" class=\"dataframe\">\n",
       "  <thead>\n",
       "    <tr style=\"text-align: right;\">\n",
       "      <th></th>\n",
       "      <th>year</th>\n",
       "      <th>first_name</th>\n",
       "      <th>max_num</th>\n",
       "    </tr>\n",
       "  </thead>\n",
       "  <tbody>\n",
       "    <tr>\n",
       "      <th>0</th>\n",
       "      <td>1920</td>\n",
       "      <td>John</td>\n",
       "      <td>56914</td>\n",
       "    </tr>\n",
       "    <tr>\n",
       "      <th>1</th>\n",
       "      <td>1921</td>\n",
       "      <td>John</td>\n",
       "      <td>58215</td>\n",
       "    </tr>\n",
       "    <tr>\n",
       "      <th>2</th>\n",
       "      <td>1922</td>\n",
       "      <td>John</td>\n",
       "      <td>57280</td>\n",
       "    </tr>\n",
       "    <tr>\n",
       "      <th>3</th>\n",
       "      <td>1923</td>\n",
       "      <td>John</td>\n",
       "      <td>57469</td>\n",
       "    </tr>\n",
       "    <tr>\n",
       "      <th>4</th>\n",
       "      <td>1924</td>\n",
       "      <td>Robert</td>\n",
       "      <td>60801</td>\n",
       "    </tr>\n",
       "    <tr>\n",
       "      <th>...</th>\n",
       "      <td>...</td>\n",
       "      <td>...</td>\n",
       "      <td>...</td>\n",
       "    </tr>\n",
       "    <tr>\n",
       "      <th>96</th>\n",
       "      <td>2016</td>\n",
       "      <td>Noah</td>\n",
       "      <td>19154</td>\n",
       "    </tr>\n",
       "    <tr>\n",
       "      <th>97</th>\n",
       "      <td>2017</td>\n",
       "      <td>Liam</td>\n",
       "      <td>18824</td>\n",
       "    </tr>\n",
       "    <tr>\n",
       "      <th>98</th>\n",
       "      <td>2018</td>\n",
       "      <td>Liam</td>\n",
       "      <td>19924</td>\n",
       "    </tr>\n",
       "    <tr>\n",
       "      <th>99</th>\n",
       "      <td>2019</td>\n",
       "      <td>Liam</td>\n",
       "      <td>20555</td>\n",
       "    </tr>\n",
       "    <tr>\n",
       "      <th>100</th>\n",
       "      <td>2020</td>\n",
       "      <td>Liam</td>\n",
       "      <td>19659</td>\n",
       "    </tr>\n",
       "  </tbody>\n",
       "</table>\n",
       "<p>101 rows × 3 columns</p>\n",
       "</div>"
      ],
      "text/plain": [
       "     year first_name  max_num\n",
       "0    1920       John    56914\n",
       "1    1921       John    58215\n",
       "2    1922       John    57280\n",
       "3    1923       John    57469\n",
       "4    1924     Robert    60801\n",
       "..    ...        ...      ...\n",
       "96   2016       Noah    19154\n",
       "97   2017       Liam    18824\n",
       "98   2018       Liam    19924\n",
       "99   2019       Liam    20555\n",
       "100  2020       Liam    19659\n",
       "\n",
       "[101 rows x 3 columns]"
      ]
     },
     "execution_count": 56,
     "metadata": {},
     "output_type": "execute_result"
    }
   ],
   "source": [
    "#show the name that correspond to the maximum of time\n",
    "# Filter the data to include only male names\n",
    "male_names = names[names['sex'] == 'M']\n",
    "\n",
    "# Group by year and first_name, then find the maximum number of babies given any one male name in that year\n",
    "max_num_per_year = male_names.groupby(['year', 'first_name'])['num'].max().reset_index()\n",
    "\n",
    "# Find the top male name for each year by merging with the max_num_per_year dataframe\n",
    "top_male_names_per_year = max_num_per_year.merge(\n",
    "    max_num_per_year.groupby('year')['num'].max().reset_index(),\n",
    "    on=['year', 'num']\n",
    ")\n",
    "\n",
    "# Rename the columns for clarity\n",
    "top_male_names_per_year = top_male_names_per_year.rename(columns={'num': 'max_num'})\n",
    "#print\n",
    "top_male_names_per_year"
   ]
  },
  {
   "cell_type": "markdown",
   "id": "f62b8a1c-6250-49c6-ae9c-137bbf0f454e",
   "metadata": {},
   "source": [
    "**_Remember**_ For the periode of 1920 - 2020 : The 5 higher number of men names are : James , John , Robert , Michael, William\n",
    "The code return a year with the name which was the most given:\n",
    "- From 1920 to 1923 it was John\n",
    "- From 1924 to 1939 It was Robert. \n",
    "- Scrolling down we can see that Robert came back on the of the list in 1953 while John do not appear any more\n",
    "- From 1940 to 1952 it was James\n",
    "We can see from Year to Years some names were the most given then tey will disapear. in the next we'll dive into it"
   ]
  },
  {
   "cell_type": "code",
   "execution_count": 57,
   "id": "d3d09dad-f70c-425e-bf80-ad58da975b81",
   "metadata": {
    "executionCancelledAt": null,
    "executionTime": 53,
    "lastExecutedAt": 1754921958603,
    "lastExecutedByKernel": "35ec5e07-7562-4a59-8301-2db1b0adb100",
    "lastScheduledRunId": null,
    "lastSuccessfullyExecutedCode": "# Group by first_name and count the number of years each name was the top male name\nyears_at_number_one = top_male_names_per_year.groupby('first_name').size().reset_index(name='years_at_number_one')\n\n# Get all the names along with the number of years they were the top male name, ordered by descending value\nall_names_with_years_at_number_one = years_at_number_one[['first_name', 'years_at_number_one']].sort_values(by='years_at_number_one', ascending=False)\n#print\nall_names_with_years_at_number_one",
    "outputsMetadata": {
     "0": {
      "height": 50,
      "tableState": {
       "customFilter": {
        "const": {
         "type": "boolean",
         "valid": true,
         "value": true
        },
        "id": "6585776e-3551-457e-a591-73ff8f0fd0b1",
        "nodeType": "const"
       }
      },
      "type": "dataFrame"
     }
    }
   },
   "outputs": [
    {
     "data": {
      "text/html": [
       "<div>\n",
       "<style scoped>\n",
       "    .dataframe tbody tr th:only-of-type {\n",
       "        vertical-align: middle;\n",
       "    }\n",
       "\n",
       "    .dataframe tbody tr th {\n",
       "        vertical-align: top;\n",
       "    }\n",
       "\n",
       "    .dataframe thead th {\n",
       "        text-align: right;\n",
       "    }\n",
       "</style>\n",
       "<table border=\"1\" class=\"dataframe\">\n",
       "  <thead>\n",
       "    <tr style=\"text-align: right;\">\n",
       "      <th></th>\n",
       "      <th>first_name</th>\n",
       "      <th>years_at_number_one</th>\n",
       "    </tr>\n",
       "  </thead>\n",
       "  <tbody>\n",
       "    <tr>\n",
       "      <th>5</th>\n",
       "      <td>Michael</td>\n",
       "      <td>44</td>\n",
       "    </tr>\n",
       "    <tr>\n",
       "      <th>7</th>\n",
       "      <td>Robert</td>\n",
       "      <td>17</td>\n",
       "    </tr>\n",
       "    <tr>\n",
       "      <th>1</th>\n",
       "      <td>Jacob</td>\n",
       "      <td>14</td>\n",
       "    </tr>\n",
       "    <tr>\n",
       "      <th>2</th>\n",
       "      <td>James</td>\n",
       "      <td>13</td>\n",
       "    </tr>\n",
       "    <tr>\n",
       "      <th>4</th>\n",
       "      <td>Liam</td>\n",
       "      <td>4</td>\n",
       "    </tr>\n",
       "    <tr>\n",
       "      <th>3</th>\n",
       "      <td>John</td>\n",
       "      <td>4</td>\n",
       "    </tr>\n",
       "    <tr>\n",
       "      <th>6</th>\n",
       "      <td>Noah</td>\n",
       "      <td>4</td>\n",
       "    </tr>\n",
       "    <tr>\n",
       "      <th>0</th>\n",
       "      <td>David</td>\n",
       "      <td>1</td>\n",
       "    </tr>\n",
       "  </tbody>\n",
       "</table>\n",
       "</div>"
      ],
      "text/plain": [
       "  first_name  years_at_number_one\n",
       "5    Michael                   44\n",
       "7     Robert                   17\n",
       "1      Jacob                   14\n",
       "2      James                   13\n",
       "4       Liam                    4\n",
       "3       John                    4\n",
       "6       Noah                    4\n",
       "0      David                    1"
      ]
     },
     "execution_count": 57,
     "metadata": {},
     "output_type": "execute_result"
    }
   ],
   "source": [
    "# Group by first_name and count the number of years each name was the top male name\n",
    "years_at_number_one = top_male_names_per_year.groupby('first_name').size().reset_index(name='years_at_number_one')\n",
    "\n",
    "# Get all the names along with the number of years they were the top male name, ordered by descending value\n",
    "all_names_with_years_at_number_one = years_at_number_one[['first_name', 'years_at_number_one']].sort_values(by='years_at_number_one', ascending=False)\n",
    "#print\n",
    "all_names_with_years_at_number_one"
   ]
  },
  {
   "cell_type": "code",
   "execution_count": 58,
   "id": "2b7abfba-5b1b-4d8d-8170-89ca3bfd4669",
   "metadata": {
    "executionCancelledAt": null,
    "executionTime": 47,
    "lastExecutedAt": 1754921608333,
    "lastExecutedByKernel": "35ec5e07-7562-4a59-8301-2db1b0adb100",
    "lastScheduledRunId": null,
    "lastSuccessfullyExecutedCode": "top5_malenames_number1 = all_names_with_years_at_number_one.head(5)['first_name'].tolist()\ntop5_malenames_number1"
   },
   "outputs": [
    {
     "data": {
      "text/plain": [
       "['Michael', 'Robert', 'Jacob', 'James', 'Liam']"
      ]
     },
     "execution_count": 58,
     "metadata": {},
     "output_type": "execute_result"
    }
   ],
   "source": [
    "top5_malenames_number1 = all_names_with_years_at_number_one.head(5)['first_name'].tolist()\n",
    "top5_malenames_number1"
   ]
  },
  {
   "cell_type": "markdown",
   "id": "3462ce4c-bccd-47db-a56c-b403e71588a9",
   "metadata": {},
   "source": [
    "The name that appears the most is Micheal. It appears 44 times\n",
    "_**Remember_** For the periode of 1920 - 2020 : The 5 higher number of men names are : James , John , Robert , Michael, William\n",
    "However william do not appear in any of the year as most given name"
   ]
  },
  {
   "cell_type": "code",
   "execution_count": 59,
   "id": "3a0fcb8c-00e8-4987-a5bf-4bd157789071",
   "metadata": {
    "executionCancelledAt": null,
    "executionTime": 97,
    "lastExecutedAt": 1754921958700,
    "lastExecutedByKernel": "35ec5e07-7562-4a59-8301-2db1b0adb100",
    "lastScheduledRunId": null,
    "lastSuccessfullyExecutedCode": "#a graph to visualise the evolution over time\n# Filter the data to include only the specified nmale names because most given\n#Jacob added bacuse it appeared in some year based on the maximum number of occurrences.\nselected_names = ['Michael', 'Robert', 'Jacob', 'James', 'John', 'William']\nfiltered_names = names[(names['first_name'].isin(selected_names)) & (names['sex'] == 'M')]\n\n# Group by year and first_name, then sum the occurrences\nname_counts_per_year = filtered_names.groupby(['year', 'first_name'])['num'].sum().reset_index()\n\n# Create an interactive line plot\nfig = px.line(name_counts_per_year, x='year', y='num', color='first_name',\n              title='Popularity of Selected Male Names Over Time',\n              labels={'num': 'Number of Babies', 'year': 'Year', 'first_name': 'Name'})\n\n# Show the plot\nfig.show()",
    "outputsMetadata": {
     "0": {
      "height": 17,
      "type": "plotly"
     }
    }
   },
   "outputs": [
    {
     "data": {
      "application/vnd.plotly.v1+json": {
       "config": {
        "plotlyServerURL": "https://plot.ly"
       },
       "data": [
        {
         "hovertemplate": "Name=James<br>Year=%{x}<br>Number of Babies=%{y}<extra></extra>",
         "legendgroup": "James",
         "line": {
          "color": "#636efa",
          "dash": "solid"
         },
         "marker": {
          "symbol": "circle"
         },
         "mode": "lines",
         "name": "James",
         "orientation": "v",
         "showlegend": true,
         "type": "scatter",
         "x": {
          "bdata": "gAeBB4IHgweEB4UHhgeHB4gHiQeKB4sHjAeNB44HjweQB5EHkgeTB5QHlQeWB5cHmAeZB5oHmwecB50HngefB6AHoQeiB6MHpAelB6YHpweoB6kHqgerB6wHrQeuB68HsAexB7IHswe0B7UHtge3B7gHuQe6B7sHvAe9B74HvwfAB8EHwgfDB8QHxQfGB8cHyAfJB8oHywfMB80HzgfPB9AH0QfSB9MH1AfVB9YH1wfYB9kH2gfbB9wH3QfeB98H4AfhB+IH4wfkBw==",
          "dtype": "i2"
         },
         "xaxis": "x",
         "y": {
          "bdata": "JbsAAFXCAACKwgAAIMUAAMzOAADLzQAA1c8AAKrRAAAUzgAAnssAAL7SAAAYyAAA0soAAKbHAADx0wAA2tYAAKTVAADs3AAA3OYAAPLoAAAM9AAAtwQBAHYtAQCSOQEAmiwBANwiAQCPVQEALHIBAA1aAQBRUwEA1VABAN1UAQAXVAEAQFABAC9RAQDhSAEAfUsBAFVJAQCTMwEADDMBABksAQCfKAEAZBsBAJoWAQBNHQEAbwgBAJr+AAD+8AAADO0AAAjqAAA/8QAAXtUAAOW3AAB6pwAAiKEAAKSaAACmlQAAcZwAAO2bAADMmQAAoZkAAKuVAADflwAAA44AABuMAAAajAAAAIUAAJF/AAAFfwAAxX8AAGR+AAAudwAAW28AAItmAADEYAAAyFgAAKVSAAC1TwAA50wAAHlIAABFRgAAsUIAAEVCAAD/QQAAUkAAAAo/AABzPwAAXj4AAE07AACDNwAAPzYAAMgzAACANAAACzUAAGo4AAD7OQAAJzoAAPc3AAAgNQAASzMAANovAAA=",
          "dtype": "i4"
         },
         "yaxis": "y"
        },
        {
         "hovertemplate": "Name=John<br>Year=%{x}<br>Number of Babies=%{y}<extra></extra>",
         "legendgroup": "John",
         "line": {
          "color": "#EF553B",
          "dash": "solid"
         },
         "marker": {
          "symbol": "circle"
         },
         "mode": "lines",
         "name": "John",
         "orientation": "v",
         "showlegend": true,
         "type": "scatter",
         "x": {
          "bdata": "gAeBB4IHgweEB4UHhgeHB4gHiQeKB4sHjAeNB44HjweQB5EHkgeTB5QHlQeWB5cHmAeZB5oHmwecB50HngefB6AHoQeiB6MHpAelB6YHpweoB6kHqgerB6wHrQeuB68HsAexB7IHswe0B7UHtge3B7gHuQe6B7sHvAe9B74HvwfAB8EHwgfDB8QHxQfGB8cHyAfJB8oHywfMB80HzgfPB9AH0QfSB9MH1AfVB9YH1wfYB9kH2gfbB9wH3QfeB98H4AfhB+IH4wfkBw==",
          "dtype": "i2"
         },
         "xaxis": "x",
         "y": {
          "bdata": "Ut4AAGfjAADA3wAAfeAAAK7mAABw3wAAKtsAAJLaAAD90QAAkcsAANnMAAAsvQAA7r0AAI+0AACRtgAAi7kAADy6AABtvgAAWsUAAEvHAAD81QAAseAAAPEBAQA6DQEAOwQBAEUCAQCYNQEA/1gBAJFDAQASPQEARDYBAKQ+AQDARAEAKjkBACs9AQD8OAEAkzsBAJ80AQDmKAEAZyoBADMpAQBCOAEAUzIBACczAQBwQgEAbhcBAAH+AAC28AAA+e0AAJXlAACi5AAAQskAALCoAAAMmQAAApMAABaJAADVhAAAroUAAPOEAABnigAA1okAAEaIAACbhwAAi4EAAHR/AAAPewAAA3YAAGxzAADocgAAnnQAAJ1xAACZbAAAh2YAAKFhAAB2XgAAyVoAAKZWAACKUwAAllAAAIJPAACFTgAAzUkAADREAABUQwAAREAAAJ49AABCOwAAYTgAAAs0AABcLwAAKC0AADIrAACEKQAA3CkAAMUpAACeKAAAMicAAB8lAADSIwAAbSIAAPQfAAA=",
          "dtype": "i4"
         },
         "yaxis": "y"
        },
        {
         "hovertemplate": "Name=Robert<br>Year=%{x}<br>Number of Babies=%{y}<extra></extra>",
         "legendgroup": "Robert",
         "line": {
          "color": "#00cc96",
          "dash": "solid"
         },
         "marker": {
          "symbol": "circle"
         },
         "mode": "lines",
         "name": "Robert",
         "orientation": "v",
         "showlegend": true,
         "type": "scatter",
         "x": {
          "bdata": "gAeBB4IHgweEB4UHhgeHB4gHiQeKB4sHjAeNB44HjweQB5EHkgeTB5QHlQeWB5cHmAeZB5oHmwecB50HngefB6AHoQeiB6MHpAelB6YHpweoB6kHqgerB6wHrQeuB68HsAexB7IHswe0B7UHtge3B7gHuQe6B7sHvAe9B74HvwfAB8EHwgfDB8QHxQfGB8cHyAfJB8oHywfMB80HzgfPB9AH0QfSB9MH1AfVB9YH1wfYB9kH2gfbB9wH3QfeB98H4AfhB+IH",
          "dtype": "i2"
         },
         "xaxis": "x",
         "y": {
          "bdata": "Jr4AADDOAAAh0gAAM9sAAIHtAADh7QAAyu4AAOfwAAAf7QAAnOkAAMXyAABm7AAAgecAAM/TAAAa2gAAytwAAIPkAACS8QAAPfMAAAXpAAAJ7wAA8PoAAKgYAQB3JAEAwhQBADQRAQCqSAEA/2UBAONNAQCjRwEAY0YBAFBRAQBFUgEA51ABAEVRAQAhRwEAwkcBAEs/AQDvLQEABiMBAJ8aAQDVHAEANBIBAH0RAQB2EQEAk/YAAL7nAAA43AAAW+MAANbjAABw3wAA38UAAB+oAAAslwAAppAAAAOKAAAShAAAqoUAAG2CAADuhAAA6IUAAGuGAAB7hgAA8X8AAB18AABcfQAAf3oAABh2AABwdgAAcXUAAM1wAADSaAAAG14AAK5XAABNUAAAmUgAAAlFAACvPwAApTwAAMs4AACrNQAAejEAAP0uAACCLAAAtikAALQnAACvJgAApSQAAIIiAACcHgAAhx0AAEEbAAAuGwAAOxoAAPYZAADrFwAAaxcAAKcVAAA0FAAA",
          "dtype": "i4"
         },
         "yaxis": "y"
        },
        {
         "hovertemplate": "Name=William<br>Year=%{x}<br>Number of Babies=%{y}<extra></extra>",
         "legendgroup": "William",
         "line": {
          "color": "#ab63fa",
          "dash": "solid"
         },
         "marker": {
          "symbol": "circle"
         },
         "mode": "lines",
         "name": "William",
         "orientation": "v",
         "showlegend": true,
         "type": "scatter",
         "x": {
          "bdata": "gAeBB4IHgweEB4UHhgeHB4gHiQeKB4sHjAeNB44HjweQB5EHkgeTB5QHlQeWB5cHmAeZB5oHmwecB50HngefB6AHoQeiB6MHpAelB6YHpweoB6kHqgerB6wHrQeuB68HsAexB7IHswe0B7UHtge3B7gHuQe6B7sHvAe9B74HvwfAB8EHwgfDB8QHxQfGB8cHyAfJB8oHywfMB80HzgfPB9AH0QfSB9MH1AfVB9YH1wfYB9kH2gfbB9wH3QfeB98H4AfhB+IH4wfkBw==",
          "dtype": "i2"
         },
         "xaxis": "x",
         "y": {
          "bdata": "5MMAAJbKAACoxwAAqcsAAAXRAAA70AAAz8oAABjJAADhvwAAwLoAAKa4AAAOqQAAjqQAAImYAADsnAAACJ0AAN+ZAAAOnwAAvaUAAF2kAADkrgAAsLoAAGbWAABh2gAAkcwAACnEAACG6gAAsAUBABTyAAA68AAAEu0AADv1AABA9gAAkPEAAPjvAABX6gAAUuYAAAXeAADD0wAAqMgAAL/AAACAuwAAQq8AALOtAADLrAAAvJwAAGaVAAD3kgAAVZAAAPySAAD7lwAAZYoAAEF3AAB2bQAAbWkAAOVjAAB8XwAAwWAAAH5eAAB+YAAANGQAAOZgAAADZAAAOGMAAExhAAAiYAAAC18AAI5eAABAXgAAYWAAAEVhAAA6XQAAGVoAAMVWAADyUwAAvU4AAD5QAAAzTgAAYlEAAOtQAAC5UAAAiE4AAJ1OAAAYTgAABE8AAG5KAAARSgAAw0kAANhHAAAERgAAokIAAMNDAAD+QQAAC0EAAMBBAAAyPgAApz0AAJ86AAAMOQAAHzUAAP0wAAA=",
          "dtype": "i4"
         },
         "yaxis": "y"
        },
        {
         "hovertemplate": "Name=Michael<br>Year=%{x}<br>Number of Babies=%{y}<extra></extra>",
         "legendgroup": "Michael",
         "line": {
          "color": "#FFA15A",
          "dash": "solid"
         },
         "marker": {
          "symbol": "circle"
         },
         "mode": "lines",
         "name": "Michael",
         "orientation": "v",
         "showlegend": true,
         "type": "scatter",
         "x": {
          "bdata": "kAeRB5IHkweUB5UHlgeXB5gHmQeaB5sHnAedB54HnwegB6EHogejB6QHpQemB6cHqAepB6oHqwesB60HrgevB7AHsQeyB7MHtAe1B7YHtwe4B7kHuge7B7wHvQe+B78HwAfBB8IHwwfEB8UHxgfHB8gHyQfKB8sHzAfNB84HzwfQB9EH0gfTB9QH1QfWB9cH2AfZB9oH2wfcB90H3gffB+AH4QfiB+MH5Ac=",
          "dtype": "i2"
         },
         "xaxis": "x",
         "y": {
          "bdata": "qhYAALYbAAB5IwAASyoAAK0zAAA+PgAA3lQAAKlgAABiaAAAzXQAAOGgAABHxQAAUM0AAJDqAAB2/gAAYRwBAMM0AQDpSAEAAFoBADRZAQApYgEALmoBAMRhAQDoTAEA0EgBAIVTAQAxTAEAQkcBANJCAQB9PAEAdjgBAAhCAQBLQAEA0UwBACtNAQAfLwEA6RYBAAIJAQD8BwEAYwsBAIMFAQAZCAEAVQYBAJ4IAQBgDAEAqAwBAJQKAQCqCQEAoQgBAJz9AADg+gAApvgAAJb6AAB3/wAAFv8AAHntAAB91AAAksEAALitAAC3oQAA3ZUAAK2SAAAIjwAAeYQAACd9AAD2cwAAXG4AAPNpAAB2YwAAC10AAHBYAAD2VQAAmlAAAAVKAADRQwAAp0EAADk/AACePAAAbzwAAHY4AAAXNwAAfTEAALItAAA+KQAA9SUAAA==",
          "dtype": "i4"
         },
         "yaxis": "y"
        },
        {
         "hovertemplate": "Name=Jacob<br>Year=%{x}<br>Number of Babies=%{y}<extra></extra>",
         "legendgroup": "Jacob",
         "line": {
          "color": "#19d3f3",
          "dash": "solid"
         },
         "marker": {
          "symbol": "circle"
         },
         "mode": "lines",
         "name": "Jacob",
         "orientation": "v",
         "showlegend": true,
         "type": "scatter",
         "x": {
          "bdata": "uQe6B7sHvAe9B74HvwfAB8EHwgfDB8QHxQfGB8cHyAfJB8oHywfMB80HzgfPB9AH0QfSB9MH1AfVB9YH1wfYB9kH2gfbB9wH3QfeB98H4AfhB+IH4wfkBw==",
          "dtype": "i2"
         },
         "xaxis": "x",
         "y": {
          "bdata": "oBYAABYYAAB8HQAASyEAAIckAABPJwAA+yoAAFosAAD7LwAAVTUAAPA3AAAHPgAAqEUAAP1VAABtYgAAQWQAAF5rAADmcgAAmnkAALd8AABshQAAtowAACeKAACzhgAAKn8AAHN3AADLcwAA7mwAAO1kAAASYQAA5F4AAEtYAADAUgAAe1YAAJpPAACQSgAAAEcAAPpBAABgPgAAxDgAAKMzAABHLgAA4SkAAOwjAAA=",
          "dtype": "i4"
         },
         "yaxis": "y"
        }
       ],
       "layout": {
        "legend": {
         "title": {
          "text": "Name"
         },
         "tracegroupgap": 0
        },
        "template": {
         "data": {
          "bar": [
           {
            "error_x": {
             "color": "#2a3f5f"
            },
            "error_y": {
             "color": "#2a3f5f"
            },
            "marker": {
             "line": {
              "color": "#E5ECF6",
              "width": 0.5
             },
             "pattern": {
              "fillmode": "overlay",
              "size": 10,
              "solidity": 0.2
             }
            },
            "type": "bar"
           }
          ],
          "barpolar": [
           {
            "marker": {
             "line": {
              "color": "#E5ECF6",
              "width": 0.5
             },
             "pattern": {
              "fillmode": "overlay",
              "size": 10,
              "solidity": 0.2
             }
            },
            "type": "barpolar"
           }
          ],
          "carpet": [
           {
            "aaxis": {
             "endlinecolor": "#2a3f5f",
             "gridcolor": "white",
             "linecolor": "white",
             "minorgridcolor": "white",
             "startlinecolor": "#2a3f5f"
            },
            "baxis": {
             "endlinecolor": "#2a3f5f",
             "gridcolor": "white",
             "linecolor": "white",
             "minorgridcolor": "white",
             "startlinecolor": "#2a3f5f"
            },
            "type": "carpet"
           }
          ],
          "choropleth": [
           {
            "colorbar": {
             "outlinewidth": 0,
             "ticks": ""
            },
            "type": "choropleth"
           }
          ],
          "contour": [
           {
            "colorbar": {
             "outlinewidth": 0,
             "ticks": ""
            },
            "colorscale": [
             [
              0,
              "#0d0887"
             ],
             [
              0.1111111111111111,
              "#46039f"
             ],
             [
              0.2222222222222222,
              "#7201a8"
             ],
             [
              0.3333333333333333,
              "#9c179e"
             ],
             [
              0.4444444444444444,
              "#bd3786"
             ],
             [
              0.5555555555555556,
              "#d8576b"
             ],
             [
              0.6666666666666666,
              "#ed7953"
             ],
             [
              0.7777777777777778,
              "#fb9f3a"
             ],
             [
              0.8888888888888888,
              "#fdca26"
             ],
             [
              1,
              "#f0f921"
             ]
            ],
            "type": "contour"
           }
          ],
          "contourcarpet": [
           {
            "colorbar": {
             "outlinewidth": 0,
             "ticks": ""
            },
            "type": "contourcarpet"
           }
          ],
          "heatmap": [
           {
            "colorbar": {
             "outlinewidth": 0,
             "ticks": ""
            },
            "colorscale": [
             [
              0,
              "#0d0887"
             ],
             [
              0.1111111111111111,
              "#46039f"
             ],
             [
              0.2222222222222222,
              "#7201a8"
             ],
             [
              0.3333333333333333,
              "#9c179e"
             ],
             [
              0.4444444444444444,
              "#bd3786"
             ],
             [
              0.5555555555555556,
              "#d8576b"
             ],
             [
              0.6666666666666666,
              "#ed7953"
             ],
             [
              0.7777777777777778,
              "#fb9f3a"
             ],
             [
              0.8888888888888888,
              "#fdca26"
             ],
             [
              1,
              "#f0f921"
             ]
            ],
            "type": "heatmap"
           }
          ],
          "histogram": [
           {
            "marker": {
             "pattern": {
              "fillmode": "overlay",
              "size": 10,
              "solidity": 0.2
             }
            },
            "type": "histogram"
           }
          ],
          "histogram2d": [
           {
            "colorbar": {
             "outlinewidth": 0,
             "ticks": ""
            },
            "colorscale": [
             [
              0,
              "#0d0887"
             ],
             [
              0.1111111111111111,
              "#46039f"
             ],
             [
              0.2222222222222222,
              "#7201a8"
             ],
             [
              0.3333333333333333,
              "#9c179e"
             ],
             [
              0.4444444444444444,
              "#bd3786"
             ],
             [
              0.5555555555555556,
              "#d8576b"
             ],
             [
              0.6666666666666666,
              "#ed7953"
             ],
             [
              0.7777777777777778,
              "#fb9f3a"
             ],
             [
              0.8888888888888888,
              "#fdca26"
             ],
             [
              1,
              "#f0f921"
             ]
            ],
            "type": "histogram2d"
           }
          ],
          "histogram2dcontour": [
           {
            "colorbar": {
             "outlinewidth": 0,
             "ticks": ""
            },
            "colorscale": [
             [
              0,
              "#0d0887"
             ],
             [
              0.1111111111111111,
              "#46039f"
             ],
             [
              0.2222222222222222,
              "#7201a8"
             ],
             [
              0.3333333333333333,
              "#9c179e"
             ],
             [
              0.4444444444444444,
              "#bd3786"
             ],
             [
              0.5555555555555556,
              "#d8576b"
             ],
             [
              0.6666666666666666,
              "#ed7953"
             ],
             [
              0.7777777777777778,
              "#fb9f3a"
             ],
             [
              0.8888888888888888,
              "#fdca26"
             ],
             [
              1,
              "#f0f921"
             ]
            ],
            "type": "histogram2dcontour"
           }
          ],
          "mesh3d": [
           {
            "colorbar": {
             "outlinewidth": 0,
             "ticks": ""
            },
            "type": "mesh3d"
           }
          ],
          "parcoords": [
           {
            "line": {
             "colorbar": {
              "outlinewidth": 0,
              "ticks": ""
             }
            },
            "type": "parcoords"
           }
          ],
          "pie": [
           {
            "automargin": true,
            "type": "pie"
           }
          ],
          "scatter": [
           {
            "fillpattern": {
             "fillmode": "overlay",
             "size": 10,
             "solidity": 0.2
            },
            "type": "scatter"
           }
          ],
          "scatter3d": [
           {
            "line": {
             "colorbar": {
              "outlinewidth": 0,
              "ticks": ""
             }
            },
            "marker": {
             "colorbar": {
              "outlinewidth": 0,
              "ticks": ""
             }
            },
            "type": "scatter3d"
           }
          ],
          "scattercarpet": [
           {
            "marker": {
             "colorbar": {
              "outlinewidth": 0,
              "ticks": ""
             }
            },
            "type": "scattercarpet"
           }
          ],
          "scattergeo": [
           {
            "marker": {
             "colorbar": {
              "outlinewidth": 0,
              "ticks": ""
             }
            },
            "type": "scattergeo"
           }
          ],
          "scattergl": [
           {
            "marker": {
             "colorbar": {
              "outlinewidth": 0,
              "ticks": ""
             }
            },
            "type": "scattergl"
           }
          ],
          "scattermap": [
           {
            "marker": {
             "colorbar": {
              "outlinewidth": 0,
              "ticks": ""
             }
            },
            "type": "scattermap"
           }
          ],
          "scattermapbox": [
           {
            "marker": {
             "colorbar": {
              "outlinewidth": 0,
              "ticks": ""
             }
            },
            "type": "scattermapbox"
           }
          ],
          "scatterpolar": [
           {
            "marker": {
             "colorbar": {
              "outlinewidth": 0,
              "ticks": ""
             }
            },
            "type": "scatterpolar"
           }
          ],
          "scatterpolargl": [
           {
            "marker": {
             "colorbar": {
              "outlinewidth": 0,
              "ticks": ""
             }
            },
            "type": "scatterpolargl"
           }
          ],
          "scatterternary": [
           {
            "marker": {
             "colorbar": {
              "outlinewidth": 0,
              "ticks": ""
             }
            },
            "type": "scatterternary"
           }
          ],
          "surface": [
           {
            "colorbar": {
             "outlinewidth": 0,
             "ticks": ""
            },
            "colorscale": [
             [
              0,
              "#0d0887"
             ],
             [
              0.1111111111111111,
              "#46039f"
             ],
             [
              0.2222222222222222,
              "#7201a8"
             ],
             [
              0.3333333333333333,
              "#9c179e"
             ],
             [
              0.4444444444444444,
              "#bd3786"
             ],
             [
              0.5555555555555556,
              "#d8576b"
             ],
             [
              0.6666666666666666,
              "#ed7953"
             ],
             [
              0.7777777777777778,
              "#fb9f3a"
             ],
             [
              0.8888888888888888,
              "#fdca26"
             ],
             [
              1,
              "#f0f921"
             ]
            ],
            "type": "surface"
           }
          ],
          "table": [
           {
            "cells": {
             "fill": {
              "color": "#EBF0F8"
             },
             "line": {
              "color": "white"
             }
            },
            "header": {
             "fill": {
              "color": "#C8D4E3"
             },
             "line": {
              "color": "white"
             }
            },
            "type": "table"
           }
          ]
         },
         "layout": {
          "annotationdefaults": {
           "arrowcolor": "#2a3f5f",
           "arrowhead": 0,
           "arrowwidth": 1
          },
          "autotypenumbers": "strict",
          "coloraxis": {
           "colorbar": {
            "outlinewidth": 0,
            "ticks": ""
           }
          },
          "colorscale": {
           "diverging": [
            [
             0,
             "#8e0152"
            ],
            [
             0.1,
             "#c51b7d"
            ],
            [
             0.2,
             "#de77ae"
            ],
            [
             0.3,
             "#f1b6da"
            ],
            [
             0.4,
             "#fde0ef"
            ],
            [
             0.5,
             "#f7f7f7"
            ],
            [
             0.6,
             "#e6f5d0"
            ],
            [
             0.7,
             "#b8e186"
            ],
            [
             0.8,
             "#7fbc41"
            ],
            [
             0.9,
             "#4d9221"
            ],
            [
             1,
             "#276419"
            ]
           ],
           "sequential": [
            [
             0,
             "#0d0887"
            ],
            [
             0.1111111111111111,
             "#46039f"
            ],
            [
             0.2222222222222222,
             "#7201a8"
            ],
            [
             0.3333333333333333,
             "#9c179e"
            ],
            [
             0.4444444444444444,
             "#bd3786"
            ],
            [
             0.5555555555555556,
             "#d8576b"
            ],
            [
             0.6666666666666666,
             "#ed7953"
            ],
            [
             0.7777777777777778,
             "#fb9f3a"
            ],
            [
             0.8888888888888888,
             "#fdca26"
            ],
            [
             1,
             "#f0f921"
            ]
           ],
           "sequentialminus": [
            [
             0,
             "#0d0887"
            ],
            [
             0.1111111111111111,
             "#46039f"
            ],
            [
             0.2222222222222222,
             "#7201a8"
            ],
            [
             0.3333333333333333,
             "#9c179e"
            ],
            [
             0.4444444444444444,
             "#bd3786"
            ],
            [
             0.5555555555555556,
             "#d8576b"
            ],
            [
             0.6666666666666666,
             "#ed7953"
            ],
            [
             0.7777777777777778,
             "#fb9f3a"
            ],
            [
             0.8888888888888888,
             "#fdca26"
            ],
            [
             1,
             "#f0f921"
            ]
           ]
          },
          "colorway": [
           "#636efa",
           "#EF553B",
           "#00cc96",
           "#ab63fa",
           "#FFA15A",
           "#19d3f3",
           "#FF6692",
           "#B6E880",
           "#FF97FF",
           "#FECB52"
          ],
          "font": {
           "color": "#2a3f5f"
          },
          "geo": {
           "bgcolor": "white",
           "lakecolor": "white",
           "landcolor": "#E5ECF6",
           "showlakes": true,
           "showland": true,
           "subunitcolor": "white"
          },
          "hoverlabel": {
           "align": "left"
          },
          "hovermode": "closest",
          "mapbox": {
           "style": "light"
          },
          "paper_bgcolor": "white",
          "plot_bgcolor": "#E5ECF6",
          "polar": {
           "angularaxis": {
            "gridcolor": "white",
            "linecolor": "white",
            "ticks": ""
           },
           "bgcolor": "#E5ECF6",
           "radialaxis": {
            "gridcolor": "white",
            "linecolor": "white",
            "ticks": ""
           }
          },
          "scene": {
           "xaxis": {
            "backgroundcolor": "#E5ECF6",
            "gridcolor": "white",
            "gridwidth": 2,
            "linecolor": "white",
            "showbackground": true,
            "ticks": "",
            "zerolinecolor": "white"
           },
           "yaxis": {
            "backgroundcolor": "#E5ECF6",
            "gridcolor": "white",
            "gridwidth": 2,
            "linecolor": "white",
            "showbackground": true,
            "ticks": "",
            "zerolinecolor": "white"
           },
           "zaxis": {
            "backgroundcolor": "#E5ECF6",
            "gridcolor": "white",
            "gridwidth": 2,
            "linecolor": "white",
            "showbackground": true,
            "ticks": "",
            "zerolinecolor": "white"
           }
          },
          "shapedefaults": {
           "line": {
            "color": "#2a3f5f"
           }
          },
          "ternary": {
           "aaxis": {
            "gridcolor": "white",
            "linecolor": "white",
            "ticks": ""
           },
           "baxis": {
            "gridcolor": "white",
            "linecolor": "white",
            "ticks": ""
           },
           "bgcolor": "#E5ECF6",
           "caxis": {
            "gridcolor": "white",
            "linecolor": "white",
            "ticks": ""
           }
          },
          "title": {
           "x": 0.05
          },
          "xaxis": {
           "automargin": true,
           "gridcolor": "white",
           "linecolor": "white",
           "ticks": "",
           "title": {
            "standoff": 15
           },
           "zerolinecolor": "white",
           "zerolinewidth": 2
          },
          "yaxis": {
           "automargin": true,
           "gridcolor": "white",
           "linecolor": "white",
           "ticks": "",
           "title": {
            "standoff": 15
           },
           "zerolinecolor": "white",
           "zerolinewidth": 2
          }
         }
        },
        "title": {
         "text": "Popularity of Selected Male Names Over Time"
        },
        "xaxis": {
         "anchor": "y",
         "domain": [
          0,
          1
         ],
         "title": {
          "text": "Year"
         }
        },
        "yaxis": {
         "anchor": "x",
         "domain": [
          0,
          1
         ],
         "title": {
          "text": "Number of Babies"
         }
        }
       }
      }
     },
     "metadata": {},
     "output_type": "display_data"
    }
   ],
   "source": [
    "#a graph to visualise the evolution over time\n",
    "# Filter the data to include only the specified nmale names because most given\n",
    "#Jacob added bacuse it appeared in some year based on the maximum number of occurrences.\n",
    "selected_names = ['Michael', 'Robert', 'Jacob', 'James', 'John', 'William']\n",
    "filtered_names = names[(names['first_name'].isin(selected_names)) & (names['sex'] == 'M')]\n",
    "\n",
    "# Group by year and first_name, then sum the occurrences\n",
    "name_counts_per_year = filtered_names.groupby(['year', 'first_name'])['num'].sum().reset_index()\n",
    "\n",
    "# Create an interactive line plot\n",
    "fig = px.line(name_counts_per_year, x='year', y='num', color='first_name',\n",
    "              title='Popularity of Selected Male Names Over Time',\n",
    "              labels={'num': 'Number of Babies', 'year': 'Year', 'first_name': 'Name'})\n",
    "\n",
    "# Show the plot\n",
    "fig.show()"
   ]
  },
  {
   "cell_type": "code",
   "execution_count": 60,
   "id": "d841237c-2807-4be0-9f7c-3673e917f613",
   "metadata": {
    "executionCancelledAt": null,
    "executionTime": 51,
    "lastExecutedAt": 1754921608482,
    "lastExecutedByKernel": "35ec5e07-7562-4a59-8301-2db1b0adb100",
    "lastScheduledRunId": null,
    "lastSuccessfullyExecutedCode": "# Calculate the cumulative sum of occurrences for each name by year\nnames['cumulative_num'] = names.groupby(['first_name', 'sex'])['num'].cumsum()\n\n# Filter the dataset for male names\nmale_names = names[names['sex'] == 'M']\n\n# Initialize a variable to store the year when 'William' enters the top 5\nyear_william_top5 = None\ncumulative_num_william = None\n\n# Iterate over each year to find when 'William' enters the top 5\nfor year in male_names['year'].unique():\n    # Filter the dataset for the current year\n    current_year_data = male_names[male_names['year'] == year]\n    \n    # Sort by cumulative number in descending order\n    top_names_current_year = current_year_data.sort_values(by='cumulative_num', ascending=False)\n    \n    # Check if 'William' is in the top 5\n    if 'William' in top_names_current_year.head(5)['first_name'].values:\n        year_william_top5 = year\n        cumulative_num_william = top_names_current_year[top_names_current_year['first_name'] == 'William']['cumulative_num'].values[0]\n        break\n\nprint('Year Williams was top name in ',  year_william_top5, ' and Number was : ', cumulative_num_william)",
    "outputsMetadata": {
     "0": {
      "height": 38,
      "type": "stream"
     }
    }
   },
   "outputs": [
    {
     "name": "stdout",
     "output_type": "stream",
     "text": [
      "Year Williams was top name in  1920  and Number was :  50148\n"
     ]
    }
   ],
   "source": [
    "# Calculate the cumulative sum of occurrences for each name by year\n",
    "names['cumulative_num'] = names.groupby(['first_name', 'sex'])['num'].cumsum()\n",
    "\n",
    "# Filter the dataset for male names\n",
    "male_names = names[names['sex'] == 'M']\n",
    "\n",
    "# Initialize a variable to store the year when 'William' enters the top 5\n",
    "year_william_top5 = None\n",
    "cumulative_num_william = None\n",
    "\n",
    "# Iterate over each year to find when 'William' enters the top 5\n",
    "for year in male_names['year'].unique():\n",
    "    # Filter the dataset for the current year\n",
    "    current_year_data = male_names[male_names['year'] == year]\n",
    "    \n",
    "    # Sort by cumulative number in descending order\n",
    "    top_names_current_year = current_year_data.sort_values(by='cumulative_num', ascending=False)\n",
    "    \n",
    "    # Check if 'William' is in the top 5\n",
    "    if 'William' in top_names_current_year.head(5)['first_name'].values:\n",
    "        year_william_top5 = year\n",
    "        cumulative_num_william = top_names_current_year[top_names_current_year['first_name'] == 'William']['cumulative_num'].values[0]\n",
    "        break\n",
    "\n",
    "print('Year Williams was top name in ',  year_william_top5, ' and Number was : ', cumulative_num_william)"
   ]
  },
  {
   "cell_type": "markdown",
   "id": "8c2e4db8-b9f0-4906-80ca-78c385040dcd",
   "metadata": {},
   "source": [
    "The analysis shows that the name \"William\" did not appear as the top male name in any given year based on the maximum number of occurrences. Instead, names like \"John,\" \"Robert,\" . \"John\" was the most popular male name from 1920 to 1923, \"Robert\" in 1924, and \"Liam\" in recent years from 2017 to 2020. This indicates that while \"William\" was a popular name, it never reached the highest annual occurrence compared to other male names."
   ]
  },
  {
   "cell_type": "code",
   "execution_count": 61,
   "id": "45a6843b-23f3-4742-9748-33702ec5248a",
   "metadata": {
    "executionCancelledAt": null,
    "executionTime": 52,
    "lastExecutedAt": 1754921608534,
    "lastExecutedByKernel": "35ec5e07-7562-4a59-8301-2db1b0adb100",
    "lastScheduledRunId": null,
    "lastSuccessfullyExecutedCode": "##For each year show the maximum of time a name was given\n# Filter the data to include only female names\nfemale_names = names[names['sex'] == 'F']\n\n# Group by year and first_name, then find the maximum number of babies given any one female name in that year\nmax_num_per_year_female = female_names.groupby(['year', 'first_name'])['num'].max().reset_index()\n\n# Find the maximum number of babies given any one female name in each year\nmax_num_per_year_female = max_num_per_year_female.groupby('year')['num'].max().reset_index()\n\n# Rename the columns for clarity\nmax_female_per_year = max_num_per_year_female.rename(columns={'num': 'max_num'})\n#print\nmax_female_per_year",
    "outputsMetadata": {
     "0": {
      "height": 550,
      "tableState": {
       "customFilter": {
        "const": {
         "type": "boolean",
         "valid": true,
         "value": true
        },
        "id": "6585776e-3551-457e-a591-73ff8f0fd0b1",
        "nodeType": "const"
       }
      },
      "type": "dataFrame"
     }
    }
   },
   "outputs": [
    {
     "data": {
      "text/html": [
       "<div>\n",
       "<style scoped>\n",
       "    .dataframe tbody tr th:only-of-type {\n",
       "        vertical-align: middle;\n",
       "    }\n",
       "\n",
       "    .dataframe tbody tr th {\n",
       "        vertical-align: top;\n",
       "    }\n",
       "\n",
       "    .dataframe thead th {\n",
       "        text-align: right;\n",
       "    }\n",
       "</style>\n",
       "<table border=\"1\" class=\"dataframe\">\n",
       "  <thead>\n",
       "    <tr style=\"text-align: right;\">\n",
       "      <th></th>\n",
       "      <th>year</th>\n",
       "      <th>max_num</th>\n",
       "    </tr>\n",
       "  </thead>\n",
       "  <tbody>\n",
       "    <tr>\n",
       "      <th>0</th>\n",
       "      <td>1920</td>\n",
       "      <td>70982</td>\n",
       "    </tr>\n",
       "    <tr>\n",
       "      <th>1</th>\n",
       "      <td>1921</td>\n",
       "      <td>73985</td>\n",
       "    </tr>\n",
       "    <tr>\n",
       "      <th>2</th>\n",
       "      <td>1922</td>\n",
       "      <td>72176</td>\n",
       "    </tr>\n",
       "    <tr>\n",
       "      <th>3</th>\n",
       "      <td>1923</td>\n",
       "      <td>71635</td>\n",
       "    </tr>\n",
       "    <tr>\n",
       "      <th>4</th>\n",
       "      <td>1924</td>\n",
       "      <td>73536</td>\n",
       "    </tr>\n",
       "    <tr>\n",
       "      <th>...</th>\n",
       "      <td>...</td>\n",
       "      <td>...</td>\n",
       "    </tr>\n",
       "    <tr>\n",
       "      <th>96</th>\n",
       "      <td>2016</td>\n",
       "      <td>19522</td>\n",
       "    </tr>\n",
       "    <tr>\n",
       "      <th>97</th>\n",
       "      <td>2017</td>\n",
       "      <td>19837</td>\n",
       "    </tr>\n",
       "    <tr>\n",
       "      <th>98</th>\n",
       "      <td>2018</td>\n",
       "      <td>18770</td>\n",
       "    </tr>\n",
       "    <tr>\n",
       "      <th>99</th>\n",
       "      <td>2019</td>\n",
       "      <td>18508</td>\n",
       "    </tr>\n",
       "    <tr>\n",
       "      <th>100</th>\n",
       "      <td>2020</td>\n",
       "      <td>17535</td>\n",
       "    </tr>\n",
       "  </tbody>\n",
       "</table>\n",
       "<p>101 rows × 2 columns</p>\n",
       "</div>"
      ],
      "text/plain": [
       "     year  max_num\n",
       "0    1920    70982\n",
       "1    1921    73985\n",
       "2    1922    72176\n",
       "3    1923    71635\n",
       "4    1924    73536\n",
       "..    ...      ...\n",
       "96   2016    19522\n",
       "97   2017    19837\n",
       "98   2018    18770\n",
       "99   2019    18508\n",
       "100  2020    17535\n",
       "\n",
       "[101 rows x 2 columns]"
      ]
     },
     "execution_count": 61,
     "metadata": {},
     "output_type": "execute_result"
    }
   ],
   "source": [
    "##For each year show the maximum of time a name was given\n",
    "# Filter the data to include only female names\n",
    "female_names = names[names['sex'] == 'F']\n",
    "\n",
    "# Group by year and first_name, then find the maximum number of babies given any one female name in that year\n",
    "max_num_per_year_female = female_names.groupby(['year', 'first_name'])['num'].max().reset_index()\n",
    "\n",
    "# Find the maximum number of babies given any one female name in each year\n",
    "max_num_per_year_female = max_num_per_year_female.groupby('year')['num'].max().reset_index()\n",
    "\n",
    "# Rename the columns for clarity\n",
    "max_female_per_year = max_num_per_year_female.rename(columns={'num': 'max_num'})\n",
    "#print\n",
    "max_female_per_year"
   ]
  },
  {
   "cell_type": "code",
   "execution_count": 62,
   "id": "8d8700f4-308d-44f7-a0d3-5921de0b6715",
   "metadata": {
    "executionCancelledAt": null,
    "executionTime": 52,
    "lastExecutedAt": 1754921608586,
    "lastExecutedByKernel": "35ec5e07-7562-4a59-8301-2db1b0adb100",
    "lastScheduledRunId": null,
    "lastSuccessfullyExecutedCode": "#show the name that correspond to the maximum of time\n# Filter the data to include only male names\nfemale_names = names[names['sex'] == 'F']\n\n# Group by year and first_name, then find the maximum number of babies given any one male name in that year\nmax_num_per_year = female_names.groupby(['year', 'first_name'])['num'].max().reset_index()\n\n# Find the top male name for each year by merging with the max_num_per_year dataframe\ntop_female_names_per_year = max_num_per_year.merge(\n    max_num_per_year.groupby('year')['num'].max().reset_index(),\n    on=['year', 'num']\n)\n\n# Rename the columns for clarity\ntop_female_names_per_year = top_female_names_per_year.rename(columns={'num': 'max_num'})\n#print\ntop_female_names_per_year",
    "outputsMetadata": {
     "0": {
      "height": 550,
      "tableState": {
       "customFilter": {
        "const": {
         "type": "boolean",
         "valid": true,
         "value": true
        },
        "id": "6585776e-3551-457e-a591-73ff8f0fd0b1",
        "nodeType": "const"
       }
      },
      "type": "dataFrame"
     }
    }
   },
   "outputs": [
    {
     "data": {
      "text/html": [
       "<div>\n",
       "<style scoped>\n",
       "    .dataframe tbody tr th:only-of-type {\n",
       "        vertical-align: middle;\n",
       "    }\n",
       "\n",
       "    .dataframe tbody tr th {\n",
       "        vertical-align: top;\n",
       "    }\n",
       "\n",
       "    .dataframe thead th {\n",
       "        text-align: right;\n",
       "    }\n",
       "</style>\n",
       "<table border=\"1\" class=\"dataframe\">\n",
       "  <thead>\n",
       "    <tr style=\"text-align: right;\">\n",
       "      <th></th>\n",
       "      <th>year</th>\n",
       "      <th>first_name</th>\n",
       "      <th>max_num</th>\n",
       "    </tr>\n",
       "  </thead>\n",
       "  <tbody>\n",
       "    <tr>\n",
       "      <th>0</th>\n",
       "      <td>1920</td>\n",
       "      <td>Mary</td>\n",
       "      <td>70982</td>\n",
       "    </tr>\n",
       "    <tr>\n",
       "      <th>1</th>\n",
       "      <td>1921</td>\n",
       "      <td>Mary</td>\n",
       "      <td>73985</td>\n",
       "    </tr>\n",
       "    <tr>\n",
       "      <th>2</th>\n",
       "      <td>1922</td>\n",
       "      <td>Mary</td>\n",
       "      <td>72176</td>\n",
       "    </tr>\n",
       "    <tr>\n",
       "      <th>3</th>\n",
       "      <td>1923</td>\n",
       "      <td>Mary</td>\n",
       "      <td>71635</td>\n",
       "    </tr>\n",
       "    <tr>\n",
       "      <th>4</th>\n",
       "      <td>1924</td>\n",
       "      <td>Mary</td>\n",
       "      <td>73536</td>\n",
       "    </tr>\n",
       "    <tr>\n",
       "      <th>...</th>\n",
       "      <td>...</td>\n",
       "      <td>...</td>\n",
       "      <td>...</td>\n",
       "    </tr>\n",
       "    <tr>\n",
       "      <th>96</th>\n",
       "      <td>2016</td>\n",
       "      <td>Emma</td>\n",
       "      <td>19522</td>\n",
       "    </tr>\n",
       "    <tr>\n",
       "      <th>97</th>\n",
       "      <td>2017</td>\n",
       "      <td>Emma</td>\n",
       "      <td>19837</td>\n",
       "    </tr>\n",
       "    <tr>\n",
       "      <th>98</th>\n",
       "      <td>2018</td>\n",
       "      <td>Emma</td>\n",
       "      <td>18770</td>\n",
       "    </tr>\n",
       "    <tr>\n",
       "      <th>99</th>\n",
       "      <td>2019</td>\n",
       "      <td>Olivia</td>\n",
       "      <td>18508</td>\n",
       "    </tr>\n",
       "    <tr>\n",
       "      <th>100</th>\n",
       "      <td>2020</td>\n",
       "      <td>Olivia</td>\n",
       "      <td>17535</td>\n",
       "    </tr>\n",
       "  </tbody>\n",
       "</table>\n",
       "<p>101 rows × 3 columns</p>\n",
       "</div>"
      ],
      "text/plain": [
       "     year first_name  max_num\n",
       "0    1920       Mary    70982\n",
       "1    1921       Mary    73985\n",
       "2    1922       Mary    72176\n",
       "3    1923       Mary    71635\n",
       "4    1924       Mary    73536\n",
       "..    ...        ...      ...\n",
       "96   2016       Emma    19522\n",
       "97   2017       Emma    19837\n",
       "98   2018       Emma    18770\n",
       "99   2019     Olivia    18508\n",
       "100  2020     Olivia    17535\n",
       "\n",
       "[101 rows x 3 columns]"
      ]
     },
     "execution_count": 62,
     "metadata": {},
     "output_type": "execute_result"
    }
   ],
   "source": [
    "#show the name that correspond to the maximum of time\n",
    "# Filter the data to include only male names\n",
    "female_names = names[names['sex'] == 'F']\n",
    "\n",
    "# Group by year and first_name, then find the maximum number of babies given any one male name in that year\n",
    "max_num_per_year = female_names.groupby(['year', 'first_name'])['num'].max().reset_index()\n",
    "\n",
    "# Find the top male name for each year by merging with the max_num_per_year dataframe\n",
    "top_female_names_per_year = max_num_per_year.merge(\n",
    "    max_num_per_year.groupby('year')['num'].max().reset_index(),\n",
    "    on=['year', 'num']\n",
    ")\n",
    "\n",
    "# Rename the columns for clarity\n",
    "top_female_names_per_year = top_female_names_per_year.rename(columns={'num': 'max_num'})\n",
    "#print\n",
    "top_female_names_per_year"
   ]
  },
  {
   "cell_type": "markdown",
   "id": "530dddae-64ea-4527-b0e4-440efe5504b1",
   "metadata": {},
   "source": [
    "same approch we did with the men names. \n",
    "the code return Year with the female name most given\n",
    "- From the previous code we know that in 1920 : the maximum number of time a name was given is 70,982. it match with the name Mary given in 1920\n",
    "- From 1920 to 1946 Mary is the most given name\n",
    "- From 1947 to 1952 it is Linda\n",
    "- Mary came back on the top of the list from 1953 to 1961"
   ]
  },
  {
   "cell_type": "code",
   "execution_count": 63,
   "id": "a99c9069-474e-454b-8ba3-78958f0b9ddd",
   "metadata": {
    "executionCancelledAt": null,
    "executionTime": 54,
    "lastExecutedAt": 1754921958754,
    "lastExecutedByKernel": "35ec5e07-7562-4a59-8301-2db1b0adb100",
    "lastScheduledRunId": null,
    "lastSuccessfullyExecutedCode": "# Merge to get the names associated with the maximum number of babies\nmax_female_per_year = pd.merge(max_num_per_year_female, female_names, on=['year', 'num'])\n\n# Count the number of years each name appears as the most popular name\ntop_names_count = max_female_per_year['first_name'].value_counts().reset_index()\n\n# Rename the columns for clarity\ntop_names_count.columns = ['first_name', 'num_years_on_top']\n\n# Display the result\ntop_names_count",
    "outputsMetadata": {
     "0": {
      "height": 50,
      "tableState": {
       "customFilter": {
        "const": {
         "type": "boolean",
         "valid": true,
         "value": true
        },
        "id": "6585776e-3551-457e-a591-73ff8f0fd0b1",
        "nodeType": "const"
       }
      },
      "type": "dataFrame"
     }
    }
   },
   "outputs": [
    {
     "data": {
      "text/html": [
       "<div>\n",
       "<style scoped>\n",
       "    .dataframe tbody tr th:only-of-type {\n",
       "        vertical-align: middle;\n",
       "    }\n",
       "\n",
       "    .dataframe tbody tr th {\n",
       "        vertical-align: top;\n",
       "    }\n",
       "\n",
       "    .dataframe thead th {\n",
       "        text-align: right;\n",
       "    }\n",
       "</style>\n",
       "<table border=\"1\" class=\"dataframe\">\n",
       "  <thead>\n",
       "    <tr style=\"text-align: right;\">\n",
       "      <th></th>\n",
       "      <th>first_name</th>\n",
       "      <th>num_years_on_top</th>\n",
       "    </tr>\n",
       "  </thead>\n",
       "  <tbody>\n",
       "    <tr>\n",
       "      <th>0</th>\n",
       "      <td>Mary</td>\n",
       "      <td>36</td>\n",
       "    </tr>\n",
       "    <tr>\n",
       "      <th>1</th>\n",
       "      <td>Jennifer</td>\n",
       "      <td>15</td>\n",
       "    </tr>\n",
       "    <tr>\n",
       "      <th>2</th>\n",
       "      <td>Emily</td>\n",
       "      <td>12</td>\n",
       "    </tr>\n",
       "    <tr>\n",
       "      <th>3</th>\n",
       "      <td>Jessica</td>\n",
       "      <td>9</td>\n",
       "    </tr>\n",
       "    <tr>\n",
       "      <th>4</th>\n",
       "      <td>Lisa</td>\n",
       "      <td>8</td>\n",
       "    </tr>\n",
       "    <tr>\n",
       "      <th>5</th>\n",
       "      <td>Linda</td>\n",
       "      <td>6</td>\n",
       "    </tr>\n",
       "    <tr>\n",
       "      <th>6</th>\n",
       "      <td>Emma</td>\n",
       "      <td>6</td>\n",
       "    </tr>\n",
       "    <tr>\n",
       "      <th>7</th>\n",
       "      <td>Sophia</td>\n",
       "      <td>3</td>\n",
       "    </tr>\n",
       "    <tr>\n",
       "      <th>8</th>\n",
       "      <td>Ashley</td>\n",
       "      <td>2</td>\n",
       "    </tr>\n",
       "    <tr>\n",
       "      <th>9</th>\n",
       "      <td>Isabella</td>\n",
       "      <td>2</td>\n",
       "    </tr>\n",
       "    <tr>\n",
       "      <th>10</th>\n",
       "      <td>Olivia</td>\n",
       "      <td>2</td>\n",
       "    </tr>\n",
       "  </tbody>\n",
       "</table>\n",
       "</div>"
      ],
      "text/plain": [
       "   first_name  num_years_on_top\n",
       "0        Mary                36\n",
       "1    Jennifer                15\n",
       "2       Emily                12\n",
       "3     Jessica                 9\n",
       "4        Lisa                 8\n",
       "5       Linda                 6\n",
       "6        Emma                 6\n",
       "7      Sophia                 3\n",
       "8      Ashley                 2\n",
       "9    Isabella                 2\n",
       "10     Olivia                 2"
      ]
     },
     "execution_count": 63,
     "metadata": {},
     "output_type": "execute_result"
    }
   ],
   "source": [
    "# Merge to get the names associated with the maximum number of babies\n",
    "max_female_per_year = pd.merge(max_num_per_year_female, female_names, on=['year', 'num'])\n",
    "\n",
    "# Count the number of years each name appears as the most popular name\n",
    "top_names_count = max_female_per_year['first_name'].value_counts().reset_index()\n",
    "\n",
    "# Rename the columns for clarity\n",
    "top_names_count.columns = ['first_name', 'num_years_on_top']\n",
    "\n",
    "# Display the result\n",
    "top_names_count"
   ]
  },
  {
   "cell_type": "code",
   "execution_count": 64,
   "id": "d4c8c4ff-3ec8-41b7-9c8f-35daa786d804",
   "metadata": {
    "executionCancelledAt": null,
    "executionTime": 48,
    "lastExecutedAt": 1754921608690,
    "lastExecutedByKernel": "35ec5e07-7562-4a59-8301-2db1b0adb100",
    "lastScheduledRunId": null,
    "lastSuccessfullyExecutedCode": "# Get the top 5 names based on the number of years on top\ntop5_femalenames_number1 = top_names_count.head(5)['first_name'].tolist()\ntop5_femalenames_number1"
   },
   "outputs": [
    {
     "data": {
      "text/plain": [
       "['Mary', 'Jennifer', 'Emily', 'Jessica', 'Lisa']"
      ]
     },
     "execution_count": 64,
     "metadata": {},
     "output_type": "execute_result"
    }
   ],
   "source": [
    "# Get the top 5 names based on the number of years on top\n",
    "top5_femalenames_number1 = top_names_count.head(5)['first_name'].tolist()\n",
    "top5_femalenames_number1"
   ]
  },
  {
   "cell_type": "markdown",
   "id": "000a574f-3a6a-41b4-95e8-245343d68e7f",
   "metadata": {},
   "source": [
    "Mary appears 36 times on top\n",
    "_**Remember**_ For the periode of 1920 - 2020 : The 5 higher number of female names are : 'Mary', 'Patricia', 'Elizabeth', 'Jennifer', 'Linda'\n",
    "Noticed that :\n",
    "- Patricia , Elizabeth, were never the most given name in any of the year\n",
    "- Linda is 6th on the list of name most given in a particular year. 6 times but manage to be on the list of 5 most given name over 101 years\n",
    " "
   ]
  },
  {
   "cell_type": "code",
   "execution_count": 77,
   "id": "24bb88a1-5e0d-483c-b802-252e07d678c2",
   "metadata": {
    "executionCancelledAt": null,
    "executionTime": 217,
    "lastExecutedAt": 1754921958971,
    "lastExecutedByKernel": "35ec5e07-7562-4a59-8301-2db1b0adb100",
    "lastScheduledRunId": null,
    "lastSuccessfullyExecutedCode": "#a graph to visualise the evolution over time\n# Filter the data to include only the specified female names because over all most 5 given\n# lisa and emily are added as they appeared in some year based on the maximum number of occurrences.\nselected_femalnames = ['Mary', 'Patricia', 'Elizabeth', 'Jennifer', 'Linda' , 'Emily', 'Lisa'] \nfiltered_femalnames = names[(names['first_name'].isin(selected_femalnames)) & (names['sex'] == 'F')]\n\n# Group by year and first_name, then sum the occurrences\nname_counts_per_year = filtered_femalnames.groupby(['year', 'first_name'])['num'].sum().reset_index()\n\n# Create an interactive line plot\nfig = px.line(name_counts_per_year, x='year', y='num', color='first_name',\n              title='Popularity of Selected Male Names Over Time',\n              labels={'num': 'Number of Babies', 'year': 'Year', 'first_name': 'Name'})\n\n# Show the plot\nfig.show()",
    "outputsMetadata": {
     "0": {
      "height": 17,
      "type": "plotly"
     }
    }
   },
   "outputs": [
    {
     "data": {
      "application/vnd.plotly.v1+json": {
       "config": {
        "plotlyServerURL": "https://plot.ly"
       },
       "data": [
        {
         "hovertemplate": "Name=Elizabeth<br>Year=%{x}<br>Number of Babies=%{y}<extra></extra>",
         "legendgroup": "Elizabeth",
         "line": {
          "color": "#636efa",
          "dash": "solid"
         },
         "marker": {
          "symbol": "circle"
         },
         "mode": "lines",
         "name": "Elizabeth",
         "orientation": "v",
         "showlegend": true,
         "type": "scatter",
         "x": {
          "bdata": "gAeBB4IHgweEB4UHhgeHB4gHiQeKB4sHjAeNB44HjweQB5EHkgeTB5QHlQeWB5cHmAeZB5oHmwecB50HngefB6AHoQeiB6MHpAelB6YHpweoB6kHqgerB6wHrQeuB68HsAexB7IHswe0B7UHtge3B7gHuQe6B7sHvAe9B74HvwfAB8EHwgfDB8QHxQfGB8cHyAfJB8oHywfMB80HzgfPB9AH0QfSB9MH1AfVB9YH1wfYB9kH2gfbB9wH3QfeB98H4AfhB+IH4wfkBw==",
          "dtype": "i2"
         },
         "xaxis": "x",
         "y": {
          "bdata": "JT65PYs7ZTxmOnA2IzLuMPUt8Sv0KjQoDSc5I4IkcyObIqkkSibtJeEmHCixK30tGCtkKOktgDSdM5E1/jcPO5Q+5D7KQDZB2D9YRGRI+EepSalJi0W5RI5Dwj8LPvU+JjrCOws7IzWZL0Yw5i+4MOg0LUCqQZ9GR0zQTh5Qg02KTz9QgkqvSElOSk8NUadPWUqVRJJBPD+BPkI8Vjv0OwQ7xTkSOR03+jS9MZAwAjPtLiMrHShvJ/Ml8yRoJREmZCURI3Uhxx4wHA==",
          "dtype": "i2"
         },
         "yaxis": "y"
        },
        {
         "hovertemplate": "Name=Mary<br>Year=%{x}<br>Number of Babies=%{y}<extra></extra>",
         "legendgroup": "Mary",
         "line": {
          "color": "#EF553B",
          "dash": "solid"
         },
         "marker": {
          "symbol": "circle"
         },
         "mode": "lines",
         "name": "Mary",
         "orientation": "v",
         "showlegend": true,
         "type": "scatter",
         "x": {
          "bdata": "gAeBB4IHgweEB4UHhgeHB4gHiQeKB4sHjAeNB44HjweQB5EHkgeTB5QHlQeWB5cHmAeZB5oHmwecB50HngefB6AHoQeiB6MHpAelB6YHpweoB6kHqgerB6wHrQeuB68HsAexB7IHswe0B7UHtge3B7gHuQe6B7sHvAe9B74HvwfAB8EHwgfDB8QHxQfGB8cHyAfJB8oHywfMB80HzgfPB9AH0QfSB9MH",
          "dtype": "i2"
         },
         "xaxis": "x",
         "y": {
          "bdata": "RhUBAAEhAQDwGQEA0xcBAEAfAQC6EwEA/AgBAPATAQA5BQEAF/gAAJX6AACH6wAA6+kAANzYAABk3gAAINcAAGbUAABc2QAAltsAAHfWAACQ2wAAueIAABj3AAB9AgEABfQAAJHnAACPBwEABxgBAPcLAQAxBQEAxv8AALwAAQBZAAEAhfsAALMJAQDF9gAAL/EAALDuAAAy2gAAztQAABXJAABAugAA4KkAAFCiAAAZoAAA3oUAANZwAADkYgAA21QAAItNAAACSwAAOkEAAL81AAAZMAAA3S0AANYqAABPKAAAoikAADonAABBKQAA0ywAACQrAABnKgAAqCYAAEwkAAAbJAAAPCEAAMsgAAA+IQAAxCEAAN0hAAA5IgAADSEAALcfAABIHgAAIR0AADMbAAD3GQAAPxkAAO4YAABBGAAAaxYAAF8VAAChEwAA",
          "dtype": "i4"
         },
         "yaxis": "y"
        },
        {
         "hovertemplate": "Name=Patricia<br>Year=%{x}<br>Number of Babies=%{y}<extra></extra>",
         "legendgroup": "Patricia",
         "line": {
          "color": "#00cc96",
          "dash": "solid"
         },
         "marker": {
          "symbol": "circle"
         },
         "mode": "lines",
         "name": "Patricia",
         "orientation": "v",
         "showlegend": true,
         "type": "scatter",
         "x": {
          "bdata": "hAeFB4YHhweIB4kHigeLB4wHjQeOB48HkAeRB5IHkweUB5UHlgeXB5gHmQeaB5sHnAedB54HnwegB6EHogejB6QHpQemB6cHqAepB6oHqwesB60HrgevB7AHsQeyB7MHtAe1B7YHtwe4B7kHuge7B7wHvQe+Bw==",
          "dtype": "i2"
         },
         "xaxis": "x",
         "y": {
          "bdata": "LhsAAJ8fAACNIQAAOSkAACwwAAA4NQAAhz0AAFVAAABGRgAAx0gAAG1RAABdWQAAa10AANZoAACkawAAC3QAAJl/AAAnkAAAIpoAAMaaAAAOkAAAAIwAANq0AABOyAAAObQAAPq0AABHuwAAfNwAAGrPAABNxwAA+78AAI60AABGqQAAbJkAADuUAACRiQAAaX0AAMhwAACnZwAAImMAAOZlAAABXAAAj04AAFhFAAC8PQAAbDoAAF00AADJLAAAfSUAAB0hAABiHwAAihsAAIEXAAARFwAAfRUAABMWAAC9FAAAoxQAADAUAAA=",
          "dtype": "i4"
         },
         "yaxis": "y"
        },
        {
         "hovertemplate": "Name=Linda<br>Year=%{x}<br>Number of Babies=%{y}<extra></extra>",
         "legendgroup": "Linda",
         "line": {
          "color": "#ab63fa",
          "dash": "solid"
         },
         "marker": {
          "symbol": "circle"
         },
         "mode": "lines",
         "name": "Linda",
         "orientation": "v",
         "showlegend": true,
         "type": "scatter",
         "x": {
          "bdata": "kgeTB5QHlQeWB5cHmAeZB5oHmwecB50HngefB6AHoQeiB6MHpAelB6YHpweoB6kHqgerB6wHrQeuB68HsAexB7IHswe0Bw==",
          "dtype": "i2"
         },
         "xaxis": "x",
         "y": {
          "bdata": "hxsAANkpAADARwAAqVwAAHx7AAAolgAADZYAAPahAADmzQAAbYUBANR3AQCLYwEALzoBAPsgAQAHBgEAYu8AAE/YAABkyAAAyrsAANStAACzowAA2p0AAL+RAAD8igAA63oAAEhsAABQXAAAiksAAMw8AACNMwAAaiwAAAYoAAAaIgAAzhwAAHEWAAA=",
          "dtype": "i4"
         },
         "yaxis": "y"
        },
        {
         "hovertemplate": "Name=Lisa<br>Year=%{x}<br>Number of Babies=%{y}<extra></extra>",
         "legendgroup": "Lisa",
         "line": {
          "color": "#FFA15A",
          "dash": "solid"
         },
         "marker": {
          "symbol": "circle"
         },
         "mode": "lines",
         "name": "Lisa",
         "orientation": "v",
         "showlegend": true,
         "type": "scatter",
         "x": {
          "bdata": "ogejB6QHpQemB6cHqAepB6oHqwesB60HrgevB7AHsQeyB7MHtAe1B7YHtwe4B7kHuge7B7wHvQe+B78HwAfBB8IHwwfEB8UHxgc=",
          "dtype": "i2"
         },
         "xaxis": "x",
         "y": {
          "bdata": "GRcAAFohAAAEKwAAIDsAAOpOAABdZAAAqIMAAM+mAAD9swAA6toAAADUAABu6wAAVt4AANLMAAB+wQAA5K8AADSYAACPgAAAnWsAAI9YAAA9TQAA2UYAAMVDAAB3QgAAikIAAIVDAAAyPQAA1jcAAF0xAADOLAAA/CcAADcjAADhHgAAeh0AAGQcAACtGQAA4RQAAA==",
          "dtype": "i4"
         },
         "yaxis": "y"
        },
        {
         "hovertemplate": "Name=Jennifer<br>Year=%{x}<br>Number of Babies=%{y}<extra></extra>",
         "legendgroup": "Jennifer",
         "line": {
          "color": "#19d3f3",
          "dash": "solid"
         },
         "marker": {
          "symbol": "circle"
         },
         "mode": "lines",
         "name": "Jennifer",
         "orientation": "v",
         "showlegend": true,
         "type": "scatter",
         "x": {
          "bdata": "pQemB6cHqAepB6oHqwesB60HrgevB7AHsQeyB7MHtAe1B7YHtwe4B7kHuge7B7wHvQe+B78HwAfBB8IHwwfEB8UHxgfHB8gHyQfKB8sHzAfNB84HzwfQB9EH0gfTB9QH1QfWBw==",
          "dtype": "i2"
         },
         "xaxis": "x",
         "y": {
          "bdata": "axUAAPcWAABbGAAASxwAADAkAADjKgAA7i0AAJsyAABnOwAAIkcAADlHAADkaAAAp4MAAE20AADM3QAAdPgAAO7zAACM9gAASuMAAFLoAABa5gAA/9sAAIzdAAAL5AAA2d4AAB/fAABM1AAAgMUAAJ+mAABYjQAAwH8AAPJsAAC+XQAA1lYAAMFQAACbRQAAhz0AALA2AACMMQAA0C0AAD8uAADDKQAAdikAAKwkAADZIgAAWyEAAI0dAACPGQAAzBYAAJMUAAA=",
          "dtype": "i4"
         },
         "yaxis": "y"
        },
        {
         "hovertemplate": "Name=Emily<br>Year=%{x}<br>Number of Babies=%{y}<extra></extra>",
         "legendgroup": "Emily",
         "line": {
          "color": "#FF6692",
          "dash": "solid"
         },
         "marker": {
          "symbol": "circle"
         },
         "mode": "lines",
         "name": "Emily",
         "orientation": "v",
         "showlegend": true,
         "type": "scatter",
         "x": {
          "bdata": "twe4B7kHuge7B7wHvQe+B78HwAfBB8IHwwfEB8UHxgfHB8gHyQfKB8sHzAfNB84HzwfQB9EH0gfTB9QH1QfWB9cH2AfZB9oH2wfcB90H3gffB+AH4QfiB+MH5Ac=",
          "dtype": "i2"
         },
         "xaxis": "x",
         "y": {
          "bdata": "bBWrFd8aNx0kHy4jMirnMFow8TFQM7QzcjkAPqtDp0tVT0lVKFxXXjtfP2KGZElmq2dlZeFhk19bZM9hiF2hU55LHUT7O8U3uTdZNUszbDESLu4qRSb2ISUgyBo=",
          "dtype": "i2"
         },
         "yaxis": "y"
        }
       ],
       "layout": {
        "legend": {
         "title": {
          "text": "Name"
         },
         "tracegroupgap": 0
        },
        "template": {
         "data": {
          "bar": [
           {
            "error_x": {
             "color": "#2a3f5f"
            },
            "error_y": {
             "color": "#2a3f5f"
            },
            "marker": {
             "line": {
              "color": "#E5ECF6",
              "width": 0.5
             },
             "pattern": {
              "fillmode": "overlay",
              "size": 10,
              "solidity": 0.2
             }
            },
            "type": "bar"
           }
          ],
          "barpolar": [
           {
            "marker": {
             "line": {
              "color": "#E5ECF6",
              "width": 0.5
             },
             "pattern": {
              "fillmode": "overlay",
              "size": 10,
              "solidity": 0.2
             }
            },
            "type": "barpolar"
           }
          ],
          "carpet": [
           {
            "aaxis": {
             "endlinecolor": "#2a3f5f",
             "gridcolor": "white",
             "linecolor": "white",
             "minorgridcolor": "white",
             "startlinecolor": "#2a3f5f"
            },
            "baxis": {
             "endlinecolor": "#2a3f5f",
             "gridcolor": "white",
             "linecolor": "white",
             "minorgridcolor": "white",
             "startlinecolor": "#2a3f5f"
            },
            "type": "carpet"
           }
          ],
          "choropleth": [
           {
            "colorbar": {
             "outlinewidth": 0,
             "ticks": ""
            },
            "type": "choropleth"
           }
          ],
          "contour": [
           {
            "colorbar": {
             "outlinewidth": 0,
             "ticks": ""
            },
            "colorscale": [
             [
              0,
              "#0d0887"
             ],
             [
              0.1111111111111111,
              "#46039f"
             ],
             [
              0.2222222222222222,
              "#7201a8"
             ],
             [
              0.3333333333333333,
              "#9c179e"
             ],
             [
              0.4444444444444444,
              "#bd3786"
             ],
             [
              0.5555555555555556,
              "#d8576b"
             ],
             [
              0.6666666666666666,
              "#ed7953"
             ],
             [
              0.7777777777777778,
              "#fb9f3a"
             ],
             [
              0.8888888888888888,
              "#fdca26"
             ],
             [
              1,
              "#f0f921"
             ]
            ],
            "type": "contour"
           }
          ],
          "contourcarpet": [
           {
            "colorbar": {
             "outlinewidth": 0,
             "ticks": ""
            },
            "type": "contourcarpet"
           }
          ],
          "heatmap": [
           {
            "colorbar": {
             "outlinewidth": 0,
             "ticks": ""
            },
            "colorscale": [
             [
              0,
              "#0d0887"
             ],
             [
              0.1111111111111111,
              "#46039f"
             ],
             [
              0.2222222222222222,
              "#7201a8"
             ],
             [
              0.3333333333333333,
              "#9c179e"
             ],
             [
              0.4444444444444444,
              "#bd3786"
             ],
             [
              0.5555555555555556,
              "#d8576b"
             ],
             [
              0.6666666666666666,
              "#ed7953"
             ],
             [
              0.7777777777777778,
              "#fb9f3a"
             ],
             [
              0.8888888888888888,
              "#fdca26"
             ],
             [
              1,
              "#f0f921"
             ]
            ],
            "type": "heatmap"
           }
          ],
          "histogram": [
           {
            "marker": {
             "pattern": {
              "fillmode": "overlay",
              "size": 10,
              "solidity": 0.2
             }
            },
            "type": "histogram"
           }
          ],
          "histogram2d": [
           {
            "colorbar": {
             "outlinewidth": 0,
             "ticks": ""
            },
            "colorscale": [
             [
              0,
              "#0d0887"
             ],
             [
              0.1111111111111111,
              "#46039f"
             ],
             [
              0.2222222222222222,
              "#7201a8"
             ],
             [
              0.3333333333333333,
              "#9c179e"
             ],
             [
              0.4444444444444444,
              "#bd3786"
             ],
             [
              0.5555555555555556,
              "#d8576b"
             ],
             [
              0.6666666666666666,
              "#ed7953"
             ],
             [
              0.7777777777777778,
              "#fb9f3a"
             ],
             [
              0.8888888888888888,
              "#fdca26"
             ],
             [
              1,
              "#f0f921"
             ]
            ],
            "type": "histogram2d"
           }
          ],
          "histogram2dcontour": [
           {
            "colorbar": {
             "outlinewidth": 0,
             "ticks": ""
            },
            "colorscale": [
             [
              0,
              "#0d0887"
             ],
             [
              0.1111111111111111,
              "#46039f"
             ],
             [
              0.2222222222222222,
              "#7201a8"
             ],
             [
              0.3333333333333333,
              "#9c179e"
             ],
             [
              0.4444444444444444,
              "#bd3786"
             ],
             [
              0.5555555555555556,
              "#d8576b"
             ],
             [
              0.6666666666666666,
              "#ed7953"
             ],
             [
              0.7777777777777778,
              "#fb9f3a"
             ],
             [
              0.8888888888888888,
              "#fdca26"
             ],
             [
              1,
              "#f0f921"
             ]
            ],
            "type": "histogram2dcontour"
           }
          ],
          "mesh3d": [
           {
            "colorbar": {
             "outlinewidth": 0,
             "ticks": ""
            },
            "type": "mesh3d"
           }
          ],
          "parcoords": [
           {
            "line": {
             "colorbar": {
              "outlinewidth": 0,
              "ticks": ""
             }
            },
            "type": "parcoords"
           }
          ],
          "pie": [
           {
            "automargin": true,
            "type": "pie"
           }
          ],
          "scatter": [
           {
            "fillpattern": {
             "fillmode": "overlay",
             "size": 10,
             "solidity": 0.2
            },
            "type": "scatter"
           }
          ],
          "scatter3d": [
           {
            "line": {
             "colorbar": {
              "outlinewidth": 0,
              "ticks": ""
             }
            },
            "marker": {
             "colorbar": {
              "outlinewidth": 0,
              "ticks": ""
             }
            },
            "type": "scatter3d"
           }
          ],
          "scattercarpet": [
           {
            "marker": {
             "colorbar": {
              "outlinewidth": 0,
              "ticks": ""
             }
            },
            "type": "scattercarpet"
           }
          ],
          "scattergeo": [
           {
            "marker": {
             "colorbar": {
              "outlinewidth": 0,
              "ticks": ""
             }
            },
            "type": "scattergeo"
           }
          ],
          "scattergl": [
           {
            "marker": {
             "colorbar": {
              "outlinewidth": 0,
              "ticks": ""
             }
            },
            "type": "scattergl"
           }
          ],
          "scattermap": [
           {
            "marker": {
             "colorbar": {
              "outlinewidth": 0,
              "ticks": ""
             }
            },
            "type": "scattermap"
           }
          ],
          "scattermapbox": [
           {
            "marker": {
             "colorbar": {
              "outlinewidth": 0,
              "ticks": ""
             }
            },
            "type": "scattermapbox"
           }
          ],
          "scatterpolar": [
           {
            "marker": {
             "colorbar": {
              "outlinewidth": 0,
              "ticks": ""
             }
            },
            "type": "scatterpolar"
           }
          ],
          "scatterpolargl": [
           {
            "marker": {
             "colorbar": {
              "outlinewidth": 0,
              "ticks": ""
             }
            },
            "type": "scatterpolargl"
           }
          ],
          "scatterternary": [
           {
            "marker": {
             "colorbar": {
              "outlinewidth": 0,
              "ticks": ""
             }
            },
            "type": "scatterternary"
           }
          ],
          "surface": [
           {
            "colorbar": {
             "outlinewidth": 0,
             "ticks": ""
            },
            "colorscale": [
             [
              0,
              "#0d0887"
             ],
             [
              0.1111111111111111,
              "#46039f"
             ],
             [
              0.2222222222222222,
              "#7201a8"
             ],
             [
              0.3333333333333333,
              "#9c179e"
             ],
             [
              0.4444444444444444,
              "#bd3786"
             ],
             [
              0.5555555555555556,
              "#d8576b"
             ],
             [
              0.6666666666666666,
              "#ed7953"
             ],
             [
              0.7777777777777778,
              "#fb9f3a"
             ],
             [
              0.8888888888888888,
              "#fdca26"
             ],
             [
              1,
              "#f0f921"
             ]
            ],
            "type": "surface"
           }
          ],
          "table": [
           {
            "cells": {
             "fill": {
              "color": "#EBF0F8"
             },
             "line": {
              "color": "white"
             }
            },
            "header": {
             "fill": {
              "color": "#C8D4E3"
             },
             "line": {
              "color": "white"
             }
            },
            "type": "table"
           }
          ]
         },
         "layout": {
          "annotationdefaults": {
           "arrowcolor": "#2a3f5f",
           "arrowhead": 0,
           "arrowwidth": 1
          },
          "autotypenumbers": "strict",
          "coloraxis": {
           "colorbar": {
            "outlinewidth": 0,
            "ticks": ""
           }
          },
          "colorscale": {
           "diverging": [
            [
             0,
             "#8e0152"
            ],
            [
             0.1,
             "#c51b7d"
            ],
            [
             0.2,
             "#de77ae"
            ],
            [
             0.3,
             "#f1b6da"
            ],
            [
             0.4,
             "#fde0ef"
            ],
            [
             0.5,
             "#f7f7f7"
            ],
            [
             0.6,
             "#e6f5d0"
            ],
            [
             0.7,
             "#b8e186"
            ],
            [
             0.8,
             "#7fbc41"
            ],
            [
             0.9,
             "#4d9221"
            ],
            [
             1,
             "#276419"
            ]
           ],
           "sequential": [
            [
             0,
             "#0d0887"
            ],
            [
             0.1111111111111111,
             "#46039f"
            ],
            [
             0.2222222222222222,
             "#7201a8"
            ],
            [
             0.3333333333333333,
             "#9c179e"
            ],
            [
             0.4444444444444444,
             "#bd3786"
            ],
            [
             0.5555555555555556,
             "#d8576b"
            ],
            [
             0.6666666666666666,
             "#ed7953"
            ],
            [
             0.7777777777777778,
             "#fb9f3a"
            ],
            [
             0.8888888888888888,
             "#fdca26"
            ],
            [
             1,
             "#f0f921"
            ]
           ],
           "sequentialminus": [
            [
             0,
             "#0d0887"
            ],
            [
             0.1111111111111111,
             "#46039f"
            ],
            [
             0.2222222222222222,
             "#7201a8"
            ],
            [
             0.3333333333333333,
             "#9c179e"
            ],
            [
             0.4444444444444444,
             "#bd3786"
            ],
            [
             0.5555555555555556,
             "#d8576b"
            ],
            [
             0.6666666666666666,
             "#ed7953"
            ],
            [
             0.7777777777777778,
             "#fb9f3a"
            ],
            [
             0.8888888888888888,
             "#fdca26"
            ],
            [
             1,
             "#f0f921"
            ]
           ]
          },
          "colorway": [
           "#636efa",
           "#EF553B",
           "#00cc96",
           "#ab63fa",
           "#FFA15A",
           "#19d3f3",
           "#FF6692",
           "#B6E880",
           "#FF97FF",
           "#FECB52"
          ],
          "font": {
           "color": "#2a3f5f"
          },
          "geo": {
           "bgcolor": "white",
           "lakecolor": "white",
           "landcolor": "#E5ECF6",
           "showlakes": true,
           "showland": true,
           "subunitcolor": "white"
          },
          "hoverlabel": {
           "align": "left"
          },
          "hovermode": "closest",
          "mapbox": {
           "style": "light"
          },
          "paper_bgcolor": "white",
          "plot_bgcolor": "#E5ECF6",
          "polar": {
           "angularaxis": {
            "gridcolor": "white",
            "linecolor": "white",
            "ticks": ""
           },
           "bgcolor": "#E5ECF6",
           "radialaxis": {
            "gridcolor": "white",
            "linecolor": "white",
            "ticks": ""
           }
          },
          "scene": {
           "xaxis": {
            "backgroundcolor": "#E5ECF6",
            "gridcolor": "white",
            "gridwidth": 2,
            "linecolor": "white",
            "showbackground": true,
            "ticks": "",
            "zerolinecolor": "white"
           },
           "yaxis": {
            "backgroundcolor": "#E5ECF6",
            "gridcolor": "white",
            "gridwidth": 2,
            "linecolor": "white",
            "showbackground": true,
            "ticks": "",
            "zerolinecolor": "white"
           },
           "zaxis": {
            "backgroundcolor": "#E5ECF6",
            "gridcolor": "white",
            "gridwidth": 2,
            "linecolor": "white",
            "showbackground": true,
            "ticks": "",
            "zerolinecolor": "white"
           }
          },
          "shapedefaults": {
           "line": {
            "color": "#2a3f5f"
           }
          },
          "ternary": {
           "aaxis": {
            "gridcolor": "white",
            "linecolor": "white",
            "ticks": ""
           },
           "baxis": {
            "gridcolor": "white",
            "linecolor": "white",
            "ticks": ""
           },
           "bgcolor": "#E5ECF6",
           "caxis": {
            "gridcolor": "white",
            "linecolor": "white",
            "ticks": ""
           }
          },
          "title": {
           "x": 0.05
          },
          "xaxis": {
           "automargin": true,
           "gridcolor": "white",
           "linecolor": "white",
           "ticks": "",
           "title": {
            "standoff": 15
           },
           "zerolinecolor": "white",
           "zerolinewidth": 2
          },
          "yaxis": {
           "automargin": true,
           "gridcolor": "white",
           "linecolor": "white",
           "ticks": "",
           "title": {
            "standoff": 15
           },
           "zerolinecolor": "white",
           "zerolinewidth": 2
          }
         }
        },
        "title": {
         "text": "Popularity of Selected Female Names Over Time"
        },
        "xaxis": {
         "anchor": "y",
         "domain": [
          0,
          1
         ],
         "title": {
          "text": "Year"
         }
        },
        "yaxis": {
         "anchor": "x",
         "domain": [
          0,
          1
         ],
         "title": {
          "text": "Number of Babies"
         }
        }
       }
      }
     },
     "metadata": {},
     "output_type": "display_data"
    }
   ],
   "source": [
    "#a graph to visualise the evolution over time\n",
    "# Filter the data to include only the specified female names because over all most 5 given\n",
    "# lisa and emily are added as they appeared in some year based on the maximum number of occurrences.\n",
    "selected_femalnames = ['Mary', 'Patricia', 'Elizabeth', 'Jennifer', 'Linda' , 'Emily', 'Lisa'] \n",
    "filtered_femalnames = names[(names['first_name'].isin(selected_femalnames)) & (names['sex'] == 'F')]\n",
    "\n",
    "# Group by year and first_name, then sum the occurrences\n",
    "name_counts_per_year = filtered_femalnames.groupby(['year', 'first_name'])['num'].sum().reset_index()\n",
    "\n",
    "# Create an interactive line plot\n",
    "fig = px.line(name_counts_per_year, x='year', y='num', color='first_name',\n",
    "              title='Popularity of Selected Female Names Over Time',\n",
    "              labels={'num': 'Number of Babies', 'year': 'Year', 'first_name': 'Name'})\n",
    "\n",
    "# Show the plot\n",
    "fig.show()"
   ]
  },
  {
   "cell_type": "markdown",
   "id": "8bf27a9f-d87e-45a7-8127-7766f7d14442",
   "metadata": {},
   "source": [
    "**Summary:**\n",
    "Patricia and Elizabeth were consistently popular but never the top names in any given year.\n",
    "Other names had higher peak popularity, overshadowing Patricia and Elizabeth.\n",
    "The line plot provides a visual representation of their popularity trends over time, allowing for comparison with other names.\n",
    "These conclusions help you understand the historical popularity of Patricia and Elizabeth and how they compare to other names that were more dominant in specific years."
   ]
  },
  {
   "cell_type": "code",
   "execution_count": 66,
   "id": "fa021bfe-54e8-4e1a-9b33-3576dc0ced99",
   "metadata": {
    "executionCancelledAt": null,
    "executionTime": 52,
    "lastExecutedAt": 1754921608843,
    "lastExecutedByKernel": "35ec5e07-7562-4a59-8301-2db1b0adb100",
    "lastScheduledRunId": null,
    "lastSuccessfullyExecutedCode": "# Calculate the cumulative sum of occurrences for each name by year\nnames['cumulative_num'] = names.groupby(['first_name', 'sex'])['num'].cumsum()\n\n# Filter the dataset for female names\nfemale_names = names[names['sex'] == 'F']\n\n# Initialize variables to store the year and cumulative number when 'Patricia' and 'Elizabeth' enter the top 5\nyear_patricia_top5 = None\ncumulative_num_patricia = None\nyear_elizabeth_top5 = None\ncumulative_num_elizabeth = None\n\n# Iterate over each year to find when 'Patricia' and 'Elizabeth' enter the top 5\nfor year in female_names['year'].unique():\n    # Filter the dataset for the current year\n    current_year_data = female_names[female_names['year'] == year]\n    \n    # Sort by cumulative number in descending order\n    top_names_current_year = current_year_data.sort_values(by='cumulative_num', ascending=False)\n    \n    # Check if 'Patricia' is in the top 5\n    if 'Patricia' in top_names_current_year.head(5)['first_name'].values and year_patricia_top5 is None:\n        year_patricia_top5 = year\n        cumulative_num_patricia = top_names_current_year[top_names_current_year['first_name'] == 'Patricia']['cumulative_num'].values[0]\n    \n    # Check if 'Elizabeth' is in the top 5\n    if 'Elizabeth' in top_names_current_year.head(5)['first_name'].values and year_elizabeth_top5 is None:\n        year_elizabeth_top5 = year\n        cumulative_num_elizabeth = top_names_current_year[top_names_current_year['first_name'] == 'Elizabeth']['cumulative_num'].values[0]\n    \n    # Break the loop if both names have been found\n    if year_patricia_top5 is not None and year_elizabeth_top5 is not None:\n        break\n\nprint('Year Patricia was top name in:', year_patricia_top5, 'and Number was:', cumulative_num_patricia)\nprint('Year Elizabeth was top name in:', year_elizabeth_top5, 'and Number was:', cumulative_num_elizabeth)",
    "outputsMetadata": {
     "0": {
      "height": 59,
      "type": "stream"
     }
    }
   },
   "outputs": [
    {
     "name": "stdout",
     "output_type": "stream",
     "text": [
      "Year Patricia was top name in: 1945 and Number was: 502096\n",
      "Year Elizabeth was top name in: 1976 and Number was: 778793\n"
     ]
    }
   ],
   "source": [
    "# Calculate the cumulative sum of occurrences for each name by year\n",
    "names['cumulative_num'] = names.groupby(['first_name', 'sex'])['num'].cumsum()\n",
    "\n",
    "# Filter the dataset for female names\n",
    "female_names = names[names['sex'] == 'F']\n",
    "\n",
    "# Initialize variables to store the year and cumulative number when 'Patricia' and 'Elizabeth' enter the top 5\n",
    "year_patricia_top5 = None\n",
    "cumulative_num_patricia = None\n",
    "year_elizabeth_top5 = None\n",
    "cumulative_num_elizabeth = None\n",
    "\n",
    "# Iterate over each year to find when 'Patricia' and 'Elizabeth' enter the top 5\n",
    "for year in female_names['year'].unique():\n",
    "    # Filter the dataset for the current year\n",
    "    current_year_data = female_names[female_names['year'] == year]\n",
    "    \n",
    "    # Sort by cumulative number in descending order\n",
    "    top_names_current_year = current_year_data.sort_values(by='cumulative_num', ascending=False)\n",
    "    \n",
    "    # Check if 'Patricia' is in the top 5\n",
    "    if 'Patricia' in top_names_current_year.head(5)['first_name'].values and year_patricia_top5 is None:\n",
    "        year_patricia_top5 = year\n",
    "        cumulative_num_patricia = top_names_current_year[top_names_current_year['first_name'] == 'Patricia']['cumulative_num'].values[0]\n",
    "    \n",
    "    # Check if 'Elizabeth' is in the top 5\n",
    "    if 'Elizabeth' in top_names_current_year.head(5)['first_name'].values and year_elizabeth_top5 is None:\n",
    "        year_elizabeth_top5 = year\n",
    "        cumulative_num_elizabeth = top_names_current_year[top_names_current_year['first_name'] == 'Elizabeth']['cumulative_num'].values[0]\n",
    "    \n",
    "    # Break the loop if both names have been found\n",
    "    if year_patricia_top5 is not None and year_elizabeth_top5 is not None:\n",
    "        break\n",
    "\n",
    "print('Year Patricia was top name in:', year_patricia_top5, 'and Number was:', cumulative_num_patricia)\n",
    "print('Year Elizabeth was top name in:', year_elizabeth_top5, 'and Number was:', cumulative_num_elizabeth)"
   ]
  },
  {
   "cell_type": "code",
   "execution_count": 67,
   "id": "d9dbb81d-cefd-4497-b140-a2527b8e621f",
   "metadata": {
    "collapsed": true,
    "executionCancelledAt": null,
    "executionTime": 50,
    "jupyter": {
     "outputs_hidden": true,
     "source_hidden": true
    },
    "lastExecutedAt": 1754921608893,
    "lastExecutedByKernel": "35ec5e07-7562-4a59-8301-2db1b0adb100",
    "lastScheduledRunId": null,
    "lastSuccessfullyExecutedCode": "# Filter the names dataframe to include only the names 'Adam' and 'Joseph'\nselected_names = names[names['first_name'].isin(['Adam', 'Joseph'])]\n\n# Group by year and first_name, and sum the occurrences\nselected_name_counts = selected_names.groupby(['year', 'first_name'])['num'].sum().reset_index()\n\n# Calculate the cumulative sum of occurrences for each name\nselected_name_counts['cumulative_num'] = selected_name_counts.groupby('first_name')['num'].cumsum()\n\n# Display the result\nselected_name_counts",
    "outputsMetadata": {
     "0": {
      "height": 321,
      "type": "dataFrame"
     }
    }
   },
   "outputs": [
    {
     "data": {
      "text/html": [
       "<div>\n",
       "<style scoped>\n",
       "    .dataframe tbody tr th:only-of-type {\n",
       "        vertical-align: middle;\n",
       "    }\n",
       "\n",
       "    .dataframe tbody tr th {\n",
       "        vertical-align: top;\n",
       "    }\n",
       "\n",
       "    .dataframe thead th {\n",
       "        text-align: right;\n",
       "    }\n",
       "</style>\n",
       "<table border=\"1\" class=\"dataframe\">\n",
       "  <thead>\n",
       "    <tr style=\"text-align: right;\">\n",
       "      <th></th>\n",
       "      <th>year</th>\n",
       "      <th>first_name</th>\n",
       "      <th>num</th>\n",
       "      <th>cumulative_num</th>\n",
       "    </tr>\n",
       "  </thead>\n",
       "  <tbody>\n",
       "    <tr>\n",
       "      <th>0</th>\n",
       "      <td>1920</td>\n",
       "      <td>Joseph</td>\n",
       "      <td>25590</td>\n",
       "      <td>25590</td>\n",
       "    </tr>\n",
       "    <tr>\n",
       "      <th>1</th>\n",
       "      <td>1921</td>\n",
       "      <td>Joseph</td>\n",
       "      <td>26182</td>\n",
       "      <td>51772</td>\n",
       "    </tr>\n",
       "    <tr>\n",
       "      <th>2</th>\n",
       "      <td>1922</td>\n",
       "      <td>Joseph</td>\n",
       "      <td>25698</td>\n",
       "      <td>77470</td>\n",
       "    </tr>\n",
       "    <tr>\n",
       "      <th>3</th>\n",
       "      <td>1923</td>\n",
       "      <td>Joseph</td>\n",
       "      <td>25562</td>\n",
       "      <td>103032</td>\n",
       "    </tr>\n",
       "    <tr>\n",
       "      <th>4</th>\n",
       "      <td>1924</td>\n",
       "      <td>Joseph</td>\n",
       "      <td>25422</td>\n",
       "      <td>128454</td>\n",
       "    </tr>\n",
       "    <tr>\n",
       "      <th>...</th>\n",
       "      <td>...</td>\n",
       "      <td>...</td>\n",
       "      <td>...</td>\n",
       "      <td>...</td>\n",
       "    </tr>\n",
       "    <tr>\n",
       "      <th>142</th>\n",
       "      <td>2016</td>\n",
       "      <td>Joseph</td>\n",
       "      <td>10941</td>\n",
       "      <td>2323837</td>\n",
       "    </tr>\n",
       "    <tr>\n",
       "      <th>143</th>\n",
       "      <td>2017</td>\n",
       "      <td>Joseph</td>\n",
       "      <td>10456</td>\n",
       "      <td>2334293</td>\n",
       "    </tr>\n",
       "    <tr>\n",
       "      <th>144</th>\n",
       "      <td>2018</td>\n",
       "      <td>Joseph</td>\n",
       "      <td>9636</td>\n",
       "      <td>2343929</td>\n",
       "    </tr>\n",
       "    <tr>\n",
       "      <th>145</th>\n",
       "      <td>2019</td>\n",
       "      <td>Joseph</td>\n",
       "      <td>9104</td>\n",
       "      <td>2353033</td>\n",
       "    </tr>\n",
       "    <tr>\n",
       "      <th>146</th>\n",
       "      <td>2020</td>\n",
       "      <td>Joseph</td>\n",
       "      <td>8349</td>\n",
       "      <td>2361382</td>\n",
       "    </tr>\n",
       "  </tbody>\n",
       "</table>\n",
       "<p>147 rows × 4 columns</p>\n",
       "</div>"
      ],
      "text/plain": [
       "     year first_name    num  cumulative_num\n",
       "0    1920     Joseph  25590           25590\n",
       "1    1921     Joseph  26182           51772\n",
       "2    1922     Joseph  25698           77470\n",
       "3    1923     Joseph  25562          103032\n",
       "4    1924     Joseph  25422          128454\n",
       "..    ...        ...    ...             ...\n",
       "142  2016     Joseph  10941         2323837\n",
       "143  2017     Joseph  10456         2334293\n",
       "144  2018     Joseph   9636         2343929\n",
       "145  2019     Joseph   9104         2353033\n",
       "146  2020     Joseph   8349         2361382\n",
       "\n",
       "[147 rows x 4 columns]"
      ]
     },
     "execution_count": 67,
     "metadata": {},
     "output_type": "execute_result"
    }
   ],
   "source": [
    "# Filter the names dataframe to include only the names 'Adam' and 'Joseph'\n",
    "selected_names = names[names['first_name'].isin(['Adam', 'Joseph'])]\n",
    "\n",
    "# Group by year and first_name, and sum the occurrences\n",
    "selected_name_counts = selected_names.groupby(['year', 'first_name'])['num'].sum().reset_index()\n",
    "\n",
    "# Calculate the cumulative sum of occurrences for each name\n",
    "selected_name_counts['cumulative_num'] = selected_name_counts.groupby('first_name')['num'].cumsum()\n",
    "\n",
    "# Display the result\n",
    "selected_name_counts"
   ]
  },
  {
   "cell_type": "code",
   "execution_count": 68,
   "id": "d41a486a-5cc1-4603-9ad8-4ba49d583104",
   "metadata": {
    "executionCancelledAt": null,
    "executionTime": 49,
    "lastExecutedAt": 1754921608942,
    "lastExecutedByKernel": "35ec5e07-7562-4a59-8301-2db1b0adb100",
    "lastScheduledRunId": null,
    "lastSuccessfullyExecutedCode": "#Group by year, sex, and first_name, then find the maximum number of babies given any one name in that year\nmax_num_per_year_gender = names.groupby(['year', 'sex', 'first_name'])['num'].max().reset_index()\n\n# Find the maximum number of babies given any one name in each year for each sex\nmax_num_per_year_gender = max_num_per_year_gender.groupby(['year', 'sex'])['num'].max().reset_index()\n\n# Rename the columns for clarity\nmax_per_year_gender = max_num_per_year_gender.rename(columns={'num': 'max_num', 'sex': 'gender'})\n\n# Display the DataFrame\nmax_per_year_gender",
    "outputsMetadata": {
     "0": {
      "height": 550,
      "tableState": {
       "customFilter": {
        "const": {
         "type": "boolean",
         "valid": true,
         "value": true
        },
        "id": "6585776e-3551-457e-a591-73ff8f0fd0b1",
        "nodeType": "const"
       }
      },
      "type": "dataFrame"
     }
    }
   },
   "outputs": [
    {
     "data": {
      "text/html": [
       "<div>\n",
       "<style scoped>\n",
       "    .dataframe tbody tr th:only-of-type {\n",
       "        vertical-align: middle;\n",
       "    }\n",
       "\n",
       "    .dataframe tbody tr th {\n",
       "        vertical-align: top;\n",
       "    }\n",
       "\n",
       "    .dataframe thead th {\n",
       "        text-align: right;\n",
       "    }\n",
       "</style>\n",
       "<table border=\"1\" class=\"dataframe\">\n",
       "  <thead>\n",
       "    <tr style=\"text-align: right;\">\n",
       "      <th></th>\n",
       "      <th>year</th>\n",
       "      <th>gender</th>\n",
       "      <th>max_num</th>\n",
       "    </tr>\n",
       "  </thead>\n",
       "  <tbody>\n",
       "    <tr>\n",
       "      <th>0</th>\n",
       "      <td>1920</td>\n",
       "      <td>F</td>\n",
       "      <td>70982</td>\n",
       "    </tr>\n",
       "    <tr>\n",
       "      <th>1</th>\n",
       "      <td>1920</td>\n",
       "      <td>M</td>\n",
       "      <td>56914</td>\n",
       "    </tr>\n",
       "    <tr>\n",
       "      <th>2</th>\n",
       "      <td>1921</td>\n",
       "      <td>F</td>\n",
       "      <td>73985</td>\n",
       "    </tr>\n",
       "    <tr>\n",
       "      <th>3</th>\n",
       "      <td>1921</td>\n",
       "      <td>M</td>\n",
       "      <td>58215</td>\n",
       "    </tr>\n",
       "    <tr>\n",
       "      <th>4</th>\n",
       "      <td>1922</td>\n",
       "      <td>F</td>\n",
       "      <td>72176</td>\n",
       "    </tr>\n",
       "    <tr>\n",
       "      <th>...</th>\n",
       "      <td>...</td>\n",
       "      <td>...</td>\n",
       "      <td>...</td>\n",
       "    </tr>\n",
       "    <tr>\n",
       "      <th>197</th>\n",
       "      <td>2018</td>\n",
       "      <td>M</td>\n",
       "      <td>19924</td>\n",
       "    </tr>\n",
       "    <tr>\n",
       "      <th>198</th>\n",
       "      <td>2019</td>\n",
       "      <td>F</td>\n",
       "      <td>18508</td>\n",
       "    </tr>\n",
       "    <tr>\n",
       "      <th>199</th>\n",
       "      <td>2019</td>\n",
       "      <td>M</td>\n",
       "      <td>20555</td>\n",
       "    </tr>\n",
       "    <tr>\n",
       "      <th>200</th>\n",
       "      <td>2020</td>\n",
       "      <td>F</td>\n",
       "      <td>17535</td>\n",
       "    </tr>\n",
       "    <tr>\n",
       "      <th>201</th>\n",
       "      <td>2020</td>\n",
       "      <td>M</td>\n",
       "      <td>19659</td>\n",
       "    </tr>\n",
       "  </tbody>\n",
       "</table>\n",
       "<p>202 rows × 3 columns</p>\n",
       "</div>"
      ],
      "text/plain": [
       "     year gender  max_num\n",
       "0    1920      F    70982\n",
       "1    1920      M    56914\n",
       "2    1921      F    73985\n",
       "3    1921      M    58215\n",
       "4    1922      F    72176\n",
       "..    ...    ...      ...\n",
       "197  2018      M    19924\n",
       "198  2019      F    18508\n",
       "199  2019      M    20555\n",
       "200  2020      F    17535\n",
       "201  2020      M    19659\n",
       "\n",
       "[202 rows x 3 columns]"
      ]
     },
     "execution_count": 68,
     "metadata": {},
     "output_type": "execute_result"
    }
   ],
   "source": [
    "#Group by year, sex, and first_name, then find the maximum number of babies given any one name in that year\n",
    "max_num_per_year_gender = names.groupby(['year', 'sex', 'first_name'])['num'].max().reset_index()\n",
    "\n",
    "# Find the maximum number of babies given any one name in each year for each sex\n",
    "max_num_per_year_gender = max_num_per_year_gender.groupby(['year', 'sex'])['num'].max().reset_index()\n",
    "\n",
    "# Rename the columns for clarity\n",
    "max_per_year_gender = max_num_per_year_gender.rename(columns={'num': 'max_num', 'sex': 'gender'})\n",
    "\n",
    "# Display the DataFrame\n",
    "max_per_year_gender"
   ]
  },
  {
   "cell_type": "code",
   "execution_count": 69,
   "id": "374d54c0-7fe3-4e4f-bd55-d65dab48de2c",
   "metadata": {
    "executionCancelledAt": null,
    "executionTime": 85,
    "lastExecutedAt": 1754921609027,
    "lastExecutedByKernel": "35ec5e07-7562-4a59-8301-2db1b0adb100",
    "lastScheduledRunId": null,
    "lastSuccessfullyExecutedCode": "# Create an interactive line plot\nfig = px.line(max_per_year_gender, x='year', y='max_num', color='gender', title='Maximum Number of Babies Given Any One Name Per Year by Gender')\n\n# Show the plot\nfig.show()",
    "outputsMetadata": {
     "0": {
      "height": 17,
      "type": "plotly"
     }
    }
   },
   "outputs": [
    {
     "data": {
      "application/vnd.plotly.v1+json": {
       "config": {
        "plotlyServerURL": "https://plot.ly"
       },
       "data": [
        {
         "hovertemplate": "gender=F<br>year=%{x}<br>max_num=%{y}<extra></extra>",
         "legendgroup": "F",
         "line": {
          "color": "#636efa",
          "dash": "solid"
         },
         "marker": {
          "symbol": "circle"
         },
         "mode": "lines",
         "name": "F",
         "orientation": "v",
         "showlegend": true,
         "type": "scatter",
         "x": {
          "bdata": "gAeBB4IHgweEB4UHhgeHB4gHiQeKB4sHjAeNB44HjweQB5EHkgeTB5QHlQeWB5cHmAeZB5oHmwecB50HngefB6AHoQeiB6MHpAelB6YHpweoB6kHqgerB6wHrQeuB68HsAexB7IHswe0B7UHtge3B7gHuQe6B7sHvAe9B74HvwfAB8EHwgfDB8QHxQfGB8cHyAfJB8oHywfMB80HzgfPB9AH0QfSB9MH1AfVB9YH1wfYB9kH2gfbB9wH3QfeB98H4AfhB+IH4wfkBw==",
          "dtype": "i2"
         },
         "xaxis": "x",
         "y": {
          "bdata": "RhUBAAEhAQDwGQEA0xcBAEAfAQC6EwEA/AgBAPATAQA5BQEAF/gAAJX6AACH6wAA6+kAANzYAABk3gAAINcAAGbUAABc2QAAltsAAHfWAACQ2wAAueIAABj3AAB9AgEABfQAAJHnAACPBwEAbYUBANR3AQCLYwEALzoBAPsgAQAHBgEAhfsAALMJAQDF9gAAL/EAALDuAAAy2gAAztQAABXJAABAugAA/bMAAOraAAAA1AAAbusAAFbeAADSzAAAfsEAAOSvAABNtAAAzN0AAHT4AADu8wAAjPYAAErjAABS6AAAWuYAAP/bAACM3QAAC+QAANneAAAf3wAATNQAAIDFAADbvAAAy80AALvaAABayQAAD7sAAJO1AADXqQAAN5YAAK2IAAB2fQAAI20AAD9iAACGZAAASWYAAKtnAABlZQAA4WEAAJNfAABbZAAAz2EAAIhdAAChUwAAnksAAIFJAAAnVwAAjFkAAFpVAAAwVwAA8FIAAM9RAADxTwAAQkwAAH1NAABSSQAATEgAAH9EAAA=",
          "dtype": "i4"
         },
         "yaxis": "y"
        },
        {
         "hovertemplate": "gender=M<br>year=%{x}<br>max_num=%{y}<extra></extra>",
         "legendgroup": "M",
         "line": {
          "color": "#EF553B",
          "dash": "solid"
         },
         "marker": {
          "symbol": "circle"
         },
         "mode": "lines",
         "name": "M",
         "orientation": "v",
         "showlegend": true,
         "type": "scatter",
         "x": {
          "bdata": "gAeBB4IHgweEB4UHhgeHB4gHiQeKB4sHjAeNB44HjweQB5EHkgeTB5QHlQeWB5cHmAeZB5oHmwecB50HngefB6AHoQeiB6MHpAelB6YHpweoB6kHqgerB6wHrQeuB68HsAexB7IHswe0B7UHtge3B7gHuQe6B7sHvAe9B74HvwfAB8EHwgfDB8QHxQfGB8cHyAfJB8oHywfMB80HzgfPB9AH0QfSB9MH1AfVB9YH1wfYB9kH2gfbB9wH3QfeB98H4AfhB+IH4wfkBw==",
          "dtype": "i2"
         },
         "xaxis": "x",
         "y": {
          "bdata": "Ut4AAGfjAADA3wAAfeAAAIHtAADh7QAAyu4AAOfwAAAf7QAAnOkAAMXyAABm7AAAgecAAM/TAAAa2gAAytwAAIPkAACS8QAAPfMAAAXpAAAM9AAAtwQBAHYtAQCSOQEAmiwBANwiAQCPVQEALHIBAA1aAQBRUwEA1VABAN1UAQAXVAEA51ABAABaAQA0WQEAKWIBAC5qAQDEYQEA6EwBAK1PAQCFUwEAMUwBAEJHAQDSQgEAfTwBAHY4AQAIQgEAS0ABANFMAQArTQEAHy8BAOkWAQACCQEA/AcBAGMLAQCDBQEAGQgBAFUGAQCeCAEAYAwBAKgMAQCUCgEAqgkBAKEIAQCc/QAA4PoAAKb4AACW+gAAd/8AABb/AAB57QAAfdQAAJLBAAC4rQAAt6EAAN2VAACtkgAACI8AACeKAACzhgAAKn8AAHN3AADLcwAA7mwAAO1kAAASYQAA5F4AAEtYAADAUgAAe1YAAJpPAACQSgAAWkcAAHdLAADCTAAA0koAAIhJAADUTQAAS1AAAMtMAAA=",
          "dtype": "i4"
         },
         "yaxis": "y"
        }
       ],
       "layout": {
        "legend": {
         "title": {
          "text": "gender"
         },
         "tracegroupgap": 0
        },
        "template": {
         "data": {
          "bar": [
           {
            "error_x": {
             "color": "#2a3f5f"
            },
            "error_y": {
             "color": "#2a3f5f"
            },
            "marker": {
             "line": {
              "color": "#E5ECF6",
              "width": 0.5
             },
             "pattern": {
              "fillmode": "overlay",
              "size": 10,
              "solidity": 0.2
             }
            },
            "type": "bar"
           }
          ],
          "barpolar": [
           {
            "marker": {
             "line": {
              "color": "#E5ECF6",
              "width": 0.5
             },
             "pattern": {
              "fillmode": "overlay",
              "size": 10,
              "solidity": 0.2
             }
            },
            "type": "barpolar"
           }
          ],
          "carpet": [
           {
            "aaxis": {
             "endlinecolor": "#2a3f5f",
             "gridcolor": "white",
             "linecolor": "white",
             "minorgridcolor": "white",
             "startlinecolor": "#2a3f5f"
            },
            "baxis": {
             "endlinecolor": "#2a3f5f",
             "gridcolor": "white",
             "linecolor": "white",
             "minorgridcolor": "white",
             "startlinecolor": "#2a3f5f"
            },
            "type": "carpet"
           }
          ],
          "choropleth": [
           {
            "colorbar": {
             "outlinewidth": 0,
             "ticks": ""
            },
            "type": "choropleth"
           }
          ],
          "contour": [
           {
            "colorbar": {
             "outlinewidth": 0,
             "ticks": ""
            },
            "colorscale": [
             [
              0,
              "#0d0887"
             ],
             [
              0.1111111111111111,
              "#46039f"
             ],
             [
              0.2222222222222222,
              "#7201a8"
             ],
             [
              0.3333333333333333,
              "#9c179e"
             ],
             [
              0.4444444444444444,
              "#bd3786"
             ],
             [
              0.5555555555555556,
              "#d8576b"
             ],
             [
              0.6666666666666666,
              "#ed7953"
             ],
             [
              0.7777777777777778,
              "#fb9f3a"
             ],
             [
              0.8888888888888888,
              "#fdca26"
             ],
             [
              1,
              "#f0f921"
             ]
            ],
            "type": "contour"
           }
          ],
          "contourcarpet": [
           {
            "colorbar": {
             "outlinewidth": 0,
             "ticks": ""
            },
            "type": "contourcarpet"
           }
          ],
          "heatmap": [
           {
            "colorbar": {
             "outlinewidth": 0,
             "ticks": ""
            },
            "colorscale": [
             [
              0,
              "#0d0887"
             ],
             [
              0.1111111111111111,
              "#46039f"
             ],
             [
              0.2222222222222222,
              "#7201a8"
             ],
             [
              0.3333333333333333,
              "#9c179e"
             ],
             [
              0.4444444444444444,
              "#bd3786"
             ],
             [
              0.5555555555555556,
              "#d8576b"
             ],
             [
              0.6666666666666666,
              "#ed7953"
             ],
             [
              0.7777777777777778,
              "#fb9f3a"
             ],
             [
              0.8888888888888888,
              "#fdca26"
             ],
             [
              1,
              "#f0f921"
             ]
            ],
            "type": "heatmap"
           }
          ],
          "histogram": [
           {
            "marker": {
             "pattern": {
              "fillmode": "overlay",
              "size": 10,
              "solidity": 0.2
             }
            },
            "type": "histogram"
           }
          ],
          "histogram2d": [
           {
            "colorbar": {
             "outlinewidth": 0,
             "ticks": ""
            },
            "colorscale": [
             [
              0,
              "#0d0887"
             ],
             [
              0.1111111111111111,
              "#46039f"
             ],
             [
              0.2222222222222222,
              "#7201a8"
             ],
             [
              0.3333333333333333,
              "#9c179e"
             ],
             [
              0.4444444444444444,
              "#bd3786"
             ],
             [
              0.5555555555555556,
              "#d8576b"
             ],
             [
              0.6666666666666666,
              "#ed7953"
             ],
             [
              0.7777777777777778,
              "#fb9f3a"
             ],
             [
              0.8888888888888888,
              "#fdca26"
             ],
             [
              1,
              "#f0f921"
             ]
            ],
            "type": "histogram2d"
           }
          ],
          "histogram2dcontour": [
           {
            "colorbar": {
             "outlinewidth": 0,
             "ticks": ""
            },
            "colorscale": [
             [
              0,
              "#0d0887"
             ],
             [
              0.1111111111111111,
              "#46039f"
             ],
             [
              0.2222222222222222,
              "#7201a8"
             ],
             [
              0.3333333333333333,
              "#9c179e"
             ],
             [
              0.4444444444444444,
              "#bd3786"
             ],
             [
              0.5555555555555556,
              "#d8576b"
             ],
             [
              0.6666666666666666,
              "#ed7953"
             ],
             [
              0.7777777777777778,
              "#fb9f3a"
             ],
             [
              0.8888888888888888,
              "#fdca26"
             ],
             [
              1,
              "#f0f921"
             ]
            ],
            "type": "histogram2dcontour"
           }
          ],
          "mesh3d": [
           {
            "colorbar": {
             "outlinewidth": 0,
             "ticks": ""
            },
            "type": "mesh3d"
           }
          ],
          "parcoords": [
           {
            "line": {
             "colorbar": {
              "outlinewidth": 0,
              "ticks": ""
             }
            },
            "type": "parcoords"
           }
          ],
          "pie": [
           {
            "automargin": true,
            "type": "pie"
           }
          ],
          "scatter": [
           {
            "fillpattern": {
             "fillmode": "overlay",
             "size": 10,
             "solidity": 0.2
            },
            "type": "scatter"
           }
          ],
          "scatter3d": [
           {
            "line": {
             "colorbar": {
              "outlinewidth": 0,
              "ticks": ""
             }
            },
            "marker": {
             "colorbar": {
              "outlinewidth": 0,
              "ticks": ""
             }
            },
            "type": "scatter3d"
           }
          ],
          "scattercarpet": [
           {
            "marker": {
             "colorbar": {
              "outlinewidth": 0,
              "ticks": ""
             }
            },
            "type": "scattercarpet"
           }
          ],
          "scattergeo": [
           {
            "marker": {
             "colorbar": {
              "outlinewidth": 0,
              "ticks": ""
             }
            },
            "type": "scattergeo"
           }
          ],
          "scattergl": [
           {
            "marker": {
             "colorbar": {
              "outlinewidth": 0,
              "ticks": ""
             }
            },
            "type": "scattergl"
           }
          ],
          "scattermap": [
           {
            "marker": {
             "colorbar": {
              "outlinewidth": 0,
              "ticks": ""
             }
            },
            "type": "scattermap"
           }
          ],
          "scattermapbox": [
           {
            "marker": {
             "colorbar": {
              "outlinewidth": 0,
              "ticks": ""
             }
            },
            "type": "scattermapbox"
           }
          ],
          "scatterpolar": [
           {
            "marker": {
             "colorbar": {
              "outlinewidth": 0,
              "ticks": ""
             }
            },
            "type": "scatterpolar"
           }
          ],
          "scatterpolargl": [
           {
            "marker": {
             "colorbar": {
              "outlinewidth": 0,
              "ticks": ""
             }
            },
            "type": "scatterpolargl"
           }
          ],
          "scatterternary": [
           {
            "marker": {
             "colorbar": {
              "outlinewidth": 0,
              "ticks": ""
             }
            },
            "type": "scatterternary"
           }
          ],
          "surface": [
           {
            "colorbar": {
             "outlinewidth": 0,
             "ticks": ""
            },
            "colorscale": [
             [
              0,
              "#0d0887"
             ],
             [
              0.1111111111111111,
              "#46039f"
             ],
             [
              0.2222222222222222,
              "#7201a8"
             ],
             [
              0.3333333333333333,
              "#9c179e"
             ],
             [
              0.4444444444444444,
              "#bd3786"
             ],
             [
              0.5555555555555556,
              "#d8576b"
             ],
             [
              0.6666666666666666,
              "#ed7953"
             ],
             [
              0.7777777777777778,
              "#fb9f3a"
             ],
             [
              0.8888888888888888,
              "#fdca26"
             ],
             [
              1,
              "#f0f921"
             ]
            ],
            "type": "surface"
           }
          ],
          "table": [
           {
            "cells": {
             "fill": {
              "color": "#EBF0F8"
             },
             "line": {
              "color": "white"
             }
            },
            "header": {
             "fill": {
              "color": "#C8D4E3"
             },
             "line": {
              "color": "white"
             }
            },
            "type": "table"
           }
          ]
         },
         "layout": {
          "annotationdefaults": {
           "arrowcolor": "#2a3f5f",
           "arrowhead": 0,
           "arrowwidth": 1
          },
          "autotypenumbers": "strict",
          "coloraxis": {
           "colorbar": {
            "outlinewidth": 0,
            "ticks": ""
           }
          },
          "colorscale": {
           "diverging": [
            [
             0,
             "#8e0152"
            ],
            [
             0.1,
             "#c51b7d"
            ],
            [
             0.2,
             "#de77ae"
            ],
            [
             0.3,
             "#f1b6da"
            ],
            [
             0.4,
             "#fde0ef"
            ],
            [
             0.5,
             "#f7f7f7"
            ],
            [
             0.6,
             "#e6f5d0"
            ],
            [
             0.7,
             "#b8e186"
            ],
            [
             0.8,
             "#7fbc41"
            ],
            [
             0.9,
             "#4d9221"
            ],
            [
             1,
             "#276419"
            ]
           ],
           "sequential": [
            [
             0,
             "#0d0887"
            ],
            [
             0.1111111111111111,
             "#46039f"
            ],
            [
             0.2222222222222222,
             "#7201a8"
            ],
            [
             0.3333333333333333,
             "#9c179e"
            ],
            [
             0.4444444444444444,
             "#bd3786"
            ],
            [
             0.5555555555555556,
             "#d8576b"
            ],
            [
             0.6666666666666666,
             "#ed7953"
            ],
            [
             0.7777777777777778,
             "#fb9f3a"
            ],
            [
             0.8888888888888888,
             "#fdca26"
            ],
            [
             1,
             "#f0f921"
            ]
           ],
           "sequentialminus": [
            [
             0,
             "#0d0887"
            ],
            [
             0.1111111111111111,
             "#46039f"
            ],
            [
             0.2222222222222222,
             "#7201a8"
            ],
            [
             0.3333333333333333,
             "#9c179e"
            ],
            [
             0.4444444444444444,
             "#bd3786"
            ],
            [
             0.5555555555555556,
             "#d8576b"
            ],
            [
             0.6666666666666666,
             "#ed7953"
            ],
            [
             0.7777777777777778,
             "#fb9f3a"
            ],
            [
             0.8888888888888888,
             "#fdca26"
            ],
            [
             1,
             "#f0f921"
            ]
           ]
          },
          "colorway": [
           "#636efa",
           "#EF553B",
           "#00cc96",
           "#ab63fa",
           "#FFA15A",
           "#19d3f3",
           "#FF6692",
           "#B6E880",
           "#FF97FF",
           "#FECB52"
          ],
          "font": {
           "color": "#2a3f5f"
          },
          "geo": {
           "bgcolor": "white",
           "lakecolor": "white",
           "landcolor": "#E5ECF6",
           "showlakes": true,
           "showland": true,
           "subunitcolor": "white"
          },
          "hoverlabel": {
           "align": "left"
          },
          "hovermode": "closest",
          "mapbox": {
           "style": "light"
          },
          "paper_bgcolor": "white",
          "plot_bgcolor": "#E5ECF6",
          "polar": {
           "angularaxis": {
            "gridcolor": "white",
            "linecolor": "white",
            "ticks": ""
           },
           "bgcolor": "#E5ECF6",
           "radialaxis": {
            "gridcolor": "white",
            "linecolor": "white",
            "ticks": ""
           }
          },
          "scene": {
           "xaxis": {
            "backgroundcolor": "#E5ECF6",
            "gridcolor": "white",
            "gridwidth": 2,
            "linecolor": "white",
            "showbackground": true,
            "ticks": "",
            "zerolinecolor": "white"
           },
           "yaxis": {
            "backgroundcolor": "#E5ECF6",
            "gridcolor": "white",
            "gridwidth": 2,
            "linecolor": "white",
            "showbackground": true,
            "ticks": "",
            "zerolinecolor": "white"
           },
           "zaxis": {
            "backgroundcolor": "#E5ECF6",
            "gridcolor": "white",
            "gridwidth": 2,
            "linecolor": "white",
            "showbackground": true,
            "ticks": "",
            "zerolinecolor": "white"
           }
          },
          "shapedefaults": {
           "line": {
            "color": "#2a3f5f"
           }
          },
          "ternary": {
           "aaxis": {
            "gridcolor": "white",
            "linecolor": "white",
            "ticks": ""
           },
           "baxis": {
            "gridcolor": "white",
            "linecolor": "white",
            "ticks": ""
           },
           "bgcolor": "#E5ECF6",
           "caxis": {
            "gridcolor": "white",
            "linecolor": "white",
            "ticks": ""
           }
          },
          "title": {
           "x": 0.05
          },
          "xaxis": {
           "automargin": true,
           "gridcolor": "white",
           "linecolor": "white",
           "ticks": "",
           "title": {
            "standoff": 15
           },
           "zerolinecolor": "white",
           "zerolinewidth": 2
          },
          "yaxis": {
           "automargin": true,
           "gridcolor": "white",
           "linecolor": "white",
           "ticks": "",
           "title": {
            "standoff": 15
           },
           "zerolinecolor": "white",
           "zerolinewidth": 2
          }
         }
        },
        "title": {
         "text": "Maximum Number of Babies Given Any One Name Per Year by Gender"
        },
        "xaxis": {
         "anchor": "y",
         "domain": [
          0,
          1
         ],
         "title": {
          "text": "year"
         }
        },
        "yaxis": {
         "anchor": "x",
         "domain": [
          0,
          1
         ],
         "title": {
          "text": "max_num"
         }
        }
       }
      }
     },
     "metadata": {},
     "output_type": "display_data"
    }
   ],
   "source": [
    "# Create an interactive line plot\n",
    "fig = px.line(max_per_year_gender, x='year', y='max_num', color='gender', title='Maximum Number of Babies Given Any One Name Per Year by Gender')\n",
    "\n",
    "# Show the plot\n",
    "fig.show()"
   ]
  },
  {
   "cell_type": "code",
   "execution_count": 70,
   "id": "0a606258-8b0f-4398-93f4-fcea55da1510",
   "metadata": {
    "executionCancelledAt": null,
    "executionTime": 54,
    "lastExecutedAt": 1754921609081,
    "lastExecutedByKernel": "35ec5e07-7562-4a59-8301-2db1b0adb100",
    "lastScheduledRunId": null,
    "lastSuccessfullyExecutedCode": "# Pivot the data to have separate columns for male and female\nyearly_trends_gender = max_per_year_gender.pivot(index='year', columns='gender', values='max_num').reset_index()\n\n# Create an interactive plot\nfig = go.Figure()\n\n# Add trace for baby girls\nfig.add_trace(go.Scatter(\n    x=yearly_trends_gender['year'],\n    y=yearly_trends_gender['F'],\n    mode='lines',\n    name='Female',\n    line=dict(color='purple'),\n    hovertemplate='Year: %{x}<br>Number of Babies: %{y:,}<extra></extra>'\n))\n\n# Add trace for baby boys\nfig.add_trace(go.Scatter(\n    x=yearly_trends_gender['year'],\n    y=yearly_trends_gender['M'],\n    mode='lines',\n    name='Male',\n    line=dict(color='green'),\n    hovertemplate='Year: %{x}<br>Number of Babies: %{y:,}<extra></extra>'\n))\n\n# Update layout\nfig.update_layout(\n    title='Maximum Number of Babies Given Any One Name Per Year by Gender',\n    xaxis_title='Year',\n    yaxis_title='Number of Babies',\n    yaxis_tickformat=',',  # Use comma as a thousands separator\n    legend_title='Gender',\n    template='plotly_white'\n)\n\n# Show the plot\nfig.show()",
    "outputsMetadata": {
     "0": {
      "height": 17,
      "type": "plotly"
     }
    }
   },
   "outputs": [
    {
     "data": {
      "application/vnd.plotly.v1+json": {
       "config": {
        "plotlyServerURL": "https://plot.ly"
       },
       "data": [
        {
         "hovertemplate": "Year: %{x}<br>Number of Babies: %{y:,}<extra></extra>",
         "line": {
          "color": "purple"
         },
         "mode": "lines",
         "name": "Female",
         "type": "scatter",
         "x": {
          "bdata": "gAeBB4IHgweEB4UHhgeHB4gHiQeKB4sHjAeNB44HjweQB5EHkgeTB5QHlQeWB5cHmAeZB5oHmwecB50HngefB6AHoQeiB6MHpAelB6YHpweoB6kHqgerB6wHrQeuB68HsAexB7IHswe0B7UHtge3B7gHuQe6B7sHvAe9B74HvwfAB8EHwgfDB8QHxQfGB8cHyAfJB8oHywfMB80HzgfPB9AH0QfSB9MH1AfVB9YH1wfYB9kH2gfbB9wH3QfeB98H4AfhB+IH4wfkBw==",
          "dtype": "i2"
         },
         "y": {
          "bdata": "RhUBAAEhAQDwGQEA0xcBAEAfAQC6EwEA/AgBAPATAQA5BQEAF/gAAJX6AACH6wAA6+kAANzYAABk3gAAINcAAGbUAABc2QAAltsAAHfWAACQ2wAAueIAABj3AAB9AgEABfQAAJHnAACPBwEAbYUBANR3AQCLYwEALzoBAPsgAQAHBgEAhfsAALMJAQDF9gAAL/EAALDuAAAy2gAAztQAABXJAABAugAA/bMAAOraAAAA1AAAbusAAFbeAADSzAAAfsEAAOSvAABNtAAAzN0AAHT4AADu8wAAjPYAAErjAABS6AAAWuYAAP/bAACM3QAAC+QAANneAAAf3wAATNQAAIDFAADbvAAAy80AALvaAABayQAAD7sAAJO1AADXqQAAN5YAAK2IAAB2fQAAI20AAD9iAACGZAAASWYAAKtnAABlZQAA4WEAAJNfAABbZAAAz2EAAIhdAAChUwAAnksAAIFJAAAnVwAAjFkAAFpVAAAwVwAA8FIAAM9RAADxTwAAQkwAAH1NAABSSQAATEgAAH9EAAA=",
          "dtype": "i4"
         }
        },
        {
         "hovertemplate": "Year: %{x}<br>Number of Babies: %{y:,}<extra></extra>",
         "line": {
          "color": "green"
         },
         "mode": "lines",
         "name": "Male",
         "type": "scatter",
         "x": {
          "bdata": "gAeBB4IHgweEB4UHhgeHB4gHiQeKB4sHjAeNB44HjweQB5EHkgeTB5QHlQeWB5cHmAeZB5oHmwecB50HngefB6AHoQeiB6MHpAelB6YHpweoB6kHqgerB6wHrQeuB68HsAexB7IHswe0B7UHtge3B7gHuQe6B7sHvAe9B74HvwfAB8EHwgfDB8QHxQfGB8cHyAfJB8oHywfMB80HzgfPB9AH0QfSB9MH1AfVB9YH1wfYB9kH2gfbB9wH3QfeB98H4AfhB+IH4wfkBw==",
          "dtype": "i2"
         },
         "y": {
          "bdata": "Ut4AAGfjAADA3wAAfeAAAIHtAADh7QAAyu4AAOfwAAAf7QAAnOkAAMXyAABm7AAAgecAAM/TAAAa2gAAytwAAIPkAACS8QAAPfMAAAXpAAAM9AAAtwQBAHYtAQCSOQEAmiwBANwiAQCPVQEALHIBAA1aAQBRUwEA1VABAN1UAQAXVAEA51ABAABaAQA0WQEAKWIBAC5qAQDEYQEA6EwBAK1PAQCFUwEAMUwBAEJHAQDSQgEAfTwBAHY4AQAIQgEAS0ABANFMAQArTQEAHy8BAOkWAQACCQEA/AcBAGMLAQCDBQEAGQgBAFUGAQCeCAEAYAwBAKgMAQCUCgEAqgkBAKEIAQCc/QAA4PoAAKb4AACW+gAAd/8AABb/AAB57QAAfdQAAJLBAAC4rQAAt6EAAN2VAACtkgAACI8AACeKAACzhgAAKn8AAHN3AADLcwAA7mwAAO1kAAASYQAA5F4AAEtYAADAUgAAe1YAAJpPAACQSgAAWkcAAHdLAADCTAAA0koAAIhJAADUTQAAS1AAAMtMAAA=",
          "dtype": "i4"
         }
        }
       ],
       "layout": {
        "legend": {
         "title": {
          "text": "Gender"
         }
        },
        "template": {
         "data": {
          "bar": [
           {
            "error_x": {
             "color": "#2a3f5f"
            },
            "error_y": {
             "color": "#2a3f5f"
            },
            "marker": {
             "line": {
              "color": "white",
              "width": 0.5
             },
             "pattern": {
              "fillmode": "overlay",
              "size": 10,
              "solidity": 0.2
             }
            },
            "type": "bar"
           }
          ],
          "barpolar": [
           {
            "marker": {
             "line": {
              "color": "white",
              "width": 0.5
             },
             "pattern": {
              "fillmode": "overlay",
              "size": 10,
              "solidity": 0.2
             }
            },
            "type": "barpolar"
           }
          ],
          "carpet": [
           {
            "aaxis": {
             "endlinecolor": "#2a3f5f",
             "gridcolor": "#C8D4E3",
             "linecolor": "#C8D4E3",
             "minorgridcolor": "#C8D4E3",
             "startlinecolor": "#2a3f5f"
            },
            "baxis": {
             "endlinecolor": "#2a3f5f",
             "gridcolor": "#C8D4E3",
             "linecolor": "#C8D4E3",
             "minorgridcolor": "#C8D4E3",
             "startlinecolor": "#2a3f5f"
            },
            "type": "carpet"
           }
          ],
          "choropleth": [
           {
            "colorbar": {
             "outlinewidth": 0,
             "ticks": ""
            },
            "type": "choropleth"
           }
          ],
          "contour": [
           {
            "colorbar": {
             "outlinewidth": 0,
             "ticks": ""
            },
            "colorscale": [
             [
              0,
              "#0d0887"
             ],
             [
              0.1111111111111111,
              "#46039f"
             ],
             [
              0.2222222222222222,
              "#7201a8"
             ],
             [
              0.3333333333333333,
              "#9c179e"
             ],
             [
              0.4444444444444444,
              "#bd3786"
             ],
             [
              0.5555555555555556,
              "#d8576b"
             ],
             [
              0.6666666666666666,
              "#ed7953"
             ],
             [
              0.7777777777777778,
              "#fb9f3a"
             ],
             [
              0.8888888888888888,
              "#fdca26"
             ],
             [
              1,
              "#f0f921"
             ]
            ],
            "type": "contour"
           }
          ],
          "contourcarpet": [
           {
            "colorbar": {
             "outlinewidth": 0,
             "ticks": ""
            },
            "type": "contourcarpet"
           }
          ],
          "heatmap": [
           {
            "colorbar": {
             "outlinewidth": 0,
             "ticks": ""
            },
            "colorscale": [
             [
              0,
              "#0d0887"
             ],
             [
              0.1111111111111111,
              "#46039f"
             ],
             [
              0.2222222222222222,
              "#7201a8"
             ],
             [
              0.3333333333333333,
              "#9c179e"
             ],
             [
              0.4444444444444444,
              "#bd3786"
             ],
             [
              0.5555555555555556,
              "#d8576b"
             ],
             [
              0.6666666666666666,
              "#ed7953"
             ],
             [
              0.7777777777777778,
              "#fb9f3a"
             ],
             [
              0.8888888888888888,
              "#fdca26"
             ],
             [
              1,
              "#f0f921"
             ]
            ],
            "type": "heatmap"
           }
          ],
          "histogram": [
           {
            "marker": {
             "pattern": {
              "fillmode": "overlay",
              "size": 10,
              "solidity": 0.2
             }
            },
            "type": "histogram"
           }
          ],
          "histogram2d": [
           {
            "colorbar": {
             "outlinewidth": 0,
             "ticks": ""
            },
            "colorscale": [
             [
              0,
              "#0d0887"
             ],
             [
              0.1111111111111111,
              "#46039f"
             ],
             [
              0.2222222222222222,
              "#7201a8"
             ],
             [
              0.3333333333333333,
              "#9c179e"
             ],
             [
              0.4444444444444444,
              "#bd3786"
             ],
             [
              0.5555555555555556,
              "#d8576b"
             ],
             [
              0.6666666666666666,
              "#ed7953"
             ],
             [
              0.7777777777777778,
              "#fb9f3a"
             ],
             [
              0.8888888888888888,
              "#fdca26"
             ],
             [
              1,
              "#f0f921"
             ]
            ],
            "type": "histogram2d"
           }
          ],
          "histogram2dcontour": [
           {
            "colorbar": {
             "outlinewidth": 0,
             "ticks": ""
            },
            "colorscale": [
             [
              0,
              "#0d0887"
             ],
             [
              0.1111111111111111,
              "#46039f"
             ],
             [
              0.2222222222222222,
              "#7201a8"
             ],
             [
              0.3333333333333333,
              "#9c179e"
             ],
             [
              0.4444444444444444,
              "#bd3786"
             ],
             [
              0.5555555555555556,
              "#d8576b"
             ],
             [
              0.6666666666666666,
              "#ed7953"
             ],
             [
              0.7777777777777778,
              "#fb9f3a"
             ],
             [
              0.8888888888888888,
              "#fdca26"
             ],
             [
              1,
              "#f0f921"
             ]
            ],
            "type": "histogram2dcontour"
           }
          ],
          "mesh3d": [
           {
            "colorbar": {
             "outlinewidth": 0,
             "ticks": ""
            },
            "type": "mesh3d"
           }
          ],
          "parcoords": [
           {
            "line": {
             "colorbar": {
              "outlinewidth": 0,
              "ticks": ""
             }
            },
            "type": "parcoords"
           }
          ],
          "pie": [
           {
            "automargin": true,
            "type": "pie"
           }
          ],
          "scatter": [
           {
            "fillpattern": {
             "fillmode": "overlay",
             "size": 10,
             "solidity": 0.2
            },
            "type": "scatter"
           }
          ],
          "scatter3d": [
           {
            "line": {
             "colorbar": {
              "outlinewidth": 0,
              "ticks": ""
             }
            },
            "marker": {
             "colorbar": {
              "outlinewidth": 0,
              "ticks": ""
             }
            },
            "type": "scatter3d"
           }
          ],
          "scattercarpet": [
           {
            "marker": {
             "colorbar": {
              "outlinewidth": 0,
              "ticks": ""
             }
            },
            "type": "scattercarpet"
           }
          ],
          "scattergeo": [
           {
            "marker": {
             "colorbar": {
              "outlinewidth": 0,
              "ticks": ""
             }
            },
            "type": "scattergeo"
           }
          ],
          "scattergl": [
           {
            "marker": {
             "colorbar": {
              "outlinewidth": 0,
              "ticks": ""
             }
            },
            "type": "scattergl"
           }
          ],
          "scattermap": [
           {
            "marker": {
             "colorbar": {
              "outlinewidth": 0,
              "ticks": ""
             }
            },
            "type": "scattermap"
           }
          ],
          "scattermapbox": [
           {
            "marker": {
             "colorbar": {
              "outlinewidth": 0,
              "ticks": ""
             }
            },
            "type": "scattermapbox"
           }
          ],
          "scatterpolar": [
           {
            "marker": {
             "colorbar": {
              "outlinewidth": 0,
              "ticks": ""
             }
            },
            "type": "scatterpolar"
           }
          ],
          "scatterpolargl": [
           {
            "marker": {
             "colorbar": {
              "outlinewidth": 0,
              "ticks": ""
             }
            },
            "type": "scatterpolargl"
           }
          ],
          "scatterternary": [
           {
            "marker": {
             "colorbar": {
              "outlinewidth": 0,
              "ticks": ""
             }
            },
            "type": "scatterternary"
           }
          ],
          "surface": [
           {
            "colorbar": {
             "outlinewidth": 0,
             "ticks": ""
            },
            "colorscale": [
             [
              0,
              "#0d0887"
             ],
             [
              0.1111111111111111,
              "#46039f"
             ],
             [
              0.2222222222222222,
              "#7201a8"
             ],
             [
              0.3333333333333333,
              "#9c179e"
             ],
             [
              0.4444444444444444,
              "#bd3786"
             ],
             [
              0.5555555555555556,
              "#d8576b"
             ],
             [
              0.6666666666666666,
              "#ed7953"
             ],
             [
              0.7777777777777778,
              "#fb9f3a"
             ],
             [
              0.8888888888888888,
              "#fdca26"
             ],
             [
              1,
              "#f0f921"
             ]
            ],
            "type": "surface"
           }
          ],
          "table": [
           {
            "cells": {
             "fill": {
              "color": "#EBF0F8"
             },
             "line": {
              "color": "white"
             }
            },
            "header": {
             "fill": {
              "color": "#C8D4E3"
             },
             "line": {
              "color": "white"
             }
            },
            "type": "table"
           }
          ]
         },
         "layout": {
          "annotationdefaults": {
           "arrowcolor": "#2a3f5f",
           "arrowhead": 0,
           "arrowwidth": 1
          },
          "autotypenumbers": "strict",
          "coloraxis": {
           "colorbar": {
            "outlinewidth": 0,
            "ticks": ""
           }
          },
          "colorscale": {
           "diverging": [
            [
             0,
             "#8e0152"
            ],
            [
             0.1,
             "#c51b7d"
            ],
            [
             0.2,
             "#de77ae"
            ],
            [
             0.3,
             "#f1b6da"
            ],
            [
             0.4,
             "#fde0ef"
            ],
            [
             0.5,
             "#f7f7f7"
            ],
            [
             0.6,
             "#e6f5d0"
            ],
            [
             0.7,
             "#b8e186"
            ],
            [
             0.8,
             "#7fbc41"
            ],
            [
             0.9,
             "#4d9221"
            ],
            [
             1,
             "#276419"
            ]
           ],
           "sequential": [
            [
             0,
             "#0d0887"
            ],
            [
             0.1111111111111111,
             "#46039f"
            ],
            [
             0.2222222222222222,
             "#7201a8"
            ],
            [
             0.3333333333333333,
             "#9c179e"
            ],
            [
             0.4444444444444444,
             "#bd3786"
            ],
            [
             0.5555555555555556,
             "#d8576b"
            ],
            [
             0.6666666666666666,
             "#ed7953"
            ],
            [
             0.7777777777777778,
             "#fb9f3a"
            ],
            [
             0.8888888888888888,
             "#fdca26"
            ],
            [
             1,
             "#f0f921"
            ]
           ],
           "sequentialminus": [
            [
             0,
             "#0d0887"
            ],
            [
             0.1111111111111111,
             "#46039f"
            ],
            [
             0.2222222222222222,
             "#7201a8"
            ],
            [
             0.3333333333333333,
             "#9c179e"
            ],
            [
             0.4444444444444444,
             "#bd3786"
            ],
            [
             0.5555555555555556,
             "#d8576b"
            ],
            [
             0.6666666666666666,
             "#ed7953"
            ],
            [
             0.7777777777777778,
             "#fb9f3a"
            ],
            [
             0.8888888888888888,
             "#fdca26"
            ],
            [
             1,
             "#f0f921"
            ]
           ]
          },
          "colorway": [
           "#636efa",
           "#EF553B",
           "#00cc96",
           "#ab63fa",
           "#FFA15A",
           "#19d3f3",
           "#FF6692",
           "#B6E880",
           "#FF97FF",
           "#FECB52"
          ],
          "font": {
           "color": "#2a3f5f"
          },
          "geo": {
           "bgcolor": "white",
           "lakecolor": "white",
           "landcolor": "white",
           "showlakes": true,
           "showland": true,
           "subunitcolor": "#C8D4E3"
          },
          "hoverlabel": {
           "align": "left"
          },
          "hovermode": "closest",
          "mapbox": {
           "style": "light"
          },
          "paper_bgcolor": "white",
          "plot_bgcolor": "white",
          "polar": {
           "angularaxis": {
            "gridcolor": "#EBF0F8",
            "linecolor": "#EBF0F8",
            "ticks": ""
           },
           "bgcolor": "white",
           "radialaxis": {
            "gridcolor": "#EBF0F8",
            "linecolor": "#EBF0F8",
            "ticks": ""
           }
          },
          "scene": {
           "xaxis": {
            "backgroundcolor": "white",
            "gridcolor": "#DFE8F3",
            "gridwidth": 2,
            "linecolor": "#EBF0F8",
            "showbackground": true,
            "ticks": "",
            "zerolinecolor": "#EBF0F8"
           },
           "yaxis": {
            "backgroundcolor": "white",
            "gridcolor": "#DFE8F3",
            "gridwidth": 2,
            "linecolor": "#EBF0F8",
            "showbackground": true,
            "ticks": "",
            "zerolinecolor": "#EBF0F8"
           },
           "zaxis": {
            "backgroundcolor": "white",
            "gridcolor": "#DFE8F3",
            "gridwidth": 2,
            "linecolor": "#EBF0F8",
            "showbackground": true,
            "ticks": "",
            "zerolinecolor": "#EBF0F8"
           }
          },
          "shapedefaults": {
           "line": {
            "color": "#2a3f5f"
           }
          },
          "ternary": {
           "aaxis": {
            "gridcolor": "#DFE8F3",
            "linecolor": "#A2B1C6",
            "ticks": ""
           },
           "baxis": {
            "gridcolor": "#DFE8F3",
            "linecolor": "#A2B1C6",
            "ticks": ""
           },
           "bgcolor": "white",
           "caxis": {
            "gridcolor": "#DFE8F3",
            "linecolor": "#A2B1C6",
            "ticks": ""
           }
          },
          "title": {
           "x": 0.05
          },
          "xaxis": {
           "automargin": true,
           "gridcolor": "#EBF0F8",
           "linecolor": "#EBF0F8",
           "ticks": "",
           "title": {
            "standoff": 15
           },
           "zerolinecolor": "#EBF0F8",
           "zerolinewidth": 2
          },
          "yaxis": {
           "automargin": true,
           "gridcolor": "#EBF0F8",
           "linecolor": "#EBF0F8",
           "ticks": "",
           "title": {
            "standoff": 15
           },
           "zerolinecolor": "#EBF0F8",
           "zerolinewidth": 2
          }
         }
        },
        "title": {
         "text": "Maximum Number of Babies Given Any One Name Per Year by Gender"
        },
        "xaxis": {
         "title": {
          "text": "Year"
         }
        },
        "yaxis": {
         "tickformat": ",",
         "title": {
          "text": "Number of Babies"
         }
        }
       }
      }
     },
     "metadata": {},
     "output_type": "display_data"
    }
   ],
   "source": [
    "# Pivot the data to have separate columns for male and female\n",
    "yearly_trends_gender = max_per_year_gender.pivot(index='year', columns='gender', values='max_num').reset_index()\n",
    "\n",
    "# Create an interactive plot\n",
    "fig = go.Figure()\n",
    "\n",
    "# Add trace for baby girls\n",
    "fig.add_trace(go.Scatter(\n",
    "    x=yearly_trends_gender['year'],\n",
    "    y=yearly_trends_gender['F'],\n",
    "    mode='lines',\n",
    "    name='Female',\n",
    "    line=dict(color='purple'),\n",
    "    hovertemplate='Year: %{x}<br>Number of Babies: %{y:,}<extra></extra>'\n",
    "))\n",
    "\n",
    "# Add trace for baby boys\n",
    "fig.add_trace(go.Scatter(\n",
    "    x=yearly_trends_gender['year'],\n",
    "    y=yearly_trends_gender['M'],\n",
    "    mode='lines',\n",
    "    name='Male',\n",
    "    line=dict(color='green'),\n",
    "    hovertemplate='Year: %{x}<br>Number of Babies: %{y:,}<extra></extra>'\n",
    "))\n",
    "\n",
    "# Update layout\n",
    "fig.update_layout(\n",
    "    title='Maximum Number of Babies Given Any One Name Per Year by Gender',\n",
    "    xaxis_title='Year',\n",
    "    yaxis_title='Number of Babies',\n",
    "    yaxis_tickformat=',',  # Use comma as a thousands separator\n",
    "    legend_title='Gender',\n",
    "    template='plotly_white'\n",
    ")\n",
    "\n",
    "# Show the plot\n",
    "fig.show()"
   ]
  },
  {
   "cell_type": "code",
   "execution_count": 71,
   "id": "4c1783ea-5601-49b9-b293-b0f949681b3f",
   "metadata": {
    "executionCancelledAt": null,
    "executionTime": 44,
    "lastExecutedAt": 1754921609125,
    "lastExecutedByKernel": "35ec5e07-7562-4a59-8301-2db1b0adb100",
    "lastScheduledRunId": null,
    "lastSuccessfullyExecutedCode": "# Calculate the total number of births per year\ntotal_births_per_year = names.groupby('year')['num'].sum().reset_index()\ntotal_births_per_year",
    "outputsMetadata": {
     "0": {
      "height": 550,
      "tableState": {
       "customFilter": {
        "const": {
         "type": "boolean",
         "valid": true,
         "value": true
        },
        "id": "6585776e-3551-457e-a591-73ff8f0fd0b1",
        "nodeType": "const"
       }
      },
      "type": "dataFrame"
     }
    }
   },
   "outputs": [
    {
     "data": {
      "text/html": [
       "<div>\n",
       "<style scoped>\n",
       "    .dataframe tbody tr th:only-of-type {\n",
       "        vertical-align: middle;\n",
       "    }\n",
       "\n",
       "    .dataframe tbody tr th {\n",
       "        vertical-align: top;\n",
       "    }\n",
       "\n",
       "    .dataframe thead th {\n",
       "        text-align: right;\n",
       "    }\n",
       "</style>\n",
       "<table border=\"1\" class=\"dataframe\">\n",
       "  <thead>\n",
       "    <tr style=\"text-align: right;\">\n",
       "      <th></th>\n",
       "      <th>year</th>\n",
       "      <th>num</th>\n",
       "    </tr>\n",
       "  </thead>\n",
       "  <tbody>\n",
       "    <tr>\n",
       "      <th>0</th>\n",
       "      <td>1920</td>\n",
       "      <td>1200971</td>\n",
       "    </tr>\n",
       "    <tr>\n",
       "      <th>1</th>\n",
       "      <td>1921</td>\n",
       "      <td>1264083</td>\n",
       "    </tr>\n",
       "    <tr>\n",
       "      <th>2</th>\n",
       "      <td>1922</td>\n",
       "      <td>1208754</td>\n",
       "    </tr>\n",
       "    <tr>\n",
       "      <th>3</th>\n",
       "      <td>1923</td>\n",
       "      <td>1236275</td>\n",
       "    </tr>\n",
       "    <tr>\n",
       "      <th>4</th>\n",
       "      <td>1924</td>\n",
       "      <td>1294834</td>\n",
       "    </tr>\n",
       "    <tr>\n",
       "      <th>...</th>\n",
       "      <td>...</td>\n",
       "      <td>...</td>\n",
       "    </tr>\n",
       "    <tr>\n",
       "      <th>96</th>\n",
       "      <td>2016</td>\n",
       "      <td>1087581</td>\n",
       "    </tr>\n",
       "    <tr>\n",
       "      <th>97</th>\n",
       "      <td>2017</td>\n",
       "      <td>1042170</td>\n",
       "    </tr>\n",
       "    <tr>\n",
       "      <th>98</th>\n",
       "      <td>2018</td>\n",
       "      <td>977117</td>\n",
       "    </tr>\n",
       "    <tr>\n",
       "      <th>99</th>\n",
       "      <td>2019</td>\n",
       "      <td>916795</td>\n",
       "    </tr>\n",
       "    <tr>\n",
       "      <th>100</th>\n",
       "      <td>2020</td>\n",
       "      <td>826019</td>\n",
       "    </tr>\n",
       "  </tbody>\n",
       "</table>\n",
       "<p>101 rows × 2 columns</p>\n",
       "</div>"
      ],
      "text/plain": [
       "     year      num\n",
       "0    1920  1200971\n",
       "1    1921  1264083\n",
       "2    1922  1208754\n",
       "3    1923  1236275\n",
       "4    1924  1294834\n",
       "..    ...      ...\n",
       "96   2016  1087581\n",
       "97   2017  1042170\n",
       "98   2018   977117\n",
       "99   2019   916795\n",
       "100  2020   826019\n",
       "\n",
       "[101 rows x 2 columns]"
      ]
     },
     "execution_count": 71,
     "metadata": {},
     "output_type": "execute_result"
    }
   ],
   "source": [
    "# Calculate the total number of births per year\n",
    "total_births_per_year = names.groupby('year')['num'].sum().reset_index()\n",
    "total_births_per_year"
   ]
  },
  {
   "cell_type": "markdown",
   "id": "c43553d9-48cb-420e-a137-17be9f37ce8d",
   "metadata": {},
   "source": [
    "To determine whether the decline in 2020 is due to fewer births or less usage of popular names, we need to analyze the overall birth data and the distribution of names. Let's perform the following steps:\n",
    "\n",
    "Calculate the total number of births per year.\n",
    "Compare the trend of total births with the trend of the most popular names.\n",
    "I'll start by calculating the total number of births per year."
   ]
  },
  {
   "cell_type": "code",
   "execution_count": 72,
   "id": "50ffc560-b627-4d87-9741-5764ad066791",
   "metadata": {
    "executionCancelledAt": null,
    "executionTime": 49,
    "lastExecutedAt": 1754921609174,
    "lastExecutedByKernel": "35ec5e07-7562-4a59-8301-2db1b0adb100",
    "lastScheduledRunId": null,
    "lastSuccessfullyExecutedCode": "# Calculate the total number of births per year for each gender\nbirths_per_year_gender = names.groupby(['year', 'sex'])['num'].sum().reset_index()\nbirths_per_year_gender",
    "outputsMetadata": {
     "0": {
      "height": 550,
      "tableState": {
       "customFilter": {
        "const": {
         "type": "boolean",
         "valid": true,
         "value": true
        },
        "id": "6585776e-3551-457e-a591-73ff8f0fd0b1",
        "nodeType": "const"
       }
      },
      "type": "dataFrame"
     }
    }
   },
   "outputs": [
    {
     "data": {
      "text/html": [
       "<div>\n",
       "<style scoped>\n",
       "    .dataframe tbody tr th:only-of-type {\n",
       "        vertical-align: middle;\n",
       "    }\n",
       "\n",
       "    .dataframe tbody tr th {\n",
       "        vertical-align: top;\n",
       "    }\n",
       "\n",
       "    .dataframe thead th {\n",
       "        text-align: right;\n",
       "    }\n",
       "</style>\n",
       "<table border=\"1\" class=\"dataframe\">\n",
       "  <thead>\n",
       "    <tr style=\"text-align: right;\">\n",
       "      <th></th>\n",
       "      <th>year</th>\n",
       "      <th>sex</th>\n",
       "      <th>num</th>\n",
       "    </tr>\n",
       "  </thead>\n",
       "  <tbody>\n",
       "    <tr>\n",
       "      <th>0</th>\n",
       "      <td>1920</td>\n",
       "      <td>F</td>\n",
       "      <td>600217</td>\n",
       "    </tr>\n",
       "    <tr>\n",
       "      <th>1</th>\n",
       "      <td>1920</td>\n",
       "      <td>M</td>\n",
       "      <td>600754</td>\n",
       "    </tr>\n",
       "    <tr>\n",
       "      <th>2</th>\n",
       "      <td>1921</td>\n",
       "      <td>F</td>\n",
       "      <td>638111</td>\n",
       "    </tr>\n",
       "    <tr>\n",
       "      <th>3</th>\n",
       "      <td>1921</td>\n",
       "      <td>M</td>\n",
       "      <td>625972</td>\n",
       "    </tr>\n",
       "    <tr>\n",
       "      <th>4</th>\n",
       "      <td>1922</td>\n",
       "      <td>F</td>\n",
       "      <td>596728</td>\n",
       "    </tr>\n",
       "    <tr>\n",
       "      <th>...</th>\n",
       "      <td>...</td>\n",
       "      <td>...</td>\n",
       "      <td>...</td>\n",
       "    </tr>\n",
       "    <tr>\n",
       "      <th>197</th>\n",
       "      <td>2018</td>\n",
       "      <td>M</td>\n",
       "      <td>632503</td>\n",
       "    </tr>\n",
       "    <tr>\n",
       "      <th>198</th>\n",
       "      <td>2019</td>\n",
       "      <td>F</td>\n",
       "      <td>320977</td>\n",
       "    </tr>\n",
       "    <tr>\n",
       "      <th>199</th>\n",
       "      <td>2019</td>\n",
       "      <td>M</td>\n",
       "      <td>595818</td>\n",
       "    </tr>\n",
       "    <tr>\n",
       "      <th>200</th>\n",
       "      <td>2020</td>\n",
       "      <td>F</td>\n",
       "      <td>296365</td>\n",
       "    </tr>\n",
       "    <tr>\n",
       "      <th>201</th>\n",
       "      <td>2020</td>\n",
       "      <td>M</td>\n",
       "      <td>529654</td>\n",
       "    </tr>\n",
       "  </tbody>\n",
       "</table>\n",
       "<p>202 rows × 3 columns</p>\n",
       "</div>"
      ],
      "text/plain": [
       "     year sex     num\n",
       "0    1920   F  600217\n",
       "1    1920   M  600754\n",
       "2    1921   F  638111\n",
       "3    1921   M  625972\n",
       "4    1922   F  596728\n",
       "..    ...  ..     ...\n",
       "197  2018   M  632503\n",
       "198  2019   F  320977\n",
       "199  2019   M  595818\n",
       "200  2020   F  296365\n",
       "201  2020   M  529654\n",
       "\n",
       "[202 rows x 3 columns]"
      ]
     },
     "execution_count": 72,
     "metadata": {},
     "output_type": "execute_result"
    }
   ],
   "source": [
    "# Calculate the total number of births per year for each gender\n",
    "births_per_year_gender = names.groupby(['year', 'sex'])['num'].sum().reset_index()\n",
    "births_per_year_gender"
   ]
  },
  {
   "cell_type": "markdown",
   "id": "a5a91de5-5cec-4d0a-b58d-d78626b8c8af",
   "metadata": {},
   "source": [
    "The analysis shows a significant decline in the total number of births from 2016 to 2020, with births dropping from 1,087,581 in 2016 to 826,019 in 2020. When broken down by gender, both female and male births decreased during this period. Female births dropped from 320,977 in 2019 to 296,365 in 2020, and male births dropped from 595,818 in 2019 to 529,654 in 2020. This indicates that the decline in the maximum number of babies given any one name by 2020 is primarily due to an overall decrease in the number of births rather than a decline in the popularity of specific names."
   ]
  },
  {
   "cell_type": "code",
   "execution_count": 73,
   "id": "5b074152-b4c8-4fe4-9f68-8f60407cbbef",
   "metadata": {
    "executionCancelledAt": null,
    "executionTime": 83,
    "lastExecutedAt": 1754921609257,
    "lastExecutedByKernel": "35ec5e07-7562-4a59-8301-2db1b0adb100",
    "lastScheduledRunId": null,
    "lastSuccessfullyExecutedCode": "# Create an interactive line plot for total births per year by gender\nfig = px.line(births_per_year_gender, x='year', y='num', color='sex', title='Total Number of Births Per Year by Gender')\n\n# Show the plot\nfig.show()",
    "outputsMetadata": {
     "0": {
      "height": 17,
      "type": "plotly"
     }
    }
   },
   "outputs": [
    {
     "data": {
      "application/vnd.plotly.v1+json": {
       "config": {
        "plotlyServerURL": "https://plot.ly"
       },
       "data": [
        {
         "hovertemplate": "sex=F<br>year=%{x}<br>num=%{y}<extra></extra>",
         "legendgroup": "F",
         "line": {
          "color": "#636efa",
          "dash": "solid"
         },
         "marker": {
          "symbol": "circle"
         },
         "mode": "lines",
         "name": "F",
         "orientation": "v",
         "showlegend": true,
         "type": "scatter",
         "x": {
          "bdata": "gAeBB4IHgweEB4UHhgeHB4gHiQeKB4sHjAeNB44HjweQB5EHkgeTB5QHlQeWB5cHmAeZB5oHmwecB50HngefB6AHoQeiB6MHpAelB6YHpweoB6kHqgerB6wHrQeuB68HsAexB7IHswe0B7UHtge3B7gHuQe6B7sHvAe9B74HvwfAB8EHwgfDB8QHxQfGB8cHyAfJB8oHywfMB80HzgfPB9AH0QfSB9MH1AfVB9YH1wfYB9kH2gfbB9wH3QfeB98H4AfhB+IH4wfkBw==",
          "dtype": "i2"
         },
         "xaxis": "x",
         "y": {
          "bdata": "mSgJAJ+8CQD4GgkA2E8JAKTcCQCaHwkAjOUIAFpoCQB/xAgAbXUIAElyCADFwgcAq68HAMoTBwALKAcARTkHAEFWBwCwZwcAmLoHACHxBwCi2QgA/I0JAH0wCwA5sgsA6ucKAP6+CgB4/Q0AS+QQAB/vDwA2ChAAdDwQAG1yEQBW5xEAIj0SAAyKEgC+oRIALYATAFPFEwCSBhMApyMTAFLAEgBOWRIAV64RAE0AEQDfHRAAtV0OAPyCDQCx5wwAabsMANwMDQAdKA0AEQcMAOZRCgCzagkAwq4JANNtCQDgvAkA/SAKAIe3CQCPTQoATQQLADc7CwDX3wsAku0LAKAjDAA5YgwAvSMMAPJnDABNswwA6dsMACAqDQBSoQwAeSMMAJykCwAEFgsAEKAKAKJDCgCV2wkAfoYJACdYCQALjwkAlcsIAA5TCADodAgAURAIANbDBwC5BggAF50HAM0uBwA4jAYAn2wGABAfBgDS3AUALL8FAEbfBQAs9QUAUrUFAAqeBQAmQgUA0eUEAK2FBAA=",
          "dtype": "i4"
         },
         "yaxis": "y"
        },
        {
         "hovertemplate": "sex=M<br>year=%{x}<br>num=%{y}<extra></extra>",
         "legendgroup": "M",
         "line": {
          "color": "#EF553B",
          "dash": "solid"
         },
         "marker": {
          "symbol": "circle"
         },
         "mode": "lines",
         "name": "M",
         "orientation": "v",
         "showlegend": true,
         "type": "scatter",
         "x": {
          "bdata": "gAeBB4IHgweEB4UHhgeHB4gHiQeKB4sHjAeNB44HjweQB5EHkgeTB5QHlQeWB5cHmAeZB5oHmwecB50HngefB6AHoQeiB6MHpAelB6YHpweoB6kHqgerB6wHrQeuB68HsAexB7IHswe0B7UHtge3B7gHuQe6B7sHvAe9B74HvwfAB8EHwgfDB8QHxQfGB8cHyAfJB8oHywfMB80HzgfPB9AH0QfSB9MH1AfVB9YH1wfYB9kH2gfbB9wH3QfeB98H4AfhB+IH4wfkBw==",
          "dtype": "i2"
         },
         "xaxis": "x",
         "y": {
          "bdata": "sioJADSNCQC6VgkAW40JAE7lCQBPoQkACLoJABLjCQDlvQkAz1QJAASaCQC8AQkAF/MIAOMuCAA4rAgAdd4IAKfsCADUVwkAHvUJAJL/CQBxmAoAZrgLAIyMDQClKg4AG44NAI9dDQCRAxEAdQwUAGrrEgDdHRMA9P4SAE/9FACJbBUAr80VAL6VFgBp2BYAEX0XAELkFwCoYBcAIj4XACD7FgCo1xYAVyYWAF+oFQDb4RQAM7USAENVEQDv6RAAqeAQAFU8EQBM5xEASt4QAKIqDwChfw4As48OAL1NDgBidA4AMUAPAIZLDwAx7Q8Azd0QAEPgEADqHREAXBwRAK5VEQByoxEAUYwRAJCKEQC46REAmiQSAIL9EgDHURIAn4sRAAzbEABslhAA66UPAPRdDwA6Cg8AqkkPABFuDwBAVQ8AHNAOAEizDgBwFg8A9/UOABVuDgAY1Q4AqhMPAB11DgBiVw0AbJUMAN1SDADrJgwAy9cLAObHCwD60wsAC+MKAPBICgC3pgkAahcJAPYUCAA=",
          "dtype": "i4"
         },
         "yaxis": "y"
        }
       ],
       "layout": {
        "legend": {
         "title": {
          "text": "sex"
         },
         "tracegroupgap": 0
        },
        "template": {
         "data": {
          "bar": [
           {
            "error_x": {
             "color": "#2a3f5f"
            },
            "error_y": {
             "color": "#2a3f5f"
            },
            "marker": {
             "line": {
              "color": "#E5ECF6",
              "width": 0.5
             },
             "pattern": {
              "fillmode": "overlay",
              "size": 10,
              "solidity": 0.2
             }
            },
            "type": "bar"
           }
          ],
          "barpolar": [
           {
            "marker": {
             "line": {
              "color": "#E5ECF6",
              "width": 0.5
             },
             "pattern": {
              "fillmode": "overlay",
              "size": 10,
              "solidity": 0.2
             }
            },
            "type": "barpolar"
           }
          ],
          "carpet": [
           {
            "aaxis": {
             "endlinecolor": "#2a3f5f",
             "gridcolor": "white",
             "linecolor": "white",
             "minorgridcolor": "white",
             "startlinecolor": "#2a3f5f"
            },
            "baxis": {
             "endlinecolor": "#2a3f5f",
             "gridcolor": "white",
             "linecolor": "white",
             "minorgridcolor": "white",
             "startlinecolor": "#2a3f5f"
            },
            "type": "carpet"
           }
          ],
          "choropleth": [
           {
            "colorbar": {
             "outlinewidth": 0,
             "ticks": ""
            },
            "type": "choropleth"
           }
          ],
          "contour": [
           {
            "colorbar": {
             "outlinewidth": 0,
             "ticks": ""
            },
            "colorscale": [
             [
              0,
              "#0d0887"
             ],
             [
              0.1111111111111111,
              "#46039f"
             ],
             [
              0.2222222222222222,
              "#7201a8"
             ],
             [
              0.3333333333333333,
              "#9c179e"
             ],
             [
              0.4444444444444444,
              "#bd3786"
             ],
             [
              0.5555555555555556,
              "#d8576b"
             ],
             [
              0.6666666666666666,
              "#ed7953"
             ],
             [
              0.7777777777777778,
              "#fb9f3a"
             ],
             [
              0.8888888888888888,
              "#fdca26"
             ],
             [
              1,
              "#f0f921"
             ]
            ],
            "type": "contour"
           }
          ],
          "contourcarpet": [
           {
            "colorbar": {
             "outlinewidth": 0,
             "ticks": ""
            },
            "type": "contourcarpet"
           }
          ],
          "heatmap": [
           {
            "colorbar": {
             "outlinewidth": 0,
             "ticks": ""
            },
            "colorscale": [
             [
              0,
              "#0d0887"
             ],
             [
              0.1111111111111111,
              "#46039f"
             ],
             [
              0.2222222222222222,
              "#7201a8"
             ],
             [
              0.3333333333333333,
              "#9c179e"
             ],
             [
              0.4444444444444444,
              "#bd3786"
             ],
             [
              0.5555555555555556,
              "#d8576b"
             ],
             [
              0.6666666666666666,
              "#ed7953"
             ],
             [
              0.7777777777777778,
              "#fb9f3a"
             ],
             [
              0.8888888888888888,
              "#fdca26"
             ],
             [
              1,
              "#f0f921"
             ]
            ],
            "type": "heatmap"
           }
          ],
          "histogram": [
           {
            "marker": {
             "pattern": {
              "fillmode": "overlay",
              "size": 10,
              "solidity": 0.2
             }
            },
            "type": "histogram"
           }
          ],
          "histogram2d": [
           {
            "colorbar": {
             "outlinewidth": 0,
             "ticks": ""
            },
            "colorscale": [
             [
              0,
              "#0d0887"
             ],
             [
              0.1111111111111111,
              "#46039f"
             ],
             [
              0.2222222222222222,
              "#7201a8"
             ],
             [
              0.3333333333333333,
              "#9c179e"
             ],
             [
              0.4444444444444444,
              "#bd3786"
             ],
             [
              0.5555555555555556,
              "#d8576b"
             ],
             [
              0.6666666666666666,
              "#ed7953"
             ],
             [
              0.7777777777777778,
              "#fb9f3a"
             ],
             [
              0.8888888888888888,
              "#fdca26"
             ],
             [
              1,
              "#f0f921"
             ]
            ],
            "type": "histogram2d"
           }
          ],
          "histogram2dcontour": [
           {
            "colorbar": {
             "outlinewidth": 0,
             "ticks": ""
            },
            "colorscale": [
             [
              0,
              "#0d0887"
             ],
             [
              0.1111111111111111,
              "#46039f"
             ],
             [
              0.2222222222222222,
              "#7201a8"
             ],
             [
              0.3333333333333333,
              "#9c179e"
             ],
             [
              0.4444444444444444,
              "#bd3786"
             ],
             [
              0.5555555555555556,
              "#d8576b"
             ],
             [
              0.6666666666666666,
              "#ed7953"
             ],
             [
              0.7777777777777778,
              "#fb9f3a"
             ],
             [
              0.8888888888888888,
              "#fdca26"
             ],
             [
              1,
              "#f0f921"
             ]
            ],
            "type": "histogram2dcontour"
           }
          ],
          "mesh3d": [
           {
            "colorbar": {
             "outlinewidth": 0,
             "ticks": ""
            },
            "type": "mesh3d"
           }
          ],
          "parcoords": [
           {
            "line": {
             "colorbar": {
              "outlinewidth": 0,
              "ticks": ""
             }
            },
            "type": "parcoords"
           }
          ],
          "pie": [
           {
            "automargin": true,
            "type": "pie"
           }
          ],
          "scatter": [
           {
            "fillpattern": {
             "fillmode": "overlay",
             "size": 10,
             "solidity": 0.2
            },
            "type": "scatter"
           }
          ],
          "scatter3d": [
           {
            "line": {
             "colorbar": {
              "outlinewidth": 0,
              "ticks": ""
             }
            },
            "marker": {
             "colorbar": {
              "outlinewidth": 0,
              "ticks": ""
             }
            },
            "type": "scatter3d"
           }
          ],
          "scattercarpet": [
           {
            "marker": {
             "colorbar": {
              "outlinewidth": 0,
              "ticks": ""
             }
            },
            "type": "scattercarpet"
           }
          ],
          "scattergeo": [
           {
            "marker": {
             "colorbar": {
              "outlinewidth": 0,
              "ticks": ""
             }
            },
            "type": "scattergeo"
           }
          ],
          "scattergl": [
           {
            "marker": {
             "colorbar": {
              "outlinewidth": 0,
              "ticks": ""
             }
            },
            "type": "scattergl"
           }
          ],
          "scattermap": [
           {
            "marker": {
             "colorbar": {
              "outlinewidth": 0,
              "ticks": ""
             }
            },
            "type": "scattermap"
           }
          ],
          "scattermapbox": [
           {
            "marker": {
             "colorbar": {
              "outlinewidth": 0,
              "ticks": ""
             }
            },
            "type": "scattermapbox"
           }
          ],
          "scatterpolar": [
           {
            "marker": {
             "colorbar": {
              "outlinewidth": 0,
              "ticks": ""
             }
            },
            "type": "scatterpolar"
           }
          ],
          "scatterpolargl": [
           {
            "marker": {
             "colorbar": {
              "outlinewidth": 0,
              "ticks": ""
             }
            },
            "type": "scatterpolargl"
           }
          ],
          "scatterternary": [
           {
            "marker": {
             "colorbar": {
              "outlinewidth": 0,
              "ticks": ""
             }
            },
            "type": "scatterternary"
           }
          ],
          "surface": [
           {
            "colorbar": {
             "outlinewidth": 0,
             "ticks": ""
            },
            "colorscale": [
             [
              0,
              "#0d0887"
             ],
             [
              0.1111111111111111,
              "#46039f"
             ],
             [
              0.2222222222222222,
              "#7201a8"
             ],
             [
              0.3333333333333333,
              "#9c179e"
             ],
             [
              0.4444444444444444,
              "#bd3786"
             ],
             [
              0.5555555555555556,
              "#d8576b"
             ],
             [
              0.6666666666666666,
              "#ed7953"
             ],
             [
              0.7777777777777778,
              "#fb9f3a"
             ],
             [
              0.8888888888888888,
              "#fdca26"
             ],
             [
              1,
              "#f0f921"
             ]
            ],
            "type": "surface"
           }
          ],
          "table": [
           {
            "cells": {
             "fill": {
              "color": "#EBF0F8"
             },
             "line": {
              "color": "white"
             }
            },
            "header": {
             "fill": {
              "color": "#C8D4E3"
             },
             "line": {
              "color": "white"
             }
            },
            "type": "table"
           }
          ]
         },
         "layout": {
          "annotationdefaults": {
           "arrowcolor": "#2a3f5f",
           "arrowhead": 0,
           "arrowwidth": 1
          },
          "autotypenumbers": "strict",
          "coloraxis": {
           "colorbar": {
            "outlinewidth": 0,
            "ticks": ""
           }
          },
          "colorscale": {
           "diverging": [
            [
             0,
             "#8e0152"
            ],
            [
             0.1,
             "#c51b7d"
            ],
            [
             0.2,
             "#de77ae"
            ],
            [
             0.3,
             "#f1b6da"
            ],
            [
             0.4,
             "#fde0ef"
            ],
            [
             0.5,
             "#f7f7f7"
            ],
            [
             0.6,
             "#e6f5d0"
            ],
            [
             0.7,
             "#b8e186"
            ],
            [
             0.8,
             "#7fbc41"
            ],
            [
             0.9,
             "#4d9221"
            ],
            [
             1,
             "#276419"
            ]
           ],
           "sequential": [
            [
             0,
             "#0d0887"
            ],
            [
             0.1111111111111111,
             "#46039f"
            ],
            [
             0.2222222222222222,
             "#7201a8"
            ],
            [
             0.3333333333333333,
             "#9c179e"
            ],
            [
             0.4444444444444444,
             "#bd3786"
            ],
            [
             0.5555555555555556,
             "#d8576b"
            ],
            [
             0.6666666666666666,
             "#ed7953"
            ],
            [
             0.7777777777777778,
             "#fb9f3a"
            ],
            [
             0.8888888888888888,
             "#fdca26"
            ],
            [
             1,
             "#f0f921"
            ]
           ],
           "sequentialminus": [
            [
             0,
             "#0d0887"
            ],
            [
             0.1111111111111111,
             "#46039f"
            ],
            [
             0.2222222222222222,
             "#7201a8"
            ],
            [
             0.3333333333333333,
             "#9c179e"
            ],
            [
             0.4444444444444444,
             "#bd3786"
            ],
            [
             0.5555555555555556,
             "#d8576b"
            ],
            [
             0.6666666666666666,
             "#ed7953"
            ],
            [
             0.7777777777777778,
             "#fb9f3a"
            ],
            [
             0.8888888888888888,
             "#fdca26"
            ],
            [
             1,
             "#f0f921"
            ]
           ]
          },
          "colorway": [
           "#636efa",
           "#EF553B",
           "#00cc96",
           "#ab63fa",
           "#FFA15A",
           "#19d3f3",
           "#FF6692",
           "#B6E880",
           "#FF97FF",
           "#FECB52"
          ],
          "font": {
           "color": "#2a3f5f"
          },
          "geo": {
           "bgcolor": "white",
           "lakecolor": "white",
           "landcolor": "#E5ECF6",
           "showlakes": true,
           "showland": true,
           "subunitcolor": "white"
          },
          "hoverlabel": {
           "align": "left"
          },
          "hovermode": "closest",
          "mapbox": {
           "style": "light"
          },
          "paper_bgcolor": "white",
          "plot_bgcolor": "#E5ECF6",
          "polar": {
           "angularaxis": {
            "gridcolor": "white",
            "linecolor": "white",
            "ticks": ""
           },
           "bgcolor": "#E5ECF6",
           "radialaxis": {
            "gridcolor": "white",
            "linecolor": "white",
            "ticks": ""
           }
          },
          "scene": {
           "xaxis": {
            "backgroundcolor": "#E5ECF6",
            "gridcolor": "white",
            "gridwidth": 2,
            "linecolor": "white",
            "showbackground": true,
            "ticks": "",
            "zerolinecolor": "white"
           },
           "yaxis": {
            "backgroundcolor": "#E5ECF6",
            "gridcolor": "white",
            "gridwidth": 2,
            "linecolor": "white",
            "showbackground": true,
            "ticks": "",
            "zerolinecolor": "white"
           },
           "zaxis": {
            "backgroundcolor": "#E5ECF6",
            "gridcolor": "white",
            "gridwidth": 2,
            "linecolor": "white",
            "showbackground": true,
            "ticks": "",
            "zerolinecolor": "white"
           }
          },
          "shapedefaults": {
           "line": {
            "color": "#2a3f5f"
           }
          },
          "ternary": {
           "aaxis": {
            "gridcolor": "white",
            "linecolor": "white",
            "ticks": ""
           },
           "baxis": {
            "gridcolor": "white",
            "linecolor": "white",
            "ticks": ""
           },
           "bgcolor": "#E5ECF6",
           "caxis": {
            "gridcolor": "white",
            "linecolor": "white",
            "ticks": ""
           }
          },
          "title": {
           "x": 0.05
          },
          "xaxis": {
           "automargin": true,
           "gridcolor": "white",
           "linecolor": "white",
           "ticks": "",
           "title": {
            "standoff": 15
           },
           "zerolinecolor": "white",
           "zerolinewidth": 2
          },
          "yaxis": {
           "automargin": true,
           "gridcolor": "white",
           "linecolor": "white",
           "ticks": "",
           "title": {
            "standoff": 15
           },
           "zerolinecolor": "white",
           "zerolinewidth": 2
          }
         }
        },
        "title": {
         "text": "Total Number of Births Per Year by Gender"
        },
        "xaxis": {
         "anchor": "y",
         "domain": [
          0,
          1
         ],
         "title": {
          "text": "year"
         }
        },
        "yaxis": {
         "anchor": "x",
         "domain": [
          0,
          1
         ],
         "title": {
          "text": "num"
         }
        }
       }
      }
     },
     "metadata": {},
     "output_type": "display_data"
    }
   ],
   "source": [
    "# Create an interactive line plot for total births per year by gender\n",
    "fig = px.line(births_per_year_gender, x='year', y='num', color='sex', title='Total Number of Births Per Year by Gender')\n",
    "\n",
    "# Show the plot\n",
    "fig.show()"
   ]
  },
  {
   "cell_type": "markdown",
   "id": "322f14b0-e9bf-43d7-87c3-aa736f2b1393",
   "metadata": {},
   "source": [
    "The interactive line plot shows that the total number of births for both genders has been declining since around 1987. This trend is consistent for both male and female births. The significant drop in the maximum number of babies given any one name by 2020 is primarily due to an overall decrease in the number of births rather than a decline in the popularity of specific names."
   ]
  },
  {
   "cell_type": "code",
   "execution_count": 74,
   "id": "b591c77b-b764-4edb-99ff-a0e6f2122944",
   "metadata": {
    "executionCancelledAt": null,
    "executionTime": 44,
    "lastExecutedAt": 1754921609301,
    "lastExecutedByKernel": "35ec5e07-7562-4a59-8301-2db1b0adb100",
    "lastScheduledRunId": null,
    "lastSuccessfullyExecutedCode": "names.head()",
    "outputsMetadata": {
     "0": {
      "height": 50,
      "tableState": {
       "customFilter": {
        "const": {
         "type": "boolean",
         "valid": true,
         "value": true
        },
        "id": "6585776e-3551-457e-a591-73ff8f0fd0b1",
        "nodeType": "const"
       }
      },
      "type": "dataFrame"
     }
    }
   },
   "outputs": [
    {
     "data": {
      "text/html": [
       "<div>\n",
       "<style scoped>\n",
       "    .dataframe tbody tr th:only-of-type {\n",
       "        vertical-align: middle;\n",
       "    }\n",
       "\n",
       "    .dataframe tbody tr th {\n",
       "        vertical-align: top;\n",
       "    }\n",
       "\n",
       "    .dataframe thead th {\n",
       "        text-align: right;\n",
       "    }\n",
       "</style>\n",
       "<table border=\"1\" class=\"dataframe\">\n",
       "  <thead>\n",
       "    <tr style=\"text-align: right;\">\n",
       "      <th></th>\n",
       "      <th>year</th>\n",
       "      <th>first_name</th>\n",
       "      <th>sex</th>\n",
       "      <th>num</th>\n",
       "      <th>cumulative_num</th>\n",
       "    </tr>\n",
       "  </thead>\n",
       "  <tbody>\n",
       "    <tr>\n",
       "      <th>0</th>\n",
       "      <td>1920</td>\n",
       "      <td>Mary</td>\n",
       "      <td>F</td>\n",
       "      <td>70982</td>\n",
       "      <td>70982</td>\n",
       "    </tr>\n",
       "    <tr>\n",
       "      <th>1</th>\n",
       "      <td>1920</td>\n",
       "      <td>Dorothy</td>\n",
       "      <td>F</td>\n",
       "      <td>36643</td>\n",
       "      <td>36643</td>\n",
       "    </tr>\n",
       "    <tr>\n",
       "      <th>2</th>\n",
       "      <td>1920</td>\n",
       "      <td>Helen</td>\n",
       "      <td>F</td>\n",
       "      <td>35097</td>\n",
       "      <td>35097</td>\n",
       "    </tr>\n",
       "    <tr>\n",
       "      <th>3</th>\n",
       "      <td>1920</td>\n",
       "      <td>Margaret</td>\n",
       "      <td>F</td>\n",
       "      <td>27994</td>\n",
       "      <td>27994</td>\n",
       "    </tr>\n",
       "    <tr>\n",
       "      <th>4</th>\n",
       "      <td>1920</td>\n",
       "      <td>Ruth</td>\n",
       "      <td>F</td>\n",
       "      <td>26101</td>\n",
       "      <td>26101</td>\n",
       "    </tr>\n",
       "  </tbody>\n",
       "</table>\n",
       "</div>"
      ],
      "text/plain": [
       "   year first_name sex    num  cumulative_num\n",
       "0  1920       Mary   F  70982           70982\n",
       "1  1920    Dorothy   F  36643           36643\n",
       "2  1920      Helen   F  35097           35097\n",
       "3  1920   Margaret   F  27994           27994\n",
       "4  1920       Ruth   F  26101           26101"
      ]
     },
     "execution_count": 74,
     "metadata": {},
     "output_type": "execute_result"
    }
   ],
   "source": [
    "names.head()"
   ]
  },
  {
   "cell_type": "code",
   "execution_count": 75,
   "id": "1bbf1fef-a6d1-4c0f-be5d-fa00135a3796",
   "metadata": {
    "executionCancelledAt": null,
    "executionTime": 3333,
    "lastExecutedAt": 1754921612634,
    "lastExecutedByKernel": "35ec5e07-7562-4a59-8301-2db1b0adb100",
    "lastScheduledRunId": null,
    "lastSuccessfullyExecutedCode": "!pip install pmdarima",
    "outputsMetadata": {
     "0": {
      "height": 616,
      "type": "stream"
     }
    }
   },
   "outputs": [
    {
     "name": "stdout",
     "output_type": "stream",
     "text": [
      "Collecting pmdarima\n",
      "  Using cached pmdarima-2.0.4.tar.gz (630 kB)\n",
      "  Installing build dependencies: started\n",
      "  Installing build dependencies: finished with status 'done'\n",
      "  Getting requirements to build wheel: started\n",
      "  Getting requirements to build wheel: finished with status 'done'\n",
      "  Preparing metadata (pyproject.toml): started\n",
      "  Preparing metadata (pyproject.toml): finished with status 'done'\n",
      "Requirement already satisfied: joblib>=0.11 in c:\\users\\ousmaneo(da-nat6)\\appdata\\local\\programs\\python\\python313\\lib\\site-packages (from pmdarima) (1.5.1)\n",
      "Collecting Cython!=0.29.18,!=0.29.31,>=0.29 (from pmdarima)\n",
      "  Using cached cython-3.1.2-cp313-cp313-win_amd64.whl.metadata (6.0 kB)\n",
      "Requirement already satisfied: numpy>=1.21.2 in c:\\users\\ousmaneo(da-nat6)\\appdata\\local\\programs\\python\\python313\\lib\\site-packages (from pmdarima) (2.3.1)\n",
      "Requirement already satisfied: pandas>=0.19 in c:\\users\\ousmaneo(da-nat6)\\appdata\\local\\programs\\python\\python313\\lib\\site-packages (from pmdarima) (2.3.0)\n",
      "Requirement already satisfied: scikit-learn>=0.22 in c:\\users\\ousmaneo(da-nat6)\\appdata\\local\\programs\\python\\python313\\lib\\site-packages (from pmdarima) (1.7.1)\n",
      "Requirement already satisfied: scipy>=1.3.2 in c:\\users\\ousmaneo(da-nat6)\\appdata\\local\\programs\\python\\python313\\lib\\site-packages (from pmdarima) (1.16.0)\n",
      "Collecting statsmodels>=0.13.2 (from pmdarima)\n",
      "  Using cached statsmodels-0.14.5-cp313-cp313-win_amd64.whl.metadata (9.8 kB)\n",
      "Requirement already satisfied: urllib3 in c:\\users\\ousmaneo(da-nat6)\\appdata\\local\\programs\\python\\python313\\lib\\site-packages (from pmdarima) (2.5.0)\n",
      "Requirement already satisfied: setuptools!=50.0.0,>=38.6.0 in c:\\users\\ousmaneo(da-nat6)\\appdata\\local\\programs\\python\\python313\\lib\\site-packages (from pmdarima) (80.9.0)\n",
      "Requirement already satisfied: packaging>=17.1 in c:\\users\\ousmaneo(da-nat6)\\appdata\\local\\programs\\python\\python313\\lib\\site-packages (from pmdarima) (25.0)\n",
      "Requirement already satisfied: python-dateutil>=2.8.2 in c:\\users\\ousmaneo(da-nat6)\\appdata\\local\\programs\\python\\python313\\lib\\site-packages (from pandas>=0.19->pmdarima) (2.9.0.post0)\n",
      "Requirement already satisfied: pytz>=2020.1 in c:\\users\\ousmaneo(da-nat6)\\appdata\\local\\programs\\python\\python313\\lib\\site-packages (from pandas>=0.19->pmdarima) (2025.2)\n",
      "Requirement already satisfied: tzdata>=2022.7 in c:\\users\\ousmaneo(da-nat6)\\appdata\\local\\programs\\python\\python313\\lib\\site-packages (from pandas>=0.19->pmdarima) (2025.2)\n",
      "Requirement already satisfied: six>=1.5 in c:\\users\\ousmaneo(da-nat6)\\appdata\\local\\programs\\python\\python313\\lib\\site-packages (from python-dateutil>=2.8.2->pandas>=0.19->pmdarima) (1.17.0)\n",
      "Requirement already satisfied: threadpoolctl>=3.1.0 in c:\\users\\ousmaneo(da-nat6)\\appdata\\local\\programs\\python\\python313\\lib\\site-packages (from scikit-learn>=0.22->pmdarima) (3.6.0)\n",
      "Collecting patsy>=0.5.6 (from statsmodels>=0.13.2->pmdarima)\n",
      "  Using cached patsy-1.0.1-py2.py3-none-any.whl.metadata (3.3 kB)\n",
      "Using cached cython-3.1.2-cp313-cp313-win_amd64.whl (2.7 MB)\n",
      "Using cached statsmodels-0.14.5-cp313-cp313-win_amd64.whl (9.6 MB)\n",
      "Using cached patsy-1.0.1-py2.py3-none-any.whl (232 kB)\n",
      "Building wheels for collected packages: pmdarima\n",
      "  Building wheel for pmdarima (pyproject.toml): started\n",
      "  Building wheel for pmdarima (pyproject.toml): finished with status 'error'\n",
      "Failed to build pmdarima\n",
      "Note: you may need to restart the kernel to use updated packages.\n"
     ]
    },
    {
     "name": "stderr",
     "output_type": "stream",
     "text": [
      "  error: subprocess-exited-with-error\n",
      "  \n",
      "  × Building wheel for pmdarima (pyproject.toml) did not run successfully.\n",
      "  │ exit code: 1\n",
      "  ╰─> [43 lines of output]\n",
      "      Partial import of pmdarima during the build process.\n",
      "      \n",
      "      Requirements: ['joblib>=0.11\\nCython>=0.29,!=0.29.18,!=0.29.31\\nnumpy>=1.21.2\\npandas>=0.19\\nscikit-learn>=0.22\\nscipy>=1.3.2\\nstatsmodels>=0.13.2\\nurllib3\\nsetuptools>=38.6.0,!=50.0.0\\npackaging>=17.1  # Bundled with setuptools, but want to be explicit\\n']\n",
      "      Adding extra setuptools args\n",
      "      Setting up with setuptools\n",
      "      Traceback (most recent call last):\n",
      "        File \u001b[35m\"c:\\Users\\ousmaneo(DA-NAT6)\\AppData\\Local\\Programs\\Python\\Python313\\Lib\\site-packages\\pip\\_vendor\\pyproject_hooks\\_in_process\\_in_process.py\"\u001b[0m, line \u001b[35m389\u001b[0m, in \u001b[35m<module>\u001b[0m\n",
      "          \u001b[31mmain\u001b[0m\u001b[1;31m()\u001b[0m\n",
      "          \u001b[31m~~~~\u001b[0m\u001b[1;31m^^\u001b[0m\n",
      "        File \u001b[35m\"c:\\Users\\ousmaneo(DA-NAT6)\\AppData\\Local\\Programs\\Python\\Python313\\Lib\\site-packages\\pip\\_vendor\\pyproject_hooks\\_in_process\\_in_process.py\"\u001b[0m, line \u001b[35m373\u001b[0m, in \u001b[35mmain\u001b[0m\n",
      "          json_out[\"return_val\"] = \u001b[31mhook\u001b[0m\u001b[1;31m(**hook_input[\"kwargs\"])\u001b[0m\n",
      "                                   \u001b[31m~~~~\u001b[0m\u001b[1;31m^^^^^^^^^^^^^^^^^^^^^^^^\u001b[0m\n",
      "        File \u001b[35m\"c:\\Users\\ousmaneo(DA-NAT6)\\AppData\\Local\\Programs\\Python\\Python313\\Lib\\site-packages\\pip\\_vendor\\pyproject_hooks\\_in_process\\_in_process.py\"\u001b[0m, line \u001b[35m280\u001b[0m, in \u001b[35mbuild_wheel\u001b[0m\n",
      "          return \u001b[31m_build_backend().build_wheel\u001b[0m\u001b[1;31m(\u001b[0m\n",
      "                 \u001b[31m~~~~~~~~~~~~~~~~~~~~~~~~~~~~\u001b[0m\u001b[1;31m^\u001b[0m\n",
      "              \u001b[1;31mwheel_directory, config_settings, metadata_directory\u001b[0m\n",
      "              \u001b[1;31m^^^^^^^^^^^^^^^^^^^^^^^^^^^^^^^^^^^^^^^^^^^^^^^^^^^^\u001b[0m\n",
      "          \u001b[1;31m)\u001b[0m\n",
      "          \u001b[1;31m^\u001b[0m\n",
      "        File \u001b[35m\"C:\\Users\\ousmaneo(DA-NAT6)\\AppData\\Local\\Temp\\pip-build-env-r32wtjkm\\overlay\\Lib\\site-packages\\setuptools\\build_meta.py\"\u001b[0m, line \u001b[35m435\u001b[0m, in \u001b[35mbuild_wheel\u001b[0m\n",
      "          return _build(['bdist_wheel', '--dist-info-dir', str(metadata_directory)])\n",
      "        File \u001b[35m\"C:\\Users\\ousmaneo(DA-NAT6)\\AppData\\Local\\Temp\\pip-build-env-r32wtjkm\\overlay\\Lib\\site-packages\\setuptools\\build_meta.py\"\u001b[0m, line \u001b[35m423\u001b[0m, in \u001b[35m_build\u001b[0m\n",
      "          return \u001b[31mself._build_with_temp_dir\u001b[0m\u001b[1;31m(\u001b[0m\n",
      "                 \u001b[31m~~~~~~~~~~~~~~~~~~~~~~~~~\u001b[0m\u001b[1;31m^\u001b[0m\n",
      "              \u001b[1;31mcmd,\u001b[0m\n",
      "              \u001b[1;31m^^^^\u001b[0m\n",
      "          ...<3 lines>...\n",
      "              \u001b[1;31mself._arbitrary_args(config_settings),\u001b[0m\n",
      "              \u001b[1;31m^^^^^^^^^^^^^^^^^^^^^^^^^^^^^^^^^^^^^^\u001b[0m\n",
      "          \u001b[1;31m)\u001b[0m\n",
      "          \u001b[1;31m^\u001b[0m\n",
      "        File \u001b[35m\"C:\\Users\\ousmaneo(DA-NAT6)\\AppData\\Local\\Temp\\pip-build-env-r32wtjkm\\overlay\\Lib\\site-packages\\setuptools\\build_meta.py\"\u001b[0m, line \u001b[35m404\u001b[0m, in \u001b[35m_build_with_temp_dir\u001b[0m\n",
      "          \u001b[31mself.run_setup\u001b[0m\u001b[1;31m()\u001b[0m\n",
      "          \u001b[31m~~~~~~~~~~~~~~\u001b[0m\u001b[1;31m^^\u001b[0m\n",
      "        File \u001b[35m\"C:\\Users\\ousmaneo(DA-NAT6)\\AppData\\Local\\Temp\\pip-build-env-r32wtjkm\\overlay\\Lib\\site-packages\\setuptools\\build_meta.py\"\u001b[0m, line \u001b[35m512\u001b[0m, in \u001b[35mrun_setup\u001b[0m\n",
      "          \u001b[31msuper().run_setup\u001b[0m\u001b[1;31m(setup_script=setup_script)\u001b[0m\n",
      "          \u001b[31m~~~~~~~~~~~~~~~~~\u001b[0m\u001b[1;31m^^^^^^^^^^^^^^^^^^^^^^^^^^^\u001b[0m\n",
      "        File \u001b[35m\"C:\\Users\\ousmaneo(DA-NAT6)\\AppData\\Local\\Temp\\pip-build-env-r32wtjkm\\overlay\\Lib\\site-packages\\setuptools\\build_meta.py\"\u001b[0m, line \u001b[35m317\u001b[0m, in \u001b[35mrun_setup\u001b[0m\n",
      "          \u001b[31mexec\u001b[0m\u001b[1;31m(code, locals())\u001b[0m\n",
      "          \u001b[31m~~~~\u001b[0m\u001b[1;31m^^^^^^^^^^^^^^^^\u001b[0m\n",
      "        File \u001b[35m\"<string>\"\u001b[0m, line \u001b[35m371\u001b[0m, in \u001b[35m<module>\u001b[0m\n",
      "        File \u001b[35m\"<string>\"\u001b[0m, line \u001b[35m330\u001b[0m, in \u001b[35mdo_setup\u001b[0m\n",
      "      \u001b[1;35mModuleNotFoundError\u001b[0m: \u001b[35mNo module named 'numpy'\u001b[0m\n",
      "      [end of output]\n",
      "  \n",
      "  note: This error originates from a subprocess, and is likely not a problem with pip.\n",
      "  ERROR: Failed building wheel for pmdarima\n",
      "error: failed-wheel-build-for-install\n",
      "\n",
      "× Failed to build installable wheels for some pyproject.toml based projects\n",
      "╰─> pmdarima\n"
     ]
    }
   ],
   "source": [
    "%pip install pmdarima"
   ]
  },
  {
   "cell_type": "code",
   "execution_count": 76,
   "id": "4d30b611-ef25-4ca2-8ccd-39385ac4cccd",
   "metadata": {
    "executionCancelledAt": null,
    "executionTime": 1197,
    "lastExecutedAt": 1754921613833,
    "lastExecutedByKernel": "35ec5e07-7562-4a59-8301-2db1b0adb100",
    "lastScheduledRunId": null,
    "lastSuccessfullyExecutedCode": "import pmdarima as pm\nfrom sklearn.metrics import mean_absolute_error, mean_squared_error, r2_score\n\n# Prepare the data for ARIMA\nbirths_per_year = births_per_year_gender.groupby('year')['num'].sum()\n\n# Fit the ARIMA model\narima_model = pm.auto_arima(births_per_year, seasonal=False, stepwise=True)\n\n# Make predictions on the training data\ny_pred_arima = arima_model.predict_in_sample()\n\n# Calculate MAE, MSE, and R-squared for ARIMA\nmae_arima = mean_absolute_error(births_per_year, y_pred_arima)\nmse_arima = mean_squared_error(births_per_year, y_pred_arima)\nr2_arima = r2_score(births_per_year, y_pred_arima)\n\nmae_arima, mse_arima, r2_arima"
   },
   "outputs": [
    {
     "name": "stdout",
     "output_type": "stream",
     "text": [
      "Note: you may need to restart the kernel to use updated packages.\n"
     ]
    },
    {
     "name": "stderr",
     "output_type": "stream",
     "text": [
      "  error: subprocess-exited-with-error\n",
      "  \n",
      "  × Building wheel for pmdarima (pyproject.toml) did not run successfully.\n",
      "  │ exit code: 1\n",
      "  ╰─> [43 lines of output]\n",
      "      Partial import of pmdarima during the build process.\n",
      "      \n",
      "      Requirements: ['joblib>=0.11\\nCython>=0.29,!=0.29.18,!=0.29.31\\nnumpy>=1.21.2\\npandas>=0.19\\nscikit-learn>=0.22\\nscipy>=1.3.2\\nstatsmodels>=0.13.2\\nurllib3\\nsetuptools>=38.6.0,!=50.0.0\\npackaging>=17.1  # Bundled with setuptools, but want to be explicit\\n']\n",
      "      Adding extra setuptools args\n",
      "      Setting up with setuptools\n",
      "      Traceback (most recent call last):\n",
      "        File \u001b[35m\"c:\\Users\\ousmaneo(DA-NAT6)\\AppData\\Local\\Programs\\Python\\Python313\\Lib\\site-packages\\pip\\_vendor\\pyproject_hooks\\_in_process\\_in_process.py\"\u001b[0m, line \u001b[35m389\u001b[0m, in \u001b[35m<module>\u001b[0m\n",
      "          \u001b[31mmain\u001b[0m\u001b[1;31m()\u001b[0m\n",
      "          \u001b[31m~~~~\u001b[0m\u001b[1;31m^^\u001b[0m\n",
      "        File \u001b[35m\"c:\\Users\\ousmaneo(DA-NAT6)\\AppData\\Local\\Programs\\Python\\Python313\\Lib\\site-packages\\pip\\_vendor\\pyproject_hooks\\_in_process\\_in_process.py\"\u001b[0m, line \u001b[35m373\u001b[0m, in \u001b[35mmain\u001b[0m\n",
      "          json_out[\"return_val\"] = \u001b[31mhook\u001b[0m\u001b[1;31m(**hook_input[\"kwargs\"])\u001b[0m\n",
      "                                   \u001b[31m~~~~\u001b[0m\u001b[1;31m^^^^^^^^^^^^^^^^^^^^^^^^\u001b[0m\n",
      "        File \u001b[35m\"c:\\Users\\ousmaneo(DA-NAT6)\\AppData\\Local\\Programs\\Python\\Python313\\Lib\\site-packages\\pip\\_vendor\\pyproject_hooks\\_in_process\\_in_process.py\"\u001b[0m, line \u001b[35m280\u001b[0m, in \u001b[35mbuild_wheel\u001b[0m\n",
      "          return \u001b[31m_build_backend().build_wheel\u001b[0m\u001b[1;31m(\u001b[0m\n",
      "                 \u001b[31m~~~~~~~~~~~~~~~~~~~~~~~~~~~~\u001b[0m\u001b[1;31m^\u001b[0m\n",
      "              \u001b[1;31mwheel_directory, config_settings, metadata_directory\u001b[0m\n",
      "              \u001b[1;31m^^^^^^^^^^^^^^^^^^^^^^^^^^^^^^^^^^^^^^^^^^^^^^^^^^^^\u001b[0m\n",
      "          \u001b[1;31m)\u001b[0m\n",
      "          \u001b[1;31m^\u001b[0m\n",
      "        File \u001b[35m\"C:\\Users\\ousmaneo(DA-NAT6)\\AppData\\Local\\Temp\\pip-build-env-_heg6z73\\overlay\\Lib\\site-packages\\setuptools\\build_meta.py\"\u001b[0m, line \u001b[35m435\u001b[0m, in \u001b[35mbuild_wheel\u001b[0m\n",
      "          return _build(['bdist_wheel', '--dist-info-dir', str(metadata_directory)])\n",
      "        File \u001b[35m\"C:\\Users\\ousmaneo(DA-NAT6)\\AppData\\Local\\Temp\\pip-build-env-_heg6z73\\overlay\\Lib\\site-packages\\setuptools\\build_meta.py\"\u001b[0m, line \u001b[35m423\u001b[0m, in \u001b[35m_build\u001b[0m\n",
      "          return \u001b[31mself._build_with_temp_dir\u001b[0m\u001b[1;31m(\u001b[0m\n",
      "                 \u001b[31m~~~~~~~~~~~~~~~~~~~~~~~~~\u001b[0m\u001b[1;31m^\u001b[0m\n",
      "              \u001b[1;31mcmd,\u001b[0m\n",
      "              \u001b[1;31m^^^^\u001b[0m\n",
      "          ...<3 lines>...\n",
      "              \u001b[1;31mself._arbitrary_args(config_settings),\u001b[0m\n",
      "              \u001b[1;31m^^^^^^^^^^^^^^^^^^^^^^^^^^^^^^^^^^^^^^\u001b[0m\n",
      "          \u001b[1;31m)\u001b[0m\n",
      "          \u001b[1;31m^\u001b[0m\n",
      "        File \u001b[35m\"C:\\Users\\ousmaneo(DA-NAT6)\\AppData\\Local\\Temp\\pip-build-env-_heg6z73\\overlay\\Lib\\site-packages\\setuptools\\build_meta.py\"\u001b[0m, line \u001b[35m404\u001b[0m, in \u001b[35m_build_with_temp_dir\u001b[0m\n",
      "          \u001b[31mself.run_setup\u001b[0m\u001b[1;31m()\u001b[0m\n",
      "          \u001b[31m~~~~~~~~~~~~~~\u001b[0m\u001b[1;31m^^\u001b[0m\n",
      "        File \u001b[35m\"C:\\Users\\ousmaneo(DA-NAT6)\\AppData\\Local\\Temp\\pip-build-env-_heg6z73\\overlay\\Lib\\site-packages\\setuptools\\build_meta.py\"\u001b[0m, line \u001b[35m512\u001b[0m, in \u001b[35mrun_setup\u001b[0m\n",
      "          \u001b[31msuper().run_setup\u001b[0m\u001b[1;31m(setup_script=setup_script)\u001b[0m\n",
      "          \u001b[31m~~~~~~~~~~~~~~~~~\u001b[0m\u001b[1;31m^^^^^^^^^^^^^^^^^^^^^^^^^^^\u001b[0m\n",
      "        File \u001b[35m\"C:\\Users\\ousmaneo(DA-NAT6)\\AppData\\Local\\Temp\\pip-build-env-_heg6z73\\overlay\\Lib\\site-packages\\setuptools\\build_meta.py\"\u001b[0m, line \u001b[35m317\u001b[0m, in \u001b[35mrun_setup\u001b[0m\n",
      "          \u001b[31mexec\u001b[0m\u001b[1;31m(code, locals())\u001b[0m\n",
      "          \u001b[31m~~~~\u001b[0m\u001b[1;31m^^^^^^^^^^^^^^^^\u001b[0m\n",
      "        File \u001b[35m\"<string>\"\u001b[0m, line \u001b[35m371\u001b[0m, in \u001b[35m<module>\u001b[0m\n",
      "        File \u001b[35m\"<string>\"\u001b[0m, line \u001b[35m330\u001b[0m, in \u001b[35mdo_setup\u001b[0m\n",
      "      \u001b[1;35mModuleNotFoundError\u001b[0m: \u001b[35mNo module named 'numpy'\u001b[0m\n",
      "      [end of output]\n",
      "  \n",
      "  note: This error originates from a subprocess, and is likely not a problem with pip.\n",
      "  ERROR: Failed building wheel for pmdarima\n",
      "error: failed-wheel-build-for-install\n",
      "\n",
      "× Failed to build installable wheels for some pyproject.toml based projects\n",
      "╰─> pmdarima\n"
     ]
    },
    {
     "ename": "ModuleNotFoundError",
     "evalue": "No module named 'pmdarima'",
     "output_type": "error",
     "traceback": [
      "\u001b[31m---------------------------------------------------------------------------\u001b[39m",
      "\u001b[31mModuleNotFoundError\u001b[39m                       Traceback (most recent call last)",
      "\u001b[36mCell\u001b[39m\u001b[36m \u001b[39m\u001b[32mIn[76]\u001b[39m\u001b[32m, line 2\u001b[39m\n\u001b[32m      1\u001b[39m get_ipython().run_line_magic(\u001b[33m'\u001b[39m\u001b[33mpip\u001b[39m\u001b[33m'\u001b[39m, \u001b[33m'\u001b[39m\u001b[33minstall -q pmdarima\u001b[39m\u001b[33m'\u001b[39m)\n\u001b[32m----> \u001b[39m\u001b[32m2\u001b[39m \u001b[38;5;28;01mimport\u001b[39;00m\u001b[38;5;250m \u001b[39m\u001b[34;01mpmdarima\u001b[39;00m\u001b[38;5;250m \u001b[39m\u001b[38;5;28;01mas\u001b[39;00m\u001b[38;5;250m \u001b[39m\u001b[34;01mpm\u001b[39;00m\n\u001b[32m      3\u001b[39m \u001b[38;5;28;01mfrom\u001b[39;00m\u001b[38;5;250m \u001b[39m\u001b[34;01msklearn\u001b[39;00m\u001b[34;01m.\u001b[39;00m\u001b[34;01mmetrics\u001b[39;00m\u001b[38;5;250m \u001b[39m\u001b[38;5;28;01mimport\u001b[39;00m mean_absolute_error, mean_squared_error, r2_score\n\u001b[32m      5\u001b[39m \u001b[38;5;66;03m# Prepare the data for ARIMA\u001b[39;00m\n",
      "\u001b[31mModuleNotFoundError\u001b[39m: No module named 'pmdarima'"
     ]
    }
   ],
   "source": [
    "%pip install -q pmdarima\n",
    "import pmdarima as pm\n",
    "from sklearn.metrics import mean_absolute_error, mean_squared_error, r2_score\n",
    "\n",
    "# Prepare the data for ARIMA\n",
    "births_per_year = births_per_year_gender.groupby('year')['num'].sum()\n",
    "\n",
    "# Fit the ARIMA model\n",
    "arima_model = pm.auto_arima(births_per_year, seasonal=False, stepwise=True)\n",
    "\n",
    "# Make predictions on the training data\n",
    "y_pred_arima = arima_model.predict_in_sample()\n",
    "\n",
    "# Calculate MAE, MSE, and R-squared for ARIMA\n",
    "mae_arima = mean_absolute_error(births_per_year, y_pred_arima)\n",
    "mse_arima = mean_squared_error(births_per_year, y_pred_arima)\n",
    "r2_arima = r2_score(births_per_year, y_pred_arima)\n",
    "\n",
    "mae_arima, mse_arima, r2_arima"
   ]
  },
  {
   "cell_type": "code",
   "execution_count": null,
   "id": "2b223fe3-6a86-41c3-9428-3330aea0a0c3",
   "metadata": {
    "executionCancelledAt": null,
    "executionTime": 53,
    "lastExecutedAt": 1754921613886,
    "lastExecutedByKernel": "35ec5e07-7562-4a59-8301-2db1b0adb100",
    "lastScheduledRunId": null,
    "lastSuccessfullyExecutedCode": "# Forecasting future births from 2021 to 2121 separately for female and male using the fitted ARIMA model\n\n# Define the number of periods for forecasting (101 years)\nn_periods = 101\n\n# Make future predictions for total births\nfuture_forecast_total = arima_model.predict(n_periods=n_periods)\n\n# Assuming the ratio of male to female births remains constant based on the last available year\nlast_year_data = births_per_year_gender[births_per_year_gender['year'] == births_per_year_gender['year'].max()]\ntotal_last_year = last_year_data['num'].sum()\nmale_ratio = last_year_data[last_year_data['sex'] == 'M']['num'].values[0] / total_last_year\nfemale_ratio = last_year_data[last_year_data['sex'] == 'F']['num'].values[0] / total_last_year\n\n# Calculate future predictions for male and female births\nfuture_forecast_male = future_forecast_total * male_ratio\nfuture_forecast_female = future_forecast_total * female_ratio\n\n# Create DataFrames for the forecasted values\nfuture_years = pd.date_range(start='2021', periods=n_periods, freq='Y').year\nforecast_male_df = pd.DataFrame({'year': future_years, 'gender': 'M', 'predicted_births': future_forecast_male})\nforecast_female_df = pd.DataFrame({'year': future_years, 'gender': 'F', 'predicted_births': future_forecast_female})\n\n# Combine male and female forecasts into a single DataFrame\nforecast_df = pd.concat([forecast_male_df, forecast_female_df]).reset_index(drop=True)\n\n# Display the forecasted values\nforecast_df",
    "outputsMetadata": {
     "0": {
      "height": 101,
      "type": "stream"
     },
     "1": {
      "height": 550,
      "tableState": {
       "customFilter": {
        "const": {
         "type": "boolean",
         "valid": true,
         "value": true
        },
        "id": "6585776e-3551-457e-a591-73ff8f0fd0b1",
        "nodeType": "const"
       }
      },
      "type": "dataFrame"
     }
    }
   },
   "outputs": [
    {
     "name": "stderr",
     "output_type": "stream",
     "text": [
      "/usr/local/lib/python3.10/dist-packages/statsmodels/tsa/base/tsa_model.py:837: ValueWarning:\n",
      "\n",
      "No supported index is available. Prediction results will be given with an integer index beginning at `start`.\n",
      "\n"
     ]
    },
    {
     "data": {
      "application/com.datacamp.data-table.v2+json": {
       "table": {
        "data": {
         "gender": [
          "M",
          "M",
          "M",
          "M",
          "M",
          "M",
          "M",
          "M",
          "M",
          "M",
          "M",
          "M",
          "M",
          "M",
          "M",
          "M",
          "M",
          "M",
          "M",
          "M",
          "M",
          "M",
          "M",
          "M",
          "M",
          "M",
          "M",
          "M",
          "M",
          "M",
          "M",
          "M",
          "M",
          "M",
          "M",
          "M",
          "M",
          "M",
          "M",
          "M",
          "M",
          "M",
          "M",
          "M",
          "M",
          "M",
          "M",
          "M",
          "M",
          "M",
          "M",
          "M",
          "M",
          "M",
          "M",
          "M",
          "M",
          "M",
          "M",
          "M",
          "M",
          "M",
          "M",
          "M",
          "M",
          "M",
          "M",
          "M",
          "M",
          "M",
          "M",
          "M",
          "M",
          "M",
          "M",
          "M",
          "M",
          "M",
          "M",
          "M",
          "M",
          "M",
          "M",
          "M",
          "M",
          "M",
          "M",
          "M",
          "M",
          "M",
          "M",
          "M",
          "M",
          "M",
          "M",
          "M",
          "M",
          "M",
          "M",
          "M",
          "M",
          "F",
          "F",
          "F",
          "F",
          "F",
          "F",
          "F",
          "F",
          "F",
          "F",
          "F",
          "F",
          "F",
          "F",
          "F",
          "F",
          "F",
          "F",
          "F",
          "F",
          "F",
          "F",
          "F",
          "F",
          "F",
          "F",
          "F",
          "F",
          "F",
          "F",
          "F",
          "F",
          "F",
          "F",
          "F",
          "F",
          "F",
          "F",
          "F",
          "F",
          "F",
          "F",
          "F",
          "F",
          "F",
          "F",
          "F",
          "F",
          "F",
          "F",
          "F",
          "F",
          "F",
          "F",
          "F",
          "F",
          "F",
          "F",
          "F",
          "F",
          "F",
          "F",
          "F",
          "F",
          "F",
          "F",
          "F",
          "F",
          "F",
          "F",
          "F",
          "F",
          "F",
          "F",
          "F",
          "F",
          "F",
          "F",
          "F",
          "F",
          "F",
          "F",
          "F",
          "F",
          "F",
          "F",
          "F",
          "F",
          "F",
          "F",
          "F",
          "F",
          "F",
          "F",
          "F",
          "F",
          "F",
          "F",
          "F",
          "F",
          "F"
         ],
         "index": [
          0,
          1,
          2,
          3,
          4,
          5,
          6,
          7,
          8,
          9,
          10,
          11,
          12,
          13,
          14,
          15,
          16,
          17,
          18,
          19,
          20,
          21,
          22,
          23,
          24,
          25,
          26,
          27,
          28,
          29,
          30,
          31,
          32,
          33,
          34,
          35,
          36,
          37,
          38,
          39,
          40,
          41,
          42,
          43,
          44,
          45,
          46,
          47,
          48,
          49,
          50,
          51,
          52,
          53,
          54,
          55,
          56,
          57,
          58,
          59,
          60,
          61,
          62,
          63,
          64,
          65,
          66,
          67,
          68,
          69,
          70,
          71,
          72,
          73,
          74,
          75,
          76,
          77,
          78,
          79,
          80,
          81,
          82,
          83,
          84,
          85,
          86,
          87,
          88,
          89,
          90,
          91,
          92,
          93,
          94,
          95,
          96,
          97,
          98,
          99,
          100,
          101,
          102,
          103,
          104,
          105,
          106,
          107,
          108,
          109,
          110,
          111,
          112,
          113,
          114,
          115,
          116,
          117,
          118,
          119,
          120,
          121,
          122,
          123,
          124,
          125,
          126,
          127,
          128,
          129,
          130,
          131,
          132,
          133,
          134,
          135,
          136,
          137,
          138,
          139,
          140,
          141,
          142,
          143,
          144,
          145,
          146,
          147,
          148,
          149,
          150,
          151,
          152,
          153,
          154,
          155,
          156,
          157,
          158,
          159,
          160,
          161,
          162,
          163,
          164,
          165,
          166,
          167,
          168,
          169,
          170,
          171,
          172,
          173,
          174,
          175,
          176,
          177,
          178,
          179,
          180,
          181,
          182,
          183,
          184,
          185,
          186,
          187,
          188,
          189,
          190,
          191,
          192,
          193,
          194,
          195,
          196,
          197,
          198,
          199,
          200,
          201
         ],
         "predicted_births": [
          508437.0465775439,
          512322.8399581758,
          516149.2360565698,
          519917.1428049784,
          523627.4542572252,
          527281.0508008464,
          530878.7993659914,
          534421.5536311279,
          537910.154225605,
          541345.4289291175,
          544728.1928681241,
          548059.2487092604,
          551339.3868497972,
          554569.385605187,
          557750.0113937439,
          560882.0189184997,
          563966.1513462813,
          567003.1404840503,
          569993.706952547,
          572938.5603572801,
          575838.3994569032,
          578693.9123290167,
          581505.7765334363,
          584274.6592729643,
          587001.2175517059,
          589686.0983309622,
          592329.9386827436,
          594933.3659409339,
          597496.9978501458,
          600021.4427122993,
          602507.2995309612,
          604955.1581534768,
          607365.59941093,
          609739.1952559635,
          612076.5088984926,
          614378.0949393443,
          616644.4995018537,
          618876.2603614489,
          621073.9070732549,
          623237.9610977474,
          625368.9359244854,
          627467.337193953,
          629533.6628175376,
          631568.4030956761,
          633572.0408341932,
          635545.0514588627,
          637487.9031282166,
          639401.0568446309,
          641284.9665637125,
          643140.0793020146,
          644966.8352431052,
          646765.6678420147,
          648537.0039280863,
          650281.2638062546,
          651998.8613567767,
          653690.2041334377,
          655355.6934602557,
          656995.7245267086,
          658610.686481505,
          660200.9625249221,
          661766.9299997318,
          663308.9604807374,
          664827.4198629407,
          666322.6684483627,
          667795.0610315365,
          669244.9469836928,
          670672.67033566,
          672078.5698594953,
          673462.9791488698,
          674826.2266982241,
          676168.635980713,
          677490.5255249604,
          678792.20899064,
          680073.995242901,
          681336.1884256556,
          682579.088033747,
          683802.988984014,
          685008.181685269,
          686194.9521072066,
          687363.581848259,
          688514.3482024142,
          689647.5242250124,
          690763.3787975368,
          691862.1766914147,
          692944.1786308419,
          694009.6413546489,
          695058.8176772192,
          696091.9565484776,
          697109.3031129622,
          698111.0987679915,
          699097.5812209438,
          700068.9845456614,
          701025.5392379907,
          701967.472270476,
          702895.0071462145,
          703808.3639518903,
          704707.7594099964,
          705593.4069302594,
          706465.5166602769,
          707324.295535382,
          708169.9473277455,
          284493.1697088171,
          286667.4441507187,
          288808.4831680782,
          290916.7947894237,
          292992.8792776841,
          295037.2292488924,
          297050.3297890737,
          299032.6585693476,
          300984.6859592704,
          302906.8751384449,
          304799.6822064245,
          306663.556290937,
          308498.9396544539,
          310306.2677991316,
          312085.9695701475,
          313838.467257457,
          315564.1766959952,
          317263.5073643464,
          318936.8624819063,
          320584.6391045575,
          322207.2282188846,
          323805.014834947,
          325378.3780776353,
          326927.6912766298,
          328453.3220549856,
          329955.6324163617,
          331434.9788309185,
          332891.7123199011,
          334326.17853893,
          335738.7178600191,
          337129.6654523393,
          338499.3513617477,
          339848.100589102,
          341176.2331673764,
          342484.0642375999,
          343771.9041236331,
          345040.0584058024,
          346288.8279934085,
          347518.5091961265,
          348729.3937943146,
          349921.7691082483,
          351095.9180662959,
          352252.1192720521,
          353390.6470704461,
          354511.7716128372,
          355615.758921118,
          356702.8709508356,
          357773.3656533492,
          358827.4970370367,
          359865.5152275666,
          360887.6665272478,
          361894.1934734726,
          362885.3348962668,
          363861.3259749584,
          364822.3982939827,
          365768.7798978319,
          366700.6953451663,
          367618.3657620975,
          368522.0088946581,
          369411.839160468,
          370288.0676996124,
          371150.9024247409,
          372000.5480704014,
          372837.20624162,
          373661.0754617379,
          374472.3512195171,
          375271.2260155269,
          376057.8894078196,
          376832.5280569103,
          377595.3257700672,
          378346.4635449255,
          379086.1196124354,
          379814.4694791525,
          380531.6859688822,
          381237.9392636881,
          381933.396944272,
          382618.2240297389,
          383292.5830167519,
          383956.6339180904,
          384610.5343006175,
          385254.4393226682,
          385888.5017708651,
          386512.8720963724,
          387127.6984505943,
          387733.1267203296,
          388329.3005623869,
          388916.3614376726,
          389494.4486447559,
          390063.6993529229,
          390624.2486347234,
          391176.2294980214,
          391719.7729175555,
          392255.0078660165,
          392782.0613446507,
          393301.0584133941,
          393812.1222205476,
          394315.3740319975,
          394810.9332599892,
          395298.9174914623,
          395779.4425159509,
          396252.6223530594
         ],
         "year": [
          2021,
          2022,
          2023,
          2024,
          2025,
          2026,
          2027,
          2028,
          2029,
          2030,
          2031,
          2032,
          2033,
          2034,
          2035,
          2036,
          2037,
          2038,
          2039,
          2040,
          2041,
          2042,
          2043,
          2044,
          2045,
          2046,
          2047,
          2048,
          2049,
          2050,
          2051,
          2052,
          2053,
          2054,
          2055,
          2056,
          2057,
          2058,
          2059,
          2060,
          2061,
          2062,
          2063,
          2064,
          2065,
          2066,
          2067,
          2068,
          2069,
          2070,
          2071,
          2072,
          2073,
          2074,
          2075,
          2076,
          2077,
          2078,
          2079,
          2080,
          2081,
          2082,
          2083,
          2084,
          2085,
          2086,
          2087,
          2088,
          2089,
          2090,
          2091,
          2092,
          2093,
          2094,
          2095,
          2096,
          2097,
          2098,
          2099,
          2100,
          2101,
          2102,
          2103,
          2104,
          2105,
          2106,
          2107,
          2108,
          2109,
          2110,
          2111,
          2112,
          2113,
          2114,
          2115,
          2116,
          2117,
          2118,
          2119,
          2120,
          2121,
          2021,
          2022,
          2023,
          2024,
          2025,
          2026,
          2027,
          2028,
          2029,
          2030,
          2031,
          2032,
          2033,
          2034,
          2035,
          2036,
          2037,
          2038,
          2039,
          2040,
          2041,
          2042,
          2043,
          2044,
          2045,
          2046,
          2047,
          2048,
          2049,
          2050,
          2051,
          2052,
          2053,
          2054,
          2055,
          2056,
          2057,
          2058,
          2059,
          2060,
          2061,
          2062,
          2063,
          2064,
          2065,
          2066,
          2067,
          2068,
          2069,
          2070,
          2071,
          2072,
          2073,
          2074,
          2075,
          2076,
          2077,
          2078,
          2079,
          2080,
          2081,
          2082,
          2083,
          2084,
          2085,
          2086,
          2087,
          2088,
          2089,
          2090,
          2091,
          2092,
          2093,
          2094,
          2095,
          2096,
          2097,
          2098,
          2099,
          2100,
          2101,
          2102,
          2103,
          2104,
          2105,
          2106,
          2107,
          2108,
          2109,
          2110,
          2111,
          2112,
          2113,
          2114,
          2115,
          2116,
          2117,
          2118,
          2119,
          2120,
          2121
         ]
        },
        "schema": {
         "fields": [
          {
           "name": "index",
           "type": "integer"
          },
          {
           "name": "year",
           "type": "integer"
          },
          {
           "name": "gender",
           "type": "string"
          },
          {
           "name": "predicted_births",
           "type": "number"
          }
         ],
         "pandas_version": "1.4.0",
         "primaryKey": [
          "index"
         ]
        }
       },
       "total_rows": 202,
       "truncation_type": null
      },
      "text/html": [
       "<div>\n",
       "<style scoped>\n",
       "    .dataframe tbody tr th:only-of-type {\n",
       "        vertical-align: middle;\n",
       "    }\n",
       "\n",
       "    .dataframe tbody tr th {\n",
       "        vertical-align: top;\n",
       "    }\n",
       "\n",
       "    .dataframe thead th {\n",
       "        text-align: right;\n",
       "    }\n",
       "</style>\n",
       "<table border=\"1\" class=\"dataframe\">\n",
       "  <thead>\n",
       "    <tr style=\"text-align: right;\">\n",
       "      <th></th>\n",
       "      <th>year</th>\n",
       "      <th>gender</th>\n",
       "      <th>predicted_births</th>\n",
       "    </tr>\n",
       "  </thead>\n",
       "  <tbody>\n",
       "    <tr>\n",
       "      <th>0</th>\n",
       "      <td>2021</td>\n",
       "      <td>M</td>\n",
       "      <td>508437.046578</td>\n",
       "    </tr>\n",
       "    <tr>\n",
       "      <th>1</th>\n",
       "      <td>2022</td>\n",
       "      <td>M</td>\n",
       "      <td>512322.839958</td>\n",
       "    </tr>\n",
       "    <tr>\n",
       "      <th>2</th>\n",
       "      <td>2023</td>\n",
       "      <td>M</td>\n",
       "      <td>516149.236057</td>\n",
       "    </tr>\n",
       "    <tr>\n",
       "      <th>3</th>\n",
       "      <td>2024</td>\n",
       "      <td>M</td>\n",
       "      <td>519917.142805</td>\n",
       "    </tr>\n",
       "    <tr>\n",
       "      <th>4</th>\n",
       "      <td>2025</td>\n",
       "      <td>M</td>\n",
       "      <td>523627.454257</td>\n",
       "    </tr>\n",
       "    <tr>\n",
       "      <th>...</th>\n",
       "      <td>...</td>\n",
       "      <td>...</td>\n",
       "      <td>...</td>\n",
       "    </tr>\n",
       "    <tr>\n",
       "      <th>197</th>\n",
       "      <td>2117</td>\n",
       "      <td>F</td>\n",
       "      <td>394315.374032</td>\n",
       "    </tr>\n",
       "    <tr>\n",
       "      <th>198</th>\n",
       "      <td>2118</td>\n",
       "      <td>F</td>\n",
       "      <td>394810.933260</td>\n",
       "    </tr>\n",
       "    <tr>\n",
       "      <th>199</th>\n",
       "      <td>2119</td>\n",
       "      <td>F</td>\n",
       "      <td>395298.917491</td>\n",
       "    </tr>\n",
       "    <tr>\n",
       "      <th>200</th>\n",
       "      <td>2120</td>\n",
       "      <td>F</td>\n",
       "      <td>395779.442516</td>\n",
       "    </tr>\n",
       "    <tr>\n",
       "      <th>201</th>\n",
       "      <td>2121</td>\n",
       "      <td>F</td>\n",
       "      <td>396252.622353</td>\n",
       "    </tr>\n",
       "  </tbody>\n",
       "</table>\n",
       "<p>202 rows × 3 columns</p>\n",
       "</div>"
      ],
      "text/plain": [
       "     year gender  predicted_births\n",
       "0    2021      M     508437.046578\n",
       "1    2022      M     512322.839958\n",
       "2    2023      M     516149.236057\n",
       "3    2024      M     519917.142805\n",
       "4    2025      M     523627.454257\n",
       "..    ...    ...               ...\n",
       "197  2117      F     394315.374032\n",
       "198  2118      F     394810.933260\n",
       "199  2119      F     395298.917491\n",
       "200  2120      F     395779.442516\n",
       "201  2121      F     396252.622353\n",
       "\n",
       "[202 rows x 3 columns]"
      ]
     },
     "execution_count": 37,
     "metadata": {
      "application/com.datacamp.data-table.v2+json": {
       "status": "success"
      }
     },
     "output_type": "execute_result"
    }
   ],
   "source": [
    "# Forecasting future births from 2021 to 2121 separately for female and male using the fitted ARIMA model\n",
    "\n",
    "# Define the number of periods for forecasting (101 years)\n",
    "n_periods = 101\n",
    "\n",
    "# Make future predictions for total births\n",
    "future_forecast_total = arima_model.predict(n_periods=n_periods)\n",
    "\n",
    "# Assuming the ratio of male to female births remains constant based on the last available year\n",
    "last_year_data = births_per_year_gender[births_per_year_gender['year'] == births_per_year_gender['year'].max()]\n",
    "total_last_year = last_year_data['num'].sum()\n",
    "male_ratio = last_year_data[last_year_data['sex'] == 'M']['num'].values[0] / total_last_year\n",
    "female_ratio = last_year_data[last_year_data['sex'] == 'F']['num'].values[0] / total_last_year\n",
    "\n",
    "# Calculate future predictions for male and female births\n",
    "future_forecast_male = future_forecast_total * male_ratio\n",
    "future_forecast_female = future_forecast_total * female_ratio\n",
    "\n",
    "# Create DataFrames for the forecasted values\n",
    "future_years = pd.date_range(start='2021', periods=n_periods, freq='Y').year\n",
    "forecast_male_df = pd.DataFrame({'year': future_years, 'gender': 'M', 'predicted_births': future_forecast_male})\n",
    "forecast_female_df = pd.DataFrame({'year': future_years, 'gender': 'F', 'predicted_births': future_forecast_female})\n",
    "\n",
    "# Combine male and female forecasts into a single DataFrame\n",
    "forecast_df = pd.concat([forecast_male_df, forecast_female_df]).reset_index(drop=True)\n",
    "\n",
    "# Display the forecasted values\n",
    "forecast_df"
   ]
  },
  {
   "cell_type": "code",
   "execution_count": null,
   "id": "12089aa2-6f1a-4755-9e6d-1d5709e040d2",
   "metadata": {
    "executionCancelledAt": null,
    "executionTime": 94,
    "lastExecutedAt": 1754921613980,
    "lastExecutedByKernel": "35ec5e07-7562-4a59-8301-2db1b0adb100",
    "lastScheduledRunId": null,
    "lastSuccessfullyExecutedCode": "import plotly.express as px\nimport plotly.graph_objects as go\nfrom plotly.subplots import make_subplots\n\n# Filter data for the two time periods\nhistorical_data = births_per_year_gender[(births_per_year_gender['year'] >= 1920) & (births_per_year_gender['year'] <= 2020)]\nforecast_data = forecast_df[(forecast_df['year'] >= 2021) & (forecast_df['year'] <= 2121)]\n\n# Create subplots\nfig = make_subplots(rows=2, cols=1, shared_xaxes=True, subplot_titles=(\"1920 to 2020\", \"2021 to 2121\"))\n\n# Add historical data to the first subplot\nfor gender in historical_data['sex'].unique():\n    gender_data = historical_data[historical_data['sex'] == gender]\n    fig.add_trace(\n        go.Scatter(x=gender_data['year'], y=gender_data['num'], mode='lines', name=f'Historical {gender}'),\n        row=1, col=1\n    )\n\n# Add forecast data to the second subplot\nfor gender in forecast_data['gender'].unique():\n    gender_data = forecast_data[forecast_data['gender'] == gender]\n    fig.add_trace(\n        go.Scatter(x=gender_data['year'], y=gender_data['predicted_births'], mode='lines', name=f'Forecast {gender}'),\n        row=2, col=1\n    )\n\n# Update layout\nfig.update_layout(height=800, width=1000, title_text=\"Births Forecast: 1920 to 2020 and 2021 to 2121\")\n\n# Show the figure\nfig.show()",
    "outputsMetadata": {
     "0": {
      "height": 17,
      "type": "plotly"
     }
    }
   },
   "outputs": [
    {
     "data": {
      "application/vnd.plotly.v1+json": {
       "config": {
        "displaylogo": false,
        "plotlyServerURL": "https://plot.ly",
        "toImageButtonOptions": {
         "filename": "DataLab plot",
         "format": "png",
         "height": 500,
         "scale": 2,
         "width": 700
        }
       },
       "data": [
        {
         "mode": "lines",
         "name": "Historical F",
         "type": "scatter",
         "x": [
          1920,
          1921,
          1922,
          1923,
          1924,
          1925,
          1926,
          1927,
          1928,
          1929,
          1930,
          1931,
          1932,
          1933,
          1934,
          1935,
          1936,
          1937,
          1938,
          1939,
          1940,
          1941,
          1942,
          1943,
          1944,
          1945,
          1946,
          1947,
          1948,
          1949,
          1950,
          1951,
          1952,
          1953,
          1954,
          1955,
          1956,
          1957,
          1958,
          1959,
          1960,
          1961,
          1962,
          1963,
          1964,
          1965,
          1966,
          1967,
          1968,
          1969,
          1970,
          1971,
          1972,
          1973,
          1974,
          1975,
          1976,
          1977,
          1978,
          1979,
          1980,
          1981,
          1982,
          1983,
          1984,
          1985,
          1986,
          1987,
          1988,
          1989,
          1990,
          1991,
          1992,
          1993,
          1994,
          1995,
          1996,
          1997,
          1998,
          1999,
          2000,
          2001,
          2002,
          2003,
          2004,
          2005,
          2006,
          2007,
          2008,
          2009,
          2010,
          2011,
          2012,
          2013,
          2014,
          2015,
          2016,
          2017,
          2018,
          2019,
          2020
         ],
         "xaxis": "x",
         "y": [
          600217,
          638111,
          596728,
          610264,
          646308,
          597914,
          583052,
          616538,
          574591,
          554349,
          553545,
          508613,
          503723,
          463818,
          469003,
          473413,
          480833,
          485296,
          506520,
          520481,
          580002,
          626172,
          733309,
          766521,
          714730,
          704254,
          916856,
          1107019,
          1044255,
          1051190,
          1064052,
          1143405,
          1173334,
          1195298,
          1214988,
          1221054,
          1277997,
          1295699,
          1246866,
          1254311,
          1228882,
          1202510,
          1158743,
          1114189,
          1056223,
          941493,
          885500,
          845745,
          834409,
          855260,
          862237,
          788241,
          676326,
          617139,
          634562,
          617939,
          638176,
          663805,
          636807,
          675215,
          721997,
          736055,
          778199,
          781714,
          795552,
          811577,
          795581,
          813042,
          832333,
          842729,
          862752,
          827730,
          795513,
          763036,
          726532,
          696336,
          672674,
          646037,
          624254,
          612391,
          626443,
          576405,
          545550,
          554216,
          528465,
          508886,
          526009,
          498967,
          470733,
          429112,
          421023,
          401168,
          384210,
          376620,
          384838,
          390444,
          374098,
          368138,
          344614,
          320977,
          296365
         ],
         "yaxis": "y"
        },
        {
         "mode": "lines",
         "name": "Historical M",
         "type": "scatter",
         "x": [
          1920,
          1921,
          1922,
          1923,
          1924,
          1925,
          1926,
          1927,
          1928,
          1929,
          1930,
          1931,
          1932,
          1933,
          1934,
          1935,
          1936,
          1937,
          1938,
          1939,
          1940,
          1941,
          1942,
          1943,
          1944,
          1945,
          1946,
          1947,
          1948,
          1949,
          1950,
          1951,
          1952,
          1953,
          1954,
          1955,
          1956,
          1957,
          1958,
          1959,
          1960,
          1961,
          1962,
          1963,
          1964,
          1965,
          1966,
          1967,
          1968,
          1969,
          1970,
          1971,
          1972,
          1973,
          1974,
          1975,
          1976,
          1977,
          1978,
          1979,
          1980,
          1981,
          1982,
          1983,
          1984,
          1985,
          1986,
          1987,
          1988,
          1989,
          1990,
          1991,
          1992,
          1993,
          1994,
          1995,
          1996,
          1997,
          1998,
          1999,
          2000,
          2001,
          2002,
          2003,
          2004,
          2005,
          2006,
          2007,
          2008,
          2009,
          2010,
          2011,
          2012,
          2013,
          2014,
          2015,
          2016,
          2017,
          2018,
          2019,
          2020
         ],
         "xaxis": "x",
         "y": [
          600754,
          625972,
          612026,
          626011,
          648526,
          631119,
          637448,
          647954,
          638437,
          611535,
          629252,
          590268,
          586519,
          536291,
          568376,
          581237,
          584871,
          612308,
          652574,
          655250,
          694385,
          768102,
          887948,
          928421,
          888347,
          875919,
          1115025,
          1313909,
          1239914,
          1252829,
          1244916,
          1375567,
          1404041,
          1428911,
          1480126,
          1497193,
          1539345,
          1565762,
          1532072,
          1523234,
          1506080,
          1497000,
          1451607,
          1419359,
          1368539,
          1226035,
          1135939,
          1108463,
          1106089,
          1129557,
          1173324,
          1105482,
          993954,
          950177,
          954291,
          937405,
          947298,
          999473,
          1002374,
          1043761,
          1105357,
          1105987,
          1121770,
          1121372,
          1136046,
          1155954,
          1150033,
          1149584,
          1173944,
          1189018,
          1244546,
          1200583,
          1149855,
          1104652,
          1087084,
          1025515,
          1007092,
          985658,
          1001898,
          1011217,
          1004864,
          970780,
          963400,
          988784,
          980471,
          945685,
          972056,
          988074,
          947485,
          874338,
          824684,
          807645,
          796395,
          776139,
          772070,
          775162,
          713483,
          674032,
          632503,
          595818,
          529654
         ],
         "yaxis": "y"
        },
        {
         "mode": "lines",
         "name": "Forecast M",
         "type": "scatter",
         "x": [
          2021,
          2022,
          2023,
          2024,
          2025,
          2026,
          2027,
          2028,
          2029,
          2030,
          2031,
          2032,
          2033,
          2034,
          2035,
          2036,
          2037,
          2038,
          2039,
          2040,
          2041,
          2042,
          2043,
          2044,
          2045,
          2046,
          2047,
          2048,
          2049,
          2050,
          2051,
          2052,
          2053,
          2054,
          2055,
          2056,
          2057,
          2058,
          2059,
          2060,
          2061,
          2062,
          2063,
          2064,
          2065,
          2066,
          2067,
          2068,
          2069,
          2070,
          2071,
          2072,
          2073,
          2074,
          2075,
          2076,
          2077,
          2078,
          2079,
          2080,
          2081,
          2082,
          2083,
          2084,
          2085,
          2086,
          2087,
          2088,
          2089,
          2090,
          2091,
          2092,
          2093,
          2094,
          2095,
          2096,
          2097,
          2098,
          2099,
          2100,
          2101,
          2102,
          2103,
          2104,
          2105,
          2106,
          2107,
          2108,
          2109,
          2110,
          2111,
          2112,
          2113,
          2114,
          2115,
          2116,
          2117,
          2118,
          2119,
          2120,
          2121
         ],
         "xaxis": "x2",
         "y": [
          508437.0465775439,
          512322.83995817584,
          516149.2360565698,
          519917.1428049784,
          523627.45425722515,
          527281.0508008464,
          530878.7993659914,
          534421.5536311279,
          537910.154225605,
          541345.4289291175,
          544728.1928681241,
          548059.2487092604,
          551339.3868497972,
          554569.385605187,
          557750.0113937439,
          560882.0189184997,
          563966.1513462813,
          567003.1404840503,
          569993.706952547,
          572938.5603572801,
          575838.3994569032,
          578693.9123290167,
          581505.7765334363,
          584274.6592729643,
          587001.2175517059,
          589686.0983309622,
          592329.9386827436,
          594933.3659409339,
          597496.9978501458,
          600021.4427122993,
          602507.2995309612,
          604955.1581534768,
          607365.59941093,
          609739.1952559635,
          612076.5088984926,
          614378.0949393443,
          616644.4995018537,
          618876.2603614489,
          621073.9070732549,
          623237.9610977474,
          625368.9359244854,
          627467.337193953,
          629533.6628175376,
          631568.4030956761,
          633572.0408341932,
          635545.0514588627,
          637487.9031282166,
          639401.0568446309,
          641284.9665637125,
          643140.0793020146,
          644966.8352431052,
          646765.6678420147,
          648537.0039280863,
          650281.2638062546,
          651998.8613567767,
          653690.2041334377,
          655355.6934602557,
          656995.7245267086,
          658610.686481505,
          660200.9625249221,
          661766.9299997318,
          663308.9604807374,
          664827.4198629407,
          666322.6684483627,
          667795.0610315365,
          669244.9469836928,
          670672.67033566,
          672078.5698594953,
          673462.9791488698,
          674826.2266982241,
          676168.635980713,
          677490.5255249604,
          678792.20899064,
          680073.995242901,
          681336.1884256556,
          682579.088033747,
          683802.988984014,
          685008.181685269,
          686194.9521072066,
          687363.581848259,
          688514.3482024142,
          689647.5242250124,
          690763.3787975368,
          691862.1766914147,
          692944.1786308419,
          694009.6413546489,
          695058.8176772192,
          696091.9565484776,
          697109.3031129622,
          698111.0987679915,
          699097.5812209438,
          700068.9845456614,
          701025.5392379907,
          701967.472270476,
          702895.0071462145,
          703808.3639518903,
          704707.7594099964,
          705593.4069302594,
          706465.5166602769,
          707324.295535382,
          708169.9473277455
         ],
         "yaxis": "y2"
        },
        {
         "mode": "lines",
         "name": "Forecast F",
         "type": "scatter",
         "x": [
          2021,
          2022,
          2023,
          2024,
          2025,
          2026,
          2027,
          2028,
          2029,
          2030,
          2031,
          2032,
          2033,
          2034,
          2035,
          2036,
          2037,
          2038,
          2039,
          2040,
          2041,
          2042,
          2043,
          2044,
          2045,
          2046,
          2047,
          2048,
          2049,
          2050,
          2051,
          2052,
          2053,
          2054,
          2055,
          2056,
          2057,
          2058,
          2059,
          2060,
          2061,
          2062,
          2063,
          2064,
          2065,
          2066,
          2067,
          2068,
          2069,
          2070,
          2071,
          2072,
          2073,
          2074,
          2075,
          2076,
          2077,
          2078,
          2079,
          2080,
          2081,
          2082,
          2083,
          2084,
          2085,
          2086,
          2087,
          2088,
          2089,
          2090,
          2091,
          2092,
          2093,
          2094,
          2095,
          2096,
          2097,
          2098,
          2099,
          2100,
          2101,
          2102,
          2103,
          2104,
          2105,
          2106,
          2107,
          2108,
          2109,
          2110,
          2111,
          2112,
          2113,
          2114,
          2115,
          2116,
          2117,
          2118,
          2119,
          2120,
          2121
         ],
         "xaxis": "x2",
         "y": [
          284493.1697088171,
          286667.4441507187,
          288808.4831680782,
          290916.7947894237,
          292992.87927768414,
          295037.2292488924,
          297050.3297890737,
          299032.6585693476,
          300984.6859592704,
          302906.87513844494,
          304799.68220642454,
          306663.556290937,
          308498.9396544539,
          310306.26779913163,
          312085.9695701475,
          313838.467257457,
          315564.1766959952,
          317263.5073643464,
          318936.86248190625,
          320584.6391045575,
          322207.2282188846,
          323805.014834947,
          325378.37807763525,
          326927.6912766298,
          328453.32205498556,
          329955.63241636165,
          331434.9788309185,
          332891.7123199011,
          334326.17853893,
          335738.7178600191,
          337129.6654523393,
          338499.3513617477,
          339848.100589102,
          341176.2331673764,
          342484.0642375999,
          343771.9041236331,
          345040.0584058024,
          346288.8279934085,
          347518.5091961265,
          348729.3937943146,
          349921.7691082483,
          351095.91806629585,
          352252.11927205214,
          353390.64707044605,
          354511.7716128372,
          355615.758921118,
          356702.87095083564,
          357773.3656533492,
          358827.4970370367,
          359865.5152275666,
          360887.66652724775,
          361894.1934734726,
          362885.33489626675,
          363861.3259749584,
          364822.3982939827,
          365768.7798978319,
          366700.69534516626,
          367618.3657620975,
          368522.00889465807,
          369411.839160468,
          370288.0676996124,
          371150.9024247409,
          372000.5480704014,
          372837.20624162,
          373661.07546173787,
          374472.3512195171,
          375271.22601552686,
          376057.8894078196,
          376832.5280569103,
          377595.32577006717,
          378346.4635449255,
          379086.1196124354,
          379814.46947915247,
          380531.68596888223,
          381237.93926368805,
          381933.396944272,
          382618.22402973886,
          383292.5830167519,
          383956.63391809043,
          384610.5343006175,
          385254.4393226682,
          385888.5017708651,
          386512.87209637236,
          387127.6984505943,
          387733.1267203296,
          388329.3005623869,
          388916.3614376726,
          389494.44864475593,
          390063.6993529229,
          390624.2486347234,
          391176.22949802136,
          391719.77291755547,
          392255.00786601653,
          392782.0613446507,
          393301.05841339414,
          393812.12222054764,
          394315.37403199746,
          394810.9332599892,
          395298.91749146226,
          395779.44251595094,
          396252.62235305936
         ],
         "yaxis": "y2"
        }
       ],
       "layout": {
        "annotations": [
         {
          "font": {
           "size": 16
          },
          "showarrow": false,
          "text": "1920 to 2020",
          "x": 0.5,
          "xanchor": "center",
          "xref": "paper",
          "y": 1,
          "yanchor": "bottom",
          "yref": "paper"
         },
         {
          "font": {
           "size": 16
          },
          "showarrow": false,
          "text": "2021 to 2121",
          "x": 0.5,
          "xanchor": "center",
          "xref": "paper",
          "y": 0.375,
          "yanchor": "bottom",
          "yref": "paper"
         }
        ],
        "height": 800,
        "template": {
         "data": {
          "bar": [
           {
            "error_x": {
             "color": "#2a3f5f"
            },
            "error_y": {
             "color": "#2a3f5f"
            },
            "marker": {
             "line": {
              "color": "white",
              "width": 0.5
             },
             "pattern": {
              "fillmode": "overlay",
              "size": 10,
              "solidity": 0.2
             }
            },
            "type": "bar"
           }
          ],
          "barpolar": [
           {
            "marker": {
             "line": {
              "color": "white",
              "width": 0.5
             },
             "pattern": {
              "fillmode": "overlay",
              "size": 10,
              "solidity": 0.2
             }
            },
            "type": "barpolar"
           }
          ],
          "carpet": [
           {
            "aaxis": {
             "endlinecolor": "#2a3f5f",
             "gridcolor": "#C8D4E3",
             "linecolor": "#C8D4E3",
             "minorgridcolor": "#C8D4E3",
             "startlinecolor": "#2a3f5f"
            },
            "baxis": {
             "endlinecolor": "#2a3f5f",
             "gridcolor": "#C8D4E3",
             "linecolor": "#C8D4E3",
             "minorgridcolor": "#C8D4E3",
             "startlinecolor": "#2a3f5f"
            },
            "type": "carpet"
           }
          ],
          "choropleth": [
           {
            "colorbar": {
             "outlinewidth": 0,
             "ticks": ""
            },
            "type": "choropleth"
           }
          ],
          "contour": [
           {
            "colorbar": {
             "outlinewidth": 0,
             "ticks": ""
            },
            "colorscale": [
             [
              0,
              "#0d0887"
             ],
             [
              0.1111111111111111,
              "#46039f"
             ],
             [
              0.2222222222222222,
              "#7201a8"
             ],
             [
              0.3333333333333333,
              "#9c179e"
             ],
             [
              0.4444444444444444,
              "#bd3786"
             ],
             [
              0.5555555555555556,
              "#d8576b"
             ],
             [
              0.6666666666666666,
              "#ed7953"
             ],
             [
              0.7777777777777778,
              "#fb9f3a"
             ],
             [
              0.8888888888888888,
              "#fdca26"
             ],
             [
              1,
              "#f0f921"
             ]
            ],
            "type": "contour"
           }
          ],
          "contourcarpet": [
           {
            "colorbar": {
             "outlinewidth": 0,
             "ticks": ""
            },
            "type": "contourcarpet"
           }
          ],
          "heatmap": [
           {
            "colorbar": {
             "outlinewidth": 0,
             "ticks": ""
            },
            "colorscale": [
             [
              0,
              "#0d0887"
             ],
             [
              0.1111111111111111,
              "#46039f"
             ],
             [
              0.2222222222222222,
              "#7201a8"
             ],
             [
              0.3333333333333333,
              "#9c179e"
             ],
             [
              0.4444444444444444,
              "#bd3786"
             ],
             [
              0.5555555555555556,
              "#d8576b"
             ],
             [
              0.6666666666666666,
              "#ed7953"
             ],
             [
              0.7777777777777778,
              "#fb9f3a"
             ],
             [
              0.8888888888888888,
              "#fdca26"
             ],
             [
              1,
              "#f0f921"
             ]
            ],
            "type": "heatmap"
           }
          ],
          "heatmapgl": [
           {
            "colorbar": {
             "outlinewidth": 0,
             "ticks": ""
            },
            "colorscale": [
             [
              0,
              "#0d0887"
             ],
             [
              0.1111111111111111,
              "#46039f"
             ],
             [
              0.2222222222222222,
              "#7201a8"
             ],
             [
              0.3333333333333333,
              "#9c179e"
             ],
             [
              0.4444444444444444,
              "#bd3786"
             ],
             [
              0.5555555555555556,
              "#d8576b"
             ],
             [
              0.6666666666666666,
              "#ed7953"
             ],
             [
              0.7777777777777778,
              "#fb9f3a"
             ],
             [
              0.8888888888888888,
              "#fdca26"
             ],
             [
              1,
              "#f0f921"
             ]
            ],
            "type": "heatmapgl"
           }
          ],
          "histogram": [
           {
            "marker": {
             "pattern": {
              "fillmode": "overlay",
              "size": 10,
              "solidity": 0.2
             }
            },
            "type": "histogram"
           }
          ],
          "histogram2d": [
           {
            "colorbar": {
             "outlinewidth": 0,
             "ticks": ""
            },
            "colorscale": [
             [
              0,
              "#0d0887"
             ],
             [
              0.1111111111111111,
              "#46039f"
             ],
             [
              0.2222222222222222,
              "#7201a8"
             ],
             [
              0.3333333333333333,
              "#9c179e"
             ],
             [
              0.4444444444444444,
              "#bd3786"
             ],
             [
              0.5555555555555556,
              "#d8576b"
             ],
             [
              0.6666666666666666,
              "#ed7953"
             ],
             [
              0.7777777777777778,
              "#fb9f3a"
             ],
             [
              0.8888888888888888,
              "#fdca26"
             ],
             [
              1,
              "#f0f921"
             ]
            ],
            "type": "histogram2d"
           }
          ],
          "histogram2dcontour": [
           {
            "colorbar": {
             "outlinewidth": 0,
             "ticks": ""
            },
            "colorscale": [
             [
              0,
              "#0d0887"
             ],
             [
              0.1111111111111111,
              "#46039f"
             ],
             [
              0.2222222222222222,
              "#7201a8"
             ],
             [
              0.3333333333333333,
              "#9c179e"
             ],
             [
              0.4444444444444444,
              "#bd3786"
             ],
             [
              0.5555555555555556,
              "#d8576b"
             ],
             [
              0.6666666666666666,
              "#ed7953"
             ],
             [
              0.7777777777777778,
              "#fb9f3a"
             ],
             [
              0.8888888888888888,
              "#fdca26"
             ],
             [
              1,
              "#f0f921"
             ]
            ],
            "type": "histogram2dcontour"
           }
          ],
          "mesh3d": [
           {
            "colorbar": {
             "outlinewidth": 0,
             "ticks": ""
            },
            "type": "mesh3d"
           }
          ],
          "parcoords": [
           {
            "line": {
             "colorbar": {
              "outlinewidth": 0,
              "ticks": ""
             }
            },
            "type": "parcoords"
           }
          ],
          "pie": [
           {
            "automargin": true,
            "type": "pie"
           }
          ],
          "scatter": [
           {
            "fillpattern": {
             "fillmode": "overlay",
             "size": 10,
             "solidity": 0.2
            },
            "type": "scatter"
           }
          ],
          "scatter3d": [
           {
            "line": {
             "colorbar": {
              "outlinewidth": 0,
              "ticks": ""
             }
            },
            "marker": {
             "colorbar": {
              "outlinewidth": 0,
              "ticks": ""
             }
            },
            "type": "scatter3d"
           }
          ],
          "scattercarpet": [
           {
            "marker": {
             "colorbar": {
              "outlinewidth": 0,
              "ticks": ""
             }
            },
            "type": "scattercarpet"
           }
          ],
          "scattergeo": [
           {
            "marker": {
             "colorbar": {
              "outlinewidth": 0,
              "ticks": ""
             }
            },
            "type": "scattergeo"
           }
          ],
          "scattergl": [
           {
            "marker": {
             "colorbar": {
              "outlinewidth": 0,
              "ticks": ""
             }
            },
            "type": "scattergl"
           }
          ],
          "scattermapbox": [
           {
            "marker": {
             "colorbar": {
              "outlinewidth": 0,
              "ticks": ""
             }
            },
            "type": "scattermapbox"
           }
          ],
          "scatterpolar": [
           {
            "marker": {
             "colorbar": {
              "outlinewidth": 0,
              "ticks": ""
             }
            },
            "type": "scatterpolar"
           }
          ],
          "scatterpolargl": [
           {
            "marker": {
             "colorbar": {
              "outlinewidth": 0,
              "ticks": ""
             }
            },
            "type": "scatterpolargl"
           }
          ],
          "scatterternary": [
           {
            "marker": {
             "colorbar": {
              "outlinewidth": 0,
              "ticks": ""
             }
            },
            "type": "scatterternary"
           }
          ],
          "surface": [
           {
            "colorbar": {
             "outlinewidth": 0,
             "ticks": ""
            },
            "colorscale": [
             [
              0,
              "#0d0887"
             ],
             [
              0.1111111111111111,
              "#46039f"
             ],
             [
              0.2222222222222222,
              "#7201a8"
             ],
             [
              0.3333333333333333,
              "#9c179e"
             ],
             [
              0.4444444444444444,
              "#bd3786"
             ],
             [
              0.5555555555555556,
              "#d8576b"
             ],
             [
              0.6666666666666666,
              "#ed7953"
             ],
             [
              0.7777777777777778,
              "#fb9f3a"
             ],
             [
              0.8888888888888888,
              "#fdca26"
             ],
             [
              1,
              "#f0f921"
             ]
            ],
            "type": "surface"
           }
          ],
          "table": [
           {
            "cells": {
             "fill": {
              "color": "#EBF0F8"
             },
             "line": {
              "color": "white"
             }
            },
            "header": {
             "fill": {
              "color": "#C8D4E3"
             },
             "line": {
              "color": "white"
             }
            },
            "type": "table"
           }
          ]
         },
         "layout": {
          "annotationdefaults": {
           "arrowcolor": "#2a3f5f",
           "arrowhead": 0,
           "arrowwidth": 1
          },
          "autotypenumbers": "strict",
          "coloraxis": {
           "colorbar": {
            "outlinewidth": 0,
            "ticks": ""
           }
          },
          "colorscale": {
           "diverging": [
            [
             0,
             "#8e0152"
            ],
            [
             0.1,
             "#c51b7d"
            ],
            [
             0.2,
             "#de77ae"
            ],
            [
             0.3,
             "#f1b6da"
            ],
            [
             0.4,
             "#fde0ef"
            ],
            [
             0.5,
             "#f7f7f7"
            ],
            [
             0.6,
             "#e6f5d0"
            ],
            [
             0.7,
             "#b8e186"
            ],
            [
             0.8,
             "#7fbc41"
            ],
            [
             0.9,
             "#4d9221"
            ],
            [
             1,
             "#276419"
            ]
           ],
           "sequential": [
            [
             0,
             "#0d0887"
            ],
            [
             0.1111111111111111,
             "#46039f"
            ],
            [
             0.2222222222222222,
             "#7201a8"
            ],
            [
             0.3333333333333333,
             "#9c179e"
            ],
            [
             0.4444444444444444,
             "#bd3786"
            ],
            [
             0.5555555555555556,
             "#d8576b"
            ],
            [
             0.6666666666666666,
             "#ed7953"
            ],
            [
             0.7777777777777778,
             "#fb9f3a"
            ],
            [
             0.8888888888888888,
             "#fdca26"
            ],
            [
             1,
             "#f0f921"
            ]
           ],
           "sequentialminus": [
            [
             0,
             "#0d0887"
            ],
            [
             0.1111111111111111,
             "#46039f"
            ],
            [
             0.2222222222222222,
             "#7201a8"
            ],
            [
             0.3333333333333333,
             "#9c179e"
            ],
            [
             0.4444444444444444,
             "#bd3786"
            ],
            [
             0.5555555555555556,
             "#d8576b"
            ],
            [
             0.6666666666666666,
             "#ed7953"
            ],
            [
             0.7777777777777778,
             "#fb9f3a"
            ],
            [
             0.8888888888888888,
             "#fdca26"
            ],
            [
             1,
             "#f0f921"
            ]
           ]
          },
          "colorway": [
           "#6568a0",
           "#43d7a4",
           "#4095db",
           "#facc5f",
           "#cae279",
           "#7db64f",
           "#f08083",
           "#5bcdf2",
           "#f099dc",
           "#965858"
          ],
          "font": {
           "color": "#05192D",
           "family": "Studio-Feixen-Sans, Arial, sans-serif"
          },
          "geo": {
           "bgcolor": "white",
           "lakecolor": "white",
           "landcolor": "white",
           "showlakes": true,
           "showland": true,
           "subunitcolor": "#C8D4E3"
          },
          "hoverlabel": {
           "align": "left",
           "font": {
            "family": "Studio-Feixen-Sans, Arial, sans-serif"
           }
          },
          "hovermode": "closest",
          "mapbox": {
           "style": "light"
          },
          "paper_bgcolor": "white",
          "plot_bgcolor": "white",
          "polar": {
           "angularaxis": {
            "gridcolor": "#EBF0F8",
            "linecolor": "#EBF0F8",
            "ticks": ""
           },
           "bgcolor": "white",
           "radialaxis": {
            "gridcolor": "#EBF0F8",
            "linecolor": "#EBF0F8",
            "ticks": ""
           }
          },
          "scene": {
           "xaxis": {
            "backgroundcolor": "white",
            "gridcolor": "#DFE8F3",
            "gridwidth": 2,
            "linecolor": "#EBF0F8",
            "showbackground": true,
            "ticks": "",
            "zerolinecolor": "#EBF0F8"
           },
           "yaxis": {
            "backgroundcolor": "white",
            "gridcolor": "#DFE8F3",
            "gridwidth": 2,
            "linecolor": "#EBF0F8",
            "showbackground": true,
            "ticks": "",
            "zerolinecolor": "#EBF0F8"
           },
           "zaxis": {
            "backgroundcolor": "white",
            "gridcolor": "#DFE8F3",
            "gridwidth": 2,
            "linecolor": "#EBF0F8",
            "showbackground": true,
            "ticks": "",
            "zerolinecolor": "#EBF0F8"
           }
          },
          "shapedefaults": {
           "line": {
            "color": "#2a3f5f"
           }
          },
          "ternary": {
           "aaxis": {
            "gridcolor": "#DFE8F3",
            "linecolor": "#A2B1C6",
            "ticks": ""
           },
           "baxis": {
            "gridcolor": "#DFE8F3",
            "linecolor": "#A2B1C6",
            "ticks": ""
           },
           "bgcolor": "white",
           "caxis": {
            "gridcolor": "#DFE8F3",
            "linecolor": "#A2B1C6",
            "ticks": ""
           }
          },
          "title": {
           "x": 0.05
          },
          "xaxis": {
           "automargin": true,
           "gridcolor": "#EBF0F8",
           "linecolor": "#EBF0F8",
           "ticks": "",
           "title": {
            "standoff": 15
           },
           "zerolinecolor": "#EBF0F8",
           "zerolinewidth": 2
          },
          "yaxis": {
           "automargin": true,
           "gridcolor": "#EBF0F8",
           "linecolor": "#EBF0F8",
           "ticks": "",
           "title": {
            "standoff": 15
           },
           "zerolinecolor": "#EBF0F8",
           "zerolinewidth": 2
          }
         }
        },
        "title": {
         "text": "Births Forecast: 1920 to 2020 and 2021 to 2121"
        },
        "width": 1000,
        "xaxis": {
         "anchor": "y",
         "domain": [
          0,
          1
         ],
         "matches": "x2",
         "showticklabels": false
        },
        "xaxis2": {
         "anchor": "y2",
         "domain": [
          0,
          1
         ]
        },
        "yaxis": {
         "anchor": "x",
         "domain": [
          0.625,
          1
         ]
        },
        "yaxis2": {
         "anchor": "x2",
         "domain": [
          0,
          0.375
         ]
        }
       }
      }
     },
     "metadata": {},
     "output_type": "display_data"
    }
   ],
   "source": [
    "import plotly.express as px\n",
    "import plotly.graph_objects as go\n",
    "from plotly.subplots import make_subplots\n",
    "\n",
    "# Filter data for the two time periods\n",
    "historical_data = births_per_year_gender[(births_per_year_gender['year'] >= 1920) & (births_per_year_gender['year'] <= 2020)]\n",
    "forecast_data = forecast_df[(forecast_df['year'] >= 2021) & (forecast_df['year'] <= 2121)]\n",
    "\n",
    "# Create subplots\n",
    "fig = make_subplots(rows=2, cols=1, shared_xaxes=True, subplot_titles=(\"1920 to 2020\", \"2021 to 2121\"))\n",
    "\n",
    "# Add historical data to the first subplot\n",
    "for gender in historical_data['sex'].unique():\n",
    "    gender_data = historical_data[historical_data['sex'] == gender]\n",
    "    fig.add_trace(\n",
    "        go.Scatter(x=gender_data['year'], y=gender_data['num'], mode='lines', name=f'Historical {gender}'),\n",
    "        row=1, col=1\n",
    "    )\n",
    "\n",
    "# Add forecast data to the second subplot\n",
    "for gender in forecast_data['gender'].unique():\n",
    "    gender_data = forecast_data[forecast_data['gender'] == gender]\n",
    "    fig.add_trace(\n",
    "        go.Scatter(x=gender_data['year'], y=gender_data['predicted_births'], mode='lines', name=f'Forecast {gender}'),\n",
    "        row=2, col=1\n",
    "    )\n",
    "\n",
    "# Update layout\n",
    "fig.update_layout(height=800, width=1000, title_text=\"Births Forecast: 1920 to 2020 and 2021 to 2121\")\n",
    "\n",
    "# Show the figure\n",
    "fig.show()"
   ]
  },
  {
   "cell_type": "code",
   "execution_count": null,
   "id": "a6aca22c-0dc3-45bf-ab24-a00df53201d7",
   "metadata": {
    "executionCancelledAt": null,
    "executionTime": 52,
    "lastExecutedAt": 1754921614032,
    "lastExecutedByKernel": "35ec5e07-7562-4a59-8301-2db1b0adb100",
    "lastScheduledRunId": null,
    "lastSuccessfullyExecutedCode": "from prophet import Prophet\ndef prepare_data_for_prophet(names, name, sex):\n    df = names[(names['first_name'] == name) & (names['sex'] == sex)]\n    df_prophet = df[['year', 'num']].rename(columns={'year': 'ds', 'num': 'y'})\n    return df_prophet\n\n# Get unique names and sexes\nunique_names = names['first_name'].unique()\nunique_sexes = names['sex'].unique()"
   },
   "outputs": [
    {
     "name": "stdout",
     "output_type": "stream",
     "text": [
      "Note: you may need to restart the kernel to use updated packages.\n"
     ]
    },
    {
     "name": "stderr",
     "output_type": "stream",
     "text": [
      "c:\\Users\\ousmaneo(DA-NAT6)\\AppData\\Local\\Programs\\Python\\Python313\\Lib\\site-packages\\tqdm\\auto.py:21: TqdmWarning: IProgress not found. Please update jupyter and ipywidgets. See https://ipywidgets.readthedocs.io/en/stable/user_install.html\n",
      "  from .autonotebook import tqdm as notebook_tqdm\n"
     ]
    },
    {
     "ename": "NameError",
     "evalue": "name 'names' is not defined",
     "output_type": "error",
     "traceback": [
      "\u001b[31m---------------------------------------------------------------------------\u001b[39m",
      "\u001b[31mNameError\u001b[39m                                 Traceback (most recent call last)",
      "\u001b[36mCell\u001b[39m\u001b[36m \u001b[39m\u001b[32mIn[1]\u001b[39m\u001b[32m, line 9\u001b[39m\n\u001b[32m      6\u001b[39m     \u001b[38;5;28;01mreturn\u001b[39;00m df_prophet\n\u001b[32m      8\u001b[39m \u001b[38;5;66;03m# Get unique names and sexes\u001b[39;00m\n\u001b[32m----> \u001b[39m\u001b[32m9\u001b[39m unique_names = \u001b[43mnames\u001b[49m[\u001b[33m'\u001b[39m\u001b[33mfirst_name\u001b[39m\u001b[33m'\u001b[39m].unique()\n\u001b[32m     10\u001b[39m unique_sexes = names[\u001b[33m'\u001b[39m\u001b[33msex\u001b[39m\u001b[33m'\u001b[39m].unique()\n",
      "\u001b[31mNameError\u001b[39m: name 'names' is not defined"
     ]
    }
   ],
   "source": [
    "%pip install -q prophet\n",
    "from prophet import Prophet\n",
    "def prepare_data_for_prophet(names, name, sex):\n",
    "    df = names[(names['first_name'] == name) & (names['sex'] == sex)]\n",
    "    df_prophet = df[['year', 'num']].rename(columns={'year': 'ds', 'num': 'y'})\n",
    "    return df_prophet\n",
    "\n",
    "# Get unique names and sexes\n",
    "unique_names = names['first_name'].unique()\n",
    "unique_sexes = names['sex'].unique()"
   ]
  },
  {
   "cell_type": "code",
   "execution_count": null,
   "id": "74b65508-ae23-4d8a-a456-654c9188a014",
   "metadata": {
    "executionCancelledAt": null,
    "executionTime": 53,
    "lastExecutedAt": 1754921614086,
    "lastExecutedByKernel": "35ec5e07-7562-4a59-8301-2db1b0adb100",
    "lastScheduledRunId": null,
    "lastSuccessfullyExecutedCode": "# Filter the male names dataframe for the years 1920 to 2121\nmale_names_1920_2121 = male_names[(male_names['year'] >= 1920) & (male_names['year'] <= 2121)]\n\n# Group by first_name and sum the num column to get the total number of births for each name\nmale_name_counts_1920_2121 = male_names_1920_2121.groupby('first_name')['num'].sum().reset_index()\n\n# Sort the dataframe by the num column in descending order to get the most popular names\ntop_male_names_1920_2121 = male_name_counts_1920_2121.sort_values(by='num', ascending=False).head(5)\n\n# Display the top 5 male names from 1920 to 2121\ntop_male_names_1920_2121",
    "outputsMetadata": {
     "0": {
      "height": 50,
      "tableState": {
       "customFilter": {
        "const": {
         "type": "boolean",
         "valid": true,
         "value": true
        },
        "id": "6585776e-3551-457e-a591-73ff8f0fd0b1",
        "nodeType": "const"
       }
      },
      "type": "dataFrame"
     }
    }
   },
   "outputs": [
    {
     "data": {
      "application/com.datacamp.data-table.v2+json": {
       "table": {
        "data": {
         "first_name": [
          "James",
          "John",
          "Robert",
          "Michael",
          "William"
         ],
         "index": [
          117,
          135,
          196,
          171,
          235
         ],
         "num": [
          4748138,
          4510721,
          4495199,
          4278824,
          3614424
         ]
        },
        "schema": {
         "fields": [
          {
           "name": "index",
           "type": "integer"
          },
          {
           "name": "first_name",
           "type": "string"
          },
          {
           "name": "num",
           "type": "integer"
          }
         ],
         "pandas_version": "1.4.0",
         "primaryKey": [
          "index"
         ]
        }
       },
       "total_rows": 5,
       "truncation_type": null
      },
      "text/html": [
       "<div>\n",
       "<style scoped>\n",
       "    .dataframe tbody tr th:only-of-type {\n",
       "        vertical-align: middle;\n",
       "    }\n",
       "\n",
       "    .dataframe tbody tr th {\n",
       "        vertical-align: top;\n",
       "    }\n",
       "\n",
       "    .dataframe thead th {\n",
       "        text-align: right;\n",
       "    }\n",
       "</style>\n",
       "<table border=\"1\" class=\"dataframe\">\n",
       "  <thead>\n",
       "    <tr style=\"text-align: right;\">\n",
       "      <th></th>\n",
       "      <th>first_name</th>\n",
       "      <th>num</th>\n",
       "    </tr>\n",
       "  </thead>\n",
       "  <tbody>\n",
       "    <tr>\n",
       "      <th>117</th>\n",
       "      <td>James</td>\n",
       "      <td>4748138</td>\n",
       "    </tr>\n",
       "    <tr>\n",
       "      <th>135</th>\n",
       "      <td>John</td>\n",
       "      <td>4510721</td>\n",
       "    </tr>\n",
       "    <tr>\n",
       "      <th>196</th>\n",
       "      <td>Robert</td>\n",
       "      <td>4495199</td>\n",
       "    </tr>\n",
       "    <tr>\n",
       "      <th>171</th>\n",
       "      <td>Michael</td>\n",
       "      <td>4278824</td>\n",
       "    </tr>\n",
       "    <tr>\n",
       "      <th>235</th>\n",
       "      <td>William</td>\n",
       "      <td>3614424</td>\n",
       "    </tr>\n",
       "  </tbody>\n",
       "</table>\n",
       "</div>"
      ],
      "text/plain": [
       "    first_name      num\n",
       "117      James  4748138\n",
       "135       John  4510721\n",
       "196     Robert  4495199\n",
       "171    Michael  4278824\n",
       "235    William  3614424"
      ]
     },
     "execution_count": 40,
     "metadata": {
      "application/com.datacamp.data-table.v2+json": {
       "status": "success"
      }
     },
     "output_type": "execute_result"
    }
   ],
   "source": [
    "# Filter the male names dataframe for the years 1920 to 2121\n",
    "male_names_1920_2121 = male_names[(male_names['year'] >= 1920) & (male_names['year'] <= 2121)]\n",
    "\n",
    "# Group by first_name and sum the num column to get the total number of births for each name\n",
    "male_name_counts_1920_2121 = male_names_1920_2121.groupby('first_name')['num'].sum().reset_index()\n",
    "\n",
    "# Sort the dataframe by the num column in descending order to get the most popular names\n",
    "top_male_names_1920_2121 = male_name_counts_1920_2121.sort_values(by='num', ascending=False).head(5)\n",
    "\n",
    "# Display the top 5 male names from 1920 to 2121\n",
    "top_male_names_1920_2121"
   ]
  },
  {
   "cell_type": "code",
   "execution_count": null,
   "id": "86d6c889-545a-4dc6-95a2-2cab409d13d9",
   "metadata": {
    "executionCancelledAt": null,
    "executionTime": 51,
    "lastExecutedAt": 1754921614137,
    "lastExecutedByKernel": "35ec5e07-7562-4a59-8301-2db1b0adb100",
    "lastScheduledRunId": null,
    "lastSuccessfullyExecutedCode": "# Group by year and first_name to get the total number of births for each name in each year\nannual_male_name_counts = male_names_1920_2121.groupby(['year', 'first_name'])['num'].sum().reset_index()\n\n# Find the name with the highest occurrence each year\nhighest_annual_occurrence = annual_male_name_counts.loc[annual_male_name_counts.groupby('year')['num'].idxmax()]\n\n# Calculate the total number of births for all names each year\ntotal_births_per_year = male_names_1920_2121.groupby('year')['num'].sum().reset_index()\n\n# Merge the highest annual occurrence with the total births per year\nhighest_annual_occurrence = highest_annual_occurrence.merge(total_births_per_year, on='year', suffixes=('', '_total'))\n\n# Calculate the percentage of the highest occurrence compared to the total births\nhighest_annual_occurrence['percentage'] = (highest_annual_occurrence['num'] / highest_annual_occurrence['num_total']) * 100\n\n# Display the result\nhighest_annual_occurrence",
    "outputsMetadata": {
     "0": {
      "height": 550,
      "tableState": {
       "customFilter": {
        "const": {
         "type": "boolean",
         "valid": true,
         "value": true
        },
        "id": "6585776e-3551-457e-a591-73ff8f0fd0b1",
        "nodeType": "const"
       }
      },
      "type": "dataFrame"
     }
    }
   },
   "outputs": [
    {
     "data": {
      "application/com.datacamp.data-table.v2+json": {
       "table": {
        "data": {
         "first_name": [
          "John",
          "John",
          "John",
          "John",
          "Robert",
          "Robert",
          "Robert",
          "Robert",
          "Robert",
          "Robert",
          "Robert",
          "Robert",
          "Robert",
          "Robert",
          "Robert",
          "Robert",
          "Robert",
          "Robert",
          "Robert",
          "Robert",
          "James",
          "James",
          "James",
          "James",
          "James",
          "James",
          "James",
          "James",
          "James",
          "James",
          "James",
          "James",
          "James",
          "Robert",
          "Michael",
          "Michael",
          "Michael",
          "Michael",
          "Michael",
          "Michael",
          "David",
          "Michael",
          "Michael",
          "Michael",
          "Michael",
          "Michael",
          "Michael",
          "Michael",
          "Michael",
          "Michael",
          "Michael",
          "Michael",
          "Michael",
          "Michael",
          "Michael",
          "Michael",
          "Michael",
          "Michael",
          "Michael",
          "Michael",
          "Michael",
          "Michael",
          "Michael",
          "Michael",
          "Michael",
          "Michael",
          "Michael",
          "Michael",
          "Michael",
          "Michael",
          "Michael",
          "Michael",
          "Michael",
          "Michael",
          "Michael",
          "Michael",
          "Michael",
          "Michael",
          "Michael",
          "Jacob",
          "Jacob",
          "Jacob",
          "Jacob",
          "Jacob",
          "Jacob",
          "Jacob",
          "Jacob",
          "Jacob",
          "Jacob",
          "Jacob",
          "Jacob",
          "Jacob",
          "Jacob",
          "Noah",
          "Noah",
          "Noah",
          "Noah",
          "Liam",
          "Liam",
          "Liam",
          "Liam"
         ],
         "index": [
          0,
          1,
          2,
          3,
          4,
          5,
          6,
          7,
          8,
          9,
          10,
          11,
          12,
          13,
          14,
          15,
          16,
          17,
          18,
          19,
          20,
          21,
          22,
          23,
          24,
          25,
          26,
          27,
          28,
          29,
          30,
          31,
          32,
          33,
          34,
          35,
          36,
          37,
          38,
          39,
          40,
          41,
          42,
          43,
          44,
          45,
          46,
          47,
          48,
          49,
          50,
          51,
          52,
          53,
          54,
          55,
          56,
          57,
          58,
          59,
          60,
          61,
          62,
          63,
          64,
          65,
          66,
          67,
          68,
          69,
          70,
          71,
          72,
          73,
          74,
          75,
          76,
          77,
          78,
          79,
          80,
          81,
          82,
          83,
          84,
          85,
          86,
          87,
          88,
          89,
          90,
          91,
          92,
          93,
          94,
          95,
          96,
          97,
          98,
          99,
          100
         ],
         "num": [
          56914,
          58215,
          57280,
          57469,
          60801,
          60897,
          61130,
          61671,
          60703,
          59804,
          62149,
          60518,
          59265,
          54223,
          55834,
          56522,
          58499,
          61842,
          62269,
          59653,
          62476,
          66743,
          77174,
          80274,
          76954,
          74460,
          87439,
          94764,
          88589,
          86865,
          86229,
          87261,
          87063,
          86247,
          88576,
          88372,
          90665,
          92718,
          90564,
          85224,
          85933,
          86917,
          85041,
          83778,
          82642,
          81021,
          79990,
          82440,
          81995,
          85201,
          85291,
          77599,
          71401,
          67842,
          67580,
          68451,
          66947,
          67609,
          67157,
          67742,
          68704,
          68776,
          68244,
          68010,
          67745,
          64924,
          64224,
          63654,
          64150,
          65399,
          65302,
          60793,
          54397,
          49554,
          44472,
          41399,
          38365,
          37549,
          36616,
          35367,
          34483,
          32554,
          30579,
          29643,
          27886,
          25837,
          24850,
          24292,
          22603,
          21184,
          22139,
          20378,
          19088,
          18266,
          19319,
          19650,
          19154,
          18824,
          19924,
          20555,
          19659
         ],
         "num_total": [
          600754,
          625972,
          612026,
          626011,
          648526,
          631119,
          637448,
          647954,
          638437,
          611535,
          629252,
          590268,
          586519,
          536291,
          568376,
          581237,
          584871,
          612308,
          652574,
          655250,
          694385,
          768102,
          887948,
          928421,
          888347,
          875919,
          1115025,
          1313909,
          1239914,
          1252829,
          1244916,
          1375567,
          1404041,
          1428911,
          1480126,
          1497193,
          1539345,
          1565762,
          1532072,
          1523234,
          1506080,
          1497000,
          1451607,
          1419359,
          1368539,
          1226035,
          1135939,
          1108463,
          1106089,
          1129557,
          1173324,
          1105482,
          993954,
          950177,
          954291,
          937405,
          947298,
          999473,
          1002374,
          1043761,
          1105357,
          1105987,
          1121770,
          1121372,
          1136046,
          1155954,
          1150033,
          1149584,
          1173944,
          1189018,
          1244546,
          1200583,
          1149855,
          1104652,
          1087084,
          1025515,
          1007092,
          985658,
          1001898,
          1011217,
          1004864,
          970780,
          963400,
          988784,
          980471,
          945685,
          972056,
          988074,
          947485,
          874338,
          824684,
          807645,
          796395,
          776139,
          772070,
          775162,
          713483,
          674032,
          632503,
          595818,
          529654
         ],
         "percentage": [
          9.4737613066,
          9.2999367384,
          9.3590795162,
          9.1801901245,
          9.3752602055,
          9.6490519221,
          9.5898018348,
          9.5178052763,
          9.5080642256,
          9.7793257949,
          9.8766471938,
          10.2526310083,
          10.104531993,
          10.1107421158,
          9.8234267457,
          9.7244325464,
          10.0020346367,
          10.0998190453,
          9.5420595978,
          9.103853491,
          8.9973141701,
          8.6893407386,
          8.6912747143,
          8.6462930072,
          8.6626059411,
          8.5007860316,
          7.8418869532,
          7.212371633,
          7.1447697179,
          6.9335080845,
          6.9264914259,
          6.3436386595,
          6.200887296,
          6.0358552772,
          5.984355386,
          5.9025122346,
          5.8898427578,
          5.9215896158,
          5.9112104392,
          5.5949381382,
          5.705739403,
          5.8060788243,
          5.8584038242,
          5.902523604,
          6.0387025872,
          6.6083757805,
          7.0417513616,
          7.4373253776,
          7.413056273,
          7.5428685759,
          7.2691771412,
          7.0194720493,
          7.1835316322,
          7.1399328757,
          7.081697302,
          7.3021799542,
          7.0671531028,
          6.764464873,
          6.6997946874,
          6.4901830975,
          6.2155484608,
          6.2185179392,
          6.083600025,
          6.0648919359,
          5.9632268412,
          5.6164864692,
          5.5845354003,
          5.5371334326,
          5.4644855291,
          5.5002531501,
          5.2470539458,
          5.0636232564,
          4.7307704015,
          4.4859376528,
          4.0909442141,
          4.0368985339,
          3.8094831455,
          3.8095363706,
          3.6546634488,
          3.4974688914,
          3.4316086555,
          3.3533859371,
          3.1740709985,
          2.9979247237,
          2.844143274,
          2.7320936676,
          2.5564370777,
          2.4585203133,
          2.3855786635,
          2.4228616393,
          2.684543413,
          2.52313826,
          2.3968005826,
          2.3534444217,
          2.5022342534,
          2.5349539838,
          2.6845769276,
          2.792745745,
          3.1500245849,
          3.4498789899,
          3.7116683722
         ],
         "year": [
          1920,
          1921,
          1922,
          1923,
          1924,
          1925,
          1926,
          1927,
          1928,
          1929,
          1930,
          1931,
          1932,
          1933,
          1934,
          1935,
          1936,
          1937,
          1938,
          1939,
          1940,
          1941,
          1942,
          1943,
          1944,
          1945,
          1946,
          1947,
          1948,
          1949,
          1950,
          1951,
          1952,
          1953,
          1954,
          1955,
          1956,
          1957,
          1958,
          1959,
          1960,
          1961,
          1962,
          1963,
          1964,
          1965,
          1966,
          1967,
          1968,
          1969,
          1970,
          1971,
          1972,
          1973,
          1974,
          1975,
          1976,
          1977,
          1978,
          1979,
          1980,
          1981,
          1982,
          1983,
          1984,
          1985,
          1986,
          1987,
          1988,
          1989,
          1990,
          1991,
          1992,
          1993,
          1994,
          1995,
          1996,
          1997,
          1998,
          1999,
          2000,
          2001,
          2002,
          2003,
          2004,
          2005,
          2006,
          2007,
          2008,
          2009,
          2010,
          2011,
          2012,
          2013,
          2014,
          2015,
          2016,
          2017,
          2018,
          2019,
          2020
         ]
        },
        "schema": {
         "fields": [
          {
           "name": "index",
           "type": "integer"
          },
          {
           "name": "year",
           "type": "integer"
          },
          {
           "name": "first_name",
           "type": "string"
          },
          {
           "name": "num",
           "type": "integer"
          },
          {
           "name": "num_total",
           "type": "integer"
          },
          {
           "name": "percentage",
           "type": "number"
          }
         ],
         "pandas_version": "1.4.0",
         "primaryKey": [
          "index"
         ]
        }
       },
       "total_rows": 101,
       "truncation_type": null
      },
      "text/html": [
       "<div>\n",
       "<style scoped>\n",
       "    .dataframe tbody tr th:only-of-type {\n",
       "        vertical-align: middle;\n",
       "    }\n",
       "\n",
       "    .dataframe tbody tr th {\n",
       "        vertical-align: top;\n",
       "    }\n",
       "\n",
       "    .dataframe thead th {\n",
       "        text-align: right;\n",
       "    }\n",
       "</style>\n",
       "<table border=\"1\" class=\"dataframe\">\n",
       "  <thead>\n",
       "    <tr style=\"text-align: right;\">\n",
       "      <th></th>\n",
       "      <th>year</th>\n",
       "      <th>first_name</th>\n",
       "      <th>num</th>\n",
       "      <th>num_total</th>\n",
       "      <th>percentage</th>\n",
       "    </tr>\n",
       "  </thead>\n",
       "  <tbody>\n",
       "    <tr>\n",
       "      <th>0</th>\n",
       "      <td>1920</td>\n",
       "      <td>John</td>\n",
       "      <td>56914</td>\n",
       "      <td>600754</td>\n",
       "      <td>9.473761</td>\n",
       "    </tr>\n",
       "    <tr>\n",
       "      <th>1</th>\n",
       "      <td>1921</td>\n",
       "      <td>John</td>\n",
       "      <td>58215</td>\n",
       "      <td>625972</td>\n",
       "      <td>9.299937</td>\n",
       "    </tr>\n",
       "    <tr>\n",
       "      <th>2</th>\n",
       "      <td>1922</td>\n",
       "      <td>John</td>\n",
       "      <td>57280</td>\n",
       "      <td>612026</td>\n",
       "      <td>9.359080</td>\n",
       "    </tr>\n",
       "    <tr>\n",
       "      <th>3</th>\n",
       "      <td>1923</td>\n",
       "      <td>John</td>\n",
       "      <td>57469</td>\n",
       "      <td>626011</td>\n",
       "      <td>9.180190</td>\n",
       "    </tr>\n",
       "    <tr>\n",
       "      <th>4</th>\n",
       "      <td>1924</td>\n",
       "      <td>Robert</td>\n",
       "      <td>60801</td>\n",
       "      <td>648526</td>\n",
       "      <td>9.375260</td>\n",
       "    </tr>\n",
       "    <tr>\n",
       "      <th>...</th>\n",
       "      <td>...</td>\n",
       "      <td>...</td>\n",
       "      <td>...</td>\n",
       "      <td>...</td>\n",
       "      <td>...</td>\n",
       "    </tr>\n",
       "    <tr>\n",
       "      <th>96</th>\n",
       "      <td>2016</td>\n",
       "      <td>Noah</td>\n",
       "      <td>19154</td>\n",
       "      <td>713483</td>\n",
       "      <td>2.684577</td>\n",
       "    </tr>\n",
       "    <tr>\n",
       "      <th>97</th>\n",
       "      <td>2017</td>\n",
       "      <td>Liam</td>\n",
       "      <td>18824</td>\n",
       "      <td>674032</td>\n",
       "      <td>2.792746</td>\n",
       "    </tr>\n",
       "    <tr>\n",
       "      <th>98</th>\n",
       "      <td>2018</td>\n",
       "      <td>Liam</td>\n",
       "      <td>19924</td>\n",
       "      <td>632503</td>\n",
       "      <td>3.150025</td>\n",
       "    </tr>\n",
       "    <tr>\n",
       "      <th>99</th>\n",
       "      <td>2019</td>\n",
       "      <td>Liam</td>\n",
       "      <td>20555</td>\n",
       "      <td>595818</td>\n",
       "      <td>3.449879</td>\n",
       "    </tr>\n",
       "    <tr>\n",
       "      <th>100</th>\n",
       "      <td>2020</td>\n",
       "      <td>Liam</td>\n",
       "      <td>19659</td>\n",
       "      <td>529654</td>\n",
       "      <td>3.711668</td>\n",
       "    </tr>\n",
       "  </tbody>\n",
       "</table>\n",
       "<p>101 rows × 5 columns</p>\n",
       "</div>"
      ],
      "text/plain": [
       "     year first_name    num  num_total  percentage\n",
       "0    1920       John  56914     600754    9.473761\n",
       "1    1921       John  58215     625972    9.299937\n",
       "2    1922       John  57280     612026    9.359080\n",
       "3    1923       John  57469     626011    9.180190\n",
       "4    1924     Robert  60801     648526    9.375260\n",
       "..    ...        ...    ...        ...         ...\n",
       "96   2016       Noah  19154     713483    2.684577\n",
       "97   2017       Liam  18824     674032    2.792746\n",
       "98   2018       Liam  19924     632503    3.150025\n",
       "99   2019       Liam  20555     595818    3.449879\n",
       "100  2020       Liam  19659     529654    3.711668\n",
       "\n",
       "[101 rows x 5 columns]"
      ]
     },
     "execution_count": 41,
     "metadata": {
      "application/com.datacamp.data-table.v2+json": {
       "status": "success"
      }
     },
     "output_type": "execute_result"
    }
   ],
   "source": [
    "# Group by year and first_name to get the total number of births for each name in each year\n",
    "annual_male_name_counts = male_names_1920_2121.groupby(['year', 'first_name'])['num'].sum().reset_index()\n",
    "\n",
    "# Find the name with the highest occurrence each year\n",
    "highest_annual_occurrence = annual_male_name_counts.loc[annual_male_name_counts.groupby('year')['num'].idxmax()]\n",
    "\n",
    "# Calculate the total number of births for all names each year\n",
    "total_births_per_year = male_names_1920_2121.groupby('year')['num'].sum().reset_index()\n",
    "\n",
    "# Merge the highest annual occurrence with the total births per year\n",
    "highest_annual_occurrence = highest_annual_occurrence.merge(total_births_per_year, on='year', suffixes=('', '_total'))\n",
    "\n",
    "# Calculate the percentage of the highest occurrence compared to the total births\n",
    "highest_annual_occurrence['percentage'] = (highest_annual_occurrence['num'] / highest_annual_occurrence['num_total']) * 100\n",
    "\n",
    "# Display the result\n",
    "highest_annual_occurrence"
   ]
  }
 ],
 "metadata": {
  "colab": {
   "name": "Welcome to DataCamp Workspaces.ipynb",
   "provenance": []
  },
  "kernelspec": {
   "display_name": "Python 3",
   "language": "python",
   "name": "python3"
  },
  "language_info": {
   "codemirror_mode": {
    "name": "ipython",
    "version": 3
   },
   "file_extension": ".py",
   "mimetype": "text/x-python",
   "name": "python",
   "nbconvert_exporter": "python",
   "pygments_lexer": "ipython3",
   "version": "3.13.5"
  }
 },
 "nbformat": 4,
 "nbformat_minor": 5
}
